{
 "cells": [
  {
   "cell_type": "code",
   "execution_count": 1,
   "metadata": {
    "vscode": {
     "languageId": "r"
    }
   },
   "outputs": [
    {
     "name": "stderr",
     "output_type": "stream",
     "text": [
      "── \u001b[1mAttaching packages\u001b[22m ─────────────────────────────────────── tidyverse 1.3.1 ──\n",
      "\n",
      "\u001b[32m✔\u001b[39m \u001b[34mggplot2\u001b[39m 3.4.4     \u001b[32m✔\u001b[39m \u001b[34mpurrr  \u001b[39m 1.0.2\n",
      "\u001b[32m✔\u001b[39m \u001b[34mtibble \u001b[39m 3.2.1     \u001b[32m✔\u001b[39m \u001b[34mdplyr  \u001b[39m 1.1.4\n",
      "\u001b[32m✔\u001b[39m \u001b[34mtidyr  \u001b[39m 1.3.0     \u001b[32m✔\u001b[39m \u001b[34mstringr\u001b[39m 1.5.1\n",
      "\u001b[32m✔\u001b[39m \u001b[34mreadr  \u001b[39m 2.1.2     \u001b[32m✔\u001b[39m \u001b[34mforcats\u001b[39m 0.5.1\n",
      "\n",
      "── \u001b[1mConflicts\u001b[22m ────────────────────────────────────────── tidyverse_conflicts() ──\n",
      "\u001b[31m✖\u001b[39m \u001b[34mdplyr\u001b[39m::\u001b[32mfilter()\u001b[39m masks \u001b[34mstats\u001b[39m::filter()\n",
      "\u001b[31m✖\u001b[39m \u001b[34mdplyr\u001b[39m::\u001b[32mlag()\u001b[39m    masks \u001b[34mstats\u001b[39m::lag()\n",
      "\n",
      "Registering fonts with R\n",
      "\n"
     ]
    },
    {
     "data": {
      "text/html": [
       "<table class=\"dataframe\">\n",
       "<caption>A data.frame: 6 × 9</caption>\n",
       "<thead>\n",
       "\t<tr><th></th><th scope=col>PTID</th><th scope=col>sample_id</th><th scope=col>diagnosis</th><th scope=col>origin</th><th scope=col>severity</th><th scope=col>date_dif</th><th scope=col>age</th><th scope=col>inflam_cat</th><th scope=col>Xsample_id</th></tr>\n",
       "\t<tr><th></th><th scope=col>&lt;chr&gt;</th><th scope=col>&lt;chr&gt;</th><th scope=col>&lt;chr&gt;</th><th scope=col>&lt;chr&gt;</th><th scope=col>&lt;chr&gt;</th><th scope=col>&lt;int&gt;</th><th scope=col>&lt;dbl&gt;</th><th scope=col>&lt;chr&gt;</th><th scope=col>&lt;chr&gt;</th></tr>\n",
       "</thead>\n",
       "<tbody>\n",
       "\t<tr><th scope=row>1</th><td>153000</td><td>cfrna_kd_202_trimmed</td><td>KD</td><td>UCSD</td><td>KD subtype 3</td><td>0</td><td>4.744907</td><td>KD</td><td>cfrna_kd_202_trimmed</td></tr>\n",
       "\t<tr><th scope=row>2</th><td>153002</td><td>cfrna_kd_128        </td><td>KD</td><td>UCSD</td><td>KD subtype 1</td><td>0</td><td>8.800000</td><td>KD</td><td>cfrna_kd_128        </td></tr>\n",
       "\t<tr><th scope=row>3</th><td>153027</td><td>cfrna_kd_121        </td><td>KD</td><td>UCSD</td><td>KD subtype 4</td><td>0</td><td>2.900000</td><td>KD</td><td>cfrna_kd_121        </td></tr>\n",
       "\t<tr><th scope=row>4</th><td>153034</td><td>cfrna_kd_47         </td><td>KD</td><td>UCSD</td><td>KD subtype 4</td><td>0</td><td>2.000000</td><td>KD</td><td>cfrna_kd_47         </td></tr>\n",
       "\t<tr><th scope=row>5</th><td>153036</td><td>cfrna_kd_207_trimmed</td><td>KD</td><td>UCSD</td><td>KD subtype 2</td><td>0</td><td>1.741309</td><td>KD</td><td>cfrna_kd_207_trimmed</td></tr>\n",
       "\t<tr><th scope=row>6</th><td>153047</td><td>cfrna_kd_218_trimmed</td><td>KD</td><td>UCSD</td><td>KD subtype 2</td><td>0</td><td>2.428409</td><td>KD</td><td>cfrna_kd_218_trimmed</td></tr>\n",
       "</tbody>\n",
       "</table>\n"
      ],
      "text/latex": [
       "A data.frame: 6 × 9\n",
       "\\begin{tabular}{r|lllllllll}\n",
       "  & PTID & sample\\_id & diagnosis & origin & severity & date\\_dif & age & inflam\\_cat & Xsample\\_id\\\\\n",
       "  & <chr> & <chr> & <chr> & <chr> & <chr> & <int> & <dbl> & <chr> & <chr>\\\\\n",
       "\\hline\n",
       "\t1 & 153000 & cfrna\\_kd\\_202\\_trimmed & KD & UCSD & KD subtype 3 & 0 & 4.744907 & KD & cfrna\\_kd\\_202\\_trimmed\\\\\n",
       "\t2 & 153002 & cfrna\\_kd\\_128         & KD & UCSD & KD subtype 1 & 0 & 8.800000 & KD & cfrna\\_kd\\_128        \\\\\n",
       "\t3 & 153027 & cfrna\\_kd\\_121         & KD & UCSD & KD subtype 4 & 0 & 2.900000 & KD & cfrna\\_kd\\_121        \\\\\n",
       "\t4 & 153034 & cfrna\\_kd\\_47          & KD & UCSD & KD subtype 4 & 0 & 2.000000 & KD & cfrna\\_kd\\_47         \\\\\n",
       "\t5 & 153036 & cfrna\\_kd\\_207\\_trimmed & KD & UCSD & KD subtype 2 & 0 & 1.741309 & KD & cfrna\\_kd\\_207\\_trimmed\\\\\n",
       "\t6 & 153047 & cfrna\\_kd\\_218\\_trimmed & KD & UCSD & KD subtype 2 & 0 & 2.428409 & KD & cfrna\\_kd\\_218\\_trimmed\\\\\n",
       "\\end{tabular}\n"
      ],
      "text/markdown": [
       "\n",
       "A data.frame: 6 × 9\n",
       "\n",
       "| <!--/--> | PTID &lt;chr&gt; | sample_id &lt;chr&gt; | diagnosis &lt;chr&gt; | origin &lt;chr&gt; | severity &lt;chr&gt; | date_dif &lt;int&gt; | age &lt;dbl&gt; | inflam_cat &lt;chr&gt; | Xsample_id &lt;chr&gt; |\n",
       "|---|---|---|---|---|---|---|---|---|---|\n",
       "| 1 | 153000 | cfrna_kd_202_trimmed | KD | UCSD | KD subtype 3 | 0 | 4.744907 | KD | cfrna_kd_202_trimmed |\n",
       "| 2 | 153002 | cfrna_kd_128         | KD | UCSD | KD subtype 1 | 0 | 8.800000 | KD | cfrna_kd_128         |\n",
       "| 3 | 153027 | cfrna_kd_121         | KD | UCSD | KD subtype 4 | 0 | 2.900000 | KD | cfrna_kd_121         |\n",
       "| 4 | 153034 | cfrna_kd_47          | KD | UCSD | KD subtype 4 | 0 | 2.000000 | KD | cfrna_kd_47          |\n",
       "| 5 | 153036 | cfrna_kd_207_trimmed | KD | UCSD | KD subtype 2 | 0 | 1.741309 | KD | cfrna_kd_207_trimmed |\n",
       "| 6 | 153047 | cfrna_kd_218_trimmed | KD | UCSD | KD subtype 2 | 0 | 2.428409 | KD | cfrna_kd_218_trimmed |\n",
       "\n"
      ],
      "text/plain": [
       "  PTID   sample_id            diagnosis origin severity     date_dif age     \n",
       "1 153000 cfrna_kd_202_trimmed KD        UCSD   KD subtype 3 0        4.744907\n",
       "2 153002 cfrna_kd_128         KD        UCSD   KD subtype 1 0        8.800000\n",
       "3 153027 cfrna_kd_121         KD        UCSD   KD subtype 4 0        2.900000\n",
       "4 153034 cfrna_kd_47          KD        UCSD   KD subtype 4 0        2.000000\n",
       "5 153036 cfrna_kd_207_trimmed KD        UCSD   KD subtype 2 0        1.741309\n",
       "6 153047 cfrna_kd_218_trimmed KD        UCSD   KD subtype 2 0        2.428409\n",
       "  inflam_cat Xsample_id          \n",
       "1 KD         cfrna_kd_202_trimmed\n",
       "2 KD         cfrna_kd_128        \n",
       "3 KD         cfrna_kd_121        \n",
       "4 KD         cfrna_kd_47         \n",
       "5 KD         cfrna_kd_207_trimmed\n",
       "6 KD         cfrna_kd_218_trimmed"
      ]
     },
     "metadata": {},
     "output_type": "display_data"
    }
   ],
   "source": [
    "library(tidyverse)\n",
    "source(\"../global_variables.R\")\n",
    "source(\"../../../cfrna_template/theme_ggplot_cfrna.R\")\n",
    "\n",
    "library(extrafont)\n",
    "# fonts()\n",
    "\n",
    "library(readxl)\n",
    "\n",
    "\n",
    "meta = read.csv(\"./metadata_all.csv\")\n",
    "meta %>% head()\n",
    "\n",
    "\n",
    "FILL_KEY = INFLAMCAT_FILL_KEY\n",
    "\n",
    "\n",
    "FILL_KEY_ORIGIN = c(\"CNH\" = \"#E5002B\",\n",
    "                    \"EMORY\" = \"#EDC967\", #\"#b58500\",\n",
    "                    \"UCSD\" = \"#00629B\",\n",
    "                    \"UCSF\" = \"#9DC183\" #FA8128\n",
    "                    )\n",
    "\n",
    "# FILL_KEY_ORIGIN = c(\"CNH\" = \"#9467bd\",\n",
    "#                     \"EMORY\" = \"#F7EF8A\",\n",
    "#                     \"UCSD\" = \"#1f77b4\",\n",
    "#                     \"UCSF\" = \"#ff7f0e\")\n",
    "\n",
    "                    "
   ]
  },
  {
   "cell_type": "markdown",
   "metadata": {},
   "source": [
    "---\n",
    "## Figure 1"
   ]
  },
  {
   "cell_type": "code",
   "execution_count": 6,
   "metadata": {
    "vscode": {
     "languageId": "r"
    }
   },
   "outputs": [
    {
     "data": {
      "text/html": [
       "370"
      ],
      "text/latex": [
       "370"
      ],
      "text/markdown": [
       "370"
      ],
      "text/plain": [
       "[1] 370"
      ]
     },
     "metadata": {},
     "output_type": "display_data"
    },
    {
     "data": {
      "text/html": [
       "<table class=\"dataframe\">\n",
       "<caption>A data.frame: 6 × 2</caption>\n",
       "<thead>\n",
       "\t<tr><th scope=col>group</th><th scope=col>Freq</th></tr>\n",
       "\t<tr><th scope=col>&lt;fct&gt;</th><th scope=col>&lt;int&gt;</th></tr>\n",
       "</thead>\n",
       "<tbody>\n",
       "\t<tr><td>viral_infection    </td><td>105</td></tr>\n",
       "\t<tr><td>KD                 </td><td>101</td></tr>\n",
       "\t<tr><td>MISC               </td><td> 97</td></tr>\n",
       "\t<tr><td>bacterial_infection</td><td> 41</td></tr>\n",
       "\t<tr><td>Healthy            </td><td> 17</td></tr>\n",
       "\t<tr><td>other              </td><td>  9</td></tr>\n",
       "</tbody>\n",
       "</table>\n"
      ],
      "text/latex": [
       "A data.frame: 6 × 2\n",
       "\\begin{tabular}{ll}\n",
       " group & Freq\\\\\n",
       " <fct> & <int>\\\\\n",
       "\\hline\n",
       "\t viral\\_infection     & 105\\\\\n",
       "\t KD                  & 101\\\\\n",
       "\t MISC                &  97\\\\\n",
       "\t bacterial\\_infection &  41\\\\\n",
       "\t Healthy             &  17\\\\\n",
       "\t other               &   9\\\\\n",
       "\\end{tabular}\n"
      ],
      "text/markdown": [
       "\n",
       "A data.frame: 6 × 2\n",
       "\n",
       "| group &lt;fct&gt; | Freq &lt;int&gt; |\n",
       "|---|---|\n",
       "| viral_infection     | 105 |\n",
       "| KD                  | 101 |\n",
       "| MISC                |  97 |\n",
       "| bacterial_infection |  41 |\n",
       "| Healthy             |  17 |\n",
       "| other               |   9 |\n",
       "\n"
      ],
      "text/plain": [
       "  group               Freq\n",
       "1 viral_infection     105 \n",
       "2 KD                  101 \n",
       "3 MISC                 97 \n",
       "4 bacterial_infection  41 \n",
       "5 Healthy              17 \n",
       "6 other                 9 "
      ]
     },
     "metadata": {},
     "output_type": "display_data"
    }
   ],
   "source": [
    "meta %>% nrow\n",
    "table(meta$inflam_cat) %>% data.frame() %>%\n",
    "    rename(group = Var1) %>%\n",
    "    arrange(desc(Freq))"
   ]
  },
  {
   "cell_type": "code",
   "execution_count": 7,
   "metadata": {
    "vscode": {
     "languageId": "r"
    }
   },
   "outputs": [
    {
     "name": "stderr",
     "output_type": "stream",
     "text": [
      "\u001b[1m\u001b[22m`summarise()` has grouped output by 'origin'. You can override using the\n",
      "`.groups` argument.\n"
     ]
    },
    {
     "name": "stderr",
     "output_type": "stream",
     "text": [
      "Warning message:\n",
      "“\u001b[1m\u001b[22mUsing `size` aesthetic for lines was deprecated in ggplot2 3.4.0.\n",
      "\u001b[36mℹ\u001b[39m Please use `linewidth` instead.”\n"
     ]
    },
    {
     "data": {
      "text/html": [
       "<strong>png:</strong> 2"
      ],
      "text/latex": [
       "\\textbf{png:} 2"
      ],
      "text/markdown": [
       "**png:** 2"
      ],
      "text/plain": [
       "png \n",
       "  2 "
      ]
     },
     "metadata": {},
     "output_type": "display_data"
    }
   ],
   "source": [
    "#######################\n",
    "### SAMPLE BAR CHART\n",
    "#######################\n",
    "\n",
    "counts = meta %>% \n",
    "    group_by(origin, inflam_cat) %>% \n",
    "    summarize(num = n()) %>% \n",
    "    mutate(origin = factor(origin, levels = rev(c(\"UCSD\",\"EMORY\",\"CNH\",\"UCSF\")))) %>% \n",
    "    mutate(inflam_cat = factor(inflam_cat, levels = names(INFLAMCAT_FILL_KEY))) %>% \n",
    "    group_by(inflam_cat) %>% \n",
    "    mutate(csum = rev(cumsum(rev(num))))\n",
    "\n",
    "# counts$ymin <- c(0, head(counts$ymax,n=-1))\n",
    "\n",
    "samp_cnts_lng <- counts %>% \n",
    "    ggplot(aes(x=inflam_cat, y=num, fill=origin))+\n",
    "    geom_bar(position=\"stack\", stat=\"identity\", color = \"black\", size = 0.25, width =.65)+\n",
    "    labs(y=\"Sample Count\")+\n",
    "    # geom_label(aes(x = inflam_cat, y = csum, label = num), \n",
    "    #                     size = 2,  show.legend = FALSE, nudge_x = .3, nudge_y = -5)+\n",
    "    theme_bw() + \n",
    "    labs(x=\"\")+\n",
    "    theme_cfrna_print()+\n",
    "    theme(text = element_text(color = \"black\"),\n",
    "        axis.text = element_text(size = 6),\n",
    "        # axis.text.x = element_text(size = 8, angle = 45, hjust = 1),\n",
    "        # axis.title.x = element_blank(),\n",
    "        axis.title.y = element_text(size=8)) +\n",
    "    scale_y_continuous(breaks = seq(0, 100, 20), limits = c(0, 110))+\n",
    "    scale_fill_manual(values = FILL_KEY_ORIGIN)\n",
    "\n",
    "WIDTH= 3.42\n",
    "HEIGHT= 2.25\n",
    "pdf(file=\"figure_plots/OVERVIEW_sample_counts.LONG.pdf\",\n",
    "        width=WIDTH,height=HEIGHT, paper=\"special\", bg=\"white\",\n",
    "        fonts=\"Helvetica\", colormodel = \"srgb\", pointsize=6, useDingbats = FALSE)\n",
    "samp_cnts_lng + theme(legend.position = \"none\")\n",
    "dev.off()"
   ]
  },
  {
   "cell_type": "code",
   "execution_count": 4,
   "metadata": {
    "vscode": {
     "languageId": "r"
    }
   },
   "outputs": [
    {
     "name": "stderr",
     "output_type": "stream",
     "text": [
      "\u001b[1m\u001b[22mScale for \u001b[32mfill\u001b[39m is already present.\n",
      "Adding another scale for \u001b[32mfill\u001b[39m, which will replace the existing scale.\n",
      "\u001b[1m\u001b[22mScale for \u001b[32mcolour\u001b[39m is already present.\n",
      "Adding another scale for \u001b[32mcolour\u001b[39m, which will replace the existing scale.\n"
     ]
    },
    {
     "data": {
      "text/html": [
       "<strong>png:</strong> 2"
      ],
      "text/latex": [
       "\\textbf{png:} 2"
      ],
      "text/markdown": [
       "**png:** 2"
      ],
      "text/plain": [
       "png \n",
       "  2 "
      ]
     },
     "metadata": {},
     "output_type": "display_data"
    }
   ],
   "source": [
    "#######################\n",
    "### PIE CHART (INSET)\n",
    "#######################\n",
    "\n",
    "library(ggrepel)\n",
    "\n",
    "all_origin_pie <- meta %>% \n",
    "    group_by(origin) %>% \n",
    "    dplyr::count() %>% \n",
    "    mutate(origin = factor(origin, levels = c(\"UCSD\",\"EMORY\",\"CNH\",\"UCSF\"))) %>% \n",
    "    ungroup() %>% \n",
    "    group_by(origin) %>% \n",
    "    mutate(frac = n/sum(n)) %>% \n",
    "    arrange(origin)\n",
    "\n",
    "df2 <- all_origin_pie %>% \n",
    "    mutate(csum = rev(cumsum(rev(n))), \n",
    "    pos = n/2 + lead(csum, 1),\n",
    "    pos = if_else(is.na(pos), n/2, pos)) %>% \n",
    "    arrange(csum)\n",
    "\n",
    "df2$ymax <- c(df2$csum)\n",
    "df2$ymin <- c(0, head(df2$ymax,n=-1))\n",
    "df2$labelPosition <- (df2$ymax + df2$ymin)/2\n",
    "df2$label = paste0(\"n=\",as.character(df2$n))\n",
    "\n",
    "allsamp_plt <- df2 %>% \n",
    "    ggplot(aes(ymax=ymax, ymin=ymin, xmax=4, xmin=3, fill=origin)) +\n",
    "        geom_rect(color = \"black\", size = .25) +\n",
    "        geom_label_repel(x = 4, aes(y = labelPosition, label = label), \n",
    "                        size = 2,  show.legend = FALSE)+ #nudge_x = 1,\n",
    "        scale_fill_brewer(palette=3) +\n",
    "        scale_color_brewer(palette=3) +\n",
    "        coord_polar(theta=\"y\") +\n",
    "        xlim(c(1, 4)) +\n",
    "        theme_void() +\n",
    "        theme(legend.position = \"none\")+\n",
    "        scale_fill_manual(values = FILL_KEY_ORIGIN)+\n",
    "        scale_color_manual(values = FILL_KEY_ORIGIN)\n",
    "\n",
    "allsamp_plt <- allsamp_plt #+ geom_text(x=1,y = max(df2$n)*0.25, label = \"\", size = 3, family = \"Droid Sans\")\n",
    "\n",
    "WIDTH= 1\n",
    "HEIGHT= 1\n",
    "\n",
    "pdf(file=\"figure_plots/OVERVIEW_origin_pie.inset.pdf\",\n",
    "        width=WIDTH,height=HEIGHT, paper=\"special\", bg=\"transparent\",\n",
    "        fonts=\"Helvetica\", colormodel = \"srgb\", pointsize=6, useDingbats = FALSE)\n",
    "allsamp_plt\n",
    "dev.off()"
   ]
  },
  {
   "cell_type": "code",
   "execution_count": 5,
   "metadata": {
    "vscode": {
     "languageId": "r"
    }
   },
   "outputs": [
    {
     "data": {
      "text/html": [
       "<strong>png:</strong> 2"
      ],
      "text/latex": [
       "\\textbf{png:} 2"
      ],
      "text/markdown": [
       "**png:** 2"
      ],
      "text/plain": [
       "png \n",
       "  2 "
      ]
     },
     "metadata": {},
     "output_type": "display_data"
    }
   ],
   "source": [
    "#######################\n",
    "### AGE BOX CHART\n",
    "#######################\n",
    "\n",
    "set.seed(42)\n",
    "\n",
    "new_names <- c(\"MIS-C\",\"KD\",\"Viral Inf.\", \"Bact. Inf.\", \"Other\", \"Healthy\")\n",
    "### age, races, severe vs moderate (ICU or not), CRP\n",
    "age_box <- meta %>% \n",
    "    mutate(inflam_cat = factor(inflam_cat, levels = names(INFLAMCAT_FILL_KEY))) %>%\n",
    "    mutate(inflam_cat_new = case_when(\n",
    "            inflam_cat == \"MISC\" ~ \"MIS-C\",\n",
    "            inflam_cat == \"KD\" ~ \"KD\",\n",
    "            grepl(\"viral\",inflam_cat) ~ \"Viral Inf.\",\n",
    "            grepl(\"bacterial\",inflam_cat) ~ \"Bact. Inf.\",\n",
    "            inflam_cat == \"other\" ~ \"Other\",\n",
    "            inflam_cat == \"Healthy\" ~ \"Healthy\",\n",
    "                TRUE ~ \"Other\"\n",
    "    )) %>% \n",
    "    mutate(inflam_cat_new = factor(inflam_cat_new, levels = new_names)) %>%\n",
    "    ggplot(aes(x=inflam_cat_new, y=age))+\n",
    "    geom_boxplot(outlier.shape = NA, color = \"black\", alpha = 0.75)+\n",
    "    geom_jitter(width = 0.2, height = 0, color = \"black\", size = .75, alpha = 0.5, stroke=NA)+\n",
    "    theme_cfrna_print()+\n",
    "    labs(y=\"Age\")+\n",
    "    theme(axis.title.x = element_blank())+\n",
    "    scale_x_discrete(guide = guide_axis(n.dodge = 2))\n",
    "\n",
    "WIDTH= 3.3 / 2\n",
    "HEIGHT= 1.3\n",
    "\n",
    "pdf(file=\"figure_plots/OVERVIEW_age.box.pdf\",\n",
    "        width=WIDTH,height=HEIGHT, paper=\"special\", bg=\"transparent\",\n",
    "        fonts=\"Helvetica\", colormodel = \"srgb\", pointsize=6, useDingbats = FALSE)\n",
    "age_box\n",
    "dev.off()"
   ]
  },
  {
   "cell_type": "code",
   "execution_count": 7,
   "metadata": {
    "vscode": {
     "languageId": "r"
    }
   },
   "outputs": [
    {
     "name": "stderr",
     "output_type": "stream",
     "text": [
      "\u001b[1m\u001b[22m`summarise()` has grouped output by 'inflam_cat_new'. You can override using\n",
      "the `.groups` argument.\n"
     ]
    },
    {
     "data": {
      "text/html": [
       "<strong>png:</strong> 2"
      ],
      "text/latex": [
       "\\textbf{png:} 2"
      ],
      "text/markdown": [
       "**png:** 2"
      ],
      "text/plain": [
       "png \n",
       "  2 "
      ]
     },
     "metadata": {},
     "output_type": "display_data"
    }
   ],
   "source": [
    "#######################\n",
    "### ICU BAR CHART\n",
    "#######################\n",
    "tab1 <- read.csv(\"./table1_dataframe.csv\")\n",
    "\n",
    "new_names <- c(\"MIS-C\",\"KD\",\"Viral Inf.\", \"Bact. Inf.\", \"Other\")\n",
    "\n",
    "\n",
    "\n",
    "icu_box <- tab1 %>% \n",
    "\n",
    "        ### set up x axis\n",
    "    mutate(inflam_cat = factor(inflam_cat, levels = names(INFLAMCAT_FILL_KEY))) %>%\n",
    "    filter(inflam_cat != \"Healthy\") %>%\n",
    "    mutate(inflam_cat_new = case_when(\n",
    "            inflam_cat == \"MISC\" ~ \"MIS-C\",\n",
    "            inflam_cat == \"KD\" ~ \"KD\",\n",
    "            grepl(\"viral\",inflam_cat) ~ \"Viral Inf.\",\n",
    "            grepl(\"bacterial\",inflam_cat) ~ \"Bact. Inf.\",\n",
    "            inflam_cat == \"other\" ~ \"Other\",\n",
    "            inflam_cat == \"Healthy\" ~ \"Healthy\",\n",
    "                TRUE ~ \"Other\"\n",
    "    )) %>% \n",
    "    mutate(inflam_cat_new = factor(inflam_cat_new, levels = new_names)) %>%\n",
    "\n",
    "        #### count groups\n",
    "    filter(!is.na(icu_yes)) %>%\n",
    "    group_by(inflam_cat_new, icu_yes) %>%\n",
    "    summarize(n = n()) %>%\n",
    "    mutate(icu_yes = factor(icu_yes, levels = rev(c(1,0)))) %>%\n",
    "\n",
    "        ### plot\n",
    "\n",
    "    ggplot(aes(x=inflam_cat_new, y=n, fill = factor(icu_yes)))+\n",
    "        geom_bar(position=\"fill\", stat=\"identity\", color = \"black\", size = 0.25, width =.65)+\n",
    "        theme_cfrna_print()+\n",
    "        labs(y = \"Fraction\")+\n",
    "        theme(axis.title.x = element_blank())+\n",
    "        scale_x_discrete(guide = guide_axis(n.dodge = 2))+\n",
    "        scale_fill_manual(values = c(\"1\" = \"grey\", \"0\" = \"white\"))\n",
    "\n",
    "WIDTH= (3.3 / 2)  * 0.97\n",
    "HEIGHT= 1.3\n",
    "\n",
    "pdf(file=\"figure_plots/OVERVIEW_ICU.bar.pdf\",\n",
    "        width=WIDTH,height=HEIGHT, paper=\"special\", bg=\"transparent\",\n",
    "        fonts=\"Helvetica\", colormodel = \"srgb\", pointsize=6, useDingbats = FALSE)\n",
    "icu_box\n",
    "dev.off()\n"
   ]
  },
  {
   "cell_type": "code",
   "execution_count": 8,
   "metadata": {
    "vscode": {
     "languageId": "r"
    }
   },
   "outputs": [
    {
     "name": "stderr",
     "output_type": "stream",
     "text": [
      "\u001b[1m\u001b[22m`summarise()` has grouped output by 'inflam_cat_new'. You can override using\n",
      "the `.groups` argument.\n"
     ]
    },
    {
     "data": {
      "text/html": [
       "<strong>png:</strong> 2"
      ],
      "text/latex": [
       "\\textbf{png:} 2"
      ],
      "text/markdown": [
       "**png:** 2"
      ],
      "text/plain": [
       "png \n",
       "  2 "
      ]
     },
     "metadata": {},
     "output_type": "display_data"
    }
   ],
   "source": [
    "#######################\n",
    "### SEX BAR CHART\n",
    "#######################\n",
    "tab1 <- read.csv(\"./table1_dataframe.csv\")\n",
    "\n",
    "new_names <- c(\"MIS-C\",\"KD\",\"Viral Inf.\", \"Bact. Inf.\", \"Other\", \"Healthy\")\n",
    "\n",
    "\n",
    "\n",
    "sex_box <- tab1 %>% \n",
    "\n",
    "        ### set up x axis\n",
    "    mutate(inflam_cat = factor(inflam_cat, levels = names(INFLAMCAT_FILL_KEY))) %>%\n",
    "    mutate(inflam_cat_new = case_when(\n",
    "            inflam_cat == \"MISC\" ~ \"MIS-C\",\n",
    "            inflam_cat == \"KD\" ~ \"KD\",\n",
    "            grepl(\"viral\",inflam_cat) ~ \"Viral Inf.\",\n",
    "            grepl(\"bacterial\",inflam_cat) ~ \"Bact. Inf.\",\n",
    "            inflam_cat == \"other\" ~ \"Other\",\n",
    "            inflam_cat == \"Healthy\" ~ \"Healthy\",\n",
    "                TRUE ~ \"Other\"\n",
    "    )) %>% \n",
    "    mutate(inflam_cat_new = factor(inflam_cat_new, levels = new_names)) %>%\n",
    "\n",
    "        #### count groups\n",
    "    filter(!is.na(sex_male)) %>%\n",
    "    group_by(inflam_cat_new, sex_male) %>%\n",
    "    summarize(n = n()) %>%\n",
    "    mutate(sex_male = factor(sex_male, levels = rev(c(1,0)))) %>%\n",
    "\n",
    "        ### plot\n",
    "\n",
    "    ggplot(aes(x=inflam_cat_new, y=n, fill = factor(sex_male)))+\n",
    "        geom_bar(position=\"fill\", stat=\"identity\", color = \"black\", size = 0.25, width =.65)+\n",
    "        theme_cfrna_print()+\n",
    "        labs(y = \"Fraction\")+\n",
    "        theme(axis.title.x = element_blank())+\n",
    "        scale_x_discrete(guide = guide_axis(n.dodge = 2))+\n",
    "        scale_fill_manual(values = c(\"1\" = \"grey\", \"0\" = \"white\"))\n",
    "\n",
    "WIDTH= (3.3 / 2) * 1.05\n",
    "HEIGHT= 1.3\n",
    "\n",
    "pdf(file=\"figure_plots/OVERVIEW_SEX.bar.pdf\",\n",
    "        width=WIDTH,height=HEIGHT, paper=\"special\", bg=\"transparent\",\n",
    "        fonts=\"Helvetica\", colormodel = \"srgb\", pointsize=6, useDingbats = FALSE)\n",
    "sex_box\n",
    "dev.off()\n"
   ]
  },
  {
   "cell_type": "code",
   "execution_count": null,
   "metadata": {
    "vscode": {
     "languageId": "r"
    }
   },
   "outputs": [],
   "source": []
  },
  {
   "cell_type": "code",
   "execution_count": 46,
   "metadata": {
    "vscode": {
     "languageId": "r"
    }
   },
   "outputs": [
    {
     "name": "stderr",
     "output_type": "stream",
     "text": [
      "Warning message:\n",
      "“\u001b[1m\u001b[22mRemoved 25 rows containing non-finite values (`stat_boxplot()`).”\n",
      "Warning message:\n",
      "“\u001b[1m\u001b[22mRemoved 25 rows containing missing values (`geom_point()`).”\n"
     ]
    },
    {
     "data": {
      "text/html": [
       "<strong>png:</strong> 2"
      ],
      "text/latex": [
       "\\textbf{png:} 2"
      ],
      "text/markdown": [
       "**png:** 2"
      ],
      "text/plain": [
       "png \n",
       "  2 "
      ]
     },
     "metadata": {},
     "output_type": "display_data"
    },
    {
     "data": {
      "text/html": [
       "<table class=\"dataframe\">\n",
       "<caption>A data.frame: 5 × 2</caption>\n",
       "<thead>\n",
       "\t<tr><th></th><th scope=col>inflam_cat</th><th scope=col>crp</th></tr>\n",
       "\t<tr><th></th><th scope=col>&lt;chr&gt;</th><th scope=col>&lt;dbl&gt;</th></tr>\n",
       "</thead>\n",
       "<tbody>\n",
       "\t<tr><th scope=row>1</th><td>bacterial_infection</td><td>225.0</td></tr>\n",
       "\t<tr><th scope=row>2</th><td>bacterial_infection</td><td>103.1</td></tr>\n",
       "\t<tr><th scope=row>3</th><td>bacterial_infection</td><td> 55.5</td></tr>\n",
       "\t<tr><th scope=row>4</th><td>MISC               </td><td> 45.3</td></tr>\n",
       "\t<tr><th scope=row>5</th><td>MISC               </td><td> 42.7</td></tr>\n",
       "</tbody>\n",
       "</table>\n"
      ],
      "text/latex": [
       "A data.frame: 5 × 2\n",
       "\\begin{tabular}{r|ll}\n",
       "  & inflam\\_cat & crp\\\\\n",
       "  & <chr> & <dbl>\\\\\n",
       "\\hline\n",
       "\t1 & bacterial\\_infection & 225.0\\\\\n",
       "\t2 & bacterial\\_infection & 103.1\\\\\n",
       "\t3 & bacterial\\_infection &  55.5\\\\\n",
       "\t4 & MISC                &  45.3\\\\\n",
       "\t5 & MISC                &  42.7\\\\\n",
       "\\end{tabular}\n"
      ],
      "text/markdown": [
       "\n",
       "A data.frame: 5 × 2\n",
       "\n",
       "| <!--/--> | inflam_cat &lt;chr&gt; | crp &lt;dbl&gt; |\n",
       "|---|---|---|\n",
       "| 1 | bacterial_infection | 225.0 |\n",
       "| 2 | bacterial_infection | 103.1 |\n",
       "| 3 | bacterial_infection |  55.5 |\n",
       "| 4 | MISC                |  45.3 |\n",
       "| 5 | MISC                |  42.7 |\n",
       "\n"
      ],
      "text/plain": [
       "  inflam_cat          crp  \n",
       "1 bacterial_infection 225.0\n",
       "2 bacterial_infection 103.1\n",
       "3 bacterial_infection  55.5\n",
       "4 MISC                 45.3\n",
       "5 MISC                 42.7"
      ]
     },
     "metadata": {},
     "output_type": "display_data"
    }
   ],
   "source": [
    "#######################\n",
    "### CRP BOX CHART\n",
    "#######################\n",
    "\n",
    "library(lubridate)\n",
    "tab1 <- read.csv(\"./table1_dataframe.csv\")\n",
    "non_ucsd <- tab1 %>% filter(origin != \"UCSD\") %>% pull(PTID)\n",
    "\n",
    "redcap = read.csv(\"../../meta_data/cfrna/RedCap-df_merged.csv\")\n",
    "redcap <- redcap %>% filter(PTID %in% non_ucsd) %>% select(PTID, date_hosp, crp) %>% \n",
    "    filter(!is.na(crp)) %>% mutate(date_hosp = ymd(date_hosp)) %>% \n",
    "    group_by(PTID) %>% slice_min(date_hosp, n=1) %>% slice_max(crp, n=1) %>% rename(crp_new = crp)\n",
    "\n",
    "tab1_crp <- merge(tab1, redcap, by = \"PTID\", all.x = TRUE) %>% \n",
    "    mutate(crp = ifelse(is.na(crp), crp_new, crp))\n",
    "\n",
    "\n",
    "new_names <- c(\"MIS-C\",\"KD\",\"Viral Inf.\", \"Bact. Inf.\", \"Other\")\n",
    "\n",
    "\n",
    "crp_box <- tab1_crp %>% \n",
    "    mutate(inflam_cat = factor(inflam_cat, levels = names(INFLAMCAT_FILL_KEY))) %>%\n",
    "    filter(inflam_cat != \"Healthy\") %>%\n",
    "    mutate(inflam_cat_new = case_when(\n",
    "            inflam_cat == \"MISC\" ~ \"MIS-C\",\n",
    "            inflam_cat == \"KD\" ~ \"KD\",\n",
    "            grepl(\"viral\",inflam_cat) ~ \"Viral Inf.\",\n",
    "            grepl(\"bacterial\",inflam_cat) ~ \"Bact. Inf.\",\n",
    "            inflam_cat == \"other\" ~ \"Other\",\n",
    "            inflam_cat == \"Healthy\" ~ \"Healthy\",\n",
    "                TRUE ~ \"Other\"\n",
    "    )) %>% \n",
    "    mutate(inflam_cat_new = factor(inflam_cat_new, levels = new_names)) %>%\n",
    "    ggplot(aes(x=inflam_cat_new, y=crp))+\n",
    "    geom_boxplot(outlier.shape = NA, color = \"black\", alpha = 0.75)+\n",
    "    geom_jitter(width = 0.2, height = 0, color = \"black\", size = .75, alpha = 0.5, stroke=NA)+\n",
    "    theme_cfrna_print()+\n",
    "    labs(y = \"CRP (mg/dL)\")+\n",
    "    theme(axis.title.x = element_blank())+\n",
    "    coord_cartesian(ylim = c(0, 75))+\n",
    "    scale_x_discrete(guide = guide_axis(n.dodge = 2))\n",
    "\n",
    "WIDTH= (3.3 / 2)  * .93\n",
    "HEIGHT= 1.3\n",
    "\n",
    "pdf(file=\"figure_plots/OVERVIEW_CRP.box.pdf\",\n",
    "        width=WIDTH,height=HEIGHT, paper=\"special\", bg=\"transparent\",\n",
    "        fonts=\"Helvetica\", colormodel = \"srgb\", pointsize=6, useDingbats = FALSE)\n",
    "crp_box\n",
    "dev.off()\n",
    "\n",
    "\n",
    "tab1 %>% arrange(desc(crp)) %>% head(5) %>% select(inflam_cat, crp)"
   ]
  },
  {
   "cell_type": "code",
   "execution_count": 42,
   "metadata": {
    "vscode": {
     "languageId": "r"
    }
   },
   "outputs": [],
   "source": [
    "library(lubridate)\n",
    "tab1 <- read.csv(\"./table1_dataframe.csv\")\n",
    "non_ucsd <- tab1 %>% filter(origin != \"UCSD\") %>% pull(PTID)\n",
    "\n",
    "redcap = read.csv(\"../../meta_data/cfrna/RedCap-df_merged.csv\")\n",
    "redcap <- redcap %>% filter(PTID %in% non_ucsd) %>% select(PTID, date_hosp, crp) %>% \n",
    "    filter(!is.na(crp)) %>% mutate(date_hosp = ymd(date_hosp)) %>% \n",
    "    group_by(PTID) %>% slice_min(date_hosp, n=1) %>% slice_max(crp, n=1) %>% rename(crp_new = crp)\n",
    "\n",
    "tab1_crp <- merge(tab1, redcap, by = \"PTID\", all.x = TRUE) %>% \n",
    "    mutate(crp = ifelse(is.na(crp), crp_new, crp))\n",
    "\n",
    "# date_hosp"
   ]
  },
  {
   "cell_type": "markdown",
   "metadata": {},
   "source": [
    "---\n",
    "## Table 1"
   ]
  },
  {
   "cell_type": "code",
   "execution_count": 4,
   "metadata": {
    "vscode": {
     "languageId": "r"
    }
   },
   "outputs": [
    {
     "name": "stderr",
     "output_type": "stream",
     "text": [
      "\u001b[1m\u001b[22mNew names:\n",
      "\u001b[36m•\u001b[39m `` -> `...53`\n",
      "\u001b[36m•\u001b[39m `` -> `...54`\n",
      "\u001b[36m•\u001b[39m `` -> `...55`\n"
     ]
    },
    {
     "data": {
      "text/html": [
       "<table class=\"dataframe\">\n",
       "<caption>A tibble: 6 × 25</caption>\n",
       "<thead>\n",
       "\t<tr><th scope=col>PTID</th><th scope=col>origin</th><th scope=col>eth_HispanicOrLatino</th><th scope=col>eth_NotHispanicOrLatino</th><th scope=col>race_HispanicOrLatino</th><th scope=col>race_AmericanIndianOrAlaskaNative</th><th scope=col>race_Asian</th><th scope=col>race_BlackOrAA</th><th scope=col>race_NativeHawaiianOrOtherPacificIslander</th><th scope=col>race_White</th><th scope=col>⋯</th><th scope=col>icu_yes</th><th scope=col>icu_no</th><th scope=col>oxygen_NasalCannula</th><th scope=col>oxygen_FaceMask</th><th scope=col>oxygen_HFNC</th><th scope=col>oxygen_BiPap</th><th scope=col>oxygen_Ventilator</th><th scope=col>oxygen_ECMO</th><th scope=col>oxygen_CPAP</th><th scope=col>oxygen_None</th></tr>\n",
       "\t<tr><th scope=col>&lt;chr&gt;</th><th scope=col>&lt;fct&gt;</th><th scope=col>&lt;dbl&gt;</th><th scope=col>&lt;dbl&gt;</th><th scope=col>&lt;dbl&gt;</th><th scope=col>&lt;dbl&gt;</th><th scope=col>&lt;dbl&gt;</th><th scope=col>&lt;dbl&gt;</th><th scope=col>&lt;dbl&gt;</th><th scope=col>&lt;dbl&gt;</th><th scope=col>⋯</th><th scope=col>&lt;dbl&gt;</th><th scope=col>&lt;dbl&gt;</th><th scope=col>&lt;dbl&gt;</th><th scope=col>&lt;dbl&gt;</th><th scope=col>&lt;dbl&gt;</th><th scope=col>&lt;dbl&gt;</th><th scope=col>&lt;dbl&gt;</th><th scope=col>&lt;dbl&gt;</th><th scope=col>&lt;dbl&gt;</th><th scope=col>&lt;dbl&gt;</th></tr>\n",
       "</thead>\n",
       "<tbody>\n",
       "\t<tr><td>SEP0156</td><td>UCSF</td><td>0</td><td>1</td><td>0</td><td>0</td><td>0</td><td>0</td><td>0</td><td>1</td><td>⋯</td><td>1</td><td>0</td><td>0</td><td>0</td><td>0</td><td>0</td><td>0</td><td>0</td><td>0</td><td>0</td></tr>\n",
       "\t<tr><td>SEP0216</td><td>UCSF</td><td>1</td><td>0</td><td>0</td><td>0</td><td>0</td><td>0</td><td>0</td><td>0</td><td>⋯</td><td>0</td><td>1</td><td>0</td><td>0</td><td>0</td><td>0</td><td>0</td><td>0</td><td>0</td><td>1</td></tr>\n",
       "\t<tr><td>SEP0250</td><td>UCSF</td><td>1</td><td>0</td><td>0</td><td>0</td><td>0</td><td>0</td><td>0</td><td>0</td><td>⋯</td><td>0</td><td>1</td><td>0</td><td>0</td><td>0</td><td>0</td><td>0</td><td>0</td><td>0</td><td>1</td></tr>\n",
       "\t<tr><td>SEP0313</td><td>UCSF</td><td>1</td><td>0</td><td>0</td><td>0</td><td>0</td><td>0</td><td>0</td><td>0</td><td>⋯</td><td>0</td><td>1</td><td>0</td><td>0</td><td>0</td><td>0</td><td>0</td><td>0</td><td>0</td><td>1</td></tr>\n",
       "\t<tr><td>SEP0315</td><td>UCSF</td><td>0</td><td>1</td><td>0</td><td>0</td><td>0</td><td>0</td><td>0</td><td>1</td><td>⋯</td><td>1</td><td>0</td><td>0</td><td>0</td><td>0</td><td>0</td><td>1</td><td>0</td><td>0</td><td>0</td></tr>\n",
       "\t<tr><td>SEP0368</td><td>UCSF</td><td>1</td><td>0</td><td>0</td><td>0</td><td>0</td><td>0</td><td>0</td><td>0</td><td>⋯</td><td>1</td><td>0</td><td>0</td><td>0</td><td>0</td><td>0</td><td>0</td><td>0</td><td>0</td><td>0</td></tr>\n",
       "</tbody>\n",
       "</table>\n"
      ],
      "text/latex": [
       "A tibble: 6 × 25\n",
       "\\begin{tabular}{lllllllllllllllllllll}\n",
       " PTID & origin & eth\\_HispanicOrLatino & eth\\_NotHispanicOrLatino & race\\_HispanicOrLatino & race\\_AmericanIndianOrAlaskaNative & race\\_Asian & race\\_BlackOrAA & race\\_NativeHawaiianOrOtherPacificIslander & race\\_White & ⋯ & icu\\_yes & icu\\_no & oxygen\\_NasalCannula & oxygen\\_FaceMask & oxygen\\_HFNC & oxygen\\_BiPap & oxygen\\_Ventilator & oxygen\\_ECMO & oxygen\\_CPAP & oxygen\\_None\\\\\n",
       " <chr> & <fct> & <dbl> & <dbl> & <dbl> & <dbl> & <dbl> & <dbl> & <dbl> & <dbl> & ⋯ & <dbl> & <dbl> & <dbl> & <dbl> & <dbl> & <dbl> & <dbl> & <dbl> & <dbl> & <dbl>\\\\\n",
       "\\hline\n",
       "\t SEP0156 & UCSF & 0 & 1 & 0 & 0 & 0 & 0 & 0 & 1 & ⋯ & 1 & 0 & 0 & 0 & 0 & 0 & 0 & 0 & 0 & 0\\\\\n",
       "\t SEP0216 & UCSF & 1 & 0 & 0 & 0 & 0 & 0 & 0 & 0 & ⋯ & 0 & 1 & 0 & 0 & 0 & 0 & 0 & 0 & 0 & 1\\\\\n",
       "\t SEP0250 & UCSF & 1 & 0 & 0 & 0 & 0 & 0 & 0 & 0 & ⋯ & 0 & 1 & 0 & 0 & 0 & 0 & 0 & 0 & 0 & 1\\\\\n",
       "\t SEP0313 & UCSF & 1 & 0 & 0 & 0 & 0 & 0 & 0 & 0 & ⋯ & 0 & 1 & 0 & 0 & 0 & 0 & 0 & 0 & 0 & 1\\\\\n",
       "\t SEP0315 & UCSF & 0 & 1 & 0 & 0 & 0 & 0 & 0 & 1 & ⋯ & 1 & 0 & 0 & 0 & 0 & 0 & 1 & 0 & 0 & 0\\\\\n",
       "\t SEP0368 & UCSF & 1 & 0 & 0 & 0 & 0 & 0 & 0 & 0 & ⋯ & 1 & 0 & 0 & 0 & 0 & 0 & 0 & 0 & 0 & 0\\\\\n",
       "\\end{tabular}\n"
      ],
      "text/markdown": [
       "\n",
       "A tibble: 6 × 25\n",
       "\n",
       "| PTID &lt;chr&gt; | origin &lt;fct&gt; | eth_HispanicOrLatino &lt;dbl&gt; | eth_NotHispanicOrLatino &lt;dbl&gt; | race_HispanicOrLatino &lt;dbl&gt; | race_AmericanIndianOrAlaskaNative &lt;dbl&gt; | race_Asian &lt;dbl&gt; | race_BlackOrAA &lt;dbl&gt; | race_NativeHawaiianOrOtherPacificIslander &lt;dbl&gt; | race_White &lt;dbl&gt; | ⋯ ⋯ | icu_yes &lt;dbl&gt; | icu_no &lt;dbl&gt; | oxygen_NasalCannula &lt;dbl&gt; | oxygen_FaceMask &lt;dbl&gt; | oxygen_HFNC &lt;dbl&gt; | oxygen_BiPap &lt;dbl&gt; | oxygen_Ventilator &lt;dbl&gt; | oxygen_ECMO &lt;dbl&gt; | oxygen_CPAP &lt;dbl&gt; | oxygen_None &lt;dbl&gt; |\n",
       "|---|---|---|---|---|---|---|---|---|---|---|---|---|---|---|---|---|---|---|---|---|\n",
       "| SEP0156 | UCSF | 0 | 1 | 0 | 0 | 0 | 0 | 0 | 1 | ⋯ | 1 | 0 | 0 | 0 | 0 | 0 | 0 | 0 | 0 | 0 |\n",
       "| SEP0216 | UCSF | 1 | 0 | 0 | 0 | 0 | 0 | 0 | 0 | ⋯ | 0 | 1 | 0 | 0 | 0 | 0 | 0 | 0 | 0 | 1 |\n",
       "| SEP0250 | UCSF | 1 | 0 | 0 | 0 | 0 | 0 | 0 | 0 | ⋯ | 0 | 1 | 0 | 0 | 0 | 0 | 0 | 0 | 0 | 1 |\n",
       "| SEP0313 | UCSF | 1 | 0 | 0 | 0 | 0 | 0 | 0 | 0 | ⋯ | 0 | 1 | 0 | 0 | 0 | 0 | 0 | 0 | 0 | 1 |\n",
       "| SEP0315 | UCSF | 0 | 1 | 0 | 0 | 0 | 0 | 0 | 1 | ⋯ | 1 | 0 | 0 | 0 | 0 | 0 | 1 | 0 | 0 | 0 |\n",
       "| SEP0368 | UCSF | 1 | 0 | 0 | 0 | 0 | 0 | 0 | 0 | ⋯ | 1 | 0 | 0 | 0 | 0 | 0 | 0 | 0 | 0 | 0 |\n",
       "\n"
      ],
      "text/plain": [
       "  PTID    origin eth_HispanicOrLatino eth_NotHispanicOrLatino\n",
       "1 SEP0156 UCSF   0                    1                      \n",
       "2 SEP0216 UCSF   1                    0                      \n",
       "3 SEP0250 UCSF   1                    0                      \n",
       "4 SEP0313 UCSF   1                    0                      \n",
       "5 SEP0315 UCSF   0                    1                      \n",
       "6 SEP0368 UCSF   1                    0                      \n",
       "  race_HispanicOrLatino race_AmericanIndianOrAlaskaNative race_Asian\n",
       "1 0                     0                                 0         \n",
       "2 0                     0                                 0         \n",
       "3 0                     0                                 0         \n",
       "4 0                     0                                 0         \n",
       "5 0                     0                                 0         \n",
       "6 0                     0                                 0         \n",
       "  race_BlackOrAA race_NativeHawaiianOrOtherPacificIslander race_White ⋯ icu_yes\n",
       "1 0              0                                         1          ⋯ 1      \n",
       "2 0              0                                         0          ⋯ 0      \n",
       "3 0              0                                         0          ⋯ 0      \n",
       "4 0              0                                         0          ⋯ 0      \n",
       "5 0              0                                         1          ⋯ 1      \n",
       "6 0              0                                         0          ⋯ 1      \n",
       "  icu_no oxygen_NasalCannula oxygen_FaceMask oxygen_HFNC oxygen_BiPap\n",
       "1 0      0                   0               0           0           \n",
       "2 1      0                   0               0           0           \n",
       "3 1      0                   0               0           0           \n",
       "4 1      0                   0               0           0           \n",
       "5 0      0                   0               0           0           \n",
       "6 0      0                   0               0           0           \n",
       "  oxygen_Ventilator oxygen_ECMO oxygen_CPAP oxygen_None\n",
       "1 0                 0           0           0          \n",
       "2 0                 0           0           1          \n",
       "3 0                 0           0           1          \n",
       "4 0                 0           0           1          \n",
       "5 1                 0           0           0          \n",
       "6 0                 0           0           0          "
      ]
     },
     "metadata": {},
     "output_type": "display_data"
    },
    {
     "name": "stderr",
     "output_type": "stream",
     "text": [
      "Warning message in write.csv(., \"./table1_dataframe.csv\", sep = \",\", row.names = FALSE):\n",
      "“attempt to set 'sep' ignored”\n"
     ]
    }
   ],
   "source": [
    "ucsf_data = read_xlsx(\"./data/Cornell Manifest Bacterial Sepsis Samples-2 1-3.xlsx\") %>% \n",
    "    rename(PTID = `Study ID`, samp_id = `Sample ID`, race = Race, eth = Ethnicity, sex = Sex, crp = `CRP levels (at admission)`, icu = `ICU status`, oxygen = `Oxygen requirements (on date of sample collected or within +/- 1 day)`)%>%\n",
    "    mutate(PTID = samp_id) %>%\n",
    "    filter(PTID %in% meta$PTID) %>%\n",
    "    select(PTID, samp_id, race, eth, sex, crp, icu,oxygen) %>%\n",
    "    mutate(eth_HispanicOrLatino = ifelse(eth == \"Hispanic or Latino\", 1, 0),\n",
    "           eth_NotHispanicOrLatino = ifelse(eth == \"Not Hispanic or Latino\",1,0)) %>% \n",
    "    mutate(race_HispanicOrLatino = ifelse(eth == \"Hispanic or Latino\", 1, 0),\n",
    "           race_AmericanIndianOrAlaskaNative = ifelse(grepl(\"American Indian\",race),1,0), # & (race_MoreThanOne!=1),1,0),\n",
    "            race_Asian = ifelse(grepl(\"Asian\",race),1,0), #& (race_MoreThanOne!=1),1,0),\n",
    "            race_BlackOrAA = ifelse(grepl(\"Black\",race),1,0), #& (race_MoreThanOne!=1),1,0),\n",
    "            race_NativeHawaiianOrOtherPacificIslander = ifelse(grepl(\"Native Hawaiian\",race),1,0), #& (race_MoreThanOne!=1),1,0),\n",
    "            race_White = ifelse(grepl(\"White\",race),1,0),\n",
    "            race_Other = ifelse(grepl(\"Other\",race),1,0)) %>% select(!race) %>%\n",
    "    mutate(race_MoreThanOne = ifelse((race_HispanicOrLatino + race_AmericanIndianOrAlaskaNative + race_Asian + race_BlackOrAA + race_NativeHawaiianOrOtherPacificIslander + race_White + race_Other)>1,1,0)) %>%\n",
    "    mutate(race_AmericanIndianOrAlaskaNative = ifelse(race_MoreThanOne == 1, 0, race_AmericanIndianOrAlaskaNative),\n",
    "            race_Asian = ifelse(race_MoreThanOne == 1, 0, race_Asian),\n",
    "            race_BlackOrAA = ifelse(race_MoreThanOne == 1, 0, race_BlackOrAA),\n",
    "            race_NativeHawaiianOrOtherPacificIslander = ifelse(race_MoreThanOne == 1, 0, race_NativeHawaiianOrOtherPacificIslander),\n",
    "            race_White = ifelse(race_MoreThanOne == 1, 0, race_White),\n",
    "            race_Other = ifelse(race_MoreThanOne == 1, 0, race_Other),\n",
    "            race_HispanicOrLatino = ifelse(race_MoreThanOne == 1, 0, race_HispanicOrLatino)) %>% \n",
    "    mutate(oxygen_HFNC = ifelse(grepl(\"HFNC\",oxygen),1,0),\n",
    "           oxygen_LFNC = ifelse(grepl(\"LFNC\",oxygen),1,0),\n",
    "           oxygen_Ventilator = ifelse(grepl(\"Ventilator\",oxygen),1,0),\n",
    "           oxygen_None = ifelse(grepl(\"None\",oxygen),1,0),\n",
    "           oxygen_NasalCannula = ifelse(grepl(\"Nasal Cannula\",oxygen),1,0),\n",
    "           oxygen_BiPap = ifelse(grepl(\"BiPap\",oxygen),1,0),\n",
    "           oxygen_CPAP = ifelse(grepl(\"CPAP\",oxygen),1,0),\n",
    "           oxygen_ECMO = ifelse(grepl(\"ECMO\",oxygen),1,0),\n",
    "           oxygen_FaceMask = ifelse(grepl(\"Face Mask\",oxygen),1,0)) %>% select(!oxygen) %>% \n",
    "    mutate(sex_male = ifelse(grepl(\"Male\",sex),1,0),\n",
    "                sex_female = ifelse(grepl(\"Female\",sex),1,0)) %>% select(!sex) %>% \n",
    "    mutate(icu_yes = ifelse(grepl(\"Yes\",icu),1,0),\n",
    "           icu_no = ifelse(grepl(\"No\",icu),1,0)) %>% select(!icu) %>% \n",
    "    mutate(origin = \"UCSF\")\n",
    "\n",
    "# pvail_data = read.delim(\"/workdir/cjl332/prevail/marker_genes/meta_data/cfrna/3_all_variables.tsv\") %>% \n",
    "#     select(PTID, sex, crp,  ethnicity___1, ethnicity___0, race___1, race___2, race___3, race___4, race___5, race___6, ressupport)\n",
    "pvail_data = read.csv(\"./data/PreVAILCDEs-DemographicsPedInlfl_DATA_2024-05-11_1036.csv\") %>% \n",
    "    rename(PTID = siteid) %>% \n",
    "    mutate(PTID = toupper(PTID)) %>%\n",
    "    filter(PTID %in% meta$PTID) %>%\n",
    "    mutate(eth_HispanicOrLatino = ethnicity___1, eth_NotHispanicOrLatino = ethnicity___0) %>% #select(!starts_with(\"ethnicity__\")) %>% \n",
    "    mutate(race_MoreThanOne = ifelse( (race___1 + race___2 + race___3 + race___4 + race___5 + race___6 + ethnicity___1) > 1, 1,0 )) %>%\n",
    "    mutate(race_AmericanIndianOrAlaskaNative = ifelse(race_MoreThanOne == 1, 0, race___1),\n",
    "            race_Asian = ifelse(race_MoreThanOne == 1, 0, race___2),\n",
    "            race_BlackOrAA = ifelse(race_MoreThanOne == 1, 0, race___3),\n",
    "            race_NativeHawaiianOrOtherPacificIslander = ifelse(race_MoreThanOne == 1, 0, race___4),\n",
    "            race_White = ifelse(race_MoreThanOne == 1, 0, race___5),\n",
    "            race_Other = ifelse(race_MoreThanOne == 1, 0, race___6),\n",
    "            race_HispanicOrLatino = ifelse(race_MoreThanOne == 1, 0, ethnicity___1)) %>% select(!starts_with(\"race__\")) %>% select(!starts_with(\"ethnicity__\")) %>% \n",
    "    mutate(oxygen_NasalCannula = type_oxygen___1,\n",
    "            oxygen_FaceMask = type_oxygen___5,\n",
    "            oxygen_HFNC = type_oxygen___2,\n",
    "           oxygen_BiPap = type_oxygen___3,\n",
    "           oxygen_Ventilator = type_oxygen___4,\n",
    "           oxygen_ECMO = type_oxygen___6,\n",
    "           oxygen_CPAP = type_oxygen___7,\n",
    "           oxygen_None = ifelse(sum(type_oxygen___1, type_oxygen___2,type_oxygen___3,type_oxygen___4,type_oxygen___5,type_oxygen___6, type_oxygen___7) == 0, 1, 0))  %>% select(!starts_with(\"type_oxygen__\")) %>% \n",
    "    mutate(sex_male = ifelse(sex == 1, 1, 0), sex_female = ifelse(sex == 2, 1,0)) %>% select(!sex)%>%\n",
    "    mutate(icu_yes = ifelse(icu == 1,1,0), icu_no = ifelse(icu == 0,1,0)) %>% select(!icu) %>% \n",
    "    select(!study_id) %>% select(!redcap_repeat_instrument) %>% select(!redcap_repeat_instance) %>% select(!icu_onset) %>% \n",
    "    mutate(origin = ifelse(grepl(\"CNH\",PTID),\"CNH\",\"EMORY\")) \n",
    "\n",
    "\n",
    "ucsd_data = read_xlsx(\"/workdir/cjl332/radysChildrens_ucsd/1_DATA/data/All-metadata_cfRNA samples sent_as_of_120423.xlsx\") %>% \n",
    "        mutate(PTID = gsub(\",\",\"\", `ID #`)) %>%\n",
    "        mutate(PTID = gsub(\"-CHM-\",\"CHM\",PTID)) %>%\n",
    "        mutate(PTID = ifelse(PTID == \"173028.2\",\"173028\",PTID)) %>%\n",
    "        mutate(PTID = ifelse(PTID == \"3326.2\",\"3326\",PTID)) %>%\n",
    "        filter(PTID %in% meta$PTID) %>%\n",
    "        mutate(origin = \"UCSD\") %>% \n",
    "        rename(crp = pcrp) %>%\n",
    "        mutate(eth_HispanicOrLatino = ifelse(eth == 4, 1, 0),eth_NotHispanicOrLatino = ifelse(eth !=4, 1,0)) %>% \n",
    "        mutate(race_HispanicOrLatino = ifelse(eth == 4, 1, 0),\n",
    "                race_AmericanIndianOrAlaskaNative = ifelse(eth == 7,1,0),\n",
    "            race_Asian = ifelse(eth == 1,1,0),\n",
    "            race_BlackOrAA = ifelse(eth == 2,1,0),\n",
    "            race_NativeHawaiianOrOtherPacificIslander = ifelse(eth == 8,1,0),\n",
    "            race_White = ifelse(eth == 3,1,0),\n",
    "            race_Other = ifelse(eth == 9,1,0),\n",
    "            race_MoreThanOne = ifelse(eth == 6, 1, 0)) %>% \n",
    "        mutate(oxygen_HFNC = NA,\n",
    "           oxygen_LFNC = NA,\n",
    "           oxygen_Ventilator = NA,\n",
    "           oxygen_None = NA,\n",
    "           oxygen_NasalCannula = NA,\n",
    "           oxygen_BiPap = NA,\n",
    "           oxygen_CPAP = NA,\n",
    "           oxygen_ECMO = NA,\n",
    "           oxygen_FaceMask = NA) %>% \n",
    "        mutate(sex_male = ifelse(sex == 1, 1, 0), sex_female = ifelse(sex == 2, 1,0))\n",
    "\n",
    "ucsd_severity = read_xlsx(\"./data/Multipaper cohort severity 051324.xlsx\") %>% \n",
    "        rename(icu =`ICU (1=yes, 0=no)`) %>% \n",
    "        mutate(icu_yes = ifelse(icu == 1,1,0), icu_no = ifelse(icu == 0,1,0)) %>% select(!icu) %>%\n",
    "        select(PTID, icu_yes, icu_no) %>% unique()\n",
    "ucsd_data <- merge(ucsd_data,ucsd_severity,by=\"PTID\")\n",
    "# ucsd_severity %>% head()\n",
    "        \n",
    "\n",
    "ucsf_data <- ucsf_data %>% select(all_of(pvail_data %>% colnames())) \n",
    "ucsd_data = ucsd_data %>% select(all_of(pvail_data %>% colnames()))\n",
    "\n",
    "COL_order = c('PTID','origin','eth_HispanicOrLatino','eth_NotHispanicOrLatino','race_HispanicOrLatino','race_AmericanIndianOrAlaskaNative','race_Asian','race_BlackOrAA','race_NativeHawaiianOrOtherPacificIslander','race_White','race_Other','race_MoreThanOne','sex_male','sex_female','crp','icu_yes','icu_no','oxygen_NasalCannula','oxygen_FaceMask','oxygen_HFNC','oxygen_BiPap','oxygen_Ventilator','oxygen_ECMO','oxygen_CPAP','oxygen_None')\n",
    "\n",
    "\n",
    "all_table_data = rbind(ucsf_data, pvail_data, ucsd_data) %>% \n",
    "    mutate(origin = factor(origin, levels = c(\"UCSD\",\"EMORY\",\"CNH\",\"UCSF\"))) %>% \n",
    "    select(all_of(COL_order))\n",
    "\n",
    "all_table_data %>% head()\n",
    "\n",
    "meta_tmp <- meta %>% select(PTID, inflam_cat, age)\n",
    "\n",
    "all_table_data <- merge(meta_tmp, all_table_data, by=\"PTID\", all=TRUE)\n",
    "\n",
    "\n",
    "all_table_data %>% write.csv(\"./table1_dataframe.csv\",sep=\",\", row.names = FALSE)\n",
    "\n",
    "# ucsf_data %>% head()\n",
    "# pvail_data %>% head()\n",
    "# pvail_data %>% colnames()\n",
    "# ucsd_data %>% head()\n",
    "# ucsd_data %>% colnames()"
   ]
  },
  {
   "cell_type": "code",
   "execution_count": 5,
   "metadata": {
    "vscode": {
     "languageId": "r"
    }
   },
   "outputs": [
    {
     "name": "stdout",
     "output_type": "stream",
     "text": [
      "[1] \"====================================\"\n",
      "[1] \"origin\"\n",
      "       \n",
      "        MISC KD viral_infection bacterial_infection other Healthy\n",
      "  UCSD    41 99              69                  25     0       0\n",
      "  EMORY   43  1              29                   0     3      17\n",
      "  CNH     12  1               5                   7     6       0\n",
      "  UCSF     0  0               0                   9     0       0\n",
      "[1] \"====================================\"\n",
      "[1] \"race_HispanicOrLatino\"\n",
      "   \n",
      "    MISC KD viral_infection bacterial_infection other Healthy\n",
      "  0   73 70              75                  36     9      17\n",
      "  1   23 31              28                   5     0       0\n",
      "[1] \"====================================\"\n",
      "[1] \"race_AmericanIndianOrAlaskaNative\"\n",
      "   \n",
      "    MISC  KD viral_infection bacterial_infection other Healthy\n",
      "  0   96 100             103                  41     9      17\n",
      "  1    0   1               0                   0     0       0\n",
      "[1] \"====================================\"\n",
      "[1] \"race_Asian\"\n",
      "   \n",
      "    MISC KD viral_infection bacterial_infection other Healthy\n",
      "  0   95 84              98                  40     9      17\n",
      "  1    1 17               5                   1     0       0\n",
      "[1] \"====================================\"\n",
      "[1] \"race_BlackOrAA\"\n",
      "   \n",
      "    MISC KD viral_infection bacterial_infection other Healthy\n",
      "  0   57 96              81                  37     6      14\n",
      "  1   39  5              22                   4     3       3\n",
      "[1] \"====================================\"\n",
      "[1] \"race_NativeHawaiianOrOtherPacificIslander\"\n",
      "   \n",
      "    MISC  KD viral_infection bacterial_infection other Healthy\n",
      "  0   96 100             103                  41     9      17\n",
      "  1    0   1               0                   0     0       0\n",
      "[1] \"====================================\"\n",
      "[1] \"race_White\"\n",
      "   \n",
      "    MISC KD viral_infection bacterial_infection other Healthy\n",
      "  0   82 83              81                  28     5      10\n",
      "  1   14 18              22                  13     4       7\n",
      "[1] \"====================================\"\n",
      "[1] \"race_Other\"\n",
      "   \n",
      "    MISC  KD viral_infection bacterial_infection other Healthy\n",
      "  0   95  99             102                  39     9      17\n",
      "  1    1   2               1                   2     0       0\n",
      "[1] \"====================================\"\n",
      "[1] \"race_MoreThanOne\"\n",
      "   \n",
      "    MISC KD viral_infection bacterial_infection other Healthy\n",
      "  0   81 75              83                  30     7      10\n",
      "  1   15 26              20                  11     2       7\n",
      "[1] \"====================================\"\n",
      "[1] \"sex_male\"\n",
      "   \n",
      "    MISC KD viral_infection bacterial_infection other Healthy\n",
      "  0   26 44              46                  16     3      11\n",
      "  1   70 57              57                  25     6       6\n",
      "[1] \"====================================\"\n",
      "[1] \"sex_female\"\n",
      "   \n",
      "    MISC KD viral_infection bacterial_infection other Healthy\n",
      "  0   70 57              57                  25     6       6\n",
      "  1   26 44              46                  16     3      11\n",
      "[1] \"====================================\"\n",
      "[1] \"icu_yes\"\n",
      "   \n",
      "    MISC KD viral_infection bacterial_infection other Healthy\n",
      "  0   28 98              89                  34     6      17\n",
      "  1   68  3              14                   7     3       0\n",
      "[1] \"====================================\"\n",
      "[1] \"icu_no\"\n",
      "   \n",
      "    MISC KD viral_infection bacterial_infection other Healthy\n",
      "  0   68  3              14                   7     3       0\n",
      "  1   28 98              89                  34     6      17\n",
      "[1] \"====================================\"\n",
      "[1] \"oxygen_NasalCannula\"\n",
      "   \n",
      "    MISC KD viral_infection bacterial_infection other Healthy\n",
      "  0   27  2              15                  14     6      17\n",
      "  1   28  0              19                   2     3       0\n",
      "[1] \"====================================\"\n",
      "[1] \"oxygen_FaceMask\"\n",
      "   \n",
      "    MISC KD viral_infection bacterial_infection other Healthy\n",
      "  0   54  2              33                  16     9      17\n",
      "  1    1  0               1                   0     0       0\n",
      "[1] \"====================================\"\n",
      "[1] \"oxygen_HFNC\"\n",
      "   \n",
      "    MISC KD viral_infection bacterial_infection other Healthy\n",
      "  0   43  2              20                  14     8      17\n",
      "  1   12  0              14                   2     1       0\n",
      "[1] \"====================================\"\n",
      "[1] \"oxygen_BiPap\"\n",
      "   \n",
      "    MISC KD viral_infection bacterial_infection other Healthy\n",
      "  0   46  2              30                  16     9      17\n",
      "  1    9  0               4                   0     0       0\n",
      "[1] \"====================================\"\n",
      "[1] \"oxygen_Ventilator\"\n",
      "   \n",
      "    MISC KD viral_infection bacterial_infection other Healthy\n",
      "  0   53  2              33                  14     7      17\n",
      "  1    2  0               1                   2     2       0\n",
      "[1] \"====================================\"\n",
      "[1] \"oxygen_ECMO\"\n",
      "   \n",
      "    MISC KD viral_infection bacterial_infection other Healthy\n",
      "  0   54  2              33                  16     7      17\n",
      "  1    1  0               1                   0     2       0\n",
      "[1] \"====================================\"\n",
      "[1] \"oxygen_CPAP\"\n",
      "   \n",
      "    MISC KD viral_infection bacterial_infection other Healthy\n",
      "  0   55  2              34                  16     7      17\n",
      "  1    0  0               0                   0     2       0\n",
      "[1] \"====================================\"\n",
      "[1] \"oxygen_None\"\n",
      "   \n",
      "    MISC KD viral_infection bacterial_infection other Healthy\n",
      "  0   55  2              34                  12     9      17\n",
      "  1    0  0               0                   4     0       0\n"
     ]
    },
    {
     "data": {
      "text/html": [
       "<table class=\"dataframe\">\n",
       "<caption>A data.frame: 6 × 27</caption>\n",
       "<thead>\n",
       "\t<tr><th></th><th scope=col>PTID</th><th scope=col>inflam_cat</th><th scope=col>age</th><th scope=col>origin</th><th scope=col>eth_HispanicOrLatino</th><th scope=col>eth_NotHispanicOrLatino</th><th scope=col>race_HispanicOrLatino</th><th scope=col>race_AmericanIndianOrAlaskaNative</th><th scope=col>race_Asian</th><th scope=col>race_BlackOrAA</th><th scope=col>⋯</th><th scope=col>icu_yes</th><th scope=col>icu_no</th><th scope=col>oxygen_NasalCannula</th><th scope=col>oxygen_FaceMask</th><th scope=col>oxygen_HFNC</th><th scope=col>oxygen_BiPap</th><th scope=col>oxygen_Ventilator</th><th scope=col>oxygen_ECMO</th><th scope=col>oxygen_CPAP</th><th scope=col>oxygen_None</th></tr>\n",
       "\t<tr><th></th><th scope=col>&lt;chr&gt;</th><th scope=col>&lt;fct&gt;</th><th scope=col>&lt;dbl&gt;</th><th scope=col>&lt;fct&gt;</th><th scope=col>&lt;dbl&gt;</th><th scope=col>&lt;dbl&gt;</th><th scope=col>&lt;dbl&gt;</th><th scope=col>&lt;dbl&gt;</th><th scope=col>&lt;dbl&gt;</th><th scope=col>&lt;dbl&gt;</th><th scope=col>⋯</th><th scope=col>&lt;dbl&gt;</th><th scope=col>&lt;dbl&gt;</th><th scope=col>&lt;dbl&gt;</th><th scope=col>&lt;dbl&gt;</th><th scope=col>&lt;dbl&gt;</th><th scope=col>&lt;dbl&gt;</th><th scope=col>&lt;dbl&gt;</th><th scope=col>&lt;dbl&gt;</th><th scope=col>&lt;dbl&gt;</th><th scope=col>&lt;dbl&gt;</th></tr>\n",
       "</thead>\n",
       "<tbody>\n",
       "\t<tr><th scope=row>1</th><td>153000</td><td>KD</td><td>4.744907</td><td>UCSD</td><td>0</td><td>1</td><td>0</td><td>0</td><td>0</td><td>0</td><td>⋯</td><td>0</td><td>1</td><td>NA</td><td>NA</td><td>NA</td><td>NA</td><td>NA</td><td>NA</td><td>NA</td><td>NA</td></tr>\n",
       "\t<tr><th scope=row>2</th><td>153002</td><td>KD</td><td>8.800000</td><td>UCSD</td><td>0</td><td>1</td><td>0</td><td>0</td><td>0</td><td>0</td><td>⋯</td><td>0</td><td>1</td><td>NA</td><td>NA</td><td>NA</td><td>NA</td><td>NA</td><td>NA</td><td>NA</td><td>NA</td></tr>\n",
       "\t<tr><th scope=row>3</th><td>153027</td><td>KD</td><td>2.900000</td><td>UCSD</td><td>0</td><td>1</td><td>0</td><td>0</td><td>0</td><td>0</td><td>⋯</td><td>0</td><td>1</td><td>NA</td><td>NA</td><td>NA</td><td>NA</td><td>NA</td><td>NA</td><td>NA</td><td>NA</td></tr>\n",
       "\t<tr><th scope=row>4</th><td>153034</td><td>KD</td><td>2.000000</td><td>UCSD</td><td>0</td><td>1</td><td>0</td><td>0</td><td>0</td><td>0</td><td>⋯</td><td>0</td><td>1</td><td>NA</td><td>NA</td><td>NA</td><td>NA</td><td>NA</td><td>NA</td><td>NA</td><td>NA</td></tr>\n",
       "\t<tr><th scope=row>5</th><td>153036</td><td>KD</td><td>1.741309</td><td>UCSD</td><td>1</td><td>0</td><td>1</td><td>0</td><td>0</td><td>0</td><td>⋯</td><td>0</td><td>1</td><td>NA</td><td>NA</td><td>NA</td><td>NA</td><td>NA</td><td>NA</td><td>NA</td><td>NA</td></tr>\n",
       "\t<tr><th scope=row>6</th><td>153047</td><td>KD</td><td>2.428409</td><td>UCSD</td><td>1</td><td>0</td><td>1</td><td>0</td><td>0</td><td>0</td><td>⋯</td><td>0</td><td>1</td><td>NA</td><td>NA</td><td>NA</td><td>NA</td><td>NA</td><td>NA</td><td>NA</td><td>NA</td></tr>\n",
       "</tbody>\n",
       "</table>\n"
      ],
      "text/latex": [
       "A data.frame: 6 × 27\n",
       "\\begin{tabular}{r|lllllllllllllllllllll}\n",
       "  & PTID & inflam\\_cat & age & origin & eth\\_HispanicOrLatino & eth\\_NotHispanicOrLatino & race\\_HispanicOrLatino & race\\_AmericanIndianOrAlaskaNative & race\\_Asian & race\\_BlackOrAA & ⋯ & icu\\_yes & icu\\_no & oxygen\\_NasalCannula & oxygen\\_FaceMask & oxygen\\_HFNC & oxygen\\_BiPap & oxygen\\_Ventilator & oxygen\\_ECMO & oxygen\\_CPAP & oxygen\\_None\\\\\n",
       "  & <chr> & <fct> & <dbl> & <fct> & <dbl> & <dbl> & <dbl> & <dbl> & <dbl> & <dbl> & ⋯ & <dbl> & <dbl> & <dbl> & <dbl> & <dbl> & <dbl> & <dbl> & <dbl> & <dbl> & <dbl>\\\\\n",
       "\\hline\n",
       "\t1 & 153000 & KD & 4.744907 & UCSD & 0 & 1 & 0 & 0 & 0 & 0 & ⋯ & 0 & 1 & NA & NA & NA & NA & NA & NA & NA & NA\\\\\n",
       "\t2 & 153002 & KD & 8.800000 & UCSD & 0 & 1 & 0 & 0 & 0 & 0 & ⋯ & 0 & 1 & NA & NA & NA & NA & NA & NA & NA & NA\\\\\n",
       "\t3 & 153027 & KD & 2.900000 & UCSD & 0 & 1 & 0 & 0 & 0 & 0 & ⋯ & 0 & 1 & NA & NA & NA & NA & NA & NA & NA & NA\\\\\n",
       "\t4 & 153034 & KD & 2.000000 & UCSD & 0 & 1 & 0 & 0 & 0 & 0 & ⋯ & 0 & 1 & NA & NA & NA & NA & NA & NA & NA & NA\\\\\n",
       "\t5 & 153036 & KD & 1.741309 & UCSD & 1 & 0 & 1 & 0 & 0 & 0 & ⋯ & 0 & 1 & NA & NA & NA & NA & NA & NA & NA & NA\\\\\n",
       "\t6 & 153047 & KD & 2.428409 & UCSD & 1 & 0 & 1 & 0 & 0 & 0 & ⋯ & 0 & 1 & NA & NA & NA & NA & NA & NA & NA & NA\\\\\n",
       "\\end{tabular}\n"
      ],
      "text/markdown": [
       "\n",
       "A data.frame: 6 × 27\n",
       "\n",
       "| <!--/--> | PTID &lt;chr&gt; | inflam_cat &lt;fct&gt; | age &lt;dbl&gt; | origin &lt;fct&gt; | eth_HispanicOrLatino &lt;dbl&gt; | eth_NotHispanicOrLatino &lt;dbl&gt; | race_HispanicOrLatino &lt;dbl&gt; | race_AmericanIndianOrAlaskaNative &lt;dbl&gt; | race_Asian &lt;dbl&gt; | race_BlackOrAA &lt;dbl&gt; | ⋯ ⋯ | icu_yes &lt;dbl&gt; | icu_no &lt;dbl&gt; | oxygen_NasalCannula &lt;dbl&gt; | oxygen_FaceMask &lt;dbl&gt; | oxygen_HFNC &lt;dbl&gt; | oxygen_BiPap &lt;dbl&gt; | oxygen_Ventilator &lt;dbl&gt; | oxygen_ECMO &lt;dbl&gt; | oxygen_CPAP &lt;dbl&gt; | oxygen_None &lt;dbl&gt; |\n",
       "|---|---|---|---|---|---|---|---|---|---|---|---|---|---|---|---|---|---|---|---|---|---|\n",
       "| 1 | 153000 | KD | 4.744907 | UCSD | 0 | 1 | 0 | 0 | 0 | 0 | ⋯ | 0 | 1 | NA | NA | NA | NA | NA | NA | NA | NA |\n",
       "| 2 | 153002 | KD | 8.800000 | UCSD | 0 | 1 | 0 | 0 | 0 | 0 | ⋯ | 0 | 1 | NA | NA | NA | NA | NA | NA | NA | NA |\n",
       "| 3 | 153027 | KD | 2.900000 | UCSD | 0 | 1 | 0 | 0 | 0 | 0 | ⋯ | 0 | 1 | NA | NA | NA | NA | NA | NA | NA | NA |\n",
       "| 4 | 153034 | KD | 2.000000 | UCSD | 0 | 1 | 0 | 0 | 0 | 0 | ⋯ | 0 | 1 | NA | NA | NA | NA | NA | NA | NA | NA |\n",
       "| 5 | 153036 | KD | 1.741309 | UCSD | 1 | 0 | 1 | 0 | 0 | 0 | ⋯ | 0 | 1 | NA | NA | NA | NA | NA | NA | NA | NA |\n",
       "| 6 | 153047 | KD | 2.428409 | UCSD | 1 | 0 | 1 | 0 | 0 | 0 | ⋯ | 0 | 1 | NA | NA | NA | NA | NA | NA | NA | NA |\n",
       "\n"
      ],
      "text/plain": [
       "  PTID   inflam_cat age      origin eth_HispanicOrLatino\n",
       "1 153000 KD         4.744907 UCSD   0                   \n",
       "2 153002 KD         8.800000 UCSD   0                   \n",
       "3 153027 KD         2.900000 UCSD   0                   \n",
       "4 153034 KD         2.000000 UCSD   0                   \n",
       "5 153036 KD         1.741309 UCSD   1                   \n",
       "6 153047 KD         2.428409 UCSD   1                   \n",
       "  eth_NotHispanicOrLatino race_HispanicOrLatino\n",
       "1 1                       0                    \n",
       "2 1                       0                    \n",
       "3 1                       0                    \n",
       "4 1                       0                    \n",
       "5 0                       1                    \n",
       "6 0                       1                    \n",
       "  race_AmericanIndianOrAlaskaNative race_Asian race_BlackOrAA ⋯ icu_yes icu_no\n",
       "1 0                                 0          0              ⋯ 0       1     \n",
       "2 0                                 0          0              ⋯ 0       1     \n",
       "3 0                                 0          0              ⋯ 0       1     \n",
       "4 0                                 0          0              ⋯ 0       1     \n",
       "5 0                                 0          0              ⋯ 0       1     \n",
       "6 0                                 0          0              ⋯ 0       1     \n",
       "  oxygen_NasalCannula oxygen_FaceMask oxygen_HFNC oxygen_BiPap\n",
       "1 NA                  NA              NA          NA          \n",
       "2 NA                  NA              NA          NA          \n",
       "3 NA                  NA              NA          NA          \n",
       "4 NA                  NA              NA          NA          \n",
       "5 NA                  NA              NA          NA          \n",
       "6 NA                  NA              NA          NA          \n",
       "  oxygen_Ventilator oxygen_ECMO oxygen_CPAP oxygen_None\n",
       "1 NA                NA          NA          NA         \n",
       "2 NA                NA          NA          NA         \n",
       "3 NA                NA          NA          NA         \n",
       "4 NA                NA          NA          NA         \n",
       "5 NA                NA          NA          NA         \n",
       "6 NA                NA          NA          NA         "
      ]
     },
     "metadata": {},
     "output_type": "display_data"
    }
   ],
   "source": [
    "COL_order = c(\"origin\",'race_HispanicOrLatino','race_AmericanIndianOrAlaskaNative','race_Asian','race_BlackOrAA','race_NativeHawaiianOrOtherPacificIslander','race_White','race_Other','race_MoreThanOne','sex_male','sex_female','icu_yes','icu_no','oxygen_NasalCannula','oxygen_FaceMask','oxygen_HFNC','oxygen_BiPap','oxygen_Ventilator','oxygen_ECMO','oxygen_CPAP','oxygen_None')\n",
    "all_table_data <- all_table_data %>% mutate(inflam_cat = factor(inflam_cat, levels = names(INFLAMCAT_FILL_KEY))) %>% \n",
    "    mutate(origin = factor(origin, levels = c(\"UCSD\",\"EMORY\",\"CNH\",\"UCSF\")))\n",
    "\n",
    "for(col in COL_order){\n",
    "    print(\"====================================\")\n",
    "    print(col)\n",
    "    table(all_table_data[[col]], all_table_data$inflam_cat) %>% print()\n",
    "}\n",
    "\n",
    "# 'crp',\n",
    "all_table_data %>% head()"
   ]
  },
  {
   "cell_type": "markdown",
   "metadata": {},
   "source": [
    "---\n",
    "## Supp Fig 1"
   ]
  },
  {
   "cell_type": "code",
   "execution_count": 3,
   "metadata": {
    "vscode": {
     "languageId": "r"
    }
   },
   "outputs": [
    {
     "data": {
      "text/html": [
       "<table class=\"dataframe\">\n",
       "<caption>A data.frame: 1 × 9</caption>\n",
       "<thead>\n",
       "\t<tr><th></th><th scope=col>PTID</th><th scope=col>sample_id</th><th scope=col>diagnosis</th><th scope=col>origin</th><th scope=col>severity</th><th scope=col>date_dif</th><th scope=col>age</th><th scope=col>inflam_cat</th><th scope=col>Xsample_id</th></tr>\n",
       "\t<tr><th></th><th scope=col>&lt;chr&gt;</th><th scope=col>&lt;chr&gt;</th><th scope=col>&lt;chr&gt;</th><th scope=col>&lt;chr&gt;</th><th scope=col>&lt;chr&gt;</th><th scope=col>&lt;int&gt;</th><th scope=col>&lt;dbl&gt;</th><th scope=col>&lt;chr&gt;</th><th scope=col>&lt;chr&gt;</th></tr>\n",
       "</thead>\n",
       "<tbody>\n",
       "\t<tr><th scope=row>1</th><td>4561</td><td>cfrna_kd_238.trimmed</td><td>viral_infection</td><td>UCSD</td><td>adenovirus</td><td>0</td><td>5.659254</td><td>viral_infection</td><td>cfrna_kd_238.trimmed</td></tr>\n",
       "</tbody>\n",
       "</table>\n"
      ],
      "text/latex": [
       "A data.frame: 1 × 9\n",
       "\\begin{tabular}{r|lllllllll}\n",
       "  & PTID & sample\\_id & diagnosis & origin & severity & date\\_dif & age & inflam\\_cat & Xsample\\_id\\\\\n",
       "  & <chr> & <chr> & <chr> & <chr> & <chr> & <int> & <dbl> & <chr> & <chr>\\\\\n",
       "\\hline\n",
       "\t1 & 4561 & cfrna\\_kd\\_238.trimmed & viral\\_infection & UCSD & adenovirus & 0 & 5.659254 & viral\\_infection & cfrna\\_kd\\_238.trimmed\\\\\n",
       "\\end{tabular}\n"
      ],
      "text/markdown": [
       "\n",
       "A data.frame: 1 × 9\n",
       "\n",
       "| <!--/--> | PTID &lt;chr&gt; | sample_id &lt;chr&gt; | diagnosis &lt;chr&gt; | origin &lt;chr&gt; | severity &lt;chr&gt; | date_dif &lt;int&gt; | age &lt;dbl&gt; | inflam_cat &lt;chr&gt; | Xsample_id &lt;chr&gt; |\n",
       "|---|---|---|---|---|---|---|---|---|---|\n",
       "| 1 | 4561 | cfrna_kd_238.trimmed | viral_infection | UCSD | adenovirus | 0 | 5.659254 | viral_infection | cfrna_kd_238.trimmed |\n",
       "\n"
      ],
      "text/plain": [
       "  PTID sample_id            diagnosis       origin severity   date_dif age     \n",
       "1 4561 cfrna_kd_238.trimmed viral_infection UCSD   adenovirus 0        5.659254\n",
       "  inflam_cat      Xsample_id          \n",
       "1 viral_infection cfrna_kd_238.trimmed"
      ]
     },
     "metadata": {},
     "output_type": "display_data"
    },
    {
     "ename": "ERROR",
     "evalue": "Error in h(simpleError(msg, call)): error in evaluating the argument 'x' in selecting a method for function 'head': object 'all_map_stats' not found\n",
     "output_type": "error",
     "traceback": [
      "Error in h(simpleError(msg, call)): error in evaluating the argument 'x' in selecting a method for function 'head': object 'all_map_stats' not found\nTraceback:\n",
      "1. all_map_stats %>% filter(grepl(\"238\", sample_id)) %>% head()",
      "2. head(.)",
      "3. filter(., grepl(\"238\", sample_id))",
      "4. .handleSimpleError(function (cond) \n . .Internal(C_tryCatchHelper(addr, 1L, cond)), \"object 'all_map_stats' not found\", \n .     base::quote(filter(., grepl(\"238\", sample_id))))",
      "5. h(simpleError(msg, call))"
     ]
    }
   ],
   "source": [
    "meta %>% filter(grepl(\"238\",sample_id)) %>% head()\n",
    "all_map_stats %>% filter(grepl(\"238\",sample_id)) %>% head()"
   ]
  },
  {
   "cell_type": "code",
   "execution_count": 31,
   "metadata": {
    "vscode": {
     "languageId": "r"
    }
   },
   "outputs": [
    {
     "data": {
      "text/html": [
       "<style>\n",
       ".list-inline {list-style: none; margin:0; padding: 0}\n",
       ".list-inline>li {display: inline-block}\n",
       ".list-inline>li:not(:last-child)::after {content: \"\\00b7\"; padding: 0 .5ex}\n",
       "</style>\n",
       "<ol class=list-inline><li>'PTID'</li><li>'sample_id'</li><li>'diagnosis'</li><li>'origin'</li><li>'severity'</li><li>'date_dif'</li><li>'age'</li><li>'inflam_cat'</li><li>'Xsample_id'</li></ol>\n"
      ],
      "text/latex": [
       "\\begin{enumerate*}\n",
       "\\item 'PTID'\n",
       "\\item 'sample\\_id'\n",
       "\\item 'diagnosis'\n",
       "\\item 'origin'\n",
       "\\item 'severity'\n",
       "\\item 'date\\_dif'\n",
       "\\item 'age'\n",
       "\\item 'inflam\\_cat'\n",
       "\\item 'Xsample\\_id'\n",
       "\\end{enumerate*}\n"
      ],
      "text/markdown": [
       "1. 'PTID'\n",
       "2. 'sample_id'\n",
       "3. 'diagnosis'\n",
       "4. 'origin'\n",
       "5. 'severity'\n",
       "6. 'date_dif'\n",
       "7. 'age'\n",
       "8. 'inflam_cat'\n",
       "9. 'Xsample_id'\n",
       "\n",
       "\n"
      ],
      "text/plain": [
       "[1] \"PTID\"       \"sample_id\"  \"diagnosis\"  \"origin\"     \"severity\"  \n",
       "[6] \"date_dif\"   \"age\"        \"inflam_cat\" \"Xsample_id\""
      ]
     },
     "metadata": {},
     "output_type": "display_data"
    }
   ],
   "source": [
    "meta %>% colnames()\n",
    "# meta %>% select(PTID, Xsample_id, inflam_cat) %>% mutate(Xsample_id = gsub(\"_trimm\",\".trimm\",Xsample_id)) %>% filter(grepl(\"176\",Xsample_id))\n",
    "# all_map_stats %>% filter(grepl(\"176\",sample_id))"
   ]
  },
  {
   "cell_type": "code",
   "execution_count": 42,
   "metadata": {
    "vscode": {
     "languageId": "r"
    }
   },
   "outputs": [],
   "source": [
    "map_stats1 = read.delim(\"/workdir/cfrna/alignment/takara_human_V2/output/prevail/prevail_mapping_stats.tsv\")\n",
    "map_stats2 = read.delim(\"/workdir/cjl332/radysChildrens_ucsd/0_ALIGN/takara_human_V2/output/KD/KD_mapping_stats.tsv\")\n",
    "map_stats3 = read.delim(\"/workdir/cjl332/prevail/PAPER2/ALIGN/takara_human_V2/output/ped_inflam_20240103_TRIMMED/ped_inflam_20240103_TRIMMED_mapping_stats.tsv\")\n",
    "\n",
    "all_map_stats <- do.call(rbind, list(map_stats1,map_stats2,map_stats3)) %>% unique()\n",
    "\n",
    "\n",
    "mdf_all <- merge(meta %>% select(PTID,origin, Xsample_id, inflam_cat) %>% mutate(Xsample_id = gsub(\"-trimm\",\".trimm\",Xsample_id)), \n",
    "                        all_map_stats %>% mutate(sample_id = gsub(\"-trimm\",\".trimm\",sample_id)),\n",
    "                        by.x = \"Xsample_id\", by.y = \"sample_id\", all.x = TRUE) %>% \n",
    "            mutate(GRP = \" \")"
   ]
  },
  {
   "cell_type": "code",
   "execution_count": 103,
   "metadata": {
    "vscode": {
     "languageId": "r"
    }
   },
   "outputs": [
    {
     "data": {
      "text/html": [
       "<strong>png:</strong> 2"
      ],
      "text/latex": [
       "\\textbf{png:} 2"
      ],
      "text/markdown": [
       "**png:** 2"
      ],
      "text/plain": [
       "png \n",
       "  2 "
      ]
     },
     "metadata": {},
     "output_type": "display_data"
    },
    {
     "data": {
      "text/html": [
       "<strong>png:</strong> 2"
      ],
      "text/latex": [
       "\\textbf{png:} 2"
      ],
      "text/markdown": [
       "**png:** 2"
      ],
      "text/plain": [
       "png \n",
       "  2 "
      ]
     },
     "metadata": {},
     "output_type": "display_data"
    },
    {
     "data": {
      "text/html": [
       "<strong>png:</strong> 2"
      ],
      "text/latex": [
       "\\textbf{png:} 2"
      ],
      "text/markdown": [
       "**png:** 2"
      ],
      "text/plain": [
       "png \n",
       "  2 "
      ]
     },
     "metadata": {},
     "output_type": "display_data"
    },
    {
     "data": {
      "text/html": [
       "<strong>png:</strong> 2"
      ],
      "text/latex": [
       "\\textbf{png:} 2"
      ],
      "text/markdown": [
       "**png:** 2"
      ],
      "text/plain": [
       "png \n",
       "  2 "
      ]
     },
     "metadata": {},
     "output_type": "display_data"
    }
   ],
   "source": [
    "####################\n",
    "### MAKE QC PLOTS\n",
    "####################\n",
    "\n",
    "WIDTH= 2\n",
    "HEIGHT= 1.3\n",
    "\n",
    "XVAR = \"GRP\"\n",
    "XVAR = \"origin\"\n",
    "\n",
    "###------------------------------------------------\n",
    "\n",
    "VAR = \"reads_all\"\n",
    "\n",
    "var_box <- mdf_all %>% \n",
    "    mutate(origin = factor(origin, levels = c(\"UCSD\",\"EMORY\",\"CNH\",\"UCSF\"))) %>% \n",
    "    ggplot(aes(x=.data[[XVAR]], y=.data[[VAR]]))+\n",
    "    geom_boxplot(outlier.shape = NA, color = \"black\", alpha = 0.75)+\n",
    "    geom_jitter(width = 0.2, height = 0, color = \"black\", size = .75, alpha = 0.5, stroke=NA)+\n",
    "    theme_cfrna_print()+\n",
    "    labs(y = gsub(\"_\",\" \",VAR))+\n",
    "    theme(axis.title.x = element_blank())\n",
    "\n",
    "pdf(file=paste0(\"figure_plots/SUPP_\",VAR,\".box.pdf\"),\n",
    "        width=WIDTH,height=HEIGHT, paper=\"special\", bg=\"transparent\",\n",
    "        fonts=\"Helvetica\", colormodel = \"srgb\", pointsize=6, useDingbats = FALSE)\n",
    "var_box\n",
    "dev.off()\n",
    "\n",
    "###------------------------------------------------\n",
    "\n",
    "VAR = \"intron_exon_ratio\"\n",
    "\n",
    "var_box <- mdf_all %>% \n",
    "    mutate(origin = factor(origin, levels = c(\"UCSD\",\"EMORY\",\"CNH\",\"UCSF\"))) %>% \n",
    "    ggplot(aes(x=.data[[XVAR]], y=.data[[VAR]]))+\n",
    "    geom_boxplot(outlier.shape = NA, color = \"black\", alpha = 0.75)+\n",
    "    geom_jitter(width = 0.2, height = 0, color = \"black\", size = .75, alpha = 0.5, stroke=NA)+\n",
    "    theme_cfrna_print()+\n",
    "    labs(y = gsub(\"_\",\" \",VAR))+\n",
    "    theme(axis.title.x = element_blank())\n",
    "\n",
    "pdf(file=paste0(\"figure_plots/SUPP_\",VAR,\".box.pdf\"),\n",
    "        width=WIDTH,height=HEIGHT, paper=\"special\", bg=\"transparent\",\n",
    "        fonts=\"Helvetica\", colormodel = \"srgb\", pointsize=6, useDingbats = FALSE)\n",
    "var_box\n",
    "dev.off()\n",
    "\n",
    "###------------------------------------------------\n",
    "\n",
    "VAR = \"ftcount\"\n",
    "\n",
    "var_box <- mdf_all %>% \n",
    "    mutate(origin = factor(origin, levels = c(\"UCSD\",\"EMORY\",\"CNH\",\"UCSF\"))) %>% \n",
    "    ggplot(aes(x=.data[[XVAR]], y=.data[[VAR]]))+\n",
    "    geom_boxplot(outlier.shape = NA, color = \"black\", alpha = 0.75)+\n",
    "    geom_jitter(width = 0.2, height = 0, color = \"black\", size = .75, alpha = 0.5, stroke=NA)+\n",
    "    theme_cfrna_print()+\n",
    "    labs(y = gsub(\"_\",\" \",VAR))+\n",
    "    theme(axis.title.x = element_blank())\n",
    "\n",
    "pdf(file=paste0(\"figure_plots/SUPP_\",VAR,\".box.pdf\"),\n",
    "        width=WIDTH,height=HEIGHT, paper=\"special\", bg=\"transparent\",\n",
    "        fonts=\"Helvetica\", colormodel = \"srgb\", pointsize=6, useDingbats = FALSE)\n",
    "var_box\n",
    "dev.off()\n",
    "\n",
    "###------------------------------------------------\n",
    "\n",
    "# WIDTH= 1.8\n",
    "# HEIGHT= 1.3\n",
    "\n",
    "VAR = \"bias53\"\n",
    "\n",
    "var_box <- mdf_all %>% \n",
    "    mutate(origin = factor(origin, levels = c(\"UCSD\",\"EMORY\",\"CNH\",\"UCSF\"))) %>% \n",
    "    ggplot(aes(x=.data[[XVAR]], y=.data[[VAR]]))+\n",
    "    geom_boxplot(outlier.shape = NA, color = \"black\", alpha = 0.75)+\n",
    "    geom_jitter(width = 0.2, height = 0, color = \"black\", size = .75, alpha = 0.5, stroke=NA)+\n",
    "    theme_cfrna_print()+\n",
    "    labs(y = gsub(\"_\",\" \",VAR))+\n",
    "    theme(axis.title.x = element_blank())\n",
    "\n",
    "pdf(file=paste0(\"figure_plots/SUPP_\",VAR,\".box.pdf\"),\n",
    "        width=WIDTH,height=HEIGHT, paper=\"special\", bg=\"transparent\",\n",
    "        fonts=\"Helvetica\", colormodel = \"srgb\", pointsize=6, useDingbats = FALSE)\n",
    "var_box\n",
    "dev.off()\n"
   ]
  },
  {
   "cell_type": "code",
   "execution_count": 12,
   "metadata": {
    "vscode": {
     "languageId": "r"
    }
   },
   "outputs": [
    {
     "data": {
      "text/html": [
       "<table class=\"dataframe\">\n",
       "<caption>A data.frame: 6 × 353</caption>\n",
       "<thead>\n",
       "\t<tr><th></th><th scope=col>Xsample_id</th><th scope=col>PTID</th><th scope=col>sample_id</th><th scope=col>diagnosis</th><th scope=col>origin</th><th scope=col>severity</th><th scope=col>date_dif</th><th scope=col>age</th><th scope=col>inflam_cat</th><th scope=col>PC1</th><th scope=col>⋯</th><th scope=col>PC335</th><th scope=col>PC336</th><th scope=col>PC337</th><th scope=col>PC338</th><th scope=col>PC339</th><th scope=col>PC340</th><th scope=col>PC341</th><th scope=col>PC342</th><th scope=col>PC343</th><th scope=col>PC344</th></tr>\n",
       "\t<tr><th></th><th scope=col>&lt;chr&gt;</th><th scope=col>&lt;chr&gt;</th><th scope=col>&lt;chr&gt;</th><th scope=col>&lt;chr&gt;</th><th scope=col>&lt;chr&gt;</th><th scope=col>&lt;chr&gt;</th><th scope=col>&lt;int&gt;</th><th scope=col>&lt;dbl&gt;</th><th scope=col>&lt;chr&gt;</th><th scope=col>&lt;dbl&gt;</th><th scope=col>⋯</th><th scope=col>&lt;dbl&gt;</th><th scope=col>&lt;dbl&gt;</th><th scope=col>&lt;dbl&gt;</th><th scope=col>&lt;dbl&gt;</th><th scope=col>&lt;dbl&gt;</th><th scope=col>&lt;dbl&gt;</th><th scope=col>&lt;dbl&gt;</th><th scope=col>&lt;dbl&gt;</th><th scope=col>&lt;dbl&gt;</th><th scope=col>&lt;dbl&gt;</th></tr>\n",
       "</thead>\n",
       "<tbody>\n",
       "\t<tr><th scope=row>1</th><td>cfrna_kd_1  </td><td>4551  </td><td>cfrna_kd_1  </td><td>FC</td><td>UCSD</td><td>ALT normal</td><td>0</td><td>4.6682455</td><td>viral_infection</td><td> 7.898717</td><td>⋯</td><td>-0.045155370</td><td>-0.145424498</td><td> 0.085980678</td><td> 0.0135520946</td><td> 0.006897340</td><td>-0.04693548</td><td>-0.02571148</td><td>-0.09163499</td><td>-0.03008548</td><td>-2.109424e-15</td></tr>\n",
       "\t<tr><th scope=row>2</th><td>cfrna_kd_10 </td><td>184023</td><td>cfrna_kd_10 </td><td>FC</td><td>UCSD</td><td>ALT normal</td><td>0</td><td>5.4072523</td><td>viral_infection</td><td>10.412708</td><td>⋯</td><td> 0.042771406</td><td> 0.197315371</td><td> 0.025108174</td><td>-0.0407237087</td><td> 0.107996697</td><td>-0.14602469</td><td> 0.02892713</td><td>-0.01217700</td><td>-0.06583591</td><td>-3.469447e-15</td></tr>\n",
       "\t<tr><th scope=row>3</th><td>cfrna_kd_100</td><td>4470  </td><td>cfrna_kd_100</td><td>FC</td><td>UCSD</td><td>ALT high  </td><td>0</td><td>5.8784004</td><td>viral_infection</td><td> 8.555557</td><td>⋯</td><td> 0.097000303</td><td> 0.001868556</td><td>-0.025274586</td><td>-0.0009710211</td><td> 0.016480858</td><td>-0.08770269</td><td> 0.01051495</td><td>-0.05098198</td><td>-0.02129128</td><td>-1.970646e-15</td></tr>\n",
       "\t<tr><th scope=row>4</th><td>cfrna_kd_101</td><td>4567  </td><td>cfrna_kd_101</td><td>FC</td><td>UCSD</td><td>ALT high  </td><td>0</td><td>6.5600252</td><td>viral_infection</td><td>24.760316</td><td>⋯</td><td>-0.003697227</td><td>-0.112374391</td><td> 0.004431854</td><td> 0.0731317556</td><td> 0.110602755</td><td>-0.08123829</td><td>-0.09420487</td><td>-0.01733782</td><td>-0.02027187</td><td>-9.436896e-16</td></tr>\n",
       "\t<tr><th scope=row>5</th><td>cfrna_kd_102</td><td>4523  </td><td>cfrna_kd_102</td><td>FC</td><td>UCSD</td><td>ALT high  </td><td>0</td><td>0.9035093</td><td>viral_infection</td><td>24.714397</td><td>⋯</td><td> 0.039469305</td><td>-0.164156130</td><td>-0.020667384</td><td>-0.0344189025</td><td> 0.000660851</td><td> 0.01407741</td><td> 0.07495208</td><td> 0.04178697</td><td> 0.02550578</td><td>-4.871104e-15</td></tr>\n",
       "\t<tr><th scope=row>6</th><td>cfrna_kd_105</td><td>204112</td><td>cfrna_kd_105</td><td>FC</td><td>UCSD</td><td>ALT high  </td><td>0</td><td>2.1575848</td><td>viral_infection</td><td>24.740716</td><td>⋯</td><td>-0.037303531</td><td>-0.118633082</td><td>-0.033003619</td><td>-0.0976447909</td><td>-0.009080030</td><td> 0.06419100</td><td> 0.06701165</td><td> 0.04210526</td><td>-0.07596689</td><td>-3.108624e-15</td></tr>\n",
       "</tbody>\n",
       "</table>\n"
      ],
      "text/latex": [
       "A data.frame: 6 × 353\n",
       "\\begin{tabular}{r|lllllllllllllllllllll}\n",
       "  & Xsample\\_id & PTID & sample\\_id & diagnosis & origin & severity & date\\_dif & age & inflam\\_cat & PC1 & ⋯ & PC335 & PC336 & PC337 & PC338 & PC339 & PC340 & PC341 & PC342 & PC343 & PC344\\\\\n",
       "  & <chr> & <chr> & <chr> & <chr> & <chr> & <chr> & <int> & <dbl> & <chr> & <dbl> & ⋯ & <dbl> & <dbl> & <dbl> & <dbl> & <dbl> & <dbl> & <dbl> & <dbl> & <dbl> & <dbl>\\\\\n",
       "\\hline\n",
       "\t1 & cfrna\\_kd\\_1   & 4551   & cfrna\\_kd\\_1   & FC & UCSD & ALT normal & 0 & 4.6682455 & viral\\_infection &  7.898717 & ⋯ & -0.045155370 & -0.145424498 &  0.085980678 &  0.0135520946 &  0.006897340 & -0.04693548 & -0.02571148 & -0.09163499 & -0.03008548 & -2.109424e-15\\\\\n",
       "\t2 & cfrna\\_kd\\_10  & 184023 & cfrna\\_kd\\_10  & FC & UCSD & ALT normal & 0 & 5.4072523 & viral\\_infection & 10.412708 & ⋯ &  0.042771406 &  0.197315371 &  0.025108174 & -0.0407237087 &  0.107996697 & -0.14602469 &  0.02892713 & -0.01217700 & -0.06583591 & -3.469447e-15\\\\\n",
       "\t3 & cfrna\\_kd\\_100 & 4470   & cfrna\\_kd\\_100 & FC & UCSD & ALT high   & 0 & 5.8784004 & viral\\_infection &  8.555557 & ⋯ &  0.097000303 &  0.001868556 & -0.025274586 & -0.0009710211 &  0.016480858 & -0.08770269 &  0.01051495 & -0.05098198 & -0.02129128 & -1.970646e-15\\\\\n",
       "\t4 & cfrna\\_kd\\_101 & 4567   & cfrna\\_kd\\_101 & FC & UCSD & ALT high   & 0 & 6.5600252 & viral\\_infection & 24.760316 & ⋯ & -0.003697227 & -0.112374391 &  0.004431854 &  0.0731317556 &  0.110602755 & -0.08123829 & -0.09420487 & -0.01733782 & -0.02027187 & -9.436896e-16\\\\\n",
       "\t5 & cfrna\\_kd\\_102 & 4523   & cfrna\\_kd\\_102 & FC & UCSD & ALT high   & 0 & 0.9035093 & viral\\_infection & 24.714397 & ⋯ &  0.039469305 & -0.164156130 & -0.020667384 & -0.0344189025 &  0.000660851 &  0.01407741 &  0.07495208 &  0.04178697 &  0.02550578 & -4.871104e-15\\\\\n",
       "\t6 & cfrna\\_kd\\_105 & 204112 & cfrna\\_kd\\_105 & FC & UCSD & ALT high   & 0 & 2.1575848 & viral\\_infection & 24.740716 & ⋯ & -0.037303531 & -0.118633082 & -0.033003619 & -0.0976447909 & -0.009080030 &  0.06419100 &  0.06701165 &  0.04210526 & -0.07596689 & -3.108624e-15\\\\\n",
       "\\end{tabular}\n"
      ],
      "text/markdown": [
       "\n",
       "A data.frame: 6 × 353\n",
       "\n",
       "| <!--/--> | Xsample_id &lt;chr&gt; | PTID &lt;chr&gt; | sample_id &lt;chr&gt; | diagnosis &lt;chr&gt; | origin &lt;chr&gt; | severity &lt;chr&gt; | date_dif &lt;int&gt; | age &lt;dbl&gt; | inflam_cat &lt;chr&gt; | PC1 &lt;dbl&gt; | ⋯ ⋯ | PC335 &lt;dbl&gt; | PC336 &lt;dbl&gt; | PC337 &lt;dbl&gt; | PC338 &lt;dbl&gt; | PC339 &lt;dbl&gt; | PC340 &lt;dbl&gt; | PC341 &lt;dbl&gt; | PC342 &lt;dbl&gt; | PC343 &lt;dbl&gt; | PC344 &lt;dbl&gt; |\n",
       "|---|---|---|---|---|---|---|---|---|---|---|---|---|---|---|---|---|---|---|---|---|---|\n",
       "| 1 | cfrna_kd_1   | 4551   | cfrna_kd_1   | FC | UCSD | ALT normal | 0 | 4.6682455 | viral_infection |  7.898717 | ⋯ | -0.045155370 | -0.145424498 |  0.085980678 |  0.0135520946 |  0.006897340 | -0.04693548 | -0.02571148 | -0.09163499 | -0.03008548 | -2.109424e-15 |\n",
       "| 2 | cfrna_kd_10  | 184023 | cfrna_kd_10  | FC | UCSD | ALT normal | 0 | 5.4072523 | viral_infection | 10.412708 | ⋯ |  0.042771406 |  0.197315371 |  0.025108174 | -0.0407237087 |  0.107996697 | -0.14602469 |  0.02892713 | -0.01217700 | -0.06583591 | -3.469447e-15 |\n",
       "| 3 | cfrna_kd_100 | 4470   | cfrna_kd_100 | FC | UCSD | ALT high   | 0 | 5.8784004 | viral_infection |  8.555557 | ⋯ |  0.097000303 |  0.001868556 | -0.025274586 | -0.0009710211 |  0.016480858 | -0.08770269 |  0.01051495 | -0.05098198 | -0.02129128 | -1.970646e-15 |\n",
       "| 4 | cfrna_kd_101 | 4567   | cfrna_kd_101 | FC | UCSD | ALT high   | 0 | 6.5600252 | viral_infection | 24.760316 | ⋯ | -0.003697227 | -0.112374391 |  0.004431854 |  0.0731317556 |  0.110602755 | -0.08123829 | -0.09420487 | -0.01733782 | -0.02027187 | -9.436896e-16 |\n",
       "| 5 | cfrna_kd_102 | 4523   | cfrna_kd_102 | FC | UCSD | ALT high   | 0 | 0.9035093 | viral_infection | 24.714397 | ⋯ |  0.039469305 | -0.164156130 | -0.020667384 | -0.0344189025 |  0.000660851 |  0.01407741 |  0.07495208 |  0.04178697 |  0.02550578 | -4.871104e-15 |\n",
       "| 6 | cfrna_kd_105 | 204112 | cfrna_kd_105 | FC | UCSD | ALT high   | 0 | 2.1575848 | viral_infection | 24.740716 | ⋯ | -0.037303531 | -0.118633082 | -0.033003619 | -0.0976447909 | -0.009080030 |  0.06419100 |  0.06701165 |  0.04210526 | -0.07596689 | -3.108624e-15 |\n",
       "\n"
      ],
      "text/plain": [
       "  Xsample_id   PTID   sample_id    diagnosis origin severity   date_dif\n",
       "1 cfrna_kd_1   4551   cfrna_kd_1   FC        UCSD   ALT normal 0       \n",
       "2 cfrna_kd_10  184023 cfrna_kd_10  FC        UCSD   ALT normal 0       \n",
       "3 cfrna_kd_100 4470   cfrna_kd_100 FC        UCSD   ALT high   0       \n",
       "4 cfrna_kd_101 4567   cfrna_kd_101 FC        UCSD   ALT high   0       \n",
       "5 cfrna_kd_102 4523   cfrna_kd_102 FC        UCSD   ALT high   0       \n",
       "6 cfrna_kd_105 204112 cfrna_kd_105 FC        UCSD   ALT high   0       \n",
       "  age       inflam_cat      PC1       ⋯ PC335        PC336        PC337       \n",
       "1 4.6682455 viral_infection  7.898717 ⋯ -0.045155370 -0.145424498  0.085980678\n",
       "2 5.4072523 viral_infection 10.412708 ⋯  0.042771406  0.197315371  0.025108174\n",
       "3 5.8784004 viral_infection  8.555557 ⋯  0.097000303  0.001868556 -0.025274586\n",
       "4 6.5600252 viral_infection 24.760316 ⋯ -0.003697227 -0.112374391  0.004431854\n",
       "5 0.9035093 viral_infection 24.714397 ⋯  0.039469305 -0.164156130 -0.020667384\n",
       "6 2.1575848 viral_infection 24.740716 ⋯ -0.037303531 -0.118633082 -0.033003619\n",
       "  PC338         PC339        PC340       PC341       PC342       PC343      \n",
       "1  0.0135520946  0.006897340 -0.04693548 -0.02571148 -0.09163499 -0.03008548\n",
       "2 -0.0407237087  0.107996697 -0.14602469  0.02892713 -0.01217700 -0.06583591\n",
       "3 -0.0009710211  0.016480858 -0.08770269  0.01051495 -0.05098198 -0.02129128\n",
       "4  0.0731317556  0.110602755 -0.08123829 -0.09420487 -0.01733782 -0.02027187\n",
       "5 -0.0344189025  0.000660851  0.01407741  0.07495208  0.04178697  0.02550578\n",
       "6 -0.0976447909 -0.009080030  0.06419100  0.06701165  0.04210526 -0.07596689\n",
       "  PC344        \n",
       "1 -2.109424e-15\n",
       "2 -3.469447e-15\n",
       "3 -1.970646e-15\n",
       "4 -9.436896e-16\n",
       "5 -4.871104e-15\n",
       "6 -3.108624e-15"
      ]
     },
     "metadata": {},
     "output_type": "display_data"
    },
    {
     "name": "stderr",
     "output_type": "stream",
     "text": [
      "Warning message:\n",
      "“\u001b[1m\u001b[22mRemoved 26 rows containing missing values (`geom_point()`).”\n"
     ]
    },
    {
     "data": {
      "text/html": [
       "<strong>png:</strong> 2"
      ],
      "text/latex": [
       "\\textbf{png:} 2"
      ],
      "text/markdown": [
       "**png:** 2"
      ],
      "text/plain": [
       "png \n",
       "  2 "
      ]
     },
     "metadata": {},
     "output_type": "display_data"
    }
   ],
   "source": [
    "####################\n",
    "### BATCH EFFECTS\n",
    "####################\n",
    "\n",
    "suppressMessages(library(DESeq2))\n",
    "library(matrixStats)\n",
    "\n",
    "VAR = \"BATCH\"\n",
    "\n",
    "WIDTH= 3\n",
    "HEIGHT= 3\n",
    "\n",
    "\n",
    "\n",
    "counts <- read.csv(\"./counts_all.csv\", row.names = 1)\n",
    "# counts %>% head()\n",
    "\n",
    "## run VST on data\n",
    "counts_train_vst <- read.csv(\"./counts_train_vst.7030.csv\", row.names=1)\n",
    "counts_test_vst <- read.csv(\"./counts_test_vst.7030.csv\", row.names=1)\n",
    "counts_vst <- merge(counts_train_vst,counts_test_vst, by=0) %>% column_to_rownames(var = \"Row.names\") \n",
    "\n",
    "###--------------------------\n",
    "### gene variance\n",
    "###--------------------------\n",
    "\n",
    "## get gene variance\n",
    "gene_vars <- matrixStats::rowVars(as.matrix(counts_vst)) %>% data.frame() %>% dplyr::rename(.,vars = `.`) %>% arrange(desc(vars))\n",
    "gene_vars$rank <- 1:nrow(gene_vars)\n",
    "\n",
    "all_top_genes <- gene_vars %>% filter(rank <= 500) %>% rownames()\n",
    "\n",
    "counts_vst_top <- counts_vst[all_top_genes,]\n",
    "\n",
    "\n",
    "# perform a PCA on the data in assay(x) for the selected genes\n",
    "pcaData <- prcomp(t(counts_vst_top),scale=TRUE)\n",
    "pcaData_sum <- summary(pcaData)\n",
    "\n",
    "percentVar <- round(100 * pcaData_sum$importance[2,],2)           ### round percent variance explained\n",
    "PCsdata <- pcaData$x %>% data.frame()\n",
    "\n",
    "PCsdata <- merge(meta, PCsdata, by.x=\"Xsample_id\", by.y=0, all.x=TRUE)\n",
    "\n",
    "PCsdata %>% head()\n",
    "### plot PCA\n",
    "options(repr.plot.width = 5 ,repr.plot.height = 5)\n",
    "PC1_PC2_plt <- PCsdata %>% \n",
    "  ggplot( aes(x=PC1, y=PC2, color = origin)) +\n",
    "  geom_point(size=1) +\n",
    "  xlab(paste0(\"PC1: \",percentVar[1],\"% variance\")) +\n",
    "  ylab(paste0(\"PC2: \",percentVar[2],\"% variance\")) +\n",
    "  theme_cfrna_print()+\n",
    "  scale_color_manual(values = FILL_KEY_ORIGIN)\n",
    "\n",
    "pdf(file=paste0(\"figure_plots/SUPP_\",VAR,\".pdf\"),\n",
    "        width=WIDTH,height=HEIGHT, paper=\"special\", bg=\"transparent\",\n",
    "        fonts=\"Helvetica\", colormodel = \"srgb\", pointsize=6, useDingbats = FALSE)\n",
    "PC1_PC2_plt\n",
    "dev.off()\n"
   ]
  }
 ],
 "metadata": {
  "kernelspec": {
   "display_name": "R",
   "language": "R",
   "name": "ir"
  },
  "language_info": {
   "codemirror_mode": "r",
   "file_extension": ".r",
   "mimetype": "text/x-r-source",
   "name": "R",
   "pygments_lexer": "r",
   "version": "4.1.1"
  },
  "orig_nbformat": 4
 },
 "nbformat": 4,
 "nbformat_minor": 2
}
