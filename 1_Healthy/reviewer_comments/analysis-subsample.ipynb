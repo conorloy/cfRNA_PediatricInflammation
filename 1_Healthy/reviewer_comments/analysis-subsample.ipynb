{
 "cells": [
  {
   "cell_type": "code",
   "execution_count": 1,
   "metadata": {
    "vscode": {
     "languageId": "r"
    }
   },
   "outputs": [],
   "source": [
    "suppressMessages(library(tidyverse))\n",
    "suppressMessages(library(DESeq2))\n",
    "\n",
    "source(\"../../global_variables.R\")\n",
    "source(\"/workdir/cjl332/cfrna_template/theme_ggplot_cfrna.R\")\n",
    "\n",
    "## Read in meta data and subset\n",
    "mdf = read.csv(\"../0_DATA/metadata_all.csv\")\n",
    "\n",
    "\n",
    "FILL_KEY = INFLAMCAT_FILL_KEY\n",
    "FILL_KEY_plt  = INFLAMCAT_FILL_KEY\n",
    "names(FILL_KEY_plt) = gsub(\"_\",\"\\n\",names(FILL_KEY_plt))"
   ]
  },
  {
   "cell_type": "markdown",
   "metadata": {},
   "source": [
    "---\n",
    "## Subsample to 17"
   ]
  },
  {
   "cell_type": "code",
   "execution_count": 8,
   "metadata": {
    "vscode": {
     "languageId": "r"
    }
   },
   "outputs": [],
   "source": [
    "all_res = readRDS(\"./sub_output/pairwise_DAA.sub.OLD.rds\")"
   ]
  },
  {
   "cell_type": "code",
   "execution_count": 9,
   "metadata": {
    "vscode": {
     "languageId": "r"
    }
   },
   "outputs": [
    {
     "data": {
      "text/html": [
       "<table class=\"dataframe\">\n",
       "<caption>A data.frame: 5 × 5</caption>\n",
       "<thead>\n",
       "\t<tr><th scope=col>ref</th><th scope=col>n_sig</th><th scope=col>grp</th><th scope=col>comp</th><th scope=col>ORIG</th></tr>\n",
       "\t<tr><th scope=col>&lt;chr&gt;</th><th scope=col>&lt;int&gt;</th><th scope=col>&lt;chr&gt;</th><th scope=col>&lt;chr&gt;</th><th scope=col>&lt;chr&gt;</th></tr>\n",
       "</thead>\n",
       "<tbody>\n",
       "\t<tr><td><span style=white-space:pre-wrap>KD                  </span></td><td>6591</td><td><span style=white-space:pre-wrap>KD&lt;&gt;Healthy                 </span></td><td><span style=white-space:pre-wrap>KD&lt;&gt;Healthy_00                 </span></td><td>orig</td></tr>\n",
       "\t<tr><td><span style=white-space:pre-wrap>viral\n",
       "infection    </span></td><td>5743</td><td><span style=white-space:pre-wrap>viral_infection&lt;&gt;Healthy    </span></td><td><span style=white-space:pre-wrap>viral_infection&lt;&gt;Healthy_00    </span></td><td>orig</td></tr>\n",
       "\t<tr><td><span style=white-space:pre-wrap>MISC                </span></td><td>6591</td><td><span style=white-space:pre-wrap>MISC&lt;&gt;Healthy               </span></td><td><span style=white-space:pre-wrap>MISC&lt;&gt;Healthy_00               </span></td><td>orig</td></tr>\n",
       "\t<tr><td>bacterial\n",
       "infection</td><td>6083</td><td>bacterial_infection&lt;&gt;Healthy</td><td>bacterial_infection&lt;&gt;Healthy_00</td><td>orig</td></tr>\n",
       "\t<tr><td><span style=white-space:pre-wrap>other               </span></td><td>2686</td><td><span style=white-space:pre-wrap>other&lt;&gt;Healthy              </span></td><td><span style=white-space:pre-wrap>other&lt;&gt;Healthy_00              </span></td><td>orig</td></tr>\n",
       "</tbody>\n",
       "</table>\n"
      ],
      "text/latex": [
       "A data.frame: 5 × 5\n",
       "\\begin{tabular}{lllll}\n",
       " ref & n\\_sig & grp & comp & ORIG\\\\\n",
       " <chr> & <int> & <chr> & <chr> & <chr>\\\\\n",
       "\\hline\n",
       "\t KD                   & 6591 & KD<>Healthy                  & KD<>Healthy\\_00                  & orig\\\\\n",
       "\t viral\n",
       "infection     & 5743 & viral\\_infection<>Healthy     & viral\\_infection<>Healthy\\_00     & orig\\\\\n",
       "\t MISC                 & 6591 & MISC<>Healthy                & MISC<>Healthy\\_00                & orig\\\\\n",
       "\t bacterial\n",
       "infection & 6083 & bacterial\\_infection<>Healthy & bacterial\\_infection<>Healthy\\_00 & orig\\\\\n",
       "\t other                & 2686 & other<>Healthy               & other<>Healthy\\_00               & orig\\\\\n",
       "\\end{tabular}\n"
      ],
      "text/markdown": [
       "\n",
       "A data.frame: 5 × 5\n",
       "\n",
       "| ref &lt;chr&gt; | n_sig &lt;int&gt; | grp &lt;chr&gt; | comp &lt;chr&gt; | ORIG &lt;chr&gt; |\n",
       "|---|---|---|---|---|\n",
       "| KD                   | 6591 | KD&lt;&gt;Healthy                  | KD&lt;&gt;Healthy_00                  | orig |\n",
       "| viral\n",
       "infection     | 5743 | viral_infection&lt;&gt;Healthy     | viral_infection&lt;&gt;Healthy_00     | orig |\n",
       "| MISC                 | 6591 | MISC&lt;&gt;Healthy                | MISC&lt;&gt;Healthy_00                | orig |\n",
       "| bacterial\n",
       "infection | 6083 | bacterial_infection&lt;&gt;Healthy | bacterial_infection&lt;&gt;Healthy_00 | orig |\n",
       "| other                | 2686 | other&lt;&gt;Healthy               | other&lt;&gt;Healthy_00               | orig |\n",
       "\n"
      ],
      "text/plain": [
       "  ref                  n_sig grp                         \n",
       "1 KD                   6591  KD<>Healthy                 \n",
       "2 viral\\ninfection     5743  viral_infection<>Healthy    \n",
       "3 MISC                 6591  MISC<>Healthy               \n",
       "4 bacterial\\ninfection 6083  bacterial_infection<>Healthy\n",
       "5 other                2686  other<>Healthy              \n",
       "  comp                            ORIG\n",
       "1 KD<>Healthy_00                  orig\n",
       "2 viral_infection<>Healthy_00     orig\n",
       "3 MISC<>Healthy_00                orig\n",
       "4 bacterial_infection<>Healthy_00 orig\n",
       "5 other<>Healthy_00               orig"
      ]
     },
     "metadata": {},
     "output_type": "display_data"
    }
   ],
   "source": [
    "### load original analysis results\n",
    "orig_analysis = readRDS(\"../output/occur.rds\")\n",
    "\n",
    "### extract # DAGs for each comparison\n",
    "orig_sig <- lapply(names(orig_analysis), function(x) {\n",
    "    orig_analysis[[x]][[\"all_sig_df\"]] %>% filter(grepl(\"Healthy\",comp)) %>% filter(padj < 0.05) %>% nrow()\n",
    "})\n",
    "\n",
    "### convert into data frame for plotting\n",
    "names(orig_sig) <- names(orig_analysis)\n",
    "orig_sig_df <- do.call(\"rbind\", orig_sig) %>% as.data.frame() %>% \n",
    "    dplyr::rename(n_sig = V1) %>%  \n",
    "    rownames_to_column(\"ref\") %>% mutate(grp = paste0(ref,\"<>Healthy\"), comp = paste0(grp,\"_00\"))  %>% \n",
    "    filter(ref != \"Healthy\")  %>% \n",
    "    mutate(ORIG = \"orig\") %>% mutate(ref = gsub(\"_\",\"\\n\",ref))\n",
    "\n",
    "### extract other number and remove from data\n",
    "OTHER_VAL = orig_sig_df %>% filter(ref == \"other\") %>% pull(n_sig)\n",
    "orig_sig_df"
   ]
  },
  {
   "cell_type": "code",
   "execution_count": 10,
   "metadata": {
    "vscode": {
     "languageId": "r"
    }
   },
   "outputs": [
    {
     "data": {
      "text/html": [
       "<table class=\"dataframe\">\n",
       "<caption>A tibble: 6 × 5</caption>\n",
       "<thead>\n",
       "\t<tr><th scope=col>comp</th><th scope=col>n_sig</th><th scope=col>grp</th><th scope=col>ref</th><th scope=col>ORIG</th></tr>\n",
       "\t<tr><th scope=col>&lt;chr&gt;</th><th scope=col>&lt;int&gt;</th><th scope=col>&lt;chr&gt;</th><th scope=col>&lt;chr&gt;</th><th scope=col>&lt;chr&gt;</th></tr>\n",
       "</thead>\n",
       "<tbody>\n",
       "\t<tr><td>KD&lt;&gt;Healthy_1 </td><td>4971</td><td>KD&lt;&gt;Healthy</td><td>KD</td><td>subsample</td></tr>\n",
       "\t<tr><td>KD&lt;&gt;Healthy_10</td><td>5082</td><td>KD&lt;&gt;Healthy</td><td>KD</td><td>subsample</td></tr>\n",
       "\t<tr><td>KD&lt;&gt;Healthy_2 </td><td>5632</td><td>KD&lt;&gt;Healthy</td><td>KD</td><td>subsample</td></tr>\n",
       "\t<tr><td>KD&lt;&gt;Healthy_3 </td><td>5669</td><td>KD&lt;&gt;Healthy</td><td>KD</td><td>subsample</td></tr>\n",
       "\t<tr><td>KD&lt;&gt;Healthy_4 </td><td>3757</td><td>KD&lt;&gt;Healthy</td><td>KD</td><td>subsample</td></tr>\n",
       "\t<tr><td>KD&lt;&gt;Healthy_5 </td><td>5091</td><td>KD&lt;&gt;Healthy</td><td>KD</td><td>subsample</td></tr>\n",
       "</tbody>\n",
       "</table>\n"
      ],
      "text/latex": [
       "A tibble: 6 × 5\n",
       "\\begin{tabular}{lllll}\n",
       " comp & n\\_sig & grp & ref & ORIG\\\\\n",
       " <chr> & <int> & <chr> & <chr> & <chr>\\\\\n",
       "\\hline\n",
       "\t KD<>Healthy\\_1  & 4971 & KD<>Healthy & KD & subsample\\\\\n",
       "\t KD<>Healthy\\_10 & 5082 & KD<>Healthy & KD & subsample\\\\\n",
       "\t KD<>Healthy\\_2  & 5632 & KD<>Healthy & KD & subsample\\\\\n",
       "\t KD<>Healthy\\_3  & 5669 & KD<>Healthy & KD & subsample\\\\\n",
       "\t KD<>Healthy\\_4  & 3757 & KD<>Healthy & KD & subsample\\\\\n",
       "\t KD<>Healthy\\_5  & 5091 & KD<>Healthy & KD & subsample\\\\\n",
       "\\end{tabular}\n"
      ],
      "text/markdown": [
       "\n",
       "A tibble: 6 × 5\n",
       "\n",
       "| comp &lt;chr&gt; | n_sig &lt;int&gt; | grp &lt;chr&gt; | ref &lt;chr&gt; | ORIG &lt;chr&gt; |\n",
       "|---|---|---|---|---|\n",
       "| KD&lt;&gt;Healthy_1  | 4971 | KD&lt;&gt;Healthy | KD | subsample |\n",
       "| KD&lt;&gt;Healthy_10 | 5082 | KD&lt;&gt;Healthy | KD | subsample |\n",
       "| KD&lt;&gt;Healthy_2  | 5632 | KD&lt;&gt;Healthy | KD | subsample |\n",
       "| KD&lt;&gt;Healthy_3  | 5669 | KD&lt;&gt;Healthy | KD | subsample |\n",
       "| KD&lt;&gt;Healthy_4  | 3757 | KD&lt;&gt;Healthy | KD | subsample |\n",
       "| KD&lt;&gt;Healthy_5  | 5091 | KD&lt;&gt;Healthy | KD | subsample |\n",
       "\n"
      ],
      "text/plain": [
       "  comp           n_sig grp         ref ORIG     \n",
       "1 KD<>Healthy_1  4971  KD<>Healthy KD  subsample\n",
       "2 KD<>Healthy_10 5082  KD<>Healthy KD  subsample\n",
       "3 KD<>Healthy_2  5632  KD<>Healthy KD  subsample\n",
       "4 KD<>Healthy_3  5669  KD<>Healthy KD  subsample\n",
       "5 KD<>Healthy_4  3757  KD<>Healthy KD  subsample\n",
       "6 KD<>Healthy_5  5091  KD<>Healthy KD  subsample"
      ]
     },
     "metadata": {},
     "output_type": "display_data"
    }
   ],
   "source": [
    "### load all subsampled analyses\n",
    "all_comps <- names(all_res)\n",
    "all_comps <- all_comps[grepl(\"Healthy\",all_comps)]\n",
    "\n",
    "### extract # DAGs for each comparison\n",
    "all_sig <- lapply(all_comps, function(x) all_res[[x]][['res_df']] %>% filter(padj < 0.05) %>% mutate(comp = x))\n",
    "\n",
    "### convert into data frame for plotting\n",
    "all_sig_df <- do.call(\"rbind\",all_sig) %>% \n",
    "    group_by(comp) %>% \n",
    "    summarise(n_sig = n()) %>% \n",
    "    mutate(grp = gsub(\"Healthy_.*\",\"Healthy\",comp)) %>% \n",
    "    mutate(ref = gsub(\"<>Healthy\",\"\",grp))%>% \n",
    "    mutate(ORIG = \"subsample\") %>% \n",
    "    filter(ref != \"other\")\n",
    "    \n",
    "### add original data\n",
    "# all_sig_df <- rbind(orig_sig_df,all_sig_df )\n",
    "\n",
    "all_sig_df %>% head()\n"
   ]
  },
  {
   "cell_type": "code",
   "execution_count": 11,
   "metadata": {
    "vscode": {
     "languageId": "r"
    }
   },
   "outputs": [
    {
     "data": {
      "image/png": "[encoded data removed]",
      "text/plain": [
       "plot without title"
      ]
     },
     "metadata": {
      "image/png": {
       "height": 240,
       "width": 600
      }
     },
     "output_type": "display_data"
    }
   ],
   "source": [
    "options(repr.plot.height = 4, repr.plot.width  = 10)\n",
    "all_sig_df %>% \n",
    "    mutate(ref = gsub(\"_\",\"\\n\",ref)) %>%\n",
    "    mutate(ref = factor(ref, levels = c(\"MISC\",\"KD\",\"viral\\ninfection\",\"bacterial\\ninfection\",\"other\"))) %>%\n",
    "    ggplot(aes(x=ref,y=n_sig,fill=ref)) +\n",
    "    geom_boxplot(outlier.shape = NA, color = \"black\", alpha = 0.75)+\n",
    "    geom_jitter(width = 0.2, height = 0, color = \"black\", size = 2, stroke=NA)+\n",
    "    theme_cfrna_print()+\n",
    "    labs(y = \"# sig DAGs\") +\n",
    "    coord_cartesian(ylim = c(0,7000))+\n",
    "    theme(axis.title.x = element_blank())+\n",
    "    geom_point(data = orig_sig_df, aes(x=ref,y=n_sig,fill=ref), shape = 23, size = 3, alpha = 0.5, color = \"black\")+\n",
    "    geom_hline(yintercept = OTHER_VAL, linetype = \"dashed\", color = FILL_KEY[[\"other\"]])+\n",
    "    scale_fill_manual(values = FILL_KEY_plt) \n",
    "\n",
    "ggsave(\"./figures/num_sig_dags.subsample.17.pdf\",width = 3, height = 2, units = \"in\")"
   ]
  },
  {
   "cell_type": "markdown",
   "metadata": {},
   "source": [
    "---\n",
    "## Subsample to 9"
   ]
  },
  {
   "cell_type": "code",
   "execution_count": 12,
   "metadata": {
    "vscode": {
     "languageId": "r"
    }
   },
   "outputs": [],
   "source": [
    "all_res = readRDS(\"./sub_output/pairwise_DAA.sub.9.rds\")"
   ]
  },
  {
   "cell_type": "code",
   "execution_count": 13,
   "metadata": {
    "vscode": {
     "languageId": "r"
    }
   },
   "outputs": [
    {
     "data": {
      "text/html": [
       "<table class=\"dataframe\">\n",
       "<caption>A data.frame: 5 × 5</caption>\n",
       "<thead>\n",
       "\t<tr><th scope=col>ref</th><th scope=col>n_sig</th><th scope=col>grp</th><th scope=col>comp</th><th scope=col>ORIG</th></tr>\n",
       "\t<tr><th scope=col>&lt;chr&gt;</th><th scope=col>&lt;int&gt;</th><th scope=col>&lt;chr&gt;</th><th scope=col>&lt;chr&gt;</th><th scope=col>&lt;chr&gt;</th></tr>\n",
       "</thead>\n",
       "<tbody>\n",
       "\t<tr><td><span style=white-space:pre-wrap>KD                  </span></td><td>6591</td><td><span style=white-space:pre-wrap>KD&lt;&gt;Healthy                 </span></td><td><span style=white-space:pre-wrap>KD&lt;&gt;Healthy_00                 </span></td><td>orig</td></tr>\n",
       "\t<tr><td><span style=white-space:pre-wrap>viral\n",
       "infection    </span></td><td>5743</td><td><span style=white-space:pre-wrap>viral_infection&lt;&gt;Healthy    </span></td><td><span style=white-space:pre-wrap>viral_infection&lt;&gt;Healthy_00    </span></td><td>orig</td></tr>\n",
       "\t<tr><td><span style=white-space:pre-wrap>MISC                </span></td><td>6591</td><td><span style=white-space:pre-wrap>MISC&lt;&gt;Healthy               </span></td><td><span style=white-space:pre-wrap>MISC&lt;&gt;Healthy_00               </span></td><td>orig</td></tr>\n",
       "\t<tr><td>bacterial\n",
       "infection</td><td>6083</td><td>bacterial_infection&lt;&gt;Healthy</td><td>bacterial_infection&lt;&gt;Healthy_00</td><td>orig</td></tr>\n",
       "\t<tr><td><span style=white-space:pre-wrap>other               </span></td><td>2686</td><td><span style=white-space:pre-wrap>other&lt;&gt;Healthy              </span></td><td><span style=white-space:pre-wrap>other&lt;&gt;Healthy_00              </span></td><td>orig</td></tr>\n",
       "</tbody>\n",
       "</table>\n"
      ],
      "text/latex": [
       "A data.frame: 5 × 5\n",
       "\\begin{tabular}{lllll}\n",
       " ref & n\\_sig & grp & comp & ORIG\\\\\n",
       " <chr> & <int> & <chr> & <chr> & <chr>\\\\\n",
       "\\hline\n",
       "\t KD                   & 6591 & KD<>Healthy                  & KD<>Healthy\\_00                  & orig\\\\\n",
       "\t viral\n",
       "infection     & 5743 & viral\\_infection<>Healthy     & viral\\_infection<>Healthy\\_00     & orig\\\\\n",
       "\t MISC                 & 6591 & MISC<>Healthy                & MISC<>Healthy\\_00                & orig\\\\\n",
       "\t bacterial\n",
       "infection & 6083 & bacterial\\_infection<>Healthy & bacterial\\_infection<>Healthy\\_00 & orig\\\\\n",
       "\t other                & 2686 & other<>Healthy               & other<>Healthy\\_00               & orig\\\\\n",
       "\\end{tabular}\n"
      ],
      "text/markdown": [
       "\n",
       "A data.frame: 5 × 5\n",
       "\n",
       "| ref &lt;chr&gt; | n_sig &lt;int&gt; | grp &lt;chr&gt; | comp &lt;chr&gt; | ORIG &lt;chr&gt; |\n",
       "|---|---|---|---|---|\n",
       "| KD                   | 6591 | KD&lt;&gt;Healthy                  | KD&lt;&gt;Healthy_00                  | orig |\n",
       "| viral\n",
       "infection     | 5743 | viral_infection&lt;&gt;Healthy     | viral_infection&lt;&gt;Healthy_00     | orig |\n",
       "| MISC                 | 6591 | MISC&lt;&gt;Healthy                | MISC&lt;&gt;Healthy_00                | orig |\n",
       "| bacterial\n",
       "infection | 6083 | bacterial_infection&lt;&gt;Healthy | bacterial_infection&lt;&gt;Healthy_00 | orig |\n",
       "| other                | 2686 | other&lt;&gt;Healthy               | other&lt;&gt;Healthy_00               | orig |\n",
       "\n"
      ],
      "text/plain": [
       "  ref                  n_sig grp                         \n",
       "1 KD                   6591  KD<>Healthy                 \n",
       "2 viral\\ninfection     5743  viral_infection<>Healthy    \n",
       "3 MISC                 6591  MISC<>Healthy               \n",
       "4 bacterial\\ninfection 6083  bacterial_infection<>Healthy\n",
       "5 other                2686  other<>Healthy              \n",
       "  comp                            ORIG\n",
       "1 KD<>Healthy_00                  orig\n",
       "2 viral_infection<>Healthy_00     orig\n",
       "3 MISC<>Healthy_00                orig\n",
       "4 bacterial_infection<>Healthy_00 orig\n",
       "5 other<>Healthy_00               orig"
      ]
     },
     "metadata": {},
     "output_type": "display_data"
    }
   ],
   "source": [
    "### load original analysis results\n",
    "orig_analysis = readRDS(\"../output/occur.rds\")\n",
    "\n",
    "### extract # DAGs for each comparison\n",
    "orig_sig <- lapply(names(orig_analysis), function(x) {\n",
    "    orig_analysis[[x]][[\"all_sig_df\"]] %>% filter(grepl(\"Healthy\",comp)) %>% filter(padj < 0.05) %>% nrow()\n",
    "})\n",
    "\n",
    "### convert into data frame for plotting\n",
    "names(orig_sig) <- names(orig_analysis)\n",
    "orig_sig_df <- do.call(\"rbind\", orig_sig) %>% as.data.frame() %>% \n",
    "    dplyr::rename(n_sig = V1) %>%  \n",
    "    rownames_to_column(\"ref\") %>% mutate(grp = paste0(ref,\"<>Healthy\"), comp = paste0(grp,\"_00\"))  %>% \n",
    "    filter(ref != \"Healthy\")  %>% \n",
    "    mutate(ORIG = \"orig\") %>% mutate(ref = gsub(\"_\",\"\\n\",ref))\n",
    "\n",
    "### extract other number and remove from data\n",
    "OTHER_VAL = orig_sig_df %>% filter(ref == \"other\") %>% pull(n_sig)\n",
    "orig_sig_df"
   ]
  },
  {
   "cell_type": "code",
   "execution_count": 14,
   "metadata": {
    "vscode": {
     "languageId": "r"
    }
   },
   "outputs": [
    {
     "data": {
      "text/html": [
       "<table class=\"dataframe\">\n",
       "<caption>A tibble: 6 × 5</caption>\n",
       "<thead>\n",
       "\t<tr><th scope=col>comp</th><th scope=col>n_sig</th><th scope=col>grp</th><th scope=col>ref</th><th scope=col>ORIG</th></tr>\n",
       "\t<tr><th scope=col>&lt;chr&gt;</th><th scope=col>&lt;int&gt;</th><th scope=col>&lt;chr&gt;</th><th scope=col>&lt;chr&gt;</th><th scope=col>&lt;chr&gt;</th></tr>\n",
       "</thead>\n",
       "<tbody>\n",
       "\t<tr><td>KD&lt;&gt;Healthy_1 </td><td>3239</td><td>KD&lt;&gt;Healthy</td><td>KD</td><td>subsample</td></tr>\n",
       "\t<tr><td>KD&lt;&gt;Healthy_10</td><td>5641</td><td>KD&lt;&gt;Healthy</td><td>KD</td><td>subsample</td></tr>\n",
       "\t<tr><td>KD&lt;&gt;Healthy_2 </td><td>4574</td><td>KD&lt;&gt;Healthy</td><td>KD</td><td>subsample</td></tr>\n",
       "\t<tr><td>KD&lt;&gt;Healthy_3 </td><td>3926</td><td>KD&lt;&gt;Healthy</td><td>KD</td><td>subsample</td></tr>\n",
       "\t<tr><td>KD&lt;&gt;Healthy_4 </td><td>2135</td><td>KD&lt;&gt;Healthy</td><td>KD</td><td>subsample</td></tr>\n",
       "\t<tr><td>KD&lt;&gt;Healthy_5 </td><td>3027</td><td>KD&lt;&gt;Healthy</td><td>KD</td><td>subsample</td></tr>\n",
       "</tbody>\n",
       "</table>\n"
      ],
      "text/latex": [
       "A tibble: 6 × 5\n",
       "\\begin{tabular}{lllll}\n",
       " comp & n\\_sig & grp & ref & ORIG\\\\\n",
       " <chr> & <int> & <chr> & <chr> & <chr>\\\\\n",
       "\\hline\n",
       "\t KD<>Healthy\\_1  & 3239 & KD<>Healthy & KD & subsample\\\\\n",
       "\t KD<>Healthy\\_10 & 5641 & KD<>Healthy & KD & subsample\\\\\n",
       "\t KD<>Healthy\\_2  & 4574 & KD<>Healthy & KD & subsample\\\\\n",
       "\t KD<>Healthy\\_3  & 3926 & KD<>Healthy & KD & subsample\\\\\n",
       "\t KD<>Healthy\\_4  & 2135 & KD<>Healthy & KD & subsample\\\\\n",
       "\t KD<>Healthy\\_5  & 3027 & KD<>Healthy & KD & subsample\\\\\n",
       "\\end{tabular}\n"
      ],
      "text/markdown": [
       "\n",
       "A tibble: 6 × 5\n",
       "\n",
       "| comp &lt;chr&gt; | n_sig &lt;int&gt; | grp &lt;chr&gt; | ref &lt;chr&gt; | ORIG &lt;chr&gt; |\n",
       "|---|---|---|---|---|\n",
       "| KD&lt;&gt;Healthy_1  | 3239 | KD&lt;&gt;Healthy | KD | subsample |\n",
       "| KD&lt;&gt;Healthy_10 | 5641 | KD&lt;&gt;Healthy | KD | subsample |\n",
       "| KD&lt;&gt;Healthy_2  | 4574 | KD&lt;&gt;Healthy | KD | subsample |\n",
       "| KD&lt;&gt;Healthy_3  | 3926 | KD&lt;&gt;Healthy | KD | subsample |\n",
       "| KD&lt;&gt;Healthy_4  | 2135 | KD&lt;&gt;Healthy | KD | subsample |\n",
       "| KD&lt;&gt;Healthy_5  | 3027 | KD&lt;&gt;Healthy | KD | subsample |\n",
       "\n"
      ],
      "text/plain": [
       "  comp           n_sig grp         ref ORIG     \n",
       "1 KD<>Healthy_1  3239  KD<>Healthy KD  subsample\n",
       "2 KD<>Healthy_10 5641  KD<>Healthy KD  subsample\n",
       "3 KD<>Healthy_2  4574  KD<>Healthy KD  subsample\n",
       "4 KD<>Healthy_3  3926  KD<>Healthy KD  subsample\n",
       "5 KD<>Healthy_4  2135  KD<>Healthy KD  subsample\n",
       "6 KD<>Healthy_5  3027  KD<>Healthy KD  subsample"
      ]
     },
     "metadata": {},
     "output_type": "display_data"
    }
   ],
   "source": [
    "### load all subsampled analyses\n",
    "all_comps <- names(all_res)\n",
    "all_comps <- all_comps[grepl(\"Healthy\",all_comps)]\n",
    "\n",
    "### extract # DAGs for each comparison\n",
    "all_sig <- lapply(all_comps, function(x) all_res[[x]][['res_df']] %>% filter(padj < 0.05) %>% mutate(comp = x))\n",
    "\n",
    "### convert into data frame for plotting\n",
    "all_sig_df <- do.call(\"rbind\",all_sig) %>% \n",
    "    group_by(comp) %>% \n",
    "    summarise(n_sig = n()) %>% \n",
    "    mutate(grp = gsub(\"Healthy_.*\",\"Healthy\",comp)) %>% \n",
    "    mutate(ref = gsub(\"<>Healthy\",\"\",grp))%>% \n",
    "    mutate(ORIG = \"subsample\") %>% \n",
    "    filter(ref != \"other\")\n",
    "    \n",
    "### add original data\n",
    "# all_sig_df <- rbind(orig_sig_df,all_sig_df )\n",
    "\n",
    "all_sig_df %>% head()\n"
   ]
  },
  {
   "cell_type": "code",
   "execution_count": 15,
   "metadata": {
    "vscode": {
     "languageId": "r"
    }
   },
   "outputs": [
    {
     "data": {
      "image/png": "[encoded data removed]",
      "text/plain": [
       "plot without title"
      ]
     },
     "metadata": {
      "image/png": {
       "height": 240,
       "width": 600
      }
     },
     "output_type": "display_data"
    }
   ],
   "source": [
    "options(repr.plot.height = 4, repr.plot.width  = 10)\n",
    "all_sig_df %>% \n",
    "    mutate(ref = gsub(\"_\",\"\\n\",ref)) %>%\n",
    "    mutate(ref = factor(ref, levels = c(\"MISC\",\"KD\",\"viral\\ninfection\",\"bacterial\\ninfection\",\"other\"))) %>%\n",
    "    ggplot(aes(x=ref,y=n_sig,fill=ref)) +\n",
    "    geom_boxplot(outlier.shape = NA, color = \"black\", alpha = 0.75)+\n",
    "    geom_jitter(width = 0.2, height = 0, color = \"black\", size = 2, stroke=NA)+\n",
    "    theme_cfrna_print()+\n",
    "    labs(y = \"# sig DAGs\") +\n",
    "    coord_cartesian(ylim = c(0,7000))+\n",
    "    theme(axis.title.x = element_blank())+\n",
    "    geom_point(data = orig_sig_df, aes(x=ref,y=n_sig,fill=ref), shape = 23, size = 3, alpha = 0.5, color = \"black\")+\n",
    "    geom_hline(yintercept = OTHER_VAL, linetype = \"dashed\", color = FILL_KEY[[\"other\"]])+\n",
    "    scale_fill_manual(values = FILL_KEY_plt) \n",
    "\n",
    "ggsave(\"./figures/num_sig_dags.subsample.9.pdf\",width = 3, height = 2, units = \"in\")"
   ]
  },
  {
   "cell_type": "markdown",
   "metadata": {},
   "source": [
    "---"
   ]
  },
  {
   "cell_type": "code",
   "execution_count": 16,
   "metadata": {
    "vscode": {
     "languageId": "r"
    }
   },
   "outputs": [
    {
     "name": "stdout",
     "output_type": "stream",
     "text": [
      "[1] \"num pathways: 283\"\n",
      "[1] \"num genes: 1033\"\n",
      "[1] \"num genes in input: 1026\"\n"
     ]
    }
   ],
   "source": [
    "# How specific are the enriched pathways for the group of differential genes that are shared between all conditions compared to the other differential genes? \n",
    "\n",
    "### Number / fraction of genes that are in the selected pathways (use outputs from IPA)\n",
    "\n",
    "ipa_output <- read.delim(\"../output/common_healthy-daa.ipa-table.csv.txt\",skip=2)\n",
    "colnames(ipa_output) <- c(\"pathway\",\"neglog_pval\",\"ratio\",\"z.score\",\"genes\",\"X\")\n",
    "\n",
    "# PVAL_THRESH = 0.05\n",
    "\n",
    "### get all pathways\n",
    "ipa_output <- ipa_output %>% \n",
    "    filter(!is.na(neglog_pval)) %>% \n",
    "    filter(!is.na(z.score)) %>% \n",
    "    filter(neglog_pval > -log(PVAL_THRESH)) %>% \n",
    "    arrange(desc(neglog_pval))\n",
    "\n",
    "### extract genes from pathways\n",
    "all_genes <- ipa_output %>% pull(genes) %>% unlist()\n",
    "all_genes <- lapply(all_genes,function(x) strsplit(x,\",\")[[1]]) %>% unlist() %>% unique()\n",
    "\n",
    "### check how many genes are not in input\n",
    "t = read.csv(\"../output/common_healthy-daa.ipa-table.csv\")\n",
    "gene_list <- read.delim(\"/workdir/cfrna/references/human/hg38/gencode.biotype.name.key.tsv\")\n",
    "t <- merge(t, gene_list, by=\"gene_id\")\n",
    "\n",
    "\n",
    "\n",
    "\n",
    "### prints\n",
    "print(paste0(\"num pathways: \",ipa_output %>% nrow()))\n",
    "print(paste0(\"num genes: \",all_genes %>% length()))\n",
    "print(paste0(\"num genes in input: \",t %>% filter(gene_name %in% all_genes) %>% nrow()))\n"
   ]
  },
  {
   "cell_type": "code",
   "execution_count": 7,
   "metadata": {
    "vscode": {
     "languageId": "r"
    }
   },
   "outputs": [
    {
     "data": {
      "text/html": [
       "<style>\n",
       ".list-inline {list-style: none; margin:0; padding: 0}\n",
       ".list-inline>li {display: inline-block}\n",
       ".list-inline>li:not(:last-child)::after {content: \"\\00b7\"; padding: 0 .5ex}\n",
       "</style>\n",
       "<ol class=list-inline><li>'DEFA1 (includes others)'</li><li>'FCGR3A/FCGR3B'</li><li>'H2BC26'</li><li>'CALM1 (includes others)'</li><li>'H3-3A/H3-3B'</li><li>'TMSB10/TMSB4X'</li><li>'BLTP3B'</li><li>'PALS1'</li></ol>\n"
      ],
      "text/latex": [
       "\\begin{enumerate*}\n",
       "\\item 'DEFA1 (includes others)'\n",
       "\\item 'FCGR3A/FCGR3B'\n",
       "\\item 'H2BC26'\n",
       "\\item 'CALM1 (includes others)'\n",
       "\\item 'H3-3A/H3-3B'\n",
       "\\item 'TMSB10/TMSB4X'\n",
       "\\item 'BLTP3B'\n",
       "\\item 'PALS1'\n",
       "\\end{enumerate*}\n"
      ],
      "text/markdown": [
       "1. 'DEFA1 (includes others)'\n",
       "2. 'FCGR3A/FCGR3B'\n",
       "3. 'H2BC26'\n",
       "4. 'CALM1 (includes others)'\n",
       "5. 'H3-3A/H3-3B'\n",
       "6. 'TMSB10/TMSB4X'\n",
       "7. 'BLTP3B'\n",
       "8. 'PALS1'\n",
       "\n",
       "\n"
      ],
      "text/plain": [
       "[1] \"DEFA1 (includes others)\" \"FCGR3A/FCGR3B\"          \n",
       "[3] \"H2BC26\"                  \"CALM1 (includes others)\"\n",
       "[5] \"H3-3A/H3-3B\"             \"TMSB10/TMSB4X\"          \n",
       "[7] \"BLTP3B\"                  \"PALS1\"                  "
      ]
     },
     "metadata": {},
     "output_type": "display_data"
    }
   ],
   "source": [
    "all_genes[!(all_genes %in% t$gene_name)]"
   ]
  },
  {
   "cell_type": "code",
   "execution_count": null,
   "metadata": {
    "vscode": {
     "languageId": "r"
    }
   },
   "outputs": [],
   "source": []
  },
  {
   "cell_type": "markdown",
   "metadata": {
    "vscode": {
     "languageId": "r"
    }
   },
   "source": [
    "---\n",
    "## Overlap of pathways"
   ]
  },
  {
   "cell_type": "code",
   "execution_count": 3,
   "metadata": {
    "vscode": {
     "languageId": "r"
    }
   },
   "outputs": [
    {
     "name": "stderr",
     "output_type": "stream",
     "text": [
      "── \u001b[1mAttaching packages\u001b[22m ─────────────────────────────────────── tidyverse 1.3.1 ──\n",
      "\n",
      "\u001b[32m✔\u001b[39m \u001b[34mggplot2\u001b[39m 3.4.4     \u001b[32m✔\u001b[39m \u001b[34mpurrr  \u001b[39m 1.0.2\n",
      "\u001b[32m✔\u001b[39m \u001b[34mtibble \u001b[39m 3.2.1     \u001b[32m✔\u001b[39m \u001b[34mdplyr  \u001b[39m 1.1.4\n",
      "\u001b[32m✔\u001b[39m \u001b[34mtidyr  \u001b[39m 1.3.0     \u001b[32m✔\u001b[39m \u001b[34mstringr\u001b[39m 1.5.1\n",
      "\u001b[32m✔\u001b[39m \u001b[34mreadr  \u001b[39m 2.1.2     \u001b[32m✔\u001b[39m \u001b[34mforcats\u001b[39m 0.5.1\n",
      "\n",
      "── \u001b[1mConflicts\u001b[22m ────────────────────────────────────────── tidyverse_conflicts() ──\n",
      "\u001b[31m✖\u001b[39m \u001b[34mdplyr\u001b[39m::\u001b[32mfilter()\u001b[39m masks \u001b[34mstats\u001b[39m::filter()\n",
      "\u001b[31m✖\u001b[39m \u001b[34mdplyr\u001b[39m::\u001b[32mlag()\u001b[39m    masks \u001b[34mstats\u001b[39m::lag()\n",
      "\n"
     ]
    }
   ],
   "source": [
    "library(tidyverse)"
   ]
  },
  {
   "cell_type": "code",
   "execution_count": 14,
   "metadata": {
    "vscode": {
     "languageId": "r"
    }
   },
   "outputs": [
    {
     "data": {
      "text/html": [
       "283"
      ],
      "text/latex": [
       "283"
      ],
      "text/markdown": [
       "283"
      ],
      "text/plain": [
       "[1] 283"
      ]
     },
     "metadata": {},
     "output_type": "display_data"
    },
    {
     "data": {
      "text/html": [
       "196"
      ],
      "text/latex": [
       "196"
      ],
      "text/markdown": [
       "196"
      ],
      "text/plain": [
       "[1] 196"
      ]
     },
     "metadata": {},
     "output_type": "display_data"
    },
    {
     "data": {
      "text/html": [
       "95"
      ],
      "text/latex": [
       "95"
      ],
      "text/markdown": [
       "95"
      ],
      "text/plain": [
       "[1] 95"
      ]
     },
     "metadata": {},
     "output_type": "display_data"
    }
   ],
   "source": [
    "all <- read.delim(\"../output/common_healthy-daa.ipa-table.csv.txt\",skip=2)\n",
    "top4 <- read.delim(\"./sub_output/tmp_ipaOverlap4.txt\",skip=2)\n",
    "\n",
    "colnames(all) <- colnames(top4) <- c(\"pathway\",\"neglog_pval\",\"ratio\",\"z.score\",\"genes\",\"X\")\n",
    "#  c(\"pathway\",\"neglog_pval\",\"ratio\",\"z.score\",\"genes\",\"X\")\n",
    "\n",
    "PVAL_THRESH = 0.05\n",
    " \n",
    "all_sig <- all %>% filter(!is.na(neglog_pval)) %>% filter(!is.na(z.score)) %>% filter(neglog_pval > -log(PVAL_THRESH))\n",
    "top4_sig <- top4 %>% filter(!is.na(neglog_pval)) %>% filter(!is.na(z.score)) %>% filter(neglog_pval > -log(PVAL_THRESH))\n",
    "\n",
    "all_sig_path <- all_sig %>% pull(pathway) %>% unique()\n",
    "top4_sig_path <- top4_sig %>% pull(pathway) %>% unique()\n",
    "\n",
    "all_sig_path %>% length()\n",
    "top4_sig_path %>% length()\n",
    "intersect(all_sig_path, top4_sig_path) %>% length()\n"
   ]
  },
  {
   "cell_type": "code",
   "execution_count": 18,
   "metadata": {
    "vscode": {
     "languageId": "r"
    }
   },
   "outputs": [
    {
     "data": {
      "text/html": [
       "0.247395833333333"
      ],
      "text/latex": [
       "0.247395833333333"
      ],
      "text/markdown": [
       "0.247395833333333"
      ],
      "text/plain": [
       "[1] 0.2473958"
      ]
     },
     "metadata": {},
     "output_type": "display_data"
    }
   ],
   "source": [
    "int_all = intersect(all_sig_path, top4_sig_path) %>% length()\n",
    "union_all = union(all_sig_path, top4_sig_path) %>% unique() %>% length()\n",
    "\n",
    "int_all / union_all"
   ]
  },
  {
   "cell_type": "code",
   "execution_count": 16,
   "metadata": {
    "vscode": {
     "languageId": "r"
    }
   },
   "outputs": [
    {
     "data": {
      "text/html": [
       "<style>\n",
       ".list-inline {list-style: none; margin:0; padding: 0}\n",
       ".list-inline>li {display: inline-block}\n",
       ".list-inline>li:not(:last-child)::after {content: \"\\00b7\"; padding: 0 .5ex}\n",
       "</style>\n",
       "<ol class=list-inline><li>'Neutrophil degranulation'</li><li>'Neutrophil Extracellular Trap Signaling Pathway'</li><li>'fMLP Signaling in Neutrophils'</li></ol>\n"
      ],
      "text/latex": [
       "\\begin{enumerate*}\n",
       "\\item 'Neutrophil degranulation'\n",
       "\\item 'Neutrophil Extracellular Trap Signaling Pathway'\n",
       "\\item 'fMLP Signaling in Neutrophils'\n",
       "\\end{enumerate*}\n"
      ],
      "text/markdown": [
       "1. 'Neutrophil degranulation'\n",
       "2. 'Neutrophil Extracellular Trap Signaling Pathway'\n",
       "3. 'fMLP Signaling in Neutrophils'\n",
       "\n",
       "\n"
      ],
      "text/plain": [
       "[1] \"Neutrophil degranulation\"                       \n",
       "[2] \"Neutrophil Extracellular Trap Signaling Pathway\"\n",
       "[3] \"fMLP Signaling in Neutrophils\"                  "
      ]
     },
     "metadata": {},
     "output_type": "display_data"
    },
    {
     "data": {
      "text/html": [
       "<style>\n",
       ".list-inline {list-style: none; margin:0; padding: 0}\n",
       ".list-inline>li {display: inline-block}\n",
       ".list-inline>li:not(:last-child)::after {content: \"\\00b7\"; padding: 0 .5ex}\n",
       "</style>\n",
       "<ol class=list-inline><li>'Neutrophil degranulation'</li><li>'Neutrophil Extracellular Trap Signaling Pathway'</li></ol>\n"
      ],
      "text/latex": [
       "\\begin{enumerate*}\n",
       "\\item 'Neutrophil degranulation'\n",
       "\\item 'Neutrophil Extracellular Trap Signaling Pathway'\n",
       "\\end{enumerate*}\n"
      ],
      "text/markdown": [
       "1. 'Neutrophil degranulation'\n",
       "2. 'Neutrophil Extracellular Trap Signaling Pathway'\n",
       "\n",
       "\n"
      ],
      "text/plain": [
       "[1] \"Neutrophil degranulation\"                       \n",
       "[2] \"Neutrophil Extracellular Trap Signaling Pathway\""
      ]
     },
     "metadata": {},
     "output_type": "display_data"
    }
   ],
   "source": [
    "all_sig_path[grepl(\"eutrophil\",all_sig_path)]\n",
    "top4_sig_path[grepl(\"eutrophil\",top4_sig_path)]\n"
   ]
  },
  {
   "cell_type": "code",
   "execution_count": 21,
   "metadata": {
    "vscode": {
     "languageId": "r"
    }
   },
   "outputs": [
    {
     "data": {
      "text/html": [
       "<style>\n",
       ".list-inline {list-style: none; margin:0; padding: 0}\n",
       ".list-inline>li {display: inline-block}\n",
       ".list-inline>li:not(:last-child)::after {content: \"\\00b7\"; padding: 0 .5ex}\n",
       "</style>\n",
       "<ol class=list-inline><li>'tRNA processing in the mitochondrion'</li><li>'Transcriptional regulation of granulopoiesis'</li><li>'IL-8 Signaling'</li><li>'fMLP Signaling in Neutrophils'</li><li>'Response to elevated platelet cytosolic Ca2+'</li><li>'Senescence-Associated Secretory Phenotype (SASP)'</li><li>'Smooth Muscle Contraction'</li><li>'TP53 Regulates Metabolic Genes'</li><li>'Ephrin Receptor Signaling'</li><li>'Signaling by Rho Family GTPases'</li><li>'DNA Damage/Telomere Stress Induced Senescence'</li><li>'α-Adrenergic Signaling'</li><li>'Transcriptional regulation by RUNX3'</li><li>'Interferon alpha/beta signaling'</li><li>'Gap Junction Signaling'</li><li>'CXCR4 Signaling'</li><li>'CCR3 Signaling in Eosinophils'</li><li>'Platelet homeostasis'</li><li>'FAT10 Signaling Pathway'</li><li>'P2Y Purigenic Receptor Signaling Pathway'</li><li>'Apelin Endothelial Signaling Pathway'</li><li>'DNA methylation'</li><li>'Oxytocin in Brain Signaling Pathway'</li><li>'RAC Signaling'</li><li>'Androgen Signaling'</li><li>'Serotonin Receptor Signaling'</li><li>'Mitotic Roles of Polo-Like Kinase'</li><li>'Oxytocin Signaling Pathway'</li><li>'NoRC negatively regulates rRNA expression'</li><li>'Interleukin-4 and Interleukin-13 signaling'</li><li>'IL-1 Signaling'</li><li>'Formation of Fibrin Clot (Clotting Cascade)'</li><li>'Hypoxia Signaling in the Cardiovascular System'</li><li>'Epithelial Adherens Junction Signaling'</li><li>'GPER1 signaling'</li><li>'Sertoli Cell-Germ Cell Junction Signaling Pathway (Enhanced)'</li><li>'B-WICH complex positively regulates rRNA expression'</li><li>'Gαq Signaling'</li><li>'Ephrin B Signaling'</li><li>'Relaxin Signaling'</li><li>'Gαi Signaling'</li><li>'Macrophage Alternative Activation Signaling Pathway'</li><li>'Meiotic recombination'</li><li>'Activation of anterior HOX genes in hindbrain during early embryogenesis'</li><li>'ESR-mediated signaling'</li><li>'Colorectal Cancer Metastasis Signaling'</li><li>'Actin Cytoskeleton Signaling'</li><li>'Activin Inhibin Signaling Pathway'</li><li>'Nonhomologous End-Joining (NHEJ)'</li><li>'Integrin Signaling'</li><li>'Signal amplification'</li><li>'Activated PKN1 stimulates transcription of AR regulated genes KLK2 and KLK3'</li><li>'Thrombin Signaling'</li><li>'RUNX1 regulates megakaryocyte differentiation and platelet function'</li><li>'Opioid Signaling Pathway'</li><li>'Signaling by VEGF'</li><li>'Oxidative Stress Induced Senescence'</li><li>'IL-12 Signaling and Production in Macrophages'</li><li>'GNRH Signaling'</li><li>'DNA Double Strand Break Response'</li><li>'Telomere Maintenance'</li><li>'Amyloid fiber formation'</li><li>'Cardiac Hypertrophy Signaling (Enhanced)'</li><li>'PRC2 methylates histones and DNA'</li><li>'IL-33 Signaling Pathway'</li><li>'Mitotic Prophase'</li><li>'14-3-3-mediated Signaling'</li><li>'Inflammasome pathway'</li><li>'Immunogenic Cell Death Signaling Pathway'</li><li>'Opioid Signalling'</li><li>'Unfolded protein response'</li><li>'IL-10 Signaling'</li><li>'Cardiac Hypertrophy Signaling'</li><li>'Eicosanoid Signaling'</li><li>'HSP90 chaperone cycle for steroid hormone receptors in the presence of ligand'</li><li>'Nucleosome assembly'</li><li>'Vasopressin regulates renal water homeostasis via Aquaporins'</li><li>'Aggrephagy'</li><li>'ERCC6 (CSB) and EHMT2 (G9a) positively regulate rRNA expression'</li><li>'ABRA Signaling Pathway'</li><li>'ID1 Signaling Pathway'</li><li>'Pancreatic Secretion Signaling Pathway'</li><li>'Translocation of SLC2A4 (GLUT4) to the plasma membrane'</li><li>'Pyroptosis'</li><li>'Pyroptosis Signaling Pathway'</li><li>'Beta-catenin independent WNT signaling'</li><li>'Macroautophagy'</li><li>'Extra-nuclear estrogen signaling'</li><li>'RAB GEFs exchange GTP for GDP on RABs'</li><li>'Adrenomedullin signaling pathway'</li><li>'Superpathway of Inositol Phosphate Compounds'</li><li>'NRF2-mediated Oxidative Stress Response'</li><li>'Regulation of Cellular Mechanics by Calpain Protease'</li><li>'iNOS Signaling'</li><li>'Remodeling of Epithelial Adherens Junctions'</li><li>'SIRT1 negatively regulates rRNA expression'</li><li>'Leukocyte Extravasation Signaling'</li><li>'Pre-NOTCH Expression and Processing'</li><li>'Cytoprotection by HMOX1'</li><li>'ISGylation Signaling Pathway'</li><li>'MyD88:MAL(TIRAP) cascade initiated on plasma membrane'</li><li>'Antiproliferative Role of Somatostatin Receptor 2'</li><li>'Role of NFAT in Cardiac Hypertrophy'</li><li>'MHC class II antigen presentation'</li><li>'D-myo-inositol-5-phosphate Metabolism'</li><li>'Macrophage Classical Activation Signaling Pathway'</li><li>'Cardiac β-adrenergic Signaling'</li><li>'Detoxification of Reactive Oxygen Species'</li><li>'Gene and protein expression by JAK-STAT signaling after IL-12 stimulation'</li><li>'3-phosphoinositide Biosynthesis'</li><li>'IL-27 Signaling Pathway'</li><li>'RAB geranylgeranylation'</li><li>'G Beta Gamma Signaling'</li><li>'Thrombin signalling through proteinase activated receptors (PARs)'</li><li>'3-phosphoinositide Degradation'</li><li>'Apoptotic execution phase'</li><li>'Regulation of TLR by endogenous ligand'</li><li>'Endoplasmic Reticulum Stress Pathway'</li><li>'Protein folding'</li><li>'AMPK Signaling'</li><li>'Paxillin Signaling'</li><li>'NAD Signaling Pathway'</li><li>'Myelination Signaling Pathway'</li><li>'G alpha (z) signalling events'</li><li>'D-myo-inositol (1,4,5,6)-Tetrakisphosphate Biosynthesis'</li><li>'D-myo-inositol (3,4,5,6)-tetrakisphosphate Biosynthesis'</li><li>'ILK Signaling'</li><li>'Role of Hypercytokinemia/hyperchemokinemia in the Pathogenesis of Influenza'</li><li>'Docosahexaenoic Acid (DHA) Signaling'</li><li>'Integration of energy metabolism'</li><li>'Pyrimidine Deoxyribonucleotides De Novo Biosynthesis I'</li><li>'Gene Silencing by RNA'</li><li>'DDX58/IFIH1-mediated induction of interferon-alpha/beta'</li><li>'Renal Cell Carcinoma Signaling'</li><li>'Intra-Golgi and retrograde Golgi-to-ER traffic'</li><li>'Endothelin-1 Signaling'</li><li>'Semaphorin interactions'</li><li>'Dopamine-DARPP32 Feedback in cAMP Signaling'</li><li>'RAR Activation'</li><li>'FAT10 Cancer Signaling Pathway'</li><li>'Activation of kainate receptors upon glutamate binding'</li><li>'Aryl Hydrocarbon Receptor Signaling'</li><li>'CLEAR Signaling Pathway'</li><li>'Semaphorin Neuronal Repulsive Signaling Pathway'</li><li>'CDK5 Signaling'</li><li>'Phagosome Formation'</li><li>'Neuroinflammation Signaling Pathway'</li><li>'Gα12/13 Signaling'</li><li>'TBC/RABGAPs'</li><li>'Toll-like Receptor Cascades'</li><li>'PAK Signaling'</li><li>'Gαs Signaling'</li><li>'SUMOylation of DNA replication proteins'</li><li>'Coronavirus Replication Pathway'</li><li>'G-Protein Coupled Receptor Signaling'</li><li>'Cell surface interactions at the vascular wall'</li><li>'G-protein beta:gamma signalling'</li><li>'Regulation of lipid metabolism by PPARalpha'</li><li>'Signaling by Hippo'</li><li>'Molecular Mechanisms of Cancer'</li><li>'ATF6 (ATF6-alpha) activates chaperone genes'</li><li>'Osteoarthritis Pathway'</li><li>'Endocannabinoid Neuronal Synapse Pathway'</li><li>'Ferroptosis Signaling Pathway'</li><li>'Meiotic synapsis'</li><li>'The citric acid (TCA) cycle and respiratory electron transport'</li><li>'Syndecan interactions'</li><li>'Synaptic Long Term Potentiation'</li><li>'Orexin Signaling Pathway'</li><li>'Triglyceride metabolism'</li><li>'Late endosomal microautophagy'</li><li>'Inhibition of Angiogenesis by TSP1'</li><li>'CSDE1 Signaling Pathway'</li><li>'Breast Cancer Regulation by Stathmin1'</li><li>'Signal regulatory protein family interactions'</li><li>'Rap1 signalling'</li><li>'Chemokine Signaling'</li><li>'Interconversion of nucleotide di- and triphosphates'</li><li>'Wound Healing Signaling Pathway'</li><li>'RHO GTPases Activate WASPs and WAVEs'</li><li>'eNOS Signaling'</li><li>'MSP-RON Signaling in Macrophages Pathway'</li><li>'Role of Osteoclasts in Rheumatoid Arthritis Signaling Pathway'</li><li>'NAFLD Signaling Pathway'</li><li>'Sperm Motility'</li><li>'Actin Nucleation by ARP-WASP Complex'</li><li>'p38 MAPK Signaling'</li><li>'Macropinocytosis Signaling'</li></ol>\n"
      ],
      "text/latex": [
       "\\begin{enumerate*}\n",
       "\\item 'tRNA processing in the mitochondrion'\n",
       "\\item 'Transcriptional regulation of granulopoiesis'\n",
       "\\item 'IL-8 Signaling'\n",
       "\\item 'fMLP Signaling in Neutrophils'\n",
       "\\item 'Response to elevated platelet cytosolic Ca2+'\n",
       "\\item 'Senescence-Associated Secretory Phenotype (SASP)'\n",
       "\\item 'Smooth Muscle Contraction'\n",
       "\\item 'TP53 Regulates Metabolic Genes'\n",
       "\\item 'Ephrin Receptor Signaling'\n",
       "\\item 'Signaling by Rho Family GTPases'\n",
       "\\item 'DNA Damage/Telomere Stress Induced Senescence'\n",
       "\\item 'α-Adrenergic Signaling'\n",
       "\\item 'Transcriptional regulation by RUNX3'\n",
       "\\item 'Interferon alpha/beta signaling'\n",
       "\\item 'Gap Junction Signaling'\n",
       "\\item 'CXCR4 Signaling'\n",
       "\\item 'CCR3 Signaling in Eosinophils'\n",
       "\\item 'Platelet homeostasis'\n",
       "\\item 'FAT10 Signaling Pathway'\n",
       "\\item 'P2Y Purigenic Receptor Signaling Pathway'\n",
       "\\item 'Apelin Endothelial Signaling Pathway'\n",
       "\\item 'DNA methylation'\n",
       "\\item 'Oxytocin in Brain Signaling Pathway'\n",
       "\\item 'RAC Signaling'\n",
       "\\item 'Androgen Signaling'\n",
       "\\item 'Serotonin Receptor Signaling'\n",
       "\\item 'Mitotic Roles of Polo-Like Kinase'\n",
       "\\item 'Oxytocin Signaling Pathway'\n",
       "\\item 'NoRC negatively regulates rRNA expression'\n",
       "\\item 'Interleukin-4 and Interleukin-13 signaling'\n",
       "\\item 'IL-1 Signaling'\n",
       "\\item 'Formation of Fibrin Clot (Clotting Cascade)'\n",
       "\\item 'Hypoxia Signaling in the Cardiovascular System'\n",
       "\\item 'Epithelial Adherens Junction Signaling'\n",
       "\\item 'GPER1 signaling'\n",
       "\\item 'Sertoli Cell-Germ Cell Junction Signaling Pathway (Enhanced)'\n",
       "\\item 'B-WICH complex positively regulates rRNA expression'\n",
       "\\item 'Gαq Signaling'\n",
       "\\item 'Ephrin B Signaling'\n",
       "\\item 'Relaxin Signaling'\n",
       "\\item 'Gαi Signaling'\n",
       "\\item 'Macrophage Alternative Activation Signaling Pathway'\n",
       "\\item 'Meiotic recombination'\n",
       "\\item 'Activation of anterior HOX genes in hindbrain during early embryogenesis'\n",
       "\\item 'ESR-mediated signaling'\n",
       "\\item 'Colorectal Cancer Metastasis Signaling'\n",
       "\\item 'Actin Cytoskeleton Signaling'\n",
       "\\item 'Activin Inhibin Signaling Pathway'\n",
       "\\item 'Nonhomologous End-Joining (NHEJ)'\n",
       "\\item 'Integrin Signaling'\n",
       "\\item 'Signal amplification'\n",
       "\\item 'Activated PKN1 stimulates transcription of AR regulated genes KLK2 and KLK3'\n",
       "\\item 'Thrombin Signaling'\n",
       "\\item 'RUNX1 regulates megakaryocyte differentiation and platelet function'\n",
       "\\item 'Opioid Signaling Pathway'\n",
       "\\item 'Signaling by VEGF'\n",
       "\\item 'Oxidative Stress Induced Senescence'\n",
       "\\item 'IL-12 Signaling and Production in Macrophages'\n",
       "\\item 'GNRH Signaling'\n",
       "\\item 'DNA Double Strand Break Response'\n",
       "\\item 'Telomere Maintenance'\n",
       "\\item 'Amyloid fiber formation'\n",
       "\\item 'Cardiac Hypertrophy Signaling (Enhanced)'\n",
       "\\item 'PRC2 methylates histones and DNA'\n",
       "\\item 'IL-33 Signaling Pathway'\n",
       "\\item 'Mitotic Prophase'\n",
       "\\item '14-3-3-mediated Signaling'\n",
       "\\item 'Inflammasome pathway'\n",
       "\\item 'Immunogenic Cell Death Signaling Pathway'\n",
       "\\item 'Opioid Signalling'\n",
       "\\item 'Unfolded protein response'\n",
       "\\item 'IL-10 Signaling'\n",
       "\\item 'Cardiac Hypertrophy Signaling'\n",
       "\\item 'Eicosanoid Signaling'\n",
       "\\item 'HSP90 chaperone cycle for steroid hormone receptors in the presence of ligand'\n",
       "\\item 'Nucleosome assembly'\n",
       "\\item 'Vasopressin regulates renal water homeostasis via Aquaporins'\n",
       "\\item 'Aggrephagy'\n",
       "\\item 'ERCC6 (CSB) and EHMT2 (G9a) positively regulate rRNA expression'\n",
       "\\item 'ABRA Signaling Pathway'\n",
       "\\item 'ID1 Signaling Pathway'\n",
       "\\item 'Pancreatic Secretion Signaling Pathway'\n",
       "\\item 'Translocation of SLC2A4 (GLUT4) to the plasma membrane'\n",
       "\\item 'Pyroptosis'\n",
       "\\item 'Pyroptosis Signaling Pathway'\n",
       "\\item 'Beta-catenin independent WNT signaling'\n",
       "\\item 'Macroautophagy'\n",
       "\\item 'Extra-nuclear estrogen signaling'\n",
       "\\item 'RAB GEFs exchange GTP for GDP on RABs'\n",
       "\\item 'Adrenomedullin signaling pathway'\n",
       "\\item 'Superpathway of Inositol Phosphate Compounds'\n",
       "\\item 'NRF2-mediated Oxidative Stress Response'\n",
       "\\item 'Regulation of Cellular Mechanics by Calpain Protease'\n",
       "\\item 'iNOS Signaling'\n",
       "\\item 'Remodeling of Epithelial Adherens Junctions'\n",
       "\\item 'SIRT1 negatively regulates rRNA expression'\n",
       "\\item 'Leukocyte Extravasation Signaling'\n",
       "\\item 'Pre-NOTCH Expression and Processing'\n",
       "\\item 'Cytoprotection by HMOX1'\n",
       "\\item 'ISGylation Signaling Pathway'\n",
       "\\item 'MyD88:MAL(TIRAP) cascade initiated on plasma membrane'\n",
       "\\item 'Antiproliferative Role of Somatostatin Receptor 2'\n",
       "\\item 'Role of NFAT in Cardiac Hypertrophy'\n",
       "\\item 'MHC class II antigen presentation'\n",
       "\\item 'D-myo-inositol-5-phosphate Metabolism'\n",
       "\\item 'Macrophage Classical Activation Signaling Pathway'\n",
       "\\item 'Cardiac β-adrenergic Signaling'\n",
       "\\item 'Detoxification of Reactive Oxygen Species'\n",
       "\\item 'Gene and protein expression by JAK-STAT signaling after IL-12 stimulation'\n",
       "\\item '3-phosphoinositide Biosynthesis'\n",
       "\\item 'IL-27 Signaling Pathway'\n",
       "\\item 'RAB geranylgeranylation'\n",
       "\\item 'G Beta Gamma Signaling'\n",
       "\\item 'Thrombin signalling through proteinase activated receptors (PARs)'\n",
       "\\item '3-phosphoinositide Degradation'\n",
       "\\item 'Apoptotic execution phase'\n",
       "\\item 'Regulation of TLR by endogenous ligand'\n",
       "\\item 'Endoplasmic Reticulum Stress Pathway'\n",
       "\\item 'Protein folding'\n",
       "\\item 'AMPK Signaling'\n",
       "\\item 'Paxillin Signaling'\n",
       "\\item 'NAD Signaling Pathway'\n",
       "\\item 'Myelination Signaling Pathway'\n",
       "\\item 'G alpha (z) signalling events'\n",
       "\\item 'D-myo-inositol (1,4,5,6)-Tetrakisphosphate Biosynthesis'\n",
       "\\item 'D-myo-inositol (3,4,5,6)-tetrakisphosphate Biosynthesis'\n",
       "\\item 'ILK Signaling'\n",
       "\\item 'Role of Hypercytokinemia/hyperchemokinemia in the Pathogenesis of Influenza'\n",
       "\\item 'Docosahexaenoic Acid (DHA) Signaling'\n",
       "\\item 'Integration of energy metabolism'\n",
       "\\item 'Pyrimidine Deoxyribonucleotides De Novo Biosynthesis I'\n",
       "\\item 'Gene Silencing by RNA'\n",
       "\\item 'DDX58/IFIH1-mediated induction of interferon-alpha/beta'\n",
       "\\item 'Renal Cell Carcinoma Signaling'\n",
       "\\item 'Intra-Golgi and retrograde Golgi-to-ER traffic'\n",
       "\\item 'Endothelin-1 Signaling'\n",
       "\\item 'Semaphorin interactions'\n",
       "\\item 'Dopamine-DARPP32 Feedback in cAMP Signaling'\n",
       "\\item 'RAR Activation'\n",
       "\\item 'FAT10 Cancer Signaling Pathway'\n",
       "\\item 'Activation of kainate receptors upon glutamate binding'\n",
       "\\item 'Aryl Hydrocarbon Receptor Signaling'\n",
       "\\item 'CLEAR Signaling Pathway'\n",
       "\\item 'Semaphorin Neuronal Repulsive Signaling Pathway'\n",
       "\\item 'CDK5 Signaling'\n",
       "\\item 'Phagosome Formation'\n",
       "\\item 'Neuroinflammation Signaling Pathway'\n",
       "\\item 'Gα12/13 Signaling'\n",
       "\\item 'TBC/RABGAPs'\n",
       "\\item 'Toll-like Receptor Cascades'\n",
       "\\item 'PAK Signaling'\n",
       "\\item 'Gαs Signaling'\n",
       "\\item 'SUMOylation of DNA replication proteins'\n",
       "\\item 'Coronavirus Replication Pathway'\n",
       "\\item 'G-Protein Coupled Receptor Signaling'\n",
       "\\item 'Cell surface interactions at the vascular wall'\n",
       "\\item 'G-protein beta:gamma signalling'\n",
       "\\item 'Regulation of lipid metabolism by PPARalpha'\n",
       "\\item 'Signaling by Hippo'\n",
       "\\item 'Molecular Mechanisms of Cancer'\n",
       "\\item 'ATF6 (ATF6-alpha) activates chaperone genes'\n",
       "\\item 'Osteoarthritis Pathway'\n",
       "\\item 'Endocannabinoid Neuronal Synapse Pathway'\n",
       "\\item 'Ferroptosis Signaling Pathway'\n",
       "\\item 'Meiotic synapsis'\n",
       "\\item 'The citric acid (TCA) cycle and respiratory electron transport'\n",
       "\\item 'Syndecan interactions'\n",
       "\\item 'Synaptic Long Term Potentiation'\n",
       "\\item 'Orexin Signaling Pathway'\n",
       "\\item 'Triglyceride metabolism'\n",
       "\\item 'Late endosomal microautophagy'\n",
       "\\item 'Inhibition of Angiogenesis by TSP1'\n",
       "\\item 'CSDE1 Signaling Pathway'\n",
       "\\item 'Breast Cancer Regulation by Stathmin1'\n",
       "\\item 'Signal regulatory protein family interactions'\n",
       "\\item 'Rap1 signalling'\n",
       "\\item 'Chemokine Signaling'\n",
       "\\item 'Interconversion of nucleotide di- and triphosphates'\n",
       "\\item 'Wound Healing Signaling Pathway'\n",
       "\\item 'RHO GTPases Activate WASPs and WAVEs'\n",
       "\\item 'eNOS Signaling'\n",
       "\\item 'MSP-RON Signaling in Macrophages Pathway'\n",
       "\\item 'Role of Osteoclasts in Rheumatoid Arthritis Signaling Pathway'\n",
       "\\item 'NAFLD Signaling Pathway'\n",
       "\\item 'Sperm Motility'\n",
       "\\item 'Actin Nucleation by ARP-WASP Complex'\n",
       "\\item 'p38 MAPK Signaling'\n",
       "\\item 'Macropinocytosis Signaling'\n",
       "\\end{enumerate*}\n"
      ],
      "text/markdown": [
       "1. 'tRNA processing in the mitochondrion'\n",
       "2. 'Transcriptional regulation of granulopoiesis'\n",
       "3. 'IL-8 Signaling'\n",
       "4. 'fMLP Signaling in Neutrophils'\n",
       "5. 'Response to elevated platelet cytosolic Ca2+'\n",
       "6. 'Senescence-Associated Secretory Phenotype (SASP)'\n",
       "7. 'Smooth Muscle Contraction'\n",
       "8. 'TP53 Regulates Metabolic Genes'\n",
       "9. 'Ephrin Receptor Signaling'\n",
       "10. 'Signaling by Rho Family GTPases'\n",
       "11. 'DNA Damage/Telomere Stress Induced Senescence'\n",
       "12. 'α-Adrenergic Signaling'\n",
       "13. 'Transcriptional regulation by RUNX3'\n",
       "14. 'Interferon alpha/beta signaling'\n",
       "15. 'Gap Junction Signaling'\n",
       "16. 'CXCR4 Signaling'\n",
       "17. 'CCR3 Signaling in Eosinophils'\n",
       "18. 'Platelet homeostasis'\n",
       "19. 'FAT10 Signaling Pathway'\n",
       "20. 'P2Y Purigenic Receptor Signaling Pathway'\n",
       "21. 'Apelin Endothelial Signaling Pathway'\n",
       "22. 'DNA methylation'\n",
       "23. 'Oxytocin in Brain Signaling Pathway'\n",
       "24. 'RAC Signaling'\n",
       "25. 'Androgen Signaling'\n",
       "26. 'Serotonin Receptor Signaling'\n",
       "27. 'Mitotic Roles of Polo-Like Kinase'\n",
       "28. 'Oxytocin Signaling Pathway'\n",
       "29. 'NoRC negatively regulates rRNA expression'\n",
       "30. 'Interleukin-4 and Interleukin-13 signaling'\n",
       "31. 'IL-1 Signaling'\n",
       "32. 'Formation of Fibrin Clot (Clotting Cascade)'\n",
       "33. 'Hypoxia Signaling in the Cardiovascular System'\n",
       "34. 'Epithelial Adherens Junction Signaling'\n",
       "35. 'GPER1 signaling'\n",
       "36. 'Sertoli Cell-Germ Cell Junction Signaling Pathway (Enhanced)'\n",
       "37. 'B-WICH complex positively regulates rRNA expression'\n",
       "38. 'Gαq Signaling'\n",
       "39. 'Ephrin B Signaling'\n",
       "40. 'Relaxin Signaling'\n",
       "41. 'Gαi Signaling'\n",
       "42. 'Macrophage Alternative Activation Signaling Pathway'\n",
       "43. 'Meiotic recombination'\n",
       "44. 'Activation of anterior HOX genes in hindbrain during early embryogenesis'\n",
       "45. 'ESR-mediated signaling'\n",
       "46. 'Colorectal Cancer Metastasis Signaling'\n",
       "47. 'Actin Cytoskeleton Signaling'\n",
       "48. 'Activin Inhibin Signaling Pathway'\n",
       "49. 'Nonhomologous End-Joining (NHEJ)'\n",
       "50. 'Integrin Signaling'\n",
       "51. 'Signal amplification'\n",
       "52. 'Activated PKN1 stimulates transcription of AR regulated genes KLK2 and KLK3'\n",
       "53. 'Thrombin Signaling'\n",
       "54. 'RUNX1 regulates megakaryocyte differentiation and platelet function'\n",
       "55. 'Opioid Signaling Pathway'\n",
       "56. 'Signaling by VEGF'\n",
       "57. 'Oxidative Stress Induced Senescence'\n",
       "58. 'IL-12 Signaling and Production in Macrophages'\n",
       "59. 'GNRH Signaling'\n",
       "60. 'DNA Double Strand Break Response'\n",
       "61. 'Telomere Maintenance'\n",
       "62. 'Amyloid fiber formation'\n",
       "63. 'Cardiac Hypertrophy Signaling (Enhanced)'\n",
       "64. 'PRC2 methylates histones and DNA'\n",
       "65. 'IL-33 Signaling Pathway'\n",
       "66. 'Mitotic Prophase'\n",
       "67. '14-3-3-mediated Signaling'\n",
       "68. 'Inflammasome pathway'\n",
       "69. 'Immunogenic Cell Death Signaling Pathway'\n",
       "70. 'Opioid Signalling'\n",
       "71. 'Unfolded protein response'\n",
       "72. 'IL-10 Signaling'\n",
       "73. 'Cardiac Hypertrophy Signaling'\n",
       "74. 'Eicosanoid Signaling'\n",
       "75. 'HSP90 chaperone cycle for steroid hormone receptors in the presence of ligand'\n",
       "76. 'Nucleosome assembly'\n",
       "77. 'Vasopressin regulates renal water homeostasis via Aquaporins'\n",
       "78. 'Aggrephagy'\n",
       "79. 'ERCC6 (CSB) and EHMT2 (G9a) positively regulate rRNA expression'\n",
       "80. 'ABRA Signaling Pathway'\n",
       "81. 'ID1 Signaling Pathway'\n",
       "82. 'Pancreatic Secretion Signaling Pathway'\n",
       "83. 'Translocation of SLC2A4 (GLUT4) to the plasma membrane'\n",
       "84. 'Pyroptosis'\n",
       "85. 'Pyroptosis Signaling Pathway'\n",
       "86. 'Beta-catenin independent WNT signaling'\n",
       "87. 'Macroautophagy'\n",
       "88. 'Extra-nuclear estrogen signaling'\n",
       "89. 'RAB GEFs exchange GTP for GDP on RABs'\n",
       "90. 'Adrenomedullin signaling pathway'\n",
       "91. 'Superpathway of Inositol Phosphate Compounds'\n",
       "92. 'NRF2-mediated Oxidative Stress Response'\n",
       "93. 'Regulation of Cellular Mechanics by Calpain Protease'\n",
       "94. 'iNOS Signaling'\n",
       "95. 'Remodeling of Epithelial Adherens Junctions'\n",
       "96. 'SIRT1 negatively regulates rRNA expression'\n",
       "97. 'Leukocyte Extravasation Signaling'\n",
       "98. 'Pre-NOTCH Expression and Processing'\n",
       "99. 'Cytoprotection by HMOX1'\n",
       "100. 'ISGylation Signaling Pathway'\n",
       "101. 'MyD88:MAL(TIRAP) cascade initiated on plasma membrane'\n",
       "102. 'Antiproliferative Role of Somatostatin Receptor 2'\n",
       "103. 'Role of NFAT in Cardiac Hypertrophy'\n",
       "104. 'MHC class II antigen presentation'\n",
       "105. 'D-myo-inositol-5-phosphate Metabolism'\n",
       "106. 'Macrophage Classical Activation Signaling Pathway'\n",
       "107. 'Cardiac β-adrenergic Signaling'\n",
       "108. 'Detoxification of Reactive Oxygen Species'\n",
       "109. 'Gene and protein expression by JAK-STAT signaling after IL-12 stimulation'\n",
       "110. '3-phosphoinositide Biosynthesis'\n",
       "111. 'IL-27 Signaling Pathway'\n",
       "112. 'RAB geranylgeranylation'\n",
       "113. 'G Beta Gamma Signaling'\n",
       "114. 'Thrombin signalling through proteinase activated receptors (PARs)'\n",
       "115. '3-phosphoinositide Degradation'\n",
       "116. 'Apoptotic execution phase'\n",
       "117. 'Regulation of TLR by endogenous ligand'\n",
       "118. 'Endoplasmic Reticulum Stress Pathway'\n",
       "119. 'Protein folding'\n",
       "120. 'AMPK Signaling'\n",
       "121. 'Paxillin Signaling'\n",
       "122. 'NAD Signaling Pathway'\n",
       "123. 'Myelination Signaling Pathway'\n",
       "124. 'G alpha (z) signalling events'\n",
       "125. 'D-myo-inositol (1,4,5,6)-Tetrakisphosphate Biosynthesis'\n",
       "126. 'D-myo-inositol (3,4,5,6)-tetrakisphosphate Biosynthesis'\n",
       "127. 'ILK Signaling'\n",
       "128. 'Role of Hypercytokinemia/hyperchemokinemia in the Pathogenesis of Influenza'\n",
       "129. 'Docosahexaenoic Acid (DHA) Signaling'\n",
       "130. 'Integration of energy metabolism'\n",
       "131. 'Pyrimidine Deoxyribonucleotides De Novo Biosynthesis I'\n",
       "132. 'Gene Silencing by RNA'\n",
       "133. 'DDX58/IFIH1-mediated induction of interferon-alpha/beta'\n",
       "134. 'Renal Cell Carcinoma Signaling'\n",
       "135. 'Intra-Golgi and retrograde Golgi-to-ER traffic'\n",
       "136. 'Endothelin-1 Signaling'\n",
       "137. 'Semaphorin interactions'\n",
       "138. 'Dopamine-DARPP32 Feedback in cAMP Signaling'\n",
       "139. 'RAR Activation'\n",
       "140. 'FAT10 Cancer Signaling Pathway'\n",
       "141. 'Activation of kainate receptors upon glutamate binding'\n",
       "142. 'Aryl Hydrocarbon Receptor Signaling'\n",
       "143. 'CLEAR Signaling Pathway'\n",
       "144. 'Semaphorin Neuronal Repulsive Signaling Pathway'\n",
       "145. 'CDK5 Signaling'\n",
       "146. 'Phagosome Formation'\n",
       "147. 'Neuroinflammation Signaling Pathway'\n",
       "148. 'Gα12/13 Signaling'\n",
       "149. 'TBC/RABGAPs'\n",
       "150. 'Toll-like Receptor Cascades'\n",
       "151. 'PAK Signaling'\n",
       "152. 'Gαs Signaling'\n",
       "153. 'SUMOylation of DNA replication proteins'\n",
       "154. 'Coronavirus Replication Pathway'\n",
       "155. 'G-Protein Coupled Receptor Signaling'\n",
       "156. 'Cell surface interactions at the vascular wall'\n",
       "157. 'G-protein beta:gamma signalling'\n",
       "158. 'Regulation of lipid metabolism by PPARalpha'\n",
       "159. 'Signaling by Hippo'\n",
       "160. 'Molecular Mechanisms of Cancer'\n",
       "161. 'ATF6 (ATF6-alpha) activates chaperone genes'\n",
       "162. 'Osteoarthritis Pathway'\n",
       "163. 'Endocannabinoid Neuronal Synapse Pathway'\n",
       "164. 'Ferroptosis Signaling Pathway'\n",
       "165. 'Meiotic synapsis'\n",
       "166. 'The citric acid (TCA) cycle and respiratory electron transport'\n",
       "167. 'Syndecan interactions'\n",
       "168. 'Synaptic Long Term Potentiation'\n",
       "169. 'Orexin Signaling Pathway'\n",
       "170. 'Triglyceride metabolism'\n",
       "171. 'Late endosomal microautophagy'\n",
       "172. 'Inhibition of Angiogenesis by TSP1'\n",
       "173. 'CSDE1 Signaling Pathway'\n",
       "174. 'Breast Cancer Regulation by Stathmin1'\n",
       "175. 'Signal regulatory protein family interactions'\n",
       "176. 'Rap1 signalling'\n",
       "177. 'Chemokine Signaling'\n",
       "178. 'Interconversion of nucleotide di- and triphosphates'\n",
       "179. 'Wound Healing Signaling Pathway'\n",
       "180. 'RHO GTPases Activate WASPs and WAVEs'\n",
       "181. 'eNOS Signaling'\n",
       "182. 'MSP-RON Signaling in Macrophages Pathway'\n",
       "183. 'Role of Osteoclasts in Rheumatoid Arthritis Signaling Pathway'\n",
       "184. 'NAFLD Signaling Pathway'\n",
       "185. 'Sperm Motility'\n",
       "186. 'Actin Nucleation by ARP-WASP Complex'\n",
       "187. 'p38 MAPK Signaling'\n",
       "188. 'Macropinocytosis Signaling'\n",
       "\n",
       "\n"
      ],
      "text/plain": [
       "  [1] \"tRNA processing in the mitochondrion\"                                         \n",
       "  [2] \"Transcriptional regulation of granulopoiesis\"                                 \n",
       "  [3] \"IL-8 Signaling\"                                                               \n",
       "  [4] \"fMLP Signaling in Neutrophils\"                                                \n",
       "  [5] \"Response to elevated platelet cytosolic Ca2+\"                                 \n",
       "  [6] \"Senescence-Associated Secretory Phenotype (SASP)\"                             \n",
       "  [7] \"Smooth Muscle Contraction\"                                                    \n",
       "  [8] \"TP53 Regulates Metabolic Genes\"                                               \n",
       "  [9] \"Ephrin Receptor Signaling\"                                                    \n",
       " [10] \"Signaling by Rho Family GTPases\"                                              \n",
       " [11] \"DNA Damage/Telomere Stress Induced Senescence\"                                \n",
       " [12] \"α-Adrenergic Signaling\"                                                       \n",
       " [13] \"Transcriptional regulation by RUNX3\"                                          \n",
       " [14] \"Interferon alpha/beta signaling\"                                              \n",
       " [15] \"Gap Junction Signaling\"                                                       \n",
       " [16] \"CXCR4 Signaling\"                                                              \n",
       " [17] \"CCR3 Signaling in Eosinophils\"                                                \n",
       " [18] \"Platelet homeostasis\"                                                         \n",
       " [19] \"FAT10 Signaling Pathway\"                                                      \n",
       " [20] \"P2Y Purigenic Receptor Signaling Pathway\"                                     \n",
       " [21] \"Apelin Endothelial Signaling Pathway\"                                         \n",
       " [22] \"DNA methylation\"                                                              \n",
       " [23] \"Oxytocin in Brain Signaling Pathway\"                                          \n",
       " [24] \"RAC Signaling\"                                                                \n",
       " [25] \"Androgen Signaling\"                                                           \n",
       " [26] \"Serotonin Receptor Signaling\"                                                 \n",
       " [27] \"Mitotic Roles of Polo-Like Kinase\"                                            \n",
       " [28] \"Oxytocin Signaling Pathway\"                                                   \n",
       " [29] \"NoRC negatively regulates rRNA expression\"                                    \n",
       " [30] \"Interleukin-4 and Interleukin-13 signaling\"                                   \n",
       " [31] \"IL-1 Signaling\"                                                               \n",
       " [32] \"Formation of Fibrin Clot (Clotting Cascade)\"                                  \n",
       " [33] \"Hypoxia Signaling in the Cardiovascular System\"                               \n",
       " [34] \"Epithelial Adherens Junction Signaling\"                                       \n",
       " [35] \"GPER1 signaling\"                                                              \n",
       " [36] \"Sertoli Cell-Germ Cell Junction Signaling Pathway (Enhanced)\"                 \n",
       " [37] \"B-WICH complex positively regulates rRNA expression\"                          \n",
       " [38] \"Gαq Signaling\"                                                                \n",
       " [39] \"Ephrin B Signaling\"                                                           \n",
       " [40] \"Relaxin Signaling\"                                                            \n",
       " [41] \"Gαi Signaling\"                                                                \n",
       " [42] \"Macrophage Alternative Activation Signaling Pathway\"                          \n",
       " [43] \"Meiotic recombination\"                                                        \n",
       " [44] \"Activation of anterior HOX genes in hindbrain during early embryogenesis\"     \n",
       " [45] \"ESR-mediated signaling\"                                                       \n",
       " [46] \"Colorectal Cancer Metastasis Signaling\"                                       \n",
       " [47] \"Actin Cytoskeleton Signaling\"                                                 \n",
       " [48] \"Activin Inhibin Signaling Pathway\"                                            \n",
       " [49] \"Nonhomologous End-Joining (NHEJ)\"                                             \n",
       " [50] \"Integrin Signaling\"                                                           \n",
       " [51] \"Signal amplification\"                                                         \n",
       " [52] \"Activated PKN1 stimulates transcription of AR regulated genes KLK2 and KLK3\"  \n",
       " [53] \"Thrombin Signaling\"                                                           \n",
       " [54] \"RUNX1 regulates megakaryocyte differentiation and platelet function\"          \n",
       " [55] \"Opioid Signaling Pathway\"                                                     \n",
       " [56] \"Signaling by VEGF\"                                                            \n",
       " [57] \"Oxidative Stress Induced Senescence\"                                          \n",
       " [58] \"IL-12 Signaling and Production in Macrophages\"                                \n",
       " [59] \"GNRH Signaling\"                                                               \n",
       " [60] \"DNA Double Strand Break Response\"                                             \n",
       " [61] \"Telomere Maintenance\"                                                         \n",
       " [62] \"Amyloid fiber formation\"                                                      \n",
       " [63] \"Cardiac Hypertrophy Signaling (Enhanced)\"                                     \n",
       " [64] \"PRC2 methylates histones and DNA\"                                             \n",
       " [65] \"IL-33 Signaling Pathway\"                                                      \n",
       " [66] \"Mitotic Prophase\"                                                             \n",
       " [67] \"14-3-3-mediated Signaling\"                                                    \n",
       " [68] \"Inflammasome pathway\"                                                         \n",
       " [69] \"Immunogenic Cell Death Signaling Pathway\"                                     \n",
       " [70] \"Opioid Signalling\"                                                            \n",
       " [71] \"Unfolded protein response\"                                                    \n",
       " [72] \"IL-10 Signaling\"                                                              \n",
       " [73] \"Cardiac Hypertrophy Signaling\"                                                \n",
       " [74] \"Eicosanoid Signaling\"                                                         \n",
       " [75] \"HSP90 chaperone cycle for steroid hormone receptors in the presence of ligand\"\n",
       " [76] \"Nucleosome assembly\"                                                          \n",
       " [77] \"Vasopressin regulates renal water homeostasis via Aquaporins\"                 \n",
       " [78] \"Aggrephagy\"                                                                   \n",
       " [79] \"ERCC6 (CSB) and EHMT2 (G9a) positively regulate rRNA expression\"              \n",
       " [80] \"ABRA Signaling Pathway\"                                                       \n",
       " [81] \"ID1 Signaling Pathway\"                                                        \n",
       " [82] \"Pancreatic Secretion Signaling Pathway\"                                       \n",
       " [83] \"Translocation of SLC2A4 (GLUT4) to the plasma membrane\"                       \n",
       " [84] \"Pyroptosis\"                                                                   \n",
       " [85] \"Pyroptosis Signaling Pathway\"                                                 \n",
       " [86] \"Beta-catenin independent WNT signaling\"                                       \n",
       " [87] \"Macroautophagy\"                                                               \n",
       " [88] \"Extra-nuclear estrogen signaling\"                                             \n",
       " [89] \"RAB GEFs exchange GTP for GDP on RABs\"                                        \n",
       " [90] \"Adrenomedullin signaling pathway\"                                             \n",
       " [91] \"Superpathway of Inositol Phosphate Compounds\"                                 \n",
       " [92] \"NRF2-mediated Oxidative Stress Response\"                                      \n",
       " [93] \"Regulation of Cellular Mechanics by Calpain Protease\"                         \n",
       " [94] \"iNOS Signaling\"                                                               \n",
       " [95] \"Remodeling of Epithelial Adherens Junctions\"                                  \n",
       " [96] \"SIRT1 negatively regulates rRNA expression\"                                   \n",
       " [97] \"Leukocyte Extravasation Signaling\"                                            \n",
       " [98] \"Pre-NOTCH Expression and Processing\"                                          \n",
       " [99] \"Cytoprotection by HMOX1\"                                                      \n",
       "[100] \"ISGylation Signaling Pathway\"                                                 \n",
       "[101] \"MyD88:MAL(TIRAP) cascade initiated on plasma membrane\"                        \n",
       "[102] \"Antiproliferative Role of Somatostatin Receptor 2\"                            \n",
       "[103] \"Role of NFAT in Cardiac Hypertrophy\"                                          \n",
       "[104] \"MHC class II antigen presentation\"                                            \n",
       "[105] \"D-myo-inositol-5-phosphate Metabolism\"                                        \n",
       "[106] \"Macrophage Classical Activation Signaling Pathway\"                            \n",
       "[107] \"Cardiac β-adrenergic Signaling\"                                               \n",
       "[108] \"Detoxification of Reactive Oxygen Species\"                                    \n",
       "[109] \"Gene and protein expression by JAK-STAT signaling after IL-12 stimulation\"    \n",
       "[110] \"3-phosphoinositide Biosynthesis\"                                              \n",
       "[111] \"IL-27 Signaling Pathway\"                                                      \n",
       "[112] \"RAB geranylgeranylation\"                                                      \n",
       "[113] \"G Beta Gamma Signaling\"                                                       \n",
       "[114] \"Thrombin signalling through proteinase activated receptors (PARs)\"            \n",
       "[115] \"3-phosphoinositide Degradation\"                                               \n",
       "[116] \"Apoptotic execution phase\"                                                    \n",
       "[117] \"Regulation of TLR by endogenous ligand\"                                       \n",
       "[118] \"Endoplasmic Reticulum Stress Pathway\"                                         \n",
       "[119] \"Protein folding\"                                                              \n",
       "[120] \"AMPK Signaling\"                                                               \n",
       "[121] \"Paxillin Signaling\"                                                           \n",
       "[122] \"NAD Signaling Pathway\"                                                        \n",
       "[123] \"Myelination Signaling Pathway\"                                                \n",
       "[124] \"G alpha (z) signalling events\"                                                \n",
       "[125] \"D-myo-inositol (1,4,5,6)-Tetrakisphosphate Biosynthesis\"                      \n",
       "[126] \"D-myo-inositol (3,4,5,6)-tetrakisphosphate Biosynthesis\"                      \n",
       "[127] \"ILK Signaling\"                                                                \n",
       "[128] \"Role of Hypercytokinemia/hyperchemokinemia in the Pathogenesis of Influenza\"  \n",
       "[129] \"Docosahexaenoic Acid (DHA) Signaling\"                                         \n",
       "[130] \"Integration of energy metabolism\"                                             \n",
       "[131] \"Pyrimidine Deoxyribonucleotides De Novo Biosynthesis I\"                       \n",
       "[132] \"Gene Silencing by RNA\"                                                        \n",
       "[133] \"DDX58/IFIH1-mediated induction of interferon-alpha/beta\"                      \n",
       "[134] \"Renal Cell Carcinoma Signaling\"                                               \n",
       "[135] \"Intra-Golgi and retrograde Golgi-to-ER traffic\"                               \n",
       "[136] \"Endothelin-1 Signaling\"                                                       \n",
       "[137] \"Semaphorin interactions\"                                                      \n",
       "[138] \"Dopamine-DARPP32 Feedback in cAMP Signaling\"                                  \n",
       "[139] \"RAR Activation\"                                                               \n",
       "[140] \"FAT10 Cancer Signaling Pathway\"                                               \n",
       "[141] \"Activation of kainate receptors upon glutamate binding\"                       \n",
       "[142] \"Aryl Hydrocarbon Receptor Signaling\"                                          \n",
       "[143] \"CLEAR Signaling Pathway\"                                                      \n",
       "[144] \"Semaphorin Neuronal Repulsive Signaling Pathway\"                              \n",
       "[145] \"CDK5 Signaling\"                                                               \n",
       "[146] \"Phagosome Formation\"                                                          \n",
       "[147] \"Neuroinflammation Signaling Pathway\"                                          \n",
       "[148] \"Gα12/13 Signaling\"                                                            \n",
       "[149] \"TBC/RABGAPs\"                                                                  \n",
       "[150] \"Toll-like Receptor Cascades\"                                                  \n",
       "[151] \"PAK Signaling\"                                                                \n",
       "[152] \"Gαs Signaling\"                                                                \n",
       "[153] \"SUMOylation of DNA replication proteins\"                                      \n",
       "[154] \"Coronavirus Replication Pathway\"                                              \n",
       "[155] \"G-Protein Coupled Receptor Signaling\"                                         \n",
       "[156] \"Cell surface interactions at the vascular wall\"                               \n",
       "[157] \"G-protein beta:gamma signalling\"                                              \n",
       "[158] \"Regulation of lipid metabolism by PPARalpha\"                                  \n",
       "[159] \"Signaling by Hippo\"                                                           \n",
       "[160] \"Molecular Mechanisms of Cancer\"                                               \n",
       "[161] \"ATF6 (ATF6-alpha) activates chaperone genes\"                                  \n",
       "[162] \"Osteoarthritis Pathway\"                                                       \n",
       "[163] \"Endocannabinoid Neuronal Synapse Pathway\"                                     \n",
       "[164] \"Ferroptosis Signaling Pathway\"                                                \n",
       "[165] \"Meiotic synapsis\"                                                             \n",
       "[166] \"The citric acid (TCA) cycle and respiratory electron transport\"               \n",
       "[167] \"Syndecan interactions\"                                                        \n",
       "[168] \"Synaptic Long Term Potentiation\"                                              \n",
       "[169] \"Orexin Signaling Pathway\"                                                     \n",
       "[170] \"Triglyceride metabolism\"                                                      \n",
       "[171] \"Late endosomal microautophagy\"                                                \n",
       "[172] \"Inhibition of Angiogenesis by TSP1\"                                           \n",
       "[173] \"CSDE1 Signaling Pathway\"                                                      \n",
       "[174] \"Breast Cancer Regulation by Stathmin1\"                                        \n",
       "[175] \"Signal regulatory protein family interactions\"                                \n",
       "[176] \"Rap1 signalling\"                                                              \n",
       "[177] \"Chemokine Signaling\"                                                          \n",
       "[178] \"Interconversion of nucleotide di- and triphosphates\"                          \n",
       "[179] \"Wound Healing Signaling Pathway\"                                              \n",
       "[180] \"RHO GTPases Activate WASPs and WAVEs\"                                         \n",
       "[181] \"eNOS Signaling\"                                                               \n",
       "[182] \"MSP-RON Signaling in Macrophages Pathway\"                                     \n",
       "[183] \"Role of Osteoclasts in Rheumatoid Arthritis Signaling Pathway\"                \n",
       "[184] \"NAFLD Signaling Pathway\"                                                      \n",
       "[185] \"Sperm Motility\"                                                               \n",
       "[186] \"Actin Nucleation by ARP-WASP Complex\"                                         \n",
       "[187] \"p38 MAPK Signaling\"                                                           \n",
       "[188] \"Macropinocytosis Signaling\"                                                   "
      ]
     },
     "metadata": {},
     "output_type": "display_data"
    }
   ],
   "source": [
    "# setdiff(top4_sig_path,all_sig_path) \n",
    "setdiff(all_sig_path, top4_sig_path) \n"
   ]
  },
  {
   "cell_type": "code",
   "execution_count": 13,
   "metadata": {
    "vscode": {
     "languageId": "r"
    }
   },
   "outputs": [
    {
     "data": {
      "text/html": [
       "<table class=\"dataframe\">\n",
       "<caption>A data.frame: 6 × 6</caption>\n",
       "<thead>\n",
       "\t<tr><th></th><th scope=col>pathway</th><th scope=col>neglog_pval</th><th scope=col>ratio</th><th scope=col>z.score</th><th scope=col>genes</th><th scope=col>X</th></tr>\n",
       "\t<tr><th></th><th scope=col>&lt;chr&gt;</th><th scope=col>&lt;dbl&gt;</th><th scope=col>&lt;dbl&gt;</th><th scope=col>&lt;dbl&gt;</th><th scope=col>&lt;chr&gt;</th><th scope=col>&lt;lgl&gt;</th></tr>\n",
       "</thead>\n",
       "<tbody>\n",
       "\t<tr><th scope=row>1</th><td>Neutrophil degranulation                       </td><td>50.5</td><td>0.300</td><td>-6.272</td><td>ABCA13,ACTR10,ADAM10,ALAD,ANO6,ANXA2,ARG1,ARL8A,ARMC8,ATP8A1,AZU1,B2M,BIN2,BPI,BRI3,C5AR1,CAMP,CANT1,CAT,CD177,CD36,CD47,CD53,CD59,CDA,CEACAM1,CEACAM3,CEACAM6,CEACAM8,CKAP4,CLEC12A,CLEC4D,CLEC5A,CNN2,CPNE3,CTSG,CXCR1,CXCR2,CYBA,CYSTM1,DEFA1 (includes others),DEFA4,DIAPH1,DNAJC13,DNAJC5,DYNLL1,ELANE,FABP5,FCAR,FCGR3A/FCGR3B,FPR1,FPR2,FTH1,GCA,GDI2,GMFG,GNS,GSTP1,GYG1,HEBP2,HMGB1,HP,HSP90AA1,IDH1,ILF2,IQGAP1,IQGAP2,ITGB2,LAMTOR2,LGALS3,LILRB2,LILRB3,LRG1,LTA4H,LTF,LYZ,MGAM,MGST1,MMP8,MMP9,MNDA,MPO,MS4A3,NME2,PA2G4,PADI2,PGLYRP1,PLAC8,PLAUR,PLD1,PPBP,PRDX6,PRTN3,PSMB7,PSMC2,PSMD3,PSMD7,PTPRJ,PYCARD,PYGB,QPCT,RAB10,RAB14,RAB27A,RAB31,RAB37,RAB3D,RAB6A,RAP1B,RAP2B,RETN,RHOG,RNASE2,S100A11,S100A12,S100A8,S100A9,S100P,SELL,SERPINA1,SERPINB10,SIRPA,SIRPB1,SLC2A5,SLC44A2,SLCO4C1,SLPI,SNAP23,SRP14,STOM,SVIP,TCN1,TIMP2,TMBIM1,TMEM63A,TOM1,TRAPPC1,TUBB,TYROBP,VCL,XRCC5,XRCC6,YPEL5</td><td>NA</td></tr>\n",
       "\t<tr><th scope=row>2</th><td>Cell Cycle Checkpoints                         </td><td>22.6</td><td>0.268</td><td>-5.033</td><td>ANAPC11,ANAPC15,ANAPC5,AURKB,BARD1,BIRC5,CCNA2,CCNB2,CDC20,CDC25A,CDC26,CDK1,CDKN1A,CDKN1B,CENPE,CENPF,CENPT,CLSPN,DYNC1I1,DYNC1LI2,DYNLL1,H2AX,H2BC13,H2BC14,H2BC17,H2BC26,H2BC3,INCENP,ITGB3BP,KIF2A,MAD2L1,MCM4,MCM7,NBN,NDC80,NSD2,ORC4,PLK1,PPP2R5C,PSMA3,PSMA4,PSMA7,PSMB2,PSMB3,PSMB6,PSMB7,PSMB8,PSMB9,PSMC1,PSMC2,PSMD3,PSMD7,PSMD8,PSME1,PSME2,PSME3,RANGAP1,RNF168,RPA1,RPA3,SEC13,SKA1,SPC24,TAOK1,TOPBP1,UBC,UBE2D1,UBE2N,UBE2S,UIMC1,YWHAB,YWHAE,YWHAZ                                                                                                                                                                                                                                                                                                                                                                                                                                             </td><td>NA</td></tr>\n",
       "\t<tr><th scope=row>3</th><td>Mitotic Metaphase and Anaphase                 </td><td>18.9</td><td>0.264</td><td>-5.080</td><td>ANAPC11,ANAPC15,ANAPC5,AURKB,BIRC5,CCNB2,CDC20,CDC26,CDCA5,CDK1,CENPE,CENPF,CENPT,CHMP2A,CHMP2B,CHMP4B,DYNC1I1,DYNC1LI2,DYNLL1,FBXO5,INCENP,ITGB3BP,KIF2A,LMNB1,MAD2L1,NDC80,PLK1,PPP2R5C,PSMA3,PSMA4,PSMA7,PSMB2,PSMB3,PSMB6,PSMB7,PSMB8,PSMB9,PSMC1,PSMC2,PSMD3,PSMD7,PSMD8,PSME1,PSME2,PSME3,PTTG1,RAD21,RANGAP1,SEC13,SKA1,SPC24,SUMO1,TAOK1,TMPO,TUBA1A,TUBA1C,TUBA4A,TUBA8,TUBB1,UBC,UBE2D1,UBE2S                                                                                                                                                                                                                                                                                                                                                                                                                                                                                                          </td><td>NA</td></tr>\n",
       "\t<tr><th scope=row>4</th><td>Neutrophil Extracellular Trap Signaling Pathway</td><td>17.3</td><td>0.205</td><td>-1.444</td><td>AKT3,ATP5F1B,ATP5PB,BPI,C1QB,CAMP,CASP1,CASP4,CCL5,CCR1,CHP1,COL17A1,COL24A1,CTSG,CXCR2,DEFA1 (includes others),DEFA4,ELANE,FCAR,FCGR3A/FCGR3B,FPR1,GP1BA,HMGB1,IFNAR1,IGHA1,IGHA2,IGHG1,IGKC,IGLC2,IL1B,ITGA2,ITGB1,ITGB2,ITPR1,ITPR2,JCHAIN,LTF,MCL1,MMP9,MPO,MT-ATP6,MT-CYB,MT-ND1,MT-ND2,MT-ND3,MT-ND4,MT-ND4L,MT-ND5,MT-ND6,NCF2,NDUFA5,NDUFA6,NDUFB1,NDUFB2,NDUFB6,NDUFB9,NDUFS6,NLRP3,ORAI1,PF4,PIK3C3,PIK3CB,PLA2G12A,PLA2G4A,PLAAT1,PLCB4,PLCH1,PNPLA8,PPP3R1,PRDX6,PRTN3,PYCARD,RAC2,SDHB,SELPLG,TIMM13,TLR4,TSPO,UQCRFS1,VDAC1,VDAC3,VSTM1                                                                                                                                                                                                                                                                                                                                                            </td><td>NA</td></tr>\n",
       "\t<tr><th scope=row>5</th><td>DNA Replication Pre-Initiation                 </td><td>17.0</td><td>0.365</td><td>-5.191</td><td>ANAPC11,ANAPC15,ANAPC5,CDC26,GMNN,H2AC14,H2AC20,H2AC6,H2AX,H2AZ2,H2BC13,H2BC14,H2BC17,H2BC26,H2BC3,MCM4,MCM7,ORC4,PSMA3,PSMA4,PSMA7,PSMB2,PSMB3,PSMB6,PSMB7,PSMB8,PSMB9,PSMC1,PSMC2,PSMD3,PSMD7,PSMD8,PSME1,PSME2,PSME3,UBC,UBE2D1,UBE2S                                                                                                                                                                                                                                                                                                                                                                                                                                                                                                                                                                                                                                                                         </td><td>NA</td></tr>\n",
       "\t<tr><th scope=row>6</th><td>tRNA processing in the mitochondrion           </td><td>16.2</td><td>0.783</td><td> 4.243</td><td>MT-TA,MT-TC,MT-TD,MT-TE,MT-TF,MT-TH,MT-TI,MT-TK,MT-TL1,MT-TL2,MT-TM,MT-TP,MT-TQ,MT-TR,MT-TT,MT-TV,MT-TW,MT-TY                                                                                                                                                                                                                                                                                                                                                                                                                                                                                                                                                                                                                                                                                                                                                                                                    </td><td>NA</td></tr>\n",
       "</tbody>\n",
       "</table>\n"
      ],
      "text/latex": [
       "A data.frame: 6 × 6\n",
       "\\begin{tabular}{r|llllll}\n",
       "  & pathway & neglog\\_pval & ratio & z.score & genes & X\\\\\n",
       "  & <chr> & <dbl> & <dbl> & <dbl> & <chr> & <lgl>\\\\\n",
       "\\hline\n",
       "\t1 & Neutrophil degranulation                        & 50.5 & 0.300 & -6.272 & ABCA13,ACTR10,ADAM10,ALAD,ANO6,ANXA2,ARG1,ARL8A,ARMC8,ATP8A1,AZU1,B2M,BIN2,BPI,BRI3,C5AR1,CAMP,CANT1,CAT,CD177,CD36,CD47,CD53,CD59,CDA,CEACAM1,CEACAM3,CEACAM6,CEACAM8,CKAP4,CLEC12A,CLEC4D,CLEC5A,CNN2,CPNE3,CTSG,CXCR1,CXCR2,CYBA,CYSTM1,DEFA1 (includes others),DEFA4,DIAPH1,DNAJC13,DNAJC5,DYNLL1,ELANE,FABP5,FCAR,FCGR3A/FCGR3B,FPR1,FPR2,FTH1,GCA,GDI2,GMFG,GNS,GSTP1,GYG1,HEBP2,HMGB1,HP,HSP90AA1,IDH1,ILF2,IQGAP1,IQGAP2,ITGB2,LAMTOR2,LGALS3,LILRB2,LILRB3,LRG1,LTA4H,LTF,LYZ,MGAM,MGST1,MMP8,MMP9,MNDA,MPO,MS4A3,NME2,PA2G4,PADI2,PGLYRP1,PLAC8,PLAUR,PLD1,PPBP,PRDX6,PRTN3,PSMB7,PSMC2,PSMD3,PSMD7,PTPRJ,PYCARD,PYGB,QPCT,RAB10,RAB14,RAB27A,RAB31,RAB37,RAB3D,RAB6A,RAP1B,RAP2B,RETN,RHOG,RNASE2,S100A11,S100A12,S100A8,S100A9,S100P,SELL,SERPINA1,SERPINB10,SIRPA,SIRPB1,SLC2A5,SLC44A2,SLCO4C1,SLPI,SNAP23,SRP14,STOM,SVIP,TCN1,TIMP2,TMBIM1,TMEM63A,TOM1,TRAPPC1,TUBB,TYROBP,VCL,XRCC5,XRCC6,YPEL5 & NA\\\\\n",
       "\t2 & Cell Cycle Checkpoints                          & 22.6 & 0.268 & -5.033 & ANAPC11,ANAPC15,ANAPC5,AURKB,BARD1,BIRC5,CCNA2,CCNB2,CDC20,CDC25A,CDC26,CDK1,CDKN1A,CDKN1B,CENPE,CENPF,CENPT,CLSPN,DYNC1I1,DYNC1LI2,DYNLL1,H2AX,H2BC13,H2BC14,H2BC17,H2BC26,H2BC3,INCENP,ITGB3BP,KIF2A,MAD2L1,MCM4,MCM7,NBN,NDC80,NSD2,ORC4,PLK1,PPP2R5C,PSMA3,PSMA4,PSMA7,PSMB2,PSMB3,PSMB6,PSMB7,PSMB8,PSMB9,PSMC1,PSMC2,PSMD3,PSMD7,PSMD8,PSME1,PSME2,PSME3,RANGAP1,RNF168,RPA1,RPA3,SEC13,SKA1,SPC24,TAOK1,TOPBP1,UBC,UBE2D1,UBE2N,UBE2S,UIMC1,YWHAB,YWHAE,YWHAZ                                                                                                                                                                                                                                                                                                                                                                                                                                              & NA\\\\\n",
       "\t3 & Mitotic Metaphase and Anaphase                  & 18.9 & 0.264 & -5.080 & ANAPC11,ANAPC15,ANAPC5,AURKB,BIRC5,CCNB2,CDC20,CDC26,CDCA5,CDK1,CENPE,CENPF,CENPT,CHMP2A,CHMP2B,CHMP4B,DYNC1I1,DYNC1LI2,DYNLL1,FBXO5,INCENP,ITGB3BP,KIF2A,LMNB1,MAD2L1,NDC80,PLK1,PPP2R5C,PSMA3,PSMA4,PSMA7,PSMB2,PSMB3,PSMB6,PSMB7,PSMB8,PSMB9,PSMC1,PSMC2,PSMD3,PSMD7,PSMD8,PSME1,PSME2,PSME3,PTTG1,RAD21,RANGAP1,SEC13,SKA1,SPC24,SUMO1,TAOK1,TMPO,TUBA1A,TUBA1C,TUBA4A,TUBA8,TUBB1,UBC,UBE2D1,UBE2S                                                                                                                                                                                                                                                                                                                                                                                                                                                                                                           & NA\\\\\n",
       "\t4 & Neutrophil Extracellular Trap Signaling Pathway & 17.3 & 0.205 & -1.444 & AKT3,ATP5F1B,ATP5PB,BPI,C1QB,CAMP,CASP1,CASP4,CCL5,CCR1,CHP1,COL17A1,COL24A1,CTSG,CXCR2,DEFA1 (includes others),DEFA4,ELANE,FCAR,FCGR3A/FCGR3B,FPR1,GP1BA,HMGB1,IFNAR1,IGHA1,IGHA2,IGHG1,IGKC,IGLC2,IL1B,ITGA2,ITGB1,ITGB2,ITPR1,ITPR2,JCHAIN,LTF,MCL1,MMP9,MPO,MT-ATP6,MT-CYB,MT-ND1,MT-ND2,MT-ND3,MT-ND4,MT-ND4L,MT-ND5,MT-ND6,NCF2,NDUFA5,NDUFA6,NDUFB1,NDUFB2,NDUFB6,NDUFB9,NDUFS6,NLRP3,ORAI1,PF4,PIK3C3,PIK3CB,PLA2G12A,PLA2G4A,PLAAT1,PLCB4,PLCH1,PNPLA8,PPP3R1,PRDX6,PRTN3,PYCARD,RAC2,SDHB,SELPLG,TIMM13,TLR4,TSPO,UQCRFS1,VDAC1,VDAC3,VSTM1                                                                                                                                                                                                                                                                                                                                                             & NA\\\\\n",
       "\t5 & DNA Replication Pre-Initiation                  & 17.0 & 0.365 & -5.191 & ANAPC11,ANAPC15,ANAPC5,CDC26,GMNN,H2AC14,H2AC20,H2AC6,H2AX,H2AZ2,H2BC13,H2BC14,H2BC17,H2BC26,H2BC3,MCM4,MCM7,ORC4,PSMA3,PSMA4,PSMA7,PSMB2,PSMB3,PSMB6,PSMB7,PSMB8,PSMB9,PSMC1,PSMC2,PSMD3,PSMD7,PSMD8,PSME1,PSME2,PSME3,UBC,UBE2D1,UBE2S                                                                                                                                                                                                                                                                                                                                                                                                                                                                                                                                                                                                                                                                          & NA\\\\\n",
       "\t6 & tRNA processing in the mitochondrion            & 16.2 & 0.783 &  4.243 & MT-TA,MT-TC,MT-TD,MT-TE,MT-TF,MT-TH,MT-TI,MT-TK,MT-TL1,MT-TL2,MT-TM,MT-TP,MT-TQ,MT-TR,MT-TT,MT-TV,MT-TW,MT-TY                                                                                                                                                                                                                                                                                                                                                                                                                                                                                                                                                                                                                                                                                                                                                                                                     & NA\\\\\n",
       "\\end{tabular}\n"
      ],
      "text/markdown": [
       "\n",
       "A data.frame: 6 × 6\n",
       "\n",
       "| <!--/--> | pathway &lt;chr&gt; | neglog_pval &lt;dbl&gt; | ratio &lt;dbl&gt; | z.score &lt;dbl&gt; | genes &lt;chr&gt; | X &lt;lgl&gt; |\n",
       "|---|---|---|---|---|---|---|\n",
       "| 1 | Neutrophil degranulation                        | 50.5 | 0.300 | -6.272 | ABCA13,ACTR10,ADAM10,ALAD,ANO6,ANXA2,ARG1,ARL8A,ARMC8,ATP8A1,AZU1,B2M,BIN2,BPI,BRI3,C5AR1,CAMP,CANT1,CAT,CD177,CD36,CD47,CD53,CD59,CDA,CEACAM1,CEACAM3,CEACAM6,CEACAM8,CKAP4,CLEC12A,CLEC4D,CLEC5A,CNN2,CPNE3,CTSG,CXCR1,CXCR2,CYBA,CYSTM1,DEFA1 (includes others),DEFA4,DIAPH1,DNAJC13,DNAJC5,DYNLL1,ELANE,FABP5,FCAR,FCGR3A/FCGR3B,FPR1,FPR2,FTH1,GCA,GDI2,GMFG,GNS,GSTP1,GYG1,HEBP2,HMGB1,HP,HSP90AA1,IDH1,ILF2,IQGAP1,IQGAP2,ITGB2,LAMTOR2,LGALS3,LILRB2,LILRB3,LRG1,LTA4H,LTF,LYZ,MGAM,MGST1,MMP8,MMP9,MNDA,MPO,MS4A3,NME2,PA2G4,PADI2,PGLYRP1,PLAC8,PLAUR,PLD1,PPBP,PRDX6,PRTN3,PSMB7,PSMC2,PSMD3,PSMD7,PTPRJ,PYCARD,PYGB,QPCT,RAB10,RAB14,RAB27A,RAB31,RAB37,RAB3D,RAB6A,RAP1B,RAP2B,RETN,RHOG,RNASE2,S100A11,S100A12,S100A8,S100A9,S100P,SELL,SERPINA1,SERPINB10,SIRPA,SIRPB1,SLC2A5,SLC44A2,SLCO4C1,SLPI,SNAP23,SRP14,STOM,SVIP,TCN1,TIMP2,TMBIM1,TMEM63A,TOM1,TRAPPC1,TUBB,TYROBP,VCL,XRCC5,XRCC6,YPEL5 | NA |\n",
       "| 2 | Cell Cycle Checkpoints                          | 22.6 | 0.268 | -5.033 | ANAPC11,ANAPC15,ANAPC5,AURKB,BARD1,BIRC5,CCNA2,CCNB2,CDC20,CDC25A,CDC26,CDK1,CDKN1A,CDKN1B,CENPE,CENPF,CENPT,CLSPN,DYNC1I1,DYNC1LI2,DYNLL1,H2AX,H2BC13,H2BC14,H2BC17,H2BC26,H2BC3,INCENP,ITGB3BP,KIF2A,MAD2L1,MCM4,MCM7,NBN,NDC80,NSD2,ORC4,PLK1,PPP2R5C,PSMA3,PSMA4,PSMA7,PSMB2,PSMB3,PSMB6,PSMB7,PSMB8,PSMB9,PSMC1,PSMC2,PSMD3,PSMD7,PSMD8,PSME1,PSME2,PSME3,RANGAP1,RNF168,RPA1,RPA3,SEC13,SKA1,SPC24,TAOK1,TOPBP1,UBC,UBE2D1,UBE2N,UBE2S,UIMC1,YWHAB,YWHAE,YWHAZ                                                                                                                                                                                                                                                                                                                                                                                                                                              | NA |\n",
       "| 3 | Mitotic Metaphase and Anaphase                  | 18.9 | 0.264 | -5.080 | ANAPC11,ANAPC15,ANAPC5,AURKB,BIRC5,CCNB2,CDC20,CDC26,CDCA5,CDK1,CENPE,CENPF,CENPT,CHMP2A,CHMP2B,CHMP4B,DYNC1I1,DYNC1LI2,DYNLL1,FBXO5,INCENP,ITGB3BP,KIF2A,LMNB1,MAD2L1,NDC80,PLK1,PPP2R5C,PSMA3,PSMA4,PSMA7,PSMB2,PSMB3,PSMB6,PSMB7,PSMB8,PSMB9,PSMC1,PSMC2,PSMD3,PSMD7,PSMD8,PSME1,PSME2,PSME3,PTTG1,RAD21,RANGAP1,SEC13,SKA1,SPC24,SUMO1,TAOK1,TMPO,TUBA1A,TUBA1C,TUBA4A,TUBA8,TUBB1,UBC,UBE2D1,UBE2S                                                                                                                                                                                                                                                                                                                                                                                                                                                                                                           | NA |\n",
       "| 4 | Neutrophil Extracellular Trap Signaling Pathway | 17.3 | 0.205 | -1.444 | AKT3,ATP5F1B,ATP5PB,BPI,C1QB,CAMP,CASP1,CASP4,CCL5,CCR1,CHP1,COL17A1,COL24A1,CTSG,CXCR2,DEFA1 (includes others),DEFA4,ELANE,FCAR,FCGR3A/FCGR3B,FPR1,GP1BA,HMGB1,IFNAR1,IGHA1,IGHA2,IGHG1,IGKC,IGLC2,IL1B,ITGA2,ITGB1,ITGB2,ITPR1,ITPR2,JCHAIN,LTF,MCL1,MMP9,MPO,MT-ATP6,MT-CYB,MT-ND1,MT-ND2,MT-ND3,MT-ND4,MT-ND4L,MT-ND5,MT-ND6,NCF2,NDUFA5,NDUFA6,NDUFB1,NDUFB2,NDUFB6,NDUFB9,NDUFS6,NLRP3,ORAI1,PF4,PIK3C3,PIK3CB,PLA2G12A,PLA2G4A,PLAAT1,PLCB4,PLCH1,PNPLA8,PPP3R1,PRDX6,PRTN3,PYCARD,RAC2,SDHB,SELPLG,TIMM13,TLR4,TSPO,UQCRFS1,VDAC1,VDAC3,VSTM1                                                                                                                                                                                                                                                                                                                                                             | NA |\n",
       "| 5 | DNA Replication Pre-Initiation                  | 17.0 | 0.365 | -5.191 | ANAPC11,ANAPC15,ANAPC5,CDC26,GMNN,H2AC14,H2AC20,H2AC6,H2AX,H2AZ2,H2BC13,H2BC14,H2BC17,H2BC26,H2BC3,MCM4,MCM7,ORC4,PSMA3,PSMA4,PSMA7,PSMB2,PSMB3,PSMB6,PSMB7,PSMB8,PSMB9,PSMC1,PSMC2,PSMD3,PSMD7,PSMD8,PSME1,PSME2,PSME3,UBC,UBE2D1,UBE2S                                                                                                                                                                                                                                                                                                                                                                                                                                                                                                                                                                                                                                                                          | NA |\n",
       "| 6 | tRNA processing in the mitochondrion            | 16.2 | 0.783 |  4.243 | MT-TA,MT-TC,MT-TD,MT-TE,MT-TF,MT-TH,MT-TI,MT-TK,MT-TL1,MT-TL2,MT-TM,MT-TP,MT-TQ,MT-TR,MT-TT,MT-TV,MT-TW,MT-TY                                                                                                                                                                                                                                                                                                                                                                                                                                                                                                                                                                                                                                                                                                                                                                                                     | NA |\n",
       "\n"
      ],
      "text/plain": [
       "  pathway                                         neglog_pval ratio z.score\n",
       "1 Neutrophil degranulation                        50.5        0.300 -6.272 \n",
       "2 Cell Cycle Checkpoints                          22.6        0.268 -5.033 \n",
       "3 Mitotic Metaphase and Anaphase                  18.9        0.264 -5.080 \n",
       "4 Neutrophil Extracellular Trap Signaling Pathway 17.3        0.205 -1.444 \n",
       "5 DNA Replication Pre-Initiation                  17.0        0.365 -5.191 \n",
       "6 tRNA processing in the mitochondrion            16.2        0.783  4.243 \n",
       "  genes                                                                                                                                                                                                                                                                                                                                                                                                                                                                                                                                                                                                                                                                                                                                                                                                                                                                                                            \n",
       "1 ABCA13,ACTR10,ADAM10,ALAD,ANO6,ANXA2,ARG1,ARL8A,ARMC8,ATP8A1,AZU1,B2M,BIN2,BPI,BRI3,C5AR1,CAMP,CANT1,CAT,CD177,CD36,CD47,CD53,CD59,CDA,CEACAM1,CEACAM3,CEACAM6,CEACAM8,CKAP4,CLEC12A,CLEC4D,CLEC5A,CNN2,CPNE3,CTSG,CXCR1,CXCR2,CYBA,CYSTM1,DEFA1 (includes others),DEFA4,DIAPH1,DNAJC13,DNAJC5,DYNLL1,ELANE,FABP5,FCAR,FCGR3A/FCGR3B,FPR1,FPR2,FTH1,GCA,GDI2,GMFG,GNS,GSTP1,GYG1,HEBP2,HMGB1,HP,HSP90AA1,IDH1,ILF2,IQGAP1,IQGAP2,ITGB2,LAMTOR2,LGALS3,LILRB2,LILRB3,LRG1,LTA4H,LTF,LYZ,MGAM,MGST1,MMP8,MMP9,MNDA,MPO,MS4A3,NME2,PA2G4,PADI2,PGLYRP1,PLAC8,PLAUR,PLD1,PPBP,PRDX6,PRTN3,PSMB7,PSMC2,PSMD3,PSMD7,PTPRJ,PYCARD,PYGB,QPCT,RAB10,RAB14,RAB27A,RAB31,RAB37,RAB3D,RAB6A,RAP1B,RAP2B,RETN,RHOG,RNASE2,S100A11,S100A12,S100A8,S100A9,S100P,SELL,SERPINA1,SERPINB10,SIRPA,SIRPB1,SLC2A5,SLC44A2,SLCO4C1,SLPI,SNAP23,SRP14,STOM,SVIP,TCN1,TIMP2,TMBIM1,TMEM63A,TOM1,TRAPPC1,TUBB,TYROBP,VCL,XRCC5,XRCC6,YPEL5\n",
       "2 ANAPC11,ANAPC15,ANAPC5,AURKB,BARD1,BIRC5,CCNA2,CCNB2,CDC20,CDC25A,CDC26,CDK1,CDKN1A,CDKN1B,CENPE,CENPF,CENPT,CLSPN,DYNC1I1,DYNC1LI2,DYNLL1,H2AX,H2BC13,H2BC14,H2BC17,H2BC26,H2BC3,INCENP,ITGB3BP,KIF2A,MAD2L1,MCM4,MCM7,NBN,NDC80,NSD2,ORC4,PLK1,PPP2R5C,PSMA3,PSMA4,PSMA7,PSMB2,PSMB3,PSMB6,PSMB7,PSMB8,PSMB9,PSMC1,PSMC2,PSMD3,PSMD7,PSMD8,PSME1,PSME2,PSME3,RANGAP1,RNF168,RPA1,RPA3,SEC13,SKA1,SPC24,TAOK1,TOPBP1,UBC,UBE2D1,UBE2N,UBE2S,UIMC1,YWHAB,YWHAE,YWHAZ                                                                                                                                                                                                                                                                                                                                                                                                                                             \n",
       "3 ANAPC11,ANAPC15,ANAPC5,AURKB,BIRC5,CCNB2,CDC20,CDC26,CDCA5,CDK1,CENPE,CENPF,CENPT,CHMP2A,CHMP2B,CHMP4B,DYNC1I1,DYNC1LI2,DYNLL1,FBXO5,INCENP,ITGB3BP,KIF2A,LMNB1,MAD2L1,NDC80,PLK1,PPP2R5C,PSMA3,PSMA4,PSMA7,PSMB2,PSMB3,PSMB6,PSMB7,PSMB8,PSMB9,PSMC1,PSMC2,PSMD3,PSMD7,PSMD8,PSME1,PSME2,PSME3,PTTG1,RAD21,RANGAP1,SEC13,SKA1,SPC24,SUMO1,TAOK1,TMPO,TUBA1A,TUBA1C,TUBA4A,TUBA8,TUBB1,UBC,UBE2D1,UBE2S                                                                                                                                                                                                                                                                                                                                                                                                                                                                                                          \n",
       "4 AKT3,ATP5F1B,ATP5PB,BPI,C1QB,CAMP,CASP1,CASP4,CCL5,CCR1,CHP1,COL17A1,COL24A1,CTSG,CXCR2,DEFA1 (includes others),DEFA4,ELANE,FCAR,FCGR3A/FCGR3B,FPR1,GP1BA,HMGB1,IFNAR1,IGHA1,IGHA2,IGHG1,IGKC,IGLC2,IL1B,ITGA2,ITGB1,ITGB2,ITPR1,ITPR2,JCHAIN,LTF,MCL1,MMP9,MPO,MT-ATP6,MT-CYB,MT-ND1,MT-ND2,MT-ND3,MT-ND4,MT-ND4L,MT-ND5,MT-ND6,NCF2,NDUFA5,NDUFA6,NDUFB1,NDUFB2,NDUFB6,NDUFB9,NDUFS6,NLRP3,ORAI1,PF4,PIK3C3,PIK3CB,PLA2G12A,PLA2G4A,PLAAT1,PLCB4,PLCH1,PNPLA8,PPP3R1,PRDX6,PRTN3,PYCARD,RAC2,SDHB,SELPLG,TIMM13,TLR4,TSPO,UQCRFS1,VDAC1,VDAC3,VSTM1                                                                                                                                                                                                                                                                                                                                                            \n",
       "5 ANAPC11,ANAPC15,ANAPC5,CDC26,GMNN,H2AC14,H2AC20,H2AC6,H2AX,H2AZ2,H2BC13,H2BC14,H2BC17,H2BC26,H2BC3,MCM4,MCM7,ORC4,PSMA3,PSMA4,PSMA7,PSMB2,PSMB3,PSMB6,PSMB7,PSMB8,PSMB9,PSMC1,PSMC2,PSMD3,PSMD7,PSMD8,PSME1,PSME2,PSME3,UBC,UBE2D1,UBE2S                                                                                                                                                                                                                                                                                                                                                                                                                                                                                                                                                                                                                                                                         \n",
       "6 MT-TA,MT-TC,MT-TD,MT-TE,MT-TF,MT-TH,MT-TI,MT-TK,MT-TL1,MT-TL2,MT-TM,MT-TP,MT-TQ,MT-TR,MT-TT,MT-TV,MT-TW,MT-TY                                                                                                                                                                                                                                                                                                                                                                                                                                                                                                                                                                                                                                                                                                                                                                                                    \n",
       "  X \n",
       "1 NA\n",
       "2 NA\n",
       "3 NA\n",
       "4 NA\n",
       "5 NA\n",
       "6 NA"
      ]
     },
     "metadata": {},
     "output_type": "display_data"
    },
    {
     "data": {
      "text/html": [
       "<table class=\"dataframe\">\n",
       "<caption>A data.frame: 6 × 6</caption>\n",
       "<thead>\n",
       "\t<tr><th></th><th scope=col>pathway</th><th scope=col>neglog_pval</th><th scope=col>ratio</th><th scope=col>z.score</th><th scope=col>genes</th><th scope=col>X</th></tr>\n",
       "\t<tr><th></th><th scope=col>&lt;chr&gt;</th><th scope=col>&lt;dbl&gt;</th><th scope=col>&lt;dbl&gt;</th><th scope=col>&lt;dbl&gt;</th><th scope=col>&lt;chr&gt;</th><th scope=col>&lt;lgl&gt;</th></tr>\n",
       "</thead>\n",
       "<tbody>\n",
       "\t<tr><th scope=row>1</th><td>Mitochondrial translation                      </td><td>20.4</td><td>0.417</td><td>-5.692</td><td>CHCHD1,DAP3,ERAL1,GADD45GIP1,MRPL10,MRPL11,MRPL13,MRPL14,MRPL17,MRPL18,MRPL19,MRPL21,MRPL22,MRPL23,MRPL27,MRPL28,MRPL34,MRPL36,MRPL41,MRPL42,MRPL43,MRPL49,MRPL52,MRPL57,MRPL9,MRPS10,MRPS11,MRPS12,MRPS2,MRPS22,MRPS26,MRPS27,MRPS33,MRPS34,MRPS35,MRPS5,MRPS6,MTIF3,OXA1L,TUFM                                                                                                                                                               </td><td>NA</td></tr>\n",
       "\t<tr><th scope=row>2</th><td>Processing of Capped Intron-Containing Pre-mRNA</td><td>19.9</td><td>0.247</td><td>-4.628</td><td>ALYREF,BUD13,CCAR1,CDC40,CHTOP,CLP1,CPSF3,CRNKL1,CSTF3,CWC27,CWF19L2,DDX23,DDX39A,DDX41,DDX46,DHX15,DHX16,DHX8,EIF4A3,EIF4E,FUS,GPATCH1,GTF2F1,HNRNPF,HNRNPL,IK,LENG1,LSM4,LSM5,LSM7,LUC7L3,METTL14,NCBP2,NUP43,NUP54,NUP58,NUP93,PHF5A,PNN,POLR2C,POLR2F,PPIL1,PRPF4,PTBP1,PUF60,RBM22,RBM39,RBM42,RBM5,RBM8A,RNPS1,RNU4-1,SAP18,SART1,SF3B2,SF3B4,SF3B5,SNIP1,SNRNP48,SNRPB,SNRPD2,SNRPE,SNRPN,SRSF2,SRSF8,TFIP11,THOC5,TPR,TXNL4A,UBL5,ZMAT2</td><td>NA</td></tr>\n",
       "\t<tr><th scope=row>3</th><td>Cell Cycle Checkpoints                         </td><td>14.4</td><td>0.221</td><td>-4.648</td><td>ABRAXAS1,ANAPC10,ATM,BLM,BUB1,BUB3,CCNE1,CCNE2,CDC27,CDC45,CDC6,CDCA8,CENPA,CENPO,CLASP2,CLIP1,COP1,DNA2,EXO1,GTSE1,KAT5,KIF2C,MCM2,MCM3,MCM5,MRE11,NDEL1,NSL1,NUDC,NUF2,NUP43,ORC1,ORC5,PHF20,PKMYT1,PPP2CA,PPP2R5D,PPP2R5E,PSMA5,PSMB10,PSMB4,PSMB5,PSMC3,PSMC4,PSMC5,PSMD1,PSMD11,PSMD12,PSMD13,PSMD14,PSMD4,PSMD5,RCC2,RFC2,RHNO1,RMI1,UBE2E1,XPO1,YWHAG,ZWINT                                                                             </td><td>NA</td></tr>\n",
       "\t<tr><th scope=row>4</th><td>Synthesis of DNA                               </td><td>12.5</td><td>0.294</td><td>-4.564</td><td>ANAPC10,CCNE1,CCNE2,CDC27,CDC6,CDT1,CUL1,DNA2,GINS4,MCM2,MCM3,MCM5,ORC1,ORC5,POLD1,POLD2,POLD3,PSMA5,PSMB10,PSMB4,PSMB5,PSMC3,PSMC4,PSMC5,PSMD1,PSMD11,PSMD12,PSMD13,PSMD14,PSMD4,PSMD5,RFC2,SKP1,SKP2,UBE2E1                                                                                                                                                                                                                                  </td><td>NA</td></tr>\n",
       "\t<tr><th scope=row>5</th><td>Mitotic G1 phase and G1/S transition           </td><td>11.2</td><td>0.267</td><td>-4.158</td><td>ABL1,AKT1,CCNE1,CCNE2,CDC45,CDC6,CDK4,CDT1,CUL1,DYRK1A,E2F2,E2F4,ORC1,ORC5,PPP2CA,PPP2R2A,PSMA5,PSMB10,PSMB4,PSMB5,PSMC3,PSMC4,PSMC5,PSMD1,PSMD11,PSMD12,PSMD13,PSMD14,PSMD4,PSMD5,RBL1,SKP1,SKP2,TFDP1,TK1                                                                                                                                                                                                                                    </td><td>NA</td></tr>\n",
       "\t<tr><th scope=row>6</th><td>Mitotic Metaphase and Anaphase                 </td><td>10.9</td><td>0.209</td><td>-4.714</td><td>ANAPC10,BANF1,BUB1,BUB3,CDC27,CDCA8,CENPA,CENPO,CLASP2,CLIP1,KIF2C,KPNB1,NDEL1,NSL1,NUDC,NUF2,NUP43,NUP54,NUP58,NUP93,PPP2CA,PPP2R2A,PPP2R5D,PPP2R5E,PSMA5,PSMB10,PSMB4,PSMB5,PSMC3,PSMC4,PSMC5,PSMD1,PSMD11,PSMD12,PSMD13,PSMD14,PSMD4,PSMD5,RAN,RCC1,RCC2,SPAST,TUBA1B,UBE2E1,UBE2I,VPS4A,VRK2,XPO1,ZWINT                                                                                                                                    </td><td>NA</td></tr>\n",
       "</tbody>\n",
       "</table>\n"
      ],
      "text/latex": [
       "A data.frame: 6 × 6\n",
       "\\begin{tabular}{r|llllll}\n",
       "  & pathway & neglog\\_pval & ratio & z.score & genes & X\\\\\n",
       "  & <chr> & <dbl> & <dbl> & <dbl> & <chr> & <lgl>\\\\\n",
       "\\hline\n",
       "\t1 & Mitochondrial translation                       & 20.4 & 0.417 & -5.692 & CHCHD1,DAP3,ERAL1,GADD45GIP1,MRPL10,MRPL11,MRPL13,MRPL14,MRPL17,MRPL18,MRPL19,MRPL21,MRPL22,MRPL23,MRPL27,MRPL28,MRPL34,MRPL36,MRPL41,MRPL42,MRPL43,MRPL49,MRPL52,MRPL57,MRPL9,MRPS10,MRPS11,MRPS12,MRPS2,MRPS22,MRPS26,MRPS27,MRPS33,MRPS34,MRPS35,MRPS5,MRPS6,MTIF3,OXA1L,TUFM                                                                                                                                                                & NA\\\\\n",
       "\t2 & Processing of Capped Intron-Containing Pre-mRNA & 19.9 & 0.247 & -4.628 & ALYREF,BUD13,CCAR1,CDC40,CHTOP,CLP1,CPSF3,CRNKL1,CSTF3,CWC27,CWF19L2,DDX23,DDX39A,DDX41,DDX46,DHX15,DHX16,DHX8,EIF4A3,EIF4E,FUS,GPATCH1,GTF2F1,HNRNPF,HNRNPL,IK,LENG1,LSM4,LSM5,LSM7,LUC7L3,METTL14,NCBP2,NUP43,NUP54,NUP58,NUP93,PHF5A,PNN,POLR2C,POLR2F,PPIL1,PRPF4,PTBP1,PUF60,RBM22,RBM39,RBM42,RBM5,RBM8A,RNPS1,RNU4-1,SAP18,SART1,SF3B2,SF3B4,SF3B5,SNIP1,SNRNP48,SNRPB,SNRPD2,SNRPE,SNRPN,SRSF2,SRSF8,TFIP11,THOC5,TPR,TXNL4A,UBL5,ZMAT2 & NA\\\\\n",
       "\t3 & Cell Cycle Checkpoints                          & 14.4 & 0.221 & -4.648 & ABRAXAS1,ANAPC10,ATM,BLM,BUB1,BUB3,CCNE1,CCNE2,CDC27,CDC45,CDC6,CDCA8,CENPA,CENPO,CLASP2,CLIP1,COP1,DNA2,EXO1,GTSE1,KAT5,KIF2C,MCM2,MCM3,MCM5,MRE11,NDEL1,NSL1,NUDC,NUF2,NUP43,ORC1,ORC5,PHF20,PKMYT1,PPP2CA,PPP2R5D,PPP2R5E,PSMA5,PSMB10,PSMB4,PSMB5,PSMC3,PSMC4,PSMC5,PSMD1,PSMD11,PSMD12,PSMD13,PSMD14,PSMD4,PSMD5,RCC2,RFC2,RHNO1,RMI1,UBE2E1,XPO1,YWHAG,ZWINT                                                                              & NA\\\\\n",
       "\t4 & Synthesis of DNA                                & 12.5 & 0.294 & -4.564 & ANAPC10,CCNE1,CCNE2,CDC27,CDC6,CDT1,CUL1,DNA2,GINS4,MCM2,MCM3,MCM5,ORC1,ORC5,POLD1,POLD2,POLD3,PSMA5,PSMB10,PSMB4,PSMB5,PSMC3,PSMC4,PSMC5,PSMD1,PSMD11,PSMD12,PSMD13,PSMD14,PSMD4,PSMD5,RFC2,SKP1,SKP2,UBE2E1                                                                                                                                                                                                                                   & NA\\\\\n",
       "\t5 & Mitotic G1 phase and G1/S transition            & 11.2 & 0.267 & -4.158 & ABL1,AKT1,CCNE1,CCNE2,CDC45,CDC6,CDK4,CDT1,CUL1,DYRK1A,E2F2,E2F4,ORC1,ORC5,PPP2CA,PPP2R2A,PSMA5,PSMB10,PSMB4,PSMB5,PSMC3,PSMC4,PSMC5,PSMD1,PSMD11,PSMD12,PSMD13,PSMD14,PSMD4,PSMD5,RBL1,SKP1,SKP2,TFDP1,TK1                                                                                                                                                                                                                                     & NA\\\\\n",
       "\t6 & Mitotic Metaphase and Anaphase                  & 10.9 & 0.209 & -4.714 & ANAPC10,BANF1,BUB1,BUB3,CDC27,CDCA8,CENPA,CENPO,CLASP2,CLIP1,KIF2C,KPNB1,NDEL1,NSL1,NUDC,NUF2,NUP43,NUP54,NUP58,NUP93,PPP2CA,PPP2R2A,PPP2R5D,PPP2R5E,PSMA5,PSMB10,PSMB4,PSMB5,PSMC3,PSMC4,PSMC5,PSMD1,PSMD11,PSMD12,PSMD13,PSMD14,PSMD4,PSMD5,RAN,RCC1,RCC2,SPAST,TUBA1B,UBE2E1,UBE2I,VPS4A,VRK2,XPO1,ZWINT                                                                                                                                     & NA\\\\\n",
       "\\end{tabular}\n"
      ],
      "text/markdown": [
       "\n",
       "A data.frame: 6 × 6\n",
       "\n",
       "| <!--/--> | pathway &lt;chr&gt; | neglog_pval &lt;dbl&gt; | ratio &lt;dbl&gt; | z.score &lt;dbl&gt; | genes &lt;chr&gt; | X &lt;lgl&gt; |\n",
       "|---|---|---|---|---|---|---|\n",
       "| 1 | Mitochondrial translation                       | 20.4 | 0.417 | -5.692 | CHCHD1,DAP3,ERAL1,GADD45GIP1,MRPL10,MRPL11,MRPL13,MRPL14,MRPL17,MRPL18,MRPL19,MRPL21,MRPL22,MRPL23,MRPL27,MRPL28,MRPL34,MRPL36,MRPL41,MRPL42,MRPL43,MRPL49,MRPL52,MRPL57,MRPL9,MRPS10,MRPS11,MRPS12,MRPS2,MRPS22,MRPS26,MRPS27,MRPS33,MRPS34,MRPS35,MRPS5,MRPS6,MTIF3,OXA1L,TUFM                                                                                                                                                                | NA |\n",
       "| 2 | Processing of Capped Intron-Containing Pre-mRNA | 19.9 | 0.247 | -4.628 | ALYREF,BUD13,CCAR1,CDC40,CHTOP,CLP1,CPSF3,CRNKL1,CSTF3,CWC27,CWF19L2,DDX23,DDX39A,DDX41,DDX46,DHX15,DHX16,DHX8,EIF4A3,EIF4E,FUS,GPATCH1,GTF2F1,HNRNPF,HNRNPL,IK,LENG1,LSM4,LSM5,LSM7,LUC7L3,METTL14,NCBP2,NUP43,NUP54,NUP58,NUP93,PHF5A,PNN,POLR2C,POLR2F,PPIL1,PRPF4,PTBP1,PUF60,RBM22,RBM39,RBM42,RBM5,RBM8A,RNPS1,RNU4-1,SAP18,SART1,SF3B2,SF3B4,SF3B5,SNIP1,SNRNP48,SNRPB,SNRPD2,SNRPE,SNRPN,SRSF2,SRSF8,TFIP11,THOC5,TPR,TXNL4A,UBL5,ZMAT2 | NA |\n",
       "| 3 | Cell Cycle Checkpoints                          | 14.4 | 0.221 | -4.648 | ABRAXAS1,ANAPC10,ATM,BLM,BUB1,BUB3,CCNE1,CCNE2,CDC27,CDC45,CDC6,CDCA8,CENPA,CENPO,CLASP2,CLIP1,COP1,DNA2,EXO1,GTSE1,KAT5,KIF2C,MCM2,MCM3,MCM5,MRE11,NDEL1,NSL1,NUDC,NUF2,NUP43,ORC1,ORC5,PHF20,PKMYT1,PPP2CA,PPP2R5D,PPP2R5E,PSMA5,PSMB10,PSMB4,PSMB5,PSMC3,PSMC4,PSMC5,PSMD1,PSMD11,PSMD12,PSMD13,PSMD14,PSMD4,PSMD5,RCC2,RFC2,RHNO1,RMI1,UBE2E1,XPO1,YWHAG,ZWINT                                                                              | NA |\n",
       "| 4 | Synthesis of DNA                                | 12.5 | 0.294 | -4.564 | ANAPC10,CCNE1,CCNE2,CDC27,CDC6,CDT1,CUL1,DNA2,GINS4,MCM2,MCM3,MCM5,ORC1,ORC5,POLD1,POLD2,POLD3,PSMA5,PSMB10,PSMB4,PSMB5,PSMC3,PSMC4,PSMC5,PSMD1,PSMD11,PSMD12,PSMD13,PSMD14,PSMD4,PSMD5,RFC2,SKP1,SKP2,UBE2E1                                                                                                                                                                                                                                   | NA |\n",
       "| 5 | Mitotic G1 phase and G1/S transition            | 11.2 | 0.267 | -4.158 | ABL1,AKT1,CCNE1,CCNE2,CDC45,CDC6,CDK4,CDT1,CUL1,DYRK1A,E2F2,E2F4,ORC1,ORC5,PPP2CA,PPP2R2A,PSMA5,PSMB10,PSMB4,PSMB5,PSMC3,PSMC4,PSMC5,PSMD1,PSMD11,PSMD12,PSMD13,PSMD14,PSMD4,PSMD5,RBL1,SKP1,SKP2,TFDP1,TK1                                                                                                                                                                                                                                     | NA |\n",
       "| 6 | Mitotic Metaphase and Anaphase                  | 10.9 | 0.209 | -4.714 | ANAPC10,BANF1,BUB1,BUB3,CDC27,CDCA8,CENPA,CENPO,CLASP2,CLIP1,KIF2C,KPNB1,NDEL1,NSL1,NUDC,NUF2,NUP43,NUP54,NUP58,NUP93,PPP2CA,PPP2R2A,PPP2R5D,PPP2R5E,PSMA5,PSMB10,PSMB4,PSMB5,PSMC3,PSMC4,PSMC5,PSMD1,PSMD11,PSMD12,PSMD13,PSMD14,PSMD4,PSMD5,RAN,RCC1,RCC2,SPAST,TUBA1B,UBE2E1,UBE2I,VPS4A,VRK2,XPO1,ZWINT                                                                                                                                     | NA |\n",
       "\n"
      ],
      "text/plain": [
       "  pathway                                         neglog_pval ratio z.score\n",
       "1 Mitochondrial translation                       20.4        0.417 -5.692 \n",
       "2 Processing of Capped Intron-Containing Pre-mRNA 19.9        0.247 -4.628 \n",
       "3 Cell Cycle Checkpoints                          14.4        0.221 -4.648 \n",
       "4 Synthesis of DNA                                12.5        0.294 -4.564 \n",
       "5 Mitotic G1 phase and G1/S transition            11.2        0.267 -4.158 \n",
       "6 Mitotic Metaphase and Anaphase                  10.9        0.209 -4.714 \n",
       "  genes                                                                                                                                                                                                                                                                                                                                                                                                                                          \n",
       "1 CHCHD1,DAP3,ERAL1,GADD45GIP1,MRPL10,MRPL11,MRPL13,MRPL14,MRPL17,MRPL18,MRPL19,MRPL21,MRPL22,MRPL23,MRPL27,MRPL28,MRPL34,MRPL36,MRPL41,MRPL42,MRPL43,MRPL49,MRPL52,MRPL57,MRPL9,MRPS10,MRPS11,MRPS12,MRPS2,MRPS22,MRPS26,MRPS27,MRPS33,MRPS34,MRPS35,MRPS5,MRPS6,MTIF3,OXA1L,TUFM                                                                                                                                                               \n",
       "2 ALYREF,BUD13,CCAR1,CDC40,CHTOP,CLP1,CPSF3,CRNKL1,CSTF3,CWC27,CWF19L2,DDX23,DDX39A,DDX41,DDX46,DHX15,DHX16,DHX8,EIF4A3,EIF4E,FUS,GPATCH1,GTF2F1,HNRNPF,HNRNPL,IK,LENG1,LSM4,LSM5,LSM7,LUC7L3,METTL14,NCBP2,NUP43,NUP54,NUP58,NUP93,PHF5A,PNN,POLR2C,POLR2F,PPIL1,PRPF4,PTBP1,PUF60,RBM22,RBM39,RBM42,RBM5,RBM8A,RNPS1,RNU4-1,SAP18,SART1,SF3B2,SF3B4,SF3B5,SNIP1,SNRNP48,SNRPB,SNRPD2,SNRPE,SNRPN,SRSF2,SRSF8,TFIP11,THOC5,TPR,TXNL4A,UBL5,ZMAT2\n",
       "3 ABRAXAS1,ANAPC10,ATM,BLM,BUB1,BUB3,CCNE1,CCNE2,CDC27,CDC45,CDC6,CDCA8,CENPA,CENPO,CLASP2,CLIP1,COP1,DNA2,EXO1,GTSE1,KAT5,KIF2C,MCM2,MCM3,MCM5,MRE11,NDEL1,NSL1,NUDC,NUF2,NUP43,ORC1,ORC5,PHF20,PKMYT1,PPP2CA,PPP2R5D,PPP2R5E,PSMA5,PSMB10,PSMB4,PSMB5,PSMC3,PSMC4,PSMC5,PSMD1,PSMD11,PSMD12,PSMD13,PSMD14,PSMD4,PSMD5,RCC2,RFC2,RHNO1,RMI1,UBE2E1,XPO1,YWHAG,ZWINT                                                                             \n",
       "4 ANAPC10,CCNE1,CCNE2,CDC27,CDC6,CDT1,CUL1,DNA2,GINS4,MCM2,MCM3,MCM5,ORC1,ORC5,POLD1,POLD2,POLD3,PSMA5,PSMB10,PSMB4,PSMB5,PSMC3,PSMC4,PSMC5,PSMD1,PSMD11,PSMD12,PSMD13,PSMD14,PSMD4,PSMD5,RFC2,SKP1,SKP2,UBE2E1                                                                                                                                                                                                                                  \n",
       "5 ABL1,AKT1,CCNE1,CCNE2,CDC45,CDC6,CDK4,CDT1,CUL1,DYRK1A,E2F2,E2F4,ORC1,ORC5,PPP2CA,PPP2R2A,PSMA5,PSMB10,PSMB4,PSMB5,PSMC3,PSMC4,PSMC5,PSMD1,PSMD11,PSMD12,PSMD13,PSMD14,PSMD4,PSMD5,RBL1,SKP1,SKP2,TFDP1,TK1                                                                                                                                                                                                                                    \n",
       "6 ANAPC10,BANF1,BUB1,BUB3,CDC27,CDCA8,CENPA,CENPO,CLASP2,CLIP1,KIF2C,KPNB1,NDEL1,NSL1,NUDC,NUF2,NUP43,NUP54,NUP58,NUP93,PPP2CA,PPP2R2A,PPP2R5D,PPP2R5E,PSMA5,PSMB10,PSMB4,PSMB5,PSMC3,PSMC4,PSMC5,PSMD1,PSMD11,PSMD12,PSMD13,PSMD14,PSMD4,PSMD5,RAN,RCC1,RCC2,SPAST,TUBA1B,UBE2E1,UBE2I,VPS4A,VRK2,XPO1,ZWINT                                                                                                                                    \n",
       "  X \n",
       "1 NA\n",
       "2 NA\n",
       "3 NA\n",
       "4 NA\n",
       "5 NA\n",
       "6 NA"
      ]
     },
     "metadata": {},
     "output_type": "display_data"
    }
   ],
   "source": [
    "all_sig %>% head()\n",
    "top4_sig %>% head()"
   ]
  },
  {
   "cell_type": "code",
   "execution_count": null,
   "metadata": {
    "vscode": {
     "languageId": "r"
    }
   },
   "outputs": [],
   "source": []
  }
 ],
 "metadata": {
  "kernelspec": {
   "display_name": "R",
   "language": "R",
   "name": "ir"
  },
  "language_info": {
   "codemirror_mode": "r",
   "file_extension": ".r",
   "mimetype": "text/x-r-source",
   "name": "R",
   "pygments_lexer": "r",
   "version": "4.1.1"
  },
  "orig_nbformat": 4
 },
 "nbformat": 4,
 "nbformat_minor": 2
}
