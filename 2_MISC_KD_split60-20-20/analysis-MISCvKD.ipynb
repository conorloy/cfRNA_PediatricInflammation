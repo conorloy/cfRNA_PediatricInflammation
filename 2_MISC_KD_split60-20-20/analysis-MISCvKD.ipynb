{
 "cells": [
  {
   "cell_type": "code",
   "execution_count": 1,
   "metadata": {
    "vscode": {
     "languageId": "r"
    }
   },
   "outputs": [],
   "source": [
    "suppressMessages(library(tidyverse))\n",
    "suppressMessages(library(DESeq2))\n",
    "suppressMessages(library(pheatmap))\n",
    "suppressMessages(library(ggrepel))\n",
    "suppressMessages(library(pROC))\n",
    "suppressMessages(library(caret))\n",
    "suppressMessages(library(pROC))\n",
    "\n",
    "get_auc <- function(gene,train_counts_cpm,train_meta){\n",
    "        gene_counts = train_counts_cpm[gene,,drop=FALSE] %>% t() \n",
    "        meta_train_wGene <- merge(train_meta, gene_counts,by.x=\"sample_id\",by.y=0)\n",
    "        roc_auc = roc(meta_train_wGene$diagnosis ~ meta_train_wGene[[gene]], plot = FALSE, print.auc = FALSE, quiet=TRUE)\n",
    "return(as.numeric(roc_auc$auc))}\n",
    "\n",
    "source(\"../theme_ggplot_prevail.R\")\n",
    "source(\"../global_variables.R\")\n",
    "\n",
    "gene_name_key_file = \"../0_DATA/gencode.biotype.name.key.tsv\"\n",
    "gene_name_key = read.delim(gene_name_key_file)"
   ]
  },
  {
   "cell_type": "markdown",
   "metadata": {},
   "source": [
    "---\n",
    "## Load data & split"
   ]
  },
  {
   "cell_type": "code",
   "execution_count": 2,
   "metadata": {
    "vscode": {
     "languageId": "r"
    }
   },
   "outputs": [],
   "source": [
    "## read counts\n",
    "counts_train <- read.csv(\"../0_DATA/counts_train.602020.csv\",row.names=1)\n",
    "counts_val <- read.csv(\"../0_DATA/counts_val.602020.csv\",row.names=1)\n",
    "counts_test <- read.csv(\"../0_DATA/counts_test.602020.csv\",row.names=1)\n",
    "\n",
    "## read metadata\n",
    "meta_data_train <- read.csv(\"../0_DATA/meta_data_train.602020.csv\")\n",
    "meta_data_val <- read.csv(\"../0_DATA/meta_data_val.602020.csv\")\n",
    "meta_data_test <- read.csv(\"../0_DATA/meta_data_test.602020.csv\")\n",
    "\n",
    "\n",
    "counts_train_vst <- read.csv(\"../0_DATA/counts_train_vst.602020.csv\",row.names=1)\n",
    "counts_val_vst <- read.csv(\"../0_DATA/counts_val_vst.602020.csv\",row.names=1)\n",
    "counts_test_vst <- read.csv(\"../0_DATA/counts_test_vst.602020.csv\",row.names=1)"
   ]
  },
  {
   "cell_type": "markdown",
   "metadata": {},
   "source": [
    "---\n",
    "## DAA"
   ]
  },
  {
   "cell_type": "markdown",
   "metadata": {},
   "source": [
    "#### Run DESeq2"
   ]
  },
  {
   "cell_type": "code",
   "execution_count": 3,
   "metadata": {
    "vscode": {
     "languageId": "r"
    }
   },
   "outputs": [],
   "source": [
    "# ##-----------------------------------\n",
    "# # Contstruct DESeq Data Set\n",
    "# dds <- DESeqDataSetFromMatrix(counts_train,\n",
    "#                                 colData = meta_data_train,\n",
    "#                                 design = ~ diagnosis + 0)\n",
    "\n",
    "# dds_train <- DESeq(dds)\n",
    "# dds_train %>% saveRDS(\"./data/dds_train.rds\")\n",
    "\n",
    "# ##-----------------------------------\n",
    "# # Manipulate results\n",
    "# res_train <- results(dds_train,alpha=0.05,contrast = c(\"diagnosis\",\"MISC\", \"KD\"))\n",
    "# summary(res_train)\n",
    "\n",
    "# res_train_sig <- res_train %>% data.frame() %>% filter(padj < 0.05) \n",
    "# res_train_sig$gene_auc <- as.numeric(lapply(rownames(res_train_sig),\n",
    "#                                                         get_auc,\n",
    "#                                                         counts_train_vst,\n",
    "#                                                         meta_data_train))\n",
    "# res_train_sig %>% write.csv(\"./data/deseq_results.csv\")\n",
    "\n",
    "\n",
    "dds_train = readRDS(\"./data/dds_train.rds\")\n",
    "res_train_sig <- read.csv(\"./data/deseq_results.csv\",row.names=1)"
   ]
  },
  {
   "cell_type": "code",
   "execution_count": 4,
   "metadata": {
    "vscode": {
     "languageId": "r"
    }
   },
   "outputs": [],
   "source": [
    "res_train_sig %>% write.csv(\"./output/Supplementary-File3_pedInflam.KDvMISC-DESEQ.csv\",quote=FALSE,row.names=TRUE)"
   ]
  },
  {
   "cell_type": "code",
   "execution_count": 5,
   "metadata": {
    "vscode": {
     "languageId": "r"
    }
   },
   "outputs": [
    {
     "name": "stderr",
     "output_type": "stream",
     "text": [
      "Warning message:\n",
      "“\u001b[1m\u001b[22mThere was 1 warning in `filter()`.\n",
      "\u001b[1m\u001b[22m\u001b[36mℹ\u001b[39m In argument: `!(gene_id_sub %in% all_of(black_list$V2))`.\n",
      "Caused by warning:\n",
      "\u001b[1m\u001b[22m\u001b[33m!\u001b[39m Using `all_of()` outside of a selecting function was deprecated in tidyselect\n",
      "  1.2.0.\n",
      "\u001b[36mℹ\u001b[39m See details at\n",
      "  <https://tidyselect.r-lib.org/reference/faq-selection-context.html>”\n"
     ]
    },
    {
     "data": {
      "text/html": [
       "132"
      ],
      "text/latex": [
       "132"
      ],
      "text/markdown": [
       "132"
      ],
      "text/plain": [
       "[1] 132"
      ]
     },
     "metadata": {},
     "output_type": "display_data"
    }
   ],
   "source": [
    "pv_thresh = 0.01\n",
    "fc_thresh = 0.25\n",
    "bm_thresh = 100\n",
    "au_thresh = 0.65\n",
    "\n",
    "black_list = read.delim(\"../0_DATA/genes_to_exlude.tsv\",header=F)\n",
    "\n",
    "\n",
    "\n",
    "res_train_sig %>%\n",
    "        mutate(gene_id_sub = gsub(\"\\\\..*\",\"\",row.names(.))) %>% \n",
    "        filter(!(gene_id_sub %in% all_of(black_list$V2))) %>% \n",
    "        filter(padj < pv_thresh) %>%\n",
    "        filter(abs(log2FoldChange) > fc_thresh) %>%\n",
    "        filter(baseMean > bm_thresh) %>%\n",
    "        filter(gene_auc > au_thresh) %>%\n",
    "        nrow()\n"
   ]
  },
  {
   "cell_type": "code",
   "execution_count": 7,
   "metadata": {
    "vscode": {
     "languageId": "r"
    }
   },
   "outputs": [
    {
     "data": {
      "text/html": [
       "<style>\n",
       ".dl-inline {width: auto; margin:0; padding: 0}\n",
       ".dl-inline>dt, .dl-inline>dd {float: none; width: auto; display: inline-block}\n",
       ".dl-inline>dt::after {content: \":\\0020\"; padding-right: .5ex}\n",
       ".dl-inline>dt:not(:first-of-type) {padding-left: .5ex}\n",
       "</style><dl class=dl-inline><dt>0%</dt><dd>0.218853329882423</dd><dt>25%</dt><dd>0.532928028918761</dd><dt>50%</dt><dd>1.14899180297801</dd><dt>75%</dt><dd>6.53015507490728</dd><dt>100%</dt><dd>9753.88963268151</dd></dl>\n"
      ],
      "text/latex": [
       "\\begin{description*}\n",
       "\\item[0\\textbackslash{}\\%] 0.218853329882423\n",
       "\\item[25\\textbackslash{}\\%] 0.532928028918761\n",
       "\\item[50\\textbackslash{}\\%] 1.14899180297801\n",
       "\\item[75\\textbackslash{}\\%] 6.53015507490728\n",
       "\\item[100\\textbackslash{}\\%] 9753.88963268151\n",
       "\\end{description*}\n"
      ],
      "text/markdown": [
       "0%\n",
       ":   0.21885332988242325%\n",
       ":   0.53292802891876150%\n",
       ":   1.1489918029780175%\n",
       ":   6.53015507490728100%\n",
       ":   9753.88963268151\n",
       "\n"
      ],
      "text/plain": [
       "          0%          25%          50%          75%         100% \n",
       "   0.2188533    0.5329280    1.1489918    6.5301551 9753.8896327 "
      ]
     },
     "metadata": {},
     "output_type": "display_data"
    },
    {
     "data": {
      "text/html": [
       "<style>\n",
       ".dl-inline {width: auto; margin:0; padding: 0}\n",
       ".dl-inline>dt, .dl-inline>dd {float: none; width: auto; display: inline-block}\n",
       ".dl-inline>dt::after {content: \":\\0020\"; padding-right: .5ex}\n",
       ".dl-inline>dt:not(:first-of-type) {padding-left: .5ex}\n",
       "</style><dl class=dl-inline><dt>0%</dt><dd>-2.80482639371986</dd><dt>25%</dt><dd>0.667875691184038</dd><dt>50%</dt><dd>1.69178026287222</dd><dt>75%</dt><dd>2.28046678728578</dd><dt>100%</dt><dd>6.44067267748752</dd></dl>\n"
      ],
      "text/latex": [
       "\\begin{description*}\n",
       "\\item[0\\textbackslash{}\\%] -2.80482639371986\n",
       "\\item[25\\textbackslash{}\\%] 0.667875691184038\n",
       "\\item[50\\textbackslash{}\\%] 1.69178026287222\n",
       "\\item[75\\textbackslash{}\\%] 2.28046678728578\n",
       "\\item[100\\textbackslash{}\\%] 6.44067267748752\n",
       "\\end{description*}\n"
      ],
      "text/markdown": [
       "0%\n",
       ":   -2.8048263937198625%\n",
       ":   0.66787569118403850%\n",
       ":   1.6917802628722275%\n",
       ":   2.28046678728578100%\n",
       ":   6.44067267748752\n",
       "\n"
      ],
      "text/plain": [
       "        0%        25%        50%        75%       100% \n",
       "-2.8048264  0.6678757  1.6917803  2.2804668  6.4406727 "
      ]
     },
     "metadata": {},
     "output_type": "display_data"
    },
    {
     "data": {
      "text/html": [
       "<style>\n",
       ".dl-inline {width: auto; margin:0; padding: 0}\n",
       ".dl-inline>dt, .dl-inline>dd {float: none; width: auto; display: inline-block}\n",
       ".dl-inline>dt::after {content: \":\\0020\"; padding-right: .5ex}\n",
       ".dl-inline>dt:not(:first-of-type) {padding-left: .5ex}\n",
       "</style><dl class=dl-inline><dt>0%</dt><dd>0.272727272727273</dd><dt>25%</dt><dd>0.584899845916795</dd><dt>50%</dt><dd>0.620338983050847</dd><dt>75%</dt><dd>0.666872110939908</dd><dt>100%</dt><dd>0.881972265023113</dd></dl>\n"
      ],
      "text/latex": [
       "\\begin{description*}\n",
       "\\item[0\\textbackslash{}\\%] 0.272727272727273\n",
       "\\item[25\\textbackslash{}\\%] 0.584899845916795\n",
       "\\item[50\\textbackslash{}\\%] 0.620338983050847\n",
       "\\item[75\\textbackslash{}\\%] 0.666872110939908\n",
       "\\item[100\\textbackslash{}\\%] 0.881972265023113\n",
       "\\end{description*}\n"
      ],
      "text/markdown": [
       "0%\n",
       ":   0.27272727272727325%\n",
       ":   0.58489984591679550%\n",
       ":   0.62033898305084775%\n",
       ":   0.666872110939908100%\n",
       ":   0.881972265023113\n",
       "\n"
      ],
      "text/plain": [
       "       0%       25%       50%       75%      100% \n",
       "0.2727273 0.5848998 0.6203390 0.6668721 0.8819723 "
      ]
     },
     "metadata": {},
     "output_type": "display_data"
    }
   ],
   "source": [
    "tmp = res_train_sig\n",
    "\n",
    "quantile(tmp$baseMean)\n",
    "quantile(tmp$log2FoldChange)\n",
    "quantile(tmp$gene_auc)\n"
   ]
  },
  {
   "cell_type": "markdown",
   "metadata": {},
   "source": [
    "#### Gene characteristics"
   ]
  },
  {
   "cell_type": "code",
   "execution_count": 101,
   "metadata": {
    "vscode": {
     "languageId": "r"
    }
   },
   "outputs": [
    {
     "data": {
      "text/html": [
       "<strong>png:</strong> 2"
      ],
      "text/latex": [
       "\\textbf{png:} 2"
      ],
      "text/markdown": [
       "**png:** 2"
      ],
      "text/plain": [
       "png \n",
       "  2 "
      ]
     },
     "metadata": {},
     "output_type": "display_data"
    },
    {
     "data": {
      "text/html": [
       "<strong>png:</strong> 2"
      ],
      "text/latex": [
       "\\textbf{png:} 2"
      ],
      "text/markdown": [
       "**png:** 2"
      ],
      "text/plain": [
       "png \n",
       "  2 "
      ]
     },
     "metadata": {},
     "output_type": "display_data"
    },
    {
     "data": {
      "text/html": [
       "<strong>png:</strong> 2"
      ],
      "text/latex": [
       "\\textbf{png:} 2"
      ],
      "text/markdown": [
       "**png:** 2"
      ],
      "text/plain": [
       "png \n",
       "  2 "
      ]
     },
     "metadata": {},
     "output_type": "display_data"
    },
    {
     "data": {
      "text/html": [
       "<strong>png:</strong> 2"
      ],
      "text/latex": [
       "\\textbf{png:} 2"
      ],
      "text/markdown": [
       "**png:** 2"
      ],
      "text/plain": [
       "png \n",
       "  2 "
      ]
     },
     "metadata": {},
     "output_type": "display_data"
    }
   ],
   "source": [
    "PVAL = 0.01\n",
    "BM = 100\n",
    "L2FC = 0.25\n",
    "GAUC = 0.65\n",
    "\n",
    "\n",
    "\n",
    "options(repr.plot.height = 2, repr.plot.width = 6)\n",
    "WIDTH= 2.3\n",
    "WIDTH= 2.35 ### with same y axis\n",
    "HEIGHT= .75\n",
    "\n",
    "###-----------------------------------\n",
    "### Plot gene characteristics\n",
    "numticksX = 5\n",
    "numticksY = 3\n",
    "\n",
    "\n",
    "library(scales)\n",
    "\n",
    "# padj\n",
    "padj_plt <- res_train_sig %>% ggplot()+\n",
    "            annotate(\"rect\", xmin = -log10(PVAL), xmax = Inf, ymin = 0, ymax = Inf, fill = \"#32CD32\", alpha = 0.25) +\n",
    "            geom_histogram(aes(x=-log10(padj)),bins=100) + \n",
    "            theme_prevail() + \n",
    "            geom_vline(xintercept=-log10(PVAL), color = \"red\", linetype =\"dashed\") +\n",
    "            theme(axis.text = element_text(size = 8),\n",
    "                axis.title.x =element_blank(),\n",
    "                axis.title.y = element_blank())+\n",
    "             coord_cartesian(ylim = c(0,1200), xlim = c(0,20))+\n",
    "             scale_x_continuous(breaks = c(0,5,10,15,20))+\n",
    "             scale_y_continuous(breaks = c(0,500,1000))\n",
    "\n",
    "pdf(file=\"plots/KD-MISC_GENECHAR_padj.pdf\",\n",
    "        width=2.35,height=HEIGHT, paper=\"special\", bg=\"white\",\n",
    "        fonts=\"Helvetica\", colormodel = \"srgb\", pointsize=6, useDingbats = FALSE)\n",
    "print(padj_plt)\n",
    "dev.off()\n",
    "\n",
    "# baseMean\n",
    "bm_plt <- res_train_sig %>% ggplot(aes(x=log10(baseMean)))+\n",
    "            annotate(\"rect\", xmin = log10(BM), xmax = Inf, ymin = 0, ymax = Inf, fill = \"#32CD32\", alpha = 0.25) +\n",
    "            geom_histogram(bins=100) + \n",
    "            theme_prevail() + \n",
    "            geom_vline(xintercept=log10(BM), color = \"red\", linetype =\"dashed\") +\n",
    "        #     geom_vline(xintercept=BM, color = \"red\", linetype =\"dashed\") +\n",
    "            theme(axis.text = element_text(size = 8),\n",
    "                axis.title.x =element_blank(),\n",
    "                axis.title.y = element_blank()) +\n",
    "            coord_cartesian(ylim = c(0,1200), xlim = c(-0.5,4))+\n",
    "            scale_x_continuous(breaks = c(0,1,2,3,4))+\n",
    "            scale_y_continuous(breaks = c(0,500,1000))\n",
    "\n",
    "\n",
    "pdf(file=\"plots/KD-MISC_GENECHAR_basemean.pdf\",\n",
    "        width=WIDTH,height=HEIGHT, paper=\"special\", bg=\"white\",\n",
    "        fonts=\"Helvetica\", colormodel = \"srgb\", pointsize=6, useDingbats = FALSE)\n",
    "print(bm_plt)\n",
    "dev.off()\n",
    "\n",
    "# log2FoldChange\n",
    "l2fc_plt <- res_train_sig %>% ggplot(aes(x=log2FoldChange))+\n",
    "            annotate(\"rect\", xmin = L2FC, xmax = Inf, ymin = 0, ymax = Inf, fill = \"#32CD32\", alpha = 0.25) +\n",
    "            annotate(\"rect\", xmin = -Inf, xmax = -L2FC, ymin = 0, ymax = Inf, fill = \"#32CD32\", alpha = 0.25) +\n",
    "            geom_histogram(bins=100) + \n",
    "            theme_prevail() + \n",
    "            geom_vline(xintercept=L2FC, color = \"red\", linetype =\"dashed\") + \n",
    "            geom_vline(xintercept=-L2FC, color = \"red\", linetype =\"dashed\") +\n",
    "            theme(axis.text = element_text(size = 8),\n",
    "                axis.title.x =element_blank(),\n",
    "                axis.title.y = element_blank())+\n",
    "            coord_cartesian(ylim = c(0,1200), xlim = c(-3,6.5))+\n",
    "            scale_x_continuous(breaks = c(-3, 0, 3, 6))+\n",
    "            scale_y_continuous(breaks = c(0,500,1000))\n",
    "\n",
    "pdf(file=\"plots/KD-MISC_GENECHAR_log2fc.pdf\",\n",
    "        width=WIDTH,height=HEIGHT, paper=\"special\", bg=\"white\",\n",
    "        fonts=\"Helvetica\", colormodel = \"srgb\", pointsize=6, useDingbats = FALSE)\n",
    "print(l2fc_plt)\n",
    "dev.off()\n",
    "\n",
    "\n",
    "# gene_auc\n",
    "geneauc_plt <- res_train_sig %>% ggplot(aes(x=gene_auc))+\n",
    "            annotate(\"rect\", xmin = GAUC, xmax = Inf, ymin = 0, ymax = Inf, fill = \"#32CD32\", alpha = 0.25) +\n",
    "            geom_histogram(bins=100) + \n",
    "            theme_prevail()+\n",
    "            geom_vline(xintercept=GAUC, color = \"red\", linetype =\"dashed\") +\n",
    "            theme(axis.text = element_text(size = 8),\n",
    "                axis.title.x =element_blank(),\n",
    "                axis.title.y = element_blank())+\n",
    "            coord_cartesian(ylim = c(0,1200), xlim = c(0.25,1))+\n",
    "             scale_x_continuous(breaks = c(0.25, 0.5, 0.75, 1.00))+\n",
    "             scale_y_continuous(breaks = c(0,500,1000))\n",
    "\n",
    "pdf(file=\"plots/KD-MISC_GENECHAR_geneAUC.pdf\",\n",
    "        width=WIDTH,height=HEIGHT, paper=\"special\", bg=\"white\",\n",
    "        fonts=\"Helvetica\", colormodel = \"srgb\", pointsize=6, useDingbats = FALSE)\n",
    "print(geneauc_plt)\n",
    "dev.off()"
   ]
  },
  {
   "cell_type": "markdown",
   "metadata": {},
   "source": [
    "#### Volcano Plot"
   ]
  },
  {
   "cell_type": "code",
   "execution_count": 5,
   "metadata": {
    "vscode": {
     "languageId": "r"
    }
   },
   "outputs": [
    {
     "data": {
      "text/html": [
       "<strong>png:</strong> 2"
      ],
      "text/latex": [
       "\\textbf{png:} 2"
      ],
      "text/markdown": [
       "**png:** 2"
      ],
      "text/plain": [
       "png \n",
       "  2 "
      ]
     },
     "metadata": {},
     "output_type": "display_data"
    }
   ],
   "source": [
    "# Create a detable \n",
    "detable = res_train_sig %>% data.frame  \n",
    "detable <- merge(detable,gene_name_key,by.x=0,by.y=\"gene_id\")\n",
    "detable <- detable %>%\n",
    "    filter(!is.na(padj)) %>% \n",
    "    mutate(sig_dir = ifelse(padj<0.01 & log2FoldChange>0.5,\"up\",ifelse(padj<0.01 & log2FoldChange < -0.5,\"down\",\"notsig\"))) %>%\n",
    "    # mutate(sig_dir = ifelse(padj >0.05,\"notsig\",ifelse(log2FoldChange>0,\"up\",\"down\"))) %>%\n",
    "    mutate(delabel = ifelse( (sig_dir==\"up\" & -log(padj) > 35) | (sig_dir==\"down\" & -log(padj) > 28) , gene_name,\"\"))\n",
    "\n",
    "options(repr.plot.width = 5, repr.plot.height = 5)\n",
    "\n",
    "volcano_plt <- detable %>% \n",
    "    filter(!is.na(padj)) %>%\n",
    "    ggplot(aes(x=log2FoldChange, y=-log10(padj), color = sig_dir, label=delabel)) + #\n",
    "    geom_point(size = 0.75) +\n",
    "    geom_hline(yintercept = -log(0.01), size = 0.5, alpha = 0.5, linetype=\"dashed\")+\n",
    "    geom_vline(xintercept = c(-0.5, 0.5), size = 0.5, alpha = 0.5, linetype=\"dashed\") + \n",
    "    geom_text_repel(size = 2) +  \n",
    "    theme_prevail() +\n",
    "    scale_color_manual(values = c(\"notsig\"=\"grey\",\"up\"=INFLAMCAT_FILL_KEY[['MISC']],\"down\"=INFLAMCAT_FILL_KEY[['KD']]))+\n",
    "    labs(x = bquote(Log[2]*\"(Fold Change)\"), y= bquote(-Log[10]*\"(Adj p-value)\"))+\n",
    "    theme(axis.text = element_text(size = 8),\n",
    "        axis.title = element_text(size = 8))\n",
    "\n",
    "WIDTH= 2.4\n",
    "HEIGHT= 2.15\n",
    "pdf(file=\"plots/KD-MISC_DESEQ_volcano.pdf\",\n",
    "        width=WIDTH,height=HEIGHT, paper=\"special\", bg=\"white\",\n",
    "        fonts=\"Helvetica\", colormodel = \"srgb\", pointsize=6, useDingbats = FALSE)\n",
    "print(volcano_plt)\n",
    "dev.off()"
   ]
  },
  {
   "cell_type": "markdown",
   "metadata": {},
   "source": [
    "---\n",
    "## Modeling Results"
   ]
  },
  {
   "cell_type": "markdown",
   "metadata": {},
   "source": [
    "#### AUC Dot plots"
   ]
  },
  {
   "cell_type": "code",
   "execution_count": 5,
   "metadata": {
    "vscode": {
     "languageId": "r"
    }
   },
   "outputs": [
    {
     "data": {
      "text/html": [
       "<style>\n",
       ".list-inline {list-style: none; margin:0; padding: 0}\n",
       ".list-inline>li {display: inline-block}\n",
       ".list-inline>li:not(:last-child)::after {content: \"\\00b7\"; padding: 0 .5ex}\n",
       "</style>\n",
       "<ol class=list-inline><li>'C5'</li><li>'EXTRATREES'</li><li>'GLM'</li><li>'GLMNETLasso'</li><li>'GLMNETRidge'</li><li>'KNN'</li><li>'LDA'</li><li>'NB'</li><li>'NNET'</li><li>'PAM'</li><li>'RF'</li><li>'RPART'</li><li>'SVMLIN'</li><li>'SVMRAD'</li></ol>\n"
      ],
      "text/latex": [
       "\\begin{enumerate*}\n",
       "\\item 'C5'\n",
       "\\item 'EXTRATREES'\n",
       "\\item 'GLM'\n",
       "\\item 'GLMNETLasso'\n",
       "\\item 'GLMNETRidge'\n",
       "\\item 'KNN'\n",
       "\\item 'LDA'\n",
       "\\item 'NB'\n",
       "\\item 'NNET'\n",
       "\\item 'PAM'\n",
       "\\item 'RF'\n",
       "\\item 'RPART'\n",
       "\\item 'SVMLIN'\n",
       "\\item 'SVMRAD'\n",
       "\\end{enumerate*}\n"
      ],
      "text/markdown": [
       "1. 'C5'\n",
       "2. 'EXTRATREES'\n",
       "3. 'GLM'\n",
       "4. 'GLMNETLasso'\n",
       "5. 'GLMNETRidge'\n",
       "6. 'KNN'\n",
       "7. 'LDA'\n",
       "8. 'NB'\n",
       "9. 'NNET'\n",
       "10. 'PAM'\n",
       "11. 'RF'\n",
       "12. 'RPART'\n",
       "13. 'SVMLIN'\n",
       "14. 'SVMRAD'\n",
       "\n",
       "\n"
      ],
      "text/plain": [
       " [1] \"C5\"          \"EXTRATREES\"  \"GLM\"         \"GLMNETLasso\" \"GLMNETRidge\"\n",
       " [6] \"KNN\"         \"LDA\"         \"NB\"          \"NNET\"        \"PAM\"        \n",
       "[11] \"RF\"          \"RPART\"       \"SVMLIN\"      \"SVMRAD\"     "
      ]
     },
     "metadata": {},
     "output_type": "display_data"
    },
    {
     "name": "stderr",
     "output_type": "stream",
     "text": [
      "Warning message:\n",
      "“\u001b[1m\u001b[22mUsing `size` aesthetic for lines was deprecated in ggplot2 3.4.0.\n",
      "\u001b[36mℹ\u001b[39m Please use `linewidth` instead.”\n",
      "Warning message:\n",
      "“\u001b[1m\u001b[22mRemoved 1 rows containing missing values (`geom_point()`).”\n"
     ]
    },
    {
     "data": {
      "text/html": [
       "<strong>png:</strong> 2"
      ],
      "text/latex": [
       "\\textbf{png:} 2"
      ],
      "text/markdown": [
       "**png:** 2"
      ],
      "text/plain": [
       "png \n",
       "  2 "
      ]
     },
     "metadata": {},
     "output_type": "display_data"
    }
   ],
   "source": [
    "path = \"./ML_pipeline/output/\"\n",
    "comp = \"MISC<>KD\"\n",
    "\n",
    "get_auc <- function(alg, comp, group, path){\n",
    "    stats <- read.delim(paste0(path,comp,\"/\",alg,\"/\",comp,\".\",alg,\".\",group,\".txt\"))\n",
    "    return(stats[1,])\n",
    "}\n",
    "\n",
    "\n",
    "###############################\n",
    "## Get All Model AUCs\n",
    "###############################\n",
    "\n",
    "## list models\n",
    "models = list.files(paste0(path,comp))\n",
    "models = models[!grepl(\".rds|.png|feature\",models)]\n",
    "models\n",
    "\n",
    "## get AUCs\n",
    "train_aucs <- lapply(models,get_auc,\n",
    "                     comp=comp,\n",
    "                     group=\"train\",\n",
    "                     path=path) %>%\n",
    "                unlist()\n",
    "\n",
    "val_aucs <- lapply(models,get_auc,\n",
    "                     comp=comp,\n",
    "                     group=\"val\",\n",
    "                     path=path) %>%\n",
    "                unlist()\n",
    "\n",
    "## Organize AUCs\n",
    "all_aucs <- rbind(train_aucs,val_aucs) %>% data.frame()\n",
    "colnames(all_aucs) <- models\n",
    "all_aucs <- all_aucs %>% \n",
    "            t() %>% data.frame() %>% \n",
    "            rownames_to_column(.,\"algorithm\") %>% \n",
    "            mutate(comparison = comp) %>%\n",
    "            reshape2::melt(id.vars = c(\"algorithm\",\"comparison\")) %>% \n",
    "            dplyr::rename(auc = value) %>% mutate(auc = as.numeric(auc)) %>% \n",
    "            filter(algorithm != \"LOG\") %>%\n",
    "            mutate(variable = gsub(\"_aucs\",\"\",variable))\n",
    "\n",
    "all_aucs$auc <- as.numeric(all_aucs$auc)\n",
    "\n",
    "\n",
    "###############################\n",
    "## Plot and save\n",
    "###############################\n",
    "\n",
    "WIDTH = 1.8\n",
    "HEIGHT = 1.8\n",
    "\n",
    "pdf(file=paste0(\"./plots/KD-MISC.auc-dotplots.pdf\"),\n",
    "        width=WIDTH,height=HEIGHT, paper=\"special\", bg=\"white\",\n",
    "        fonts=\"Helvetica\", colormodel = \"srgb\", pointsize=6, useDingbats = FALSE)\n",
    "\n",
    "all_aucs %>%\n",
    "        mutate(algorithm = factor(algorithm, levels = all_aucs %>% \n",
    "                                                      filter(variable == \"val\") %>%\n",
    "                                                      group_by(algorithm) %>%\n",
    "                                                      summarize(auc = mean(auc)) %>%\n",
    "                                                      arrange(auc) %>%\n",
    "                                                      pull(algorithm))) %>%\n",
    "        ggplot(aes(x = auc, y = algorithm, color = variable, shape = variable)) +\n",
    "        geom_point(size = 1.5, stroke = 1) +  \n",
    "        geom_hline(yintercept = seq(1.5, length(unique(all_aucs$algorithm)) - 0.5), \n",
    "                    size = 0.3) +\n",
    "        theme_prevail() +\n",
    "        theme(legend.position = \"none\",\n",
    "            axis.title.x = element_text(size = 6),\n",
    "            axis.text.x = element_text(size = 6),\n",
    "            axis.title.y = element_blank(), \n",
    "            axis.text.y = element_text(size = 6, face = \"bold\"),\n",
    "            plot.title = element_blank()) +\n",
    "        labs(title = comp,x=\"AUC\")+\n",
    "        scale_color_manual(breaks = c(\"train\",\"val\"), \n",
    "                            values = c(\"#00A1D5FF\",\"#B24745FF\"))+\n",
    "        scale_shape_manual(breaks = c(\"train\",\"val\"), \n",
    "                            values = c(16,1)) +\n",
    "        xlim(.5,1)\n",
    "\n",
    "dev.off()"
   ]
  },
  {
   "cell_type": "markdown",
   "metadata": {},
   "source": [
    "#### Wrangle GLMNET outputs"
   ]
  },
  {
   "cell_type": "code",
   "execution_count": 29,
   "metadata": {
    "vscode": {
     "languageId": "r"
    }
   },
   "outputs": [],
   "source": [
    "path = \"./ML_pipeline/output/\"\n",
    "comp = \"MISC<>KD\"\n",
    "alg = \"GLMNETLasso\"\n",
    "TYPE = \"prob\"\n",
    "\n",
    "group1_name = \"MISC\"\n",
    "group2_name = \"KD\"\n",
    "\n",
    "mod_data <- readRDS(paste0(path,comp,\"/\",alg,\"/\",comp,\".\",alg,\".rds\"))\n",
    "youden_threshold <- read.delim(paste0(path,comp,\"/\",alg,\"/\",comp,\".\",alg,\".train.txt\"))[\"youden\",]\n",
    "MODEL_FIT <- mod_data[['model']]\n",
    "\n",
    "##------------------------------------\n",
    "## Load train and test data \n",
    "##------------------------------------\n",
    "\n",
    "metadata_train <- mod_data[['meta_data_train']] %>%                        ## get separate metadata files and coordinate\n",
    "    mutate(set = \"Train\") %>%\n",
    "    mutate(classifier_pred = ifelse(classifier_score > youden_threshold,group1_name,group2_name)) %>% \n",
    "    select(cfrna_id,set,group,classifier_score, classifier_pred)\n",
    "\n",
    "metadata_val <- mod_data[['meta_data_val']] %>%                        ## get separate metadata files and coordinate\n",
    "    mutate(set = \"Validation\") %>%\n",
    "    mutate(classifier_pred = ifelse(classifier_score > youden_threshold,group1_name,group2_name)) %>% \n",
    "    select(cfrna_id,set,group,classifier_score, classifier_pred)\n",
    "\n",
    "metadata_test <- mod_data[['meta_data_test']] %>%\n",
    "    mutate(set = \"Test\") %>%\n",
    "    mutate(classifier_pred = ifelse(classifier_score > youden_threshold,group1_name,group2_name)) %>% \n",
    "    select(cfrna_id,set,group,classifier_score, classifier_pred)\n",
    "\n",
    "\n",
    "##------------------------------------\n",
    "## PLOT\n",
    "##------------------------------------\n",
    "\n",
    "## Combine and save\n",
    "mdf <- rbind(metadata_train, rbind(metadata_test, metadata_val))%>%          ## combine metadata and plot\n",
    "        mutate(set = factor(set,levels = c(\"Train\",\"Validation\",\"Test\"))) %>% \n",
    "        mutate(group = ifelse(cfrna_id == \"cfrna_kd_165\",\"KD\",as.character(group))) %>%    ## fix readjudicated samples\n",
    "        mutate(group = factor(group,    \n",
    "                                    levels = c(\"MISC\",\"KD\")))    \n",
    "\n",
    "\n",
    "## Combine and save\n",
    "mdf %>% \n",
    "    write.table(\"./data/glmnet_lasso_predictions.csv\",sep=\",\",quote=FALSE,row.names=FALSE)       "
   ]
  },
  {
   "cell_type": "markdown",
   "metadata": {},
   "source": [
    "#### AUC curves"
   ]
  },
  {
   "cell_type": "code",
   "execution_count": 32,
   "metadata": {
    "vscode": {
     "languageId": "r"
    }
   },
   "outputs": [
    {
     "name": "stderr",
     "output_type": "stream",
     "text": [
      "Warning message in ci.auc.roc(roc, ...):\n",
      "“ci.auc() of a ROC curve with AUC == 1 is always 1-1 and can be misleading.”\n"
     ]
    },
    {
     "data": {
      "text/html": [
       "<strong>png:</strong> 2"
      ],
      "text/latex": [
       "\\textbf{png:} 2"
      ],
      "text/markdown": [
       "**png:** 2"
      ],
      "text/plain": [
       "png \n",
       "  2 "
      ]
     },
     "metadata": {},
     "output_type": "display_data"
    },
    {
     "name": "stdout",
     "output_type": "stream",
     "text": [
      "Area under the curve: 100%\n",
      "Area under the curve: 98.25%\n",
      "Area under the curve: 98.22%\n"
     ]
    }
   ],
   "source": [
    "mod_df <- read.csv(\"./data/glmnet_lasso_predictions.csv\")\n",
    "\n",
    "##------------------------------------\n",
    "## GET TPR + FPR\n",
    "##------------------------------------\n",
    "\n",
    "train_mdf = mod_df %>% filter(set == \"Train\")\n",
    "roc_train <- suppressMessages(roc(response = train_mdf$group, predictor = train_mdf$classifier_score,\n",
    "                percent=TRUE,\n",
    "                ci=TRUE, \n",
    "                boot.n=10000, boot.stratified=TRUE,\n",
    "                print.auc=TRUE,\n",
    "                print.thres=\"best\",\n",
    "                print.thres.best.method=\"youden\"))\n",
    "\n",
    "validate_mdf = mod_df %>% filter(set == \"Validation\")\n",
    "roc_validate <- suppressMessages(roc(response = validate_mdf$group, predictor = validate_mdf$classifier_score,\n",
    "                percent=TRUE,\n",
    "                ci=TRUE, \n",
    "                boot.n=10000, boot.stratified=TRUE,\n",
    "                print.auc=TRUE,\n",
    "                print.thres=\"best\",\n",
    "                print.thres.best.method=\"youden\"))\n",
    "\n",
    "test_mdf = mod_df %>% filter(set == \"Test\")\n",
    "roc_test <- suppressMessages(roc(response = test_mdf$group, predictor = test_mdf$classifier_score,\n",
    "                percent=TRUE,\n",
    "                ci=TRUE, \n",
    "                boot.n=10000, boot.stratified=TRUE,\n",
    "                print.auc=TRUE,\n",
    "                print.thres=\"best\",\n",
    "                print.thres.best.method=\"youden\"))\n",
    "\n",
    "\n",
    "\n",
    "##------------------------------------\n",
    "## get roc values\n",
    "##------------------------------------\n",
    "\n",
    "train_roc <- data.frame(\"sensitivity\" = roc_train$sensitivities,\n",
    "                        \"specificity\" = roc_train$specificities,\n",
    "                       \"set\" = \"train\")\n",
    "\n",
    "validate_roc <- data.frame(\"sensitivity\" = roc_validate$sensitivities,\n",
    "                        \"specificity\" = roc_validate$specificities,\n",
    "                       \"set\" = \"validate\")\n",
    "\n",
    "test_roc <- data.frame(\"sensitivity\" = roc_test$sensitivities,\n",
    "                        \"specificity\" = roc_test$specificities,\n",
    "                       \"set\" = \"test\")\n",
    "\n",
    "\n",
    "all_roc <- do.call(\"rbind\",list(train_roc, validate_roc, test_roc)) %>%\n",
    "    mutate(FPR = 1-(as.numeric(specificity)/100),\n",
    "          TPR = as.numeric(sensitivity)/100)\n",
    "\n",
    "##------------------------------------\n",
    "## PLOT\n",
    "##------------------------------------\n",
    "\n",
    "WIDTH = 2\n",
    "HEIGHT = 2\n",
    "\n",
    "pdf(file = paste0(\"./plots/KD-MISC_MODEL_AUC.pdf\"),\n",
    "        width=WIDTH,height=HEIGHT, paper=\"special\", bg=\"white\",\n",
    "        fonts=\"Helvetica\", colormodel = \"srgb\", pointsize=6, useDingbats = FALSE)\n",
    "\n",
    "all_roc %>% \n",
    "    mutate(set = factor(set,levels = c(\"train\",\"validate\",\"test\"))) %>% \n",
    "    ggplot(aes(x= FPR, y= TPR, group = set, linetype = set, color = set))+\n",
    "    geom_path()+\n",
    "    theme_prevail()+\n",
    "    theme(aspect.ratio = 1,\n",
    "        axis.title.x = element_text(size = 6),\n",
    "        axis.text.x = element_text(size = 6),\n",
    "        axis.title.y = element_text(size = 6), \n",
    "        axis.text.y = element_text(size = 6)\n",
    "        ) +\n",
    "    scale_linetype_manual(values = c(\"train\"=\"dashed\",\"validate\"=\"solid\",\"test\"=\"solid\"))+\n",
    "    scale_color_manual(values = c(\"train\"=\"blue\",\"validate\"=\"red\",\"test\"=\"dark green\"))\n",
    "dev.off()\n",
    "\n",
    "\n",
    "print(roc_train$auc)\n",
    "print(roc_validate$auc)\n",
    "print(roc_test$auc)\n",
    "\n"
   ]
  },
  {
   "cell_type": "markdown",
   "metadata": {},
   "source": [
    "#### Violin plot"
   ]
  },
  {
   "cell_type": "code",
   "execution_count": 33,
   "metadata": {
    "vscode": {
     "languageId": "r"
    }
   },
   "outputs": [
    {
     "data": {
      "text/html": [
       "<strong>png:</strong> 2"
      ],
      "text/latex": [
       "\\textbf{png:} 2"
      ],
      "text/markdown": [
       "**png:** 2"
      ],
      "text/plain": [
       "png \n",
       "  2 "
      ]
     },
     "metadata": {},
     "output_type": "display_data"
    }
   ],
   "source": [
    "## MAKE PLOT \n",
    "plt <- mdf %>% \n",
    "    ggplot(aes(x=group, y=classifier_score, color = group, fill = group))+\n",
    "    geom_hline(yintercept = youden_threshold, linetype = \"dashed\", alpha=0.75)+\n",
    "    geom_violin(color = NA, alpha = 0.3) +\n",
    "    geom_point(size = 0.5, position = position_jitter(width= 0.2, height = 0))+\n",
    "    facet_grid(.~set,scale = \"free_x\", space = \"free_x\")+\n",
    "    theme_prevail() +\n",
    "    theme(legend.position = \"none\",\n",
    "            legend.box = \"vertical\",\n",
    "            legend.text = element_text(size = 4),\n",
    "            legend.title = element_blank(),\n",
    "            strip.background = element_rect(color=\"black\", fill=\"white\", size=.75, linetype=\"solid\"),\n",
    "            axis.title.x = element_blank(),\n",
    "            axis.text.x = element_text(size = 6),\n",
    "            axis.title.y = element_text(size = 6), \n",
    "            axis.text.y = element_text(size = 6),\n",
    "            plot.title = element_blank(),\n",
    "            strip.text = element_text(size = 8)) +\n",
    "    labs(title = alg,y=\"Classifier Score\") +\n",
    "    guides(colour = guide_legend(nrow = 2)) + \n",
    "    # theme(axis.text.x=element_text(angle = 45, hjust = 1, vjust= 1),\n",
    "    #         plot.title = element_blank())+\n",
    "    scale_fill_manual(values = INFLAMCAT_FILL_KEY)+\n",
    "    scale_color_manual(values = INFLAMCAT_FILL_KEY)\n",
    "\n",
    "\n",
    "## Save\n",
    "HEIGHT = 1.9\n",
    "WIDTH = 3\n",
    "\n",
    "pdf(file = paste0(\"./plots/KD-MISC_\",alg,\"_violin.comp.pdf\"),\n",
    "        width=WIDTH,height=HEIGHT, paper=\"special\", bg=\"white\",\n",
    "        fonts=\"Helvetica\", colormodel = \"srgb\", pointsize=6, useDingbats = FALSE)\n",
    "print(plt)\n",
    "dev.off()"
   ]
  },
  {
   "cell_type": "markdown",
   "metadata": {},
   "source": [
    "#### Gene selection"
   ]
  },
  {
   "cell_type": "code",
   "execution_count": 17,
   "metadata": {
    "vscode": {
     "languageId": "r"
    }
   },
   "outputs": [
    {
     "data": {
      "text/html": [
       "25"
      ],
      "text/latex": [
       "25"
      ],
      "text/markdown": [
       "25"
      ],
      "text/plain": [
       "[1] 25"
      ]
     },
     "metadata": {},
     "output_type": "display_data"
    },
    {
     "name": "stdout",
     "output_type": "stream",
     "text": [
      "TXNIP, ASH1L, YPEL5, PCBP1, STK17B, TRAK2, PTMA, RNA5SP149, AFF1, FHDC1, ANXA6, FKBP5, HSP90AB1, SYNE1, RBM33, VIM, PDCD4, CD44, RESF1, DAZAP2, COTL1, PFN1, EEF2, TRIR, FTL"
     ]
    }
   ],
   "source": [
    "##########################################\n",
    "### get genes\n",
    "\n",
    "coefs <-  coef(mod_data$model$finalModel, mod_data$model$bestTune$lambda) %>% as.matrix() %>% as.data.frame()\n",
    "ngs <- coefs %>% filter(s1 != 0) %>% rownames()\n",
    "gene_sub <- ngs[ngs != \"(Intercept)\"]\n",
    "gene_sub %>% length()\n",
    "\n",
    "gene_name_key %>% filter(gene_id %in% gene_sub) %>% pull(gene_name) %>% paste(collapse=\", \") %>% cat()\n",
    "\n",
    "GENE_PANEL = gene_sub"
   ]
  },
  {
   "cell_type": "code",
   "execution_count": 19,
   "metadata": {
    "vscode": {
     "languageId": "r"
    }
   },
   "outputs": [],
   "source": [
    "gene_name_key %>% filter(gene_id %in% gene_sub) %>% write.csv(\"./data/Supplementary_KDMISC-genePanel.csv\",row.names=F,quote=F)"
   ]
  },
  {
   "cell_type": "code",
   "execution_count": 20,
   "metadata": {
    "vscode": {
     "languageId": "r"
    }
   },
   "outputs": [
    {
     "name": "stderr",
     "output_type": "stream",
     "text": [
      "\u001b[1m\u001b[22m`geom_smooth()` using formula = 'y ~ x'\n"
     ]
    },
    {
     "data": {
      "text/html": [
       "<strong>png:</strong> 2"
      ],
      "text/latex": [
       "\\textbf{png:} 2"
      ],
      "text/markdown": [
       "**png:** 2"
      ],
      "text/plain": [
       "png \n",
       "  2 "
      ]
     },
     "metadata": {},
     "output_type": "display_data"
    }
   ],
   "source": [
    "##########################################\n",
    "### Functions\n",
    "\n",
    "GLMNETLasso_TRAIN_CUSTOMLAMBDA <- function(counts,meta_data,LAMBDA){\n",
    "    \n",
    "    set.seed(42)\n",
    "    \n",
    "    metric <- \"Accuracy\"\n",
    "\n",
    "    control <- trainControl(method=\"cv\",number=5)\n",
    "\n",
    "    tunegrid <- expand.grid( #alpha = 1,\n",
    "                            alpha = 1,\n",
    "                           lambda = LAMBDA)\n",
    "    \n",
    "    counts$y <- factor(meta_data$inflam_cat)\n",
    "\n",
    "    glmnet_fit <- train(y~., \n",
    "                    data=counts, \n",
    "                    metric = metric,\n",
    "                    method='glmnet',\n",
    "                    preProcess = c(\"center\",\"scale\"),\n",
    "                    trControl=control,\n",
    "                    tuneGrid = tunegrid)\n",
    "    \n",
    "    return(glmnet_fit)\n",
    "}\n",
    "\n",
    "##-------------------------------------\n",
    "# Set variables and load in data\n",
    "##-------------------------------------\n",
    "\n",
    "mod <- mod_data$model\n",
    "\n",
    "moddf <- mod$results\n",
    "best <- mod$bestTune\n",
    "\n",
    "\n",
    "##-------------------------------------\n",
    "# Get features per lambda\n",
    "##-------------------------------------\n",
    "\n",
    "MIN_LAMBDA <- -round(log(min(moddf$lambda)))\n",
    "\n",
    "output = c()\n",
    "\n",
    "# for (LAMBDA in moddf$lambda){\n",
    "# for (LAMBDA in moddf$lambda[seq(1,length(moddf$lambda),100)]){\n",
    "for (LAMBDA in -seq(from = 0, to = MIN_LAMBDA, length.out = 9) ){\n",
    "    \n",
    "    LAMBDA = exp(LAMBDA)\n",
    "\n",
    "    TYPE = \"prob\"\n",
    "    MODEL_FIT <- GLMNETLasso_TRAIN_CUSTOMLAMBDA(data.frame(t(counts_train_vst[GENE_PANEL,])),meta_data_train,LAMBDA)\n",
    "    \n",
    "    coefs <-  coef(MODEL_FIT$finalModel, MODEL_FIT$bestTune$lambda) %>% as.matrix() %>% as.data.frame()\n",
    "    ngs <- coefs %>% filter(s1 != 0) %>% rownames()\n",
    "    gene_sub <- ngs[ngs != \"(Intercept)\"]\n",
    "    \n",
    "    cnt <- length(gene_sub)\n",
    "     \n",
    "    output <- c(output,cnt)\n",
    "    }\n",
    "\n",
    "\n",
    "##-------------------------------------\n",
    "# Plot\n",
    "##-------------------------------------\n",
    "\n",
    "WIDTH = 1.85\n",
    "HEIGHT = 1.85\n",
    "\n",
    "pdf(file = paste0(\"./plots/KD-MISC_\",alg,\"_lambda-accuracy.pdf\"),\n",
    "        width=WIDTH,height=HEIGHT, paper=\"special\", bg=\"white\",\n",
    "        fonts=\"Helvetica\", colormodel = \"srgb\", pointsize=6, useDingbats = FALSE)\n",
    "\n",
    "# moddf[seq(1,10000,length.out = 100),] %>% \n",
    "moddf %>% \n",
    "    ggplot(aes(x=log(lambda), y = Accuracy))+\n",
    "#     geom_errorbar(aes(ymin = Accuracy - AccuracySD, ymax = Accuracy + AccuracySD),width=.1, size = 0.1)+\n",
    "    geom_point(size = 0.15, color = \"black\")+\n",
    "    geom_smooth(method = \"loess\",span= 0.1,size = 0.25) + \n",
    "    geom_vline(xintercept=log(best$lambda), color = \"red\", linetype = \"dashed\")+\n",
    "    theme_prevail() +\n",
    "    theme(legend.position = \"none\",\n",
    "          strip.background = element_rect(\n",
    "     color=\"black\", fill=\"white\", size=.75, linetype=\"solid\"\n",
    "     ),\n",
    "        axis.text.x = element_text(size = 6),\n",
    "        axis.text.y = element_text(size = 6),\n",
    "        axis.title.x = element_text(size = 6),\n",
    "        axis.title.y = element_text(size = 6),\n",
    "#         plot.title = element_text(hjust = 0.5, size = 6),\n",
    "        plot.title = element_blank(),\n",
    "         strip.text = element_text(size = 8)) +\n",
    "    labs(x = \"log(lambda)\",y=\"Accuracy\") + theme(aspect.ratio=1) +\n",
    "    scale_x_continuous(sec.axis = dup_axis(breaks = -seq(0,12,1.5), \n",
    "                                          labels = output,\n",
    "                                          name = \"genes selected\"))\n",
    "\n",
    "dev.off()"
   ]
  },
  {
   "cell_type": "markdown",
   "metadata": {},
   "source": [
    "---\n",
    "## UCSD only"
   ]
  },
  {
   "cell_type": "code",
   "execution_count": 51,
   "metadata": {
    "vscode": {
     "languageId": "r"
    }
   },
   "outputs": [
    {
     "data": {
      "text/plain": [
       "Confusion Matrix and Statistics\n",
       "\n",
       "          Reference\n",
       "Prediction KD MISC\n",
       "      KD   93    2\n",
       "      MISC  5   41\n",
       "                                          \n",
       "               Accuracy : 0.9504          \n",
       "                 95% CI : (0.9004, 0.9798)\n",
       "    No Information Rate : 0.695           \n",
       "    P-Value [Acc > NIR] : 3.537e-14       \n",
       "                                          \n",
       "                  Kappa : 0.8851          \n",
       "                                          \n",
       " Mcnemar's Test P-Value : 0.4497          \n",
       "                                          \n",
       "            Sensitivity : 0.9490          \n",
       "            Specificity : 0.9535          \n",
       "         Pos Pred Value : 0.9789          \n",
       "         Neg Pred Value : 0.8913          \n",
       "             Prevalence : 0.6950          \n",
       "         Detection Rate : 0.6596          \n",
       "   Detection Prevalence : 0.6738          \n",
       "      Balanced Accuracy : 0.9512          \n",
       "                                          \n",
       "       'Positive' Class : KD              \n",
       "                                          "
      ]
     },
     "metadata": {},
     "output_type": "display_data"
    }
   ],
   "source": [
    "mod_df <- read.csv(\"./data/glmnet_lasso_predictions.csv\") %>% \n",
    "    # filter(set != \"Train\") %>%\n",
    "     filter(grepl(\"cfrna_kd\",cfrna_id))\n",
    "\n",
    "\n",
    "tmp = confusionMatrix( factor(mod_df$classifier_pred), factor(mod_df$group))\n",
    "tmp"
   ]
  },
  {
   "cell_type": "markdown",
   "metadata": {},
   "source": [
    "### panel with directions"
   ]
  },
  {
   "cell_type": "code",
   "execution_count": 13,
   "metadata": {
    "vscode": {
     "languageId": "r"
    }
   },
   "outputs": [],
   "source": [
    "desq = read.csv(\"./output/Supplementary-File3_pedInflam.KDvMISC-DESEQ.csv\")\n",
    "panel = read.csv(\"./data/Supplementary_KDMISC-genePanel.csv\")\n",
    "\n",
    "panel <- merge(panel, desq, by.x=\"gene_id\", by.y=\"X\", all.x=TRUE) %>% select(gene_id, gene_name, gene_type, log2FoldChange) %>% \n",
    "    mutate(elevated_in = ifelse(log2FoldChange < 0, \"KD\", \"MIS-C\"))\n",
    "panel %>% write.csv(\"./data/Supplementary_KDMISC-genePanel-DIR.csv\",row.names=FALSE, quote=FALSE)"
   ]
  }
 ],
 "metadata": {
  "kernelspec": {
   "display_name": "R",
   "language": "R",
   "name": "ir"
  },
  "language_info": {
   "codemirror_mode": "r",
   "file_extension": ".r",
   "mimetype": "text/x-r-source",
   "name": "R",
   "pygments_lexer": "r",
   "version": "4.1.1"
  },
  "orig_nbformat": 4
 },
 "nbformat": 4,
 "nbformat_minor": 2
}
