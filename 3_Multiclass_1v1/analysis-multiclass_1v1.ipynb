{
 "cells": [
  {
   "cell_type": "code",
   "execution_count": null,
   "metadata": {
    "vscode": {
     "languageId": "r"
    }
   },
   "outputs": [
    {
     "name": "stderr",
     "output_type": "stream",
     "text": [
      "\n",
      "Attaching package: ‘plotly’\n",
      "\n",
      "\n",
      "The following object is masked from ‘package:ggplot2’:\n",
      "\n",
      "    last_plot\n",
      "\n",
      "\n",
      "The following object is masked from ‘package:stats’:\n",
      "\n",
      "    filter\n",
      "\n",
      "\n",
      "The following object is masked from ‘package:graphics’:\n",
      "\n",
      "    layout\n",
      "\n",
      "\n",
      "This build of rgl does not include OpenGL functions.  Use\n",
      " rglwidget() to display results, e.g. via options(rgl.printRglwidget = TRUE).\n",
      "\n",
      "========================================\n",
      "circlize version 0.4.15\n",
      "CRAN page: https://cran.r-project.org/package=circlize\n",
      "Github page: https://github.com/jokergoo/circlize\n",
      "Documentation: https://jokergoo.github.io/circlize_book/book/\n",
      "\n",
      "If you use it in published research, please cite:\n",
      "Gu, Z. circlize implements and enhances circular visualization\n",
      "  in R. Bioinformatics 2014.\n",
      "\n",
      "This message can be suppressed by:\n",
      "  suppressPackageStartupMessages(library(circlize))\n",
      "========================================\n",
      "\n",
      "\n",
      "Loading required package: lattice\n",
      "\n",
      "\n",
      "Attaching package: ‘caret’\n",
      "\n",
      "\n",
      "The following object is masked from ‘package:purrr’:\n",
      "\n",
      "    lift\n",
      "\n",
      "\n"
     ]
    }
   ],
   "source": [
    "suppressMessages(library(tidyverse))\n",
    "suppressMessages(library(reshape2))\n",
    "suppressMessages(library(stats))\n",
    "suppressMessages(library(pROC))\n",
    "library(plotly)\n",
    "library(rgl)\n",
    "library(circlize)\n",
    "library(caret)\n",
    "\n",
    "source(\"../theme_ggplot_prevail.R\")\n",
    "source(\"../global_variables.R\")\n",
    "\n",
    "gene_list = read.delim(\"../0_DATA/gencode.biotype.name.key.tsv\")"
   ]
  },
  {
   "cell_type": "code",
   "execution_count": 2,
   "metadata": {
    "vscode": {
     "languageId": "r"
    }
   },
   "outputs": [],
   "source": [
    "counts_train_path = \"../0_DATA/counts_train.7030.csv\"\n",
    "counts_test_path = \"../0_DATA/counts_test.7030.csv\"\n",
    "\n",
    "counts_vst_train_path = \"../0_DATA/counts_train_vst.7030.csv\"\n",
    "counts_vst_test_path = \"../0_DATA/counts_test_vst.7030.csv\"\n",
    "\n",
    "meta_train_path = \"../0_DATA/meta_data_train.7030.csv\"\n",
    "meta_test_path = \"../0_DATA/meta_data_test.7030.csv\"\n",
    "\n",
    "counts_train = read.csv(counts_train_path, row.names = 1)\n",
    "counts_test = read.csv(counts_test_path, row.names = 1)\n",
    "counts_train_vst = read.csv(counts_vst_train_path, row.names = 1)\n",
    "counts_test_vst = read.csv(counts_vst_test_path, row.names = 1)\n",
    "meta_train = read.csv(meta_train_path) %>% mutate(cohort = \"train\")\n",
    "meta_test = read.csv(meta_test_path) %>% mutate(cohort = \"test\")\n",
    "\n",
    "meta_all <- rbind(meta_train, meta_test)"
   ]
  },
  {
   "cell_type": "markdown",
   "metadata": {
    "jp-MarkdownHeadingCollapsed": true,
    "tags": []
   },
   "source": [
    "---\n",
    "## Plots for overview"
   ]
  },
  {
   "cell_type": "code",
   "execution_count": 3,
   "metadata": {
    "vscode": {
     "languageId": "r"
    }
   },
   "outputs": [
    {
     "data": {
      "text/html": [
       "<strong>png:</strong> 2"
      ],
      "text/latex": [
       "\\textbf{png:} 2"
      ],
      "text/markdown": [
       "**png:** 2"
      ],
      "text/plain": [
       "png \n",
       "  2 "
      ]
     },
     "metadata": {},
     "output_type": "display_data"
    },
    {
     "name": "stderr",
     "output_type": "stream",
     "text": [
      "Loading required package: grid\n",
      "\n",
      "Loading required package: futile.logger\n",
      "\n"
     ]
    },
    {
     "data": {
      "text/html": [
       "<strong>png:</strong> 2"
      ],
      "text/latex": [
       "\\textbf{png:} 2"
      ],
      "text/markdown": [
       "**png:** 2"
      ],
      "text/plain": [
       "png \n",
       "  2 "
      ]
     },
     "metadata": {},
     "output_type": "display_data"
    }
   ],
   "source": [
    "chord_mtx = matrix(rep(1,4*4),ncol=4)\n",
    "colnames(chord_mtx) <- c(\"bacterial_infection\",  \"KD\", \"MISC\", \"viral_infection\")\n",
    "rownames(chord_mtx) <- c(\"bacterial_infection\",  \"KD\", \"MISC\", \"viral_infection\")\n",
    "\n",
    "\n",
    "WIDTH = 2\n",
    "HEIGHT = 2\n",
    "\n",
    "pdf(file = paste0(\"./plots/ALL-ONE_SUMMARY_chord.pdf\"),\n",
    "        width=WIDTH,height=HEIGHT, paper=\"special\", bg=\"white\",\n",
    "        fonts=\"Helvetica\", colormodel = \"srgb\", pointsize=6, useDingbats = FALSE)\n",
    "\n",
    "chordDiagram(chord_mtx, \n",
    "    transparency = 0.5,\n",
    "    # grid.col = c(\"red\", \"blue\", \"purple\",\"pink\", \"orange\", \"green\", \"steelblue1\"),\n",
    "    grid.col = c(INFLAMCAT_FILL_KEY[['bacterial_infection']], \n",
    "                #  INFLAMCAT_FILL_KEY[['Healthy']], \n",
    "                #  INFLAMCAT_FILL_KEY[['other']], \n",
    "                 INFLAMCAT_FILL_KEY[['viral_infection']], \n",
    "                 INFLAMCAT_FILL_KEY[['MISC']], \n",
    "                 INFLAMCAT_FILL_KEY[['KD']]\n",
    "                 ),\n",
    "    # annotationTrack = c(\"name\",\"grid\"),\n",
    "    annotationTrack = c(\"grid\")\n",
    "    )\n",
    "\n",
    "dev.off()\n",
    "\n",
    "library(\"VennDiagram\")\n",
    "library(eulerr)\n",
    "\n",
    "\n",
    "# create a list of sets\n",
    "\n",
    "WIDTH = 1\n",
    "HEIGHT = 1\n",
    "\n",
    "pdf(file = paste0(\"./plots/ALL-ONE_SUMMARY_venn.pdf\"),\n",
    "                width=WIDTH,height=HEIGHT, paper=\"special\", bg=\"white\",\n",
    "                fonts=\"Helvetica\", colormodel = \"srgb\", pointsize=6, useDingbats = FALSE)\n",
    "\n",
    "set_list <- list(\"Set 1\" = c(1, 2, 3, 4),\n",
    "                                \"Set 2\" = c(3, 4, 5, 6))\n",
    "plot(euler(set_list),\n",
    "     fills = c(\"#CD4254\", \"#FBE77C\"),\n",
    "     edges = T,\n",
    "     labels = list(cex = 0),\n",
    "     quantities = list(cex = 0))\n",
    "\n",
    "dev.off()\n",
    "\n"
   ]
  },
  {
   "cell_type": "markdown",
   "metadata": {
    "jp-MarkdownHeadingCollapsed": true,
    "tags": []
   },
   "source": [
    "---\n",
    "## Wrangle outputs of pairwise DAA"
   ]
  },
  {
   "cell_type": "markdown",
   "metadata": {},
   "source": [
    "#### Functions"
   ]
  },
  {
   "cell_type": "code",
   "execution_count": 4,
   "metadata": {
    "vscode": {
     "languageId": "r"
    }
   },
   "outputs": [],
   "source": [
    "get_sig <- function(C,rds,grp){\n",
    "\n",
    "    ## get sig df & add comparison\n",
    "    sig_df <- rds[[C]]$res_df %>% \n",
    "        dplyr::rename(gene_id = Row.names) %>% \n",
    "        mutate(comp = C) %>%\n",
    "        select(comp, gene_id, gene_name, gene_type, padj, log2FoldChange, baseMean, gene_name)\n",
    "\n",
    "    ## change log2FC direction to match group of interest\n",
    "    if(grp == unlist(strsplit(C,\"<>\"))[2]){\n",
    "        sig_df <- sig_df %>% mutate(log2FoldChange = -1 * log2FoldChange)\n",
    "    }\n",
    "\n",
    "    return(sig_df)\n",
    "}\n",
    "\n",
    "\n",
    "get_overlapping_genes <- function(GRP,daa_rds,comparisons){\n",
    "\n",
    "    ## get all relevant comparisons\n",
    "    grp_comps <- comparisons[grepl(GRP,comparisons)]\n",
    "\n",
    "    ## extract all significant genes and make data frame\n",
    "    all_sig <- lapply(grp_comps, get_sig, daa_rds,GRP)\n",
    "    all_sig_df <- do.call(\"rbind\",all_sig) %>% \n",
    "        data.frame()\n",
    "\n",
    "    ## sumarize to count occurrences\n",
    "    sig_counts <- all_sig_df %>% \n",
    "        filter(padj < 0.05) %>% \n",
    "        group_by(gene_id,gene_name) %>% \n",
    "        dplyr::count() %>% dplyr::rename(occurrences = n) %>% \n",
    "        arrange(desc(occurrences))\n",
    "\n",
    "    ## counts occurrences for plot\n",
    "    num_occur <- sig_counts  %>% group_by(occurrences) %>% dplyr::count()\n",
    "\n",
    "    return(list(\"all_sig_df\" = all_sig_df, \"sig_counts\" = sig_counts, \"num_occur\" = num_occur))\n",
    "\n",
    "}"
   ]
  },
  {
   "cell_type": "markdown",
   "metadata": {},
   "source": [
    "#### Loop over outputs"
   ]
  },
  {
   "cell_type": "code",
   "execution_count": 5,
   "metadata": {
    "vscode": {
     "languageId": "r"
    }
   },
   "outputs": [],
   "source": [
    "## load all DAA results\n",
    "daa_rds <- readRDS(\"./output/pairwise_DAA.train.rds\")\n",
    "\n",
    "# ## get all pairwise comparisons\n",
    "# all_groups = unique(meta_all$inflam_cat)\n",
    "# print(all_groups)\n",
    "# cat(\"\\n\")\n",
    "# comparisons = daa_rds %>% names\n",
    "# print(comparisons)\n",
    "\n",
    "# ## Iterate over all gorups\n",
    "# all_outputs <- list()\n",
    "# for (GRP in all_groups){\n",
    "\n",
    "#     ## get overlapping data frames\n",
    "#     all_out <- get_overlapping_genes(GRP,daa_rds,comparisons)\n",
    "\n",
    "#     ## save to output\n",
    "#     all_outputs[[GRP]] = all_out\n",
    "\n",
    "#     ## make plot\n",
    "#     options(repr.plot.height = 4, repr.plot.width = 6)\n",
    "#     plt <- all_out[['num_occur']] %>% \n",
    "#         ggplot(aes(x=occurrences, y = n))+\n",
    "#         geom_bar(stat=\"identity\",width = 1, fill=\"forest green\")+   #forest green   red  blue\n",
    "#         xlim(0,7)+\n",
    "#         theme_prevail()+\n",
    "#         labs(y=\"genes\", title = GRP)+\n",
    "#         theme(axis.text = element_text(size = 12),\n",
    "#             axis.title = element_text(size = 12),\n",
    "#             title = element_text(size = 12))\n",
    "\n",
    "#     # print(plt)\n",
    "#         }\n",
    "\n",
    "# all_outputs %>% saveRDS(\"./output/occur.rds\")\n",
    "\n",
    "\n",
    "all_outputs = readRDS(\"./output/occur.rds\")"
   ]
  },
  {
   "cell_type": "markdown",
   "metadata": {},
   "source": [
    "### save outputs"
   ]
  },
  {
   "cell_type": "code",
   "execution_count": 6,
   "metadata": {
    "vscode": {
     "languageId": "r"
    }
   },
   "outputs": [],
   "source": [
    "# daa_rds <- readRDS(\"./output/pairwise_DAA.train.rds\")\n",
    "\n",
    "\n",
    "### save outputs\n",
    "comparisons <- daa_rds %>% names\n",
    "\n",
    "\n",
    "for (COMP in comparisons){\n",
    "    res = daa_rds[[COMP]]$res_df %>% dplyr::rename(gene_id = Row.names)\n",
    "    res %>% write.csv(paste0(\"./output/Supp_\",gsub(\"<>\",\"-\",COMP),\"_ML-DESEQ.csv\"),row.names = F,quote=FALSE)\n",
    "    }"
   ]
  },
  {
   "cell_type": "markdown",
   "metadata": {},
   "source": [
    "---\n",
    "# Individual Models"
   ]
  },
  {
   "cell_type": "markdown",
   "metadata": {},
   "source": [
    "### Check DEA"
   ]
  },
  {
   "cell_type": "code",
   "execution_count": 3,
   "metadata": {
    "vscode": {
     "languageId": "r"
    }
   },
   "outputs": [
    {
     "ename": "ERROR",
     "evalue": "Error in pull(., model): object 'all_res_mdf' not found\n",
     "output_type": "error",
     "traceback": [
      "Error in pull(., model): object 'all_res_mdf' not found\nTraceback:\n",
      "1. all_res_mdf %>% pull(model) %>% unique()",
      "2. unique(.)",
      "3. pull(., model)"
     ]
    }
   ],
   "source": [
    "all_outputs = readRDS(\"./output/occur.rds\")\n",
    "\n",
    "PVAL_THRESH = 0.05\n",
    "LOG2FC_THRESH = 0.25\n",
    "BASEMEAN_THRESH = 50\n",
    "\n",
    "ALL_MODS = all_res_mdf %>% pull(model) %>% unique()\n",
    "\n",
    "MOD = ALL_MODS[1]\n",
    "\n",
    "for (MOD in ALL_MODS){\n",
    "\n",
    "    res = all_outputs[[gsub(\"<>.*\",\"\",MOD)]][[\"all_sig_df\"]] %>% filter(grepl(gsub(\".*<>\",\"\",MOD),comp))\n",
    "    NUM = res %>% \n",
    "        filter(padj < PVAL_THRESH) %>% \n",
    "        filter(abs(log2FoldChange) > LOG2FC_THRESH) %>%\n",
    "        filter(baseMean > BASEMEAN_THRESH) %>% \n",
    "        nrow()\n",
    "\n",
    "    cat(paste(MOD,\" --> \",as.character(NUM),\"\\n\"))\n",
    "\n",
    "    # res %>% \n",
    "    #     filter(padj < PADJ_FILT) %>% \n",
    "    #     filter(abs(log2FoldChange) > L2FC_FILT) %>%\n",
    "    #     filter(baseMean > BM_FILT) %>%\n",
    "    #     group_by(gene_id,gene_name) %>% \n",
    "    #     summarise(n = n(), mean_lg = mean(abs(log2FoldChange)))%>%           ## group by and count occurances\n",
    "    #     arrange(desc(n)) %>% head() %>% print()\n",
    "}\n",
    "\n"
   ]
  },
  {
   "cell_type": "markdown",
   "metadata": {},
   "source": [
    "### Load outputs"
   ]
  },
  {
   "cell_type": "code",
   "execution_count": 3,
   "metadata": {
    "vscode": {
     "languageId": "r"
    }
   },
   "outputs": [],
   "source": [
    "res_path = \"./ML_split70-30/1_all/output/\"\n",
    "\n",
    "all_comps = c(\n",
    "    \"KD<>bacterial_infection\",\n",
    "    \"KD<>viral_infection\",\n",
    "    \"MISC<>bacterial_infection\",\n",
    "    \"MISC<>viral_infection\",\n",
    "    \"MISC<>KD\",\n",
    "    \"viral_infection<>bacterial_infection\"\n",
    ")\n",
    "\n",
    "ALG = \"GLMNETLasso\"\n",
    "\n",
    "all_mod <- list()\n",
    "all_res <- list()\n",
    "all_youden <- list()\n",
    "\n",
    "for (GRP in all_comps){\n",
    "    grp_mod = readRDS(paste0(res_path,GRP,\"/\",ALG,\"/\",GRP,\".\",ALG,\".rds\"))\n",
    "    grp_res <- rbind(grp_mod[['meta_data_train']], grp_mod[['meta_data_test']]) %>% \n",
    "        select(cfrna_id, classifier_score) %>%\n",
    "        mutate(model = GRP)\n",
    "    grp_youden = read.delim(paste0(res_path,GRP,\"/\",ALG,\"/\",GRP,\".\",ALG,\".train.txt\"))[\"youden\",]\n",
    "\n",
    "    all_mod[[GRP]] <- grp_mod\n",
    "    all_res[[GRP]] <- grp_res\n",
    "    all_youden[[GRP]] <- grp_youden\n",
    "\n",
    "}\n",
    "\n",
    "all_res <- do.call(rbind,all_res)\n",
    "\n",
    "\n",
    "### Create master data frame\n",
    "all_res_mdf <- merge(all_res, meta_all, by = \"cfrna_id\") %>%\n",
    "    select(cfrna_id,inflam_cat, cohort, model, classifier_score) %>%\n",
    "    mutate(cohort = factor(cohort, levels = c(\"train\",\"test\")))%>%\n",
    "    mutate(inflam_cat = factor(inflam_cat, levels = c(\"MISC\",\"KD\",\"viral_infection\",\"bacterial_infection\",\"Healthy\",\"other\")))%>% \n",
    "    mutate(model = factor(model, levels = all_comps))\n",
    "\n",
    "    "
   ]
  },
  {
   "cell_type": "markdown",
   "metadata": {},
   "source": [
    "### Plot scores"
   ]
  },
  {
   "cell_type": "code",
   "execution_count": 33,
   "metadata": {
    "vscode": {
     "languageId": "r"
    }
   },
   "outputs": [
    {
     "data": {
      "text/html": [
       "<style>\n",
       ".list-inline {list-style: none; margin:0; padding: 0}\n",
       ".list-inline>li {display: inline-block}\n",
       ".list-inline>li:not(:last-child)::after {content: \"\\00b7\"; padding: 0 .5ex}\n",
       "</style>\n",
       "<ol class=list-inline><li>viral_infection</li><li>viral_infection</li><li>viral_infection</li><li>viral_infection</li><li>MISC</li><li>MISC</li><li>MISC</li><li>MISC</li><li>MISC</li><li>MISC</li><li>MISC</li><li>KD</li><li>viral_infection</li><li>MISC</li><li>MISC</li><li>viral_infection</li><li>viral_infection</li><li>viral_infection</li><li>viral_infection</li><li>viral_infection</li><li>viral_infection</li><li>viral_infection</li><li>viral_infection</li><li>viral_infection</li><li>viral_infection</li><li>viral_infection</li><li>viral_infection</li><li>viral_infection</li><li>viral_infection</li><li>viral_infection</li><li>viral_infection</li><li>viral_infection</li><li>MISC</li><li>MISC</li><li>MISC</li><li>MISC</li><li>viral_infection</li><li>MISC</li><li>viral_infection</li><li>MISC</li><li>viral_infection</li><li>viral_infection</li><li>viral_infection</li><li>viral_infection</li><li>viral_infection</li><li>viral_infection</li><li>MISC</li><li>MISC</li><li>MISC</li><li>MISC</li><li>viral_infection</li><li>MISC</li><li>MISC</li><li>MISC</li><li>MISC</li><li>MISC</li><li>MISC</li><li>MISC</li><li>MISC</li><li>MISC</li><li>MISC</li><li>viral_infection</li><li>viral_infection</li><li>viral_infection</li><li>MISC</li><li>MISC</li></ol>\n",
       "\n",
       "<details>\n",
       "\t<summary style=display:list-item;cursor:pointer>\n",
       "\t\t<strong>Levels</strong>:\n",
       "\t</summary>\n",
       "\t<style>\n",
       "\t.list-inline {list-style: none; margin:0; padding: 0}\n",
       "\t.list-inline>li {display: inline-block}\n",
       "\t.list-inline>li:not(:last-child)::after {content: \"\\00b7\"; padding: 0 .5ex}\n",
       "\t</style>\n",
       "\t<ol class=list-inline><li>'MISC'</li><li>'KD'</li><li>'viral_infection'</li><li>'bacterial_infection'</li><li>'Healthy'</li><li>'other'</li></ol>\n",
       "</details>"
      ],
      "text/latex": [
       "\\begin{enumerate*}\n",
       "\\item viral\\_infection\n",
       "\\item viral\\_infection\n",
       "\\item viral\\_infection\n",
       "\\item viral\\_infection\n",
       "\\item MISC\n",
       "\\item MISC\n",
       "\\item MISC\n",
       "\\item MISC\n",
       "\\item MISC\n",
       "\\item MISC\n",
       "\\item MISC\n",
       "\\item KD\n",
       "\\item viral\\_infection\n",
       "\\item MISC\n",
       "\\item MISC\n",
       "\\item viral\\_infection\n",
       "\\item viral\\_infection\n",
       "\\item viral\\_infection\n",
       "\\item viral\\_infection\n",
       "\\item viral\\_infection\n",
       "\\item viral\\_infection\n",
       "\\item viral\\_infection\n",
       "\\item viral\\_infection\n",
       "\\item viral\\_infection\n",
       "\\item viral\\_infection\n",
       "\\item viral\\_infection\n",
       "\\item viral\\_infection\n",
       "\\item viral\\_infection\n",
       "\\item viral\\_infection\n",
       "\\item viral\\_infection\n",
       "\\item viral\\_infection\n",
       "\\item viral\\_infection\n",
       "\\item MISC\n",
       "\\item MISC\n",
       "\\item MISC\n",
       "\\item MISC\n",
       "\\item viral\\_infection\n",
       "\\item MISC\n",
       "\\item viral\\_infection\n",
       "\\item MISC\n",
       "\\item viral\\_infection\n",
       "\\item viral\\_infection\n",
       "\\item viral\\_infection\n",
       "\\item viral\\_infection\n",
       "\\item viral\\_infection\n",
       "\\item viral\\_infection\n",
       "\\item MISC\n",
       "\\item MISC\n",
       "\\item MISC\n",
       "\\item MISC\n",
       "\\item viral\\_infection\n",
       "\\item MISC\n",
       "\\item MISC\n",
       "\\item MISC\n",
       "\\item MISC\n",
       "\\item MISC\n",
       "\\item MISC\n",
       "\\item MISC\n",
       "\\item MISC\n",
       "\\item MISC\n",
       "\\item MISC\n",
       "\\item viral\\_infection\n",
       "\\item viral\\_infection\n",
       "\\item viral\\_infection\n",
       "\\item MISC\n",
       "\\item MISC\n",
       "\\end{enumerate*}\n",
       "\n",
       "\\emph{Levels}: \\begin{enumerate*}\n",
       "\\item 'MISC'\n",
       "\\item 'KD'\n",
       "\\item 'viral\\_infection'\n",
       "\\item 'bacterial\\_infection'\n",
       "\\item 'Healthy'\n",
       "\\item 'other'\n",
       "\\end{enumerate*}\n"
      ],
      "text/markdown": [
       "1. viral_infection\n",
       "2. viral_infection\n",
       "3. viral_infection\n",
       "4. viral_infection\n",
       "5. MISC\n",
       "6. MISC\n",
       "7. MISC\n",
       "8. MISC\n",
       "9. MISC\n",
       "10. MISC\n",
       "11. MISC\n",
       "12. KD\n",
       "13. viral_infection\n",
       "14. MISC\n",
       "15. MISC\n",
       "16. viral_infection\n",
       "17. viral_infection\n",
       "18. viral_infection\n",
       "19. viral_infection\n",
       "20. viral_infection\n",
       "21. viral_infection\n",
       "22. viral_infection\n",
       "23. viral_infection\n",
       "24. viral_infection\n",
       "25. viral_infection\n",
       "26. viral_infection\n",
       "27. viral_infection\n",
       "28. viral_infection\n",
       "29. viral_infection\n",
       "30. viral_infection\n",
       "31. viral_infection\n",
       "32. viral_infection\n",
       "33. MISC\n",
       "34. MISC\n",
       "35. MISC\n",
       "36. MISC\n",
       "37. viral_infection\n",
       "38. MISC\n",
       "39. viral_infection\n",
       "40. MISC\n",
       "41. viral_infection\n",
       "42. viral_infection\n",
       "43. viral_infection\n",
       "44. viral_infection\n",
       "45. viral_infection\n",
       "46. viral_infection\n",
       "47. MISC\n",
       "48. MISC\n",
       "49. MISC\n",
       "50. MISC\n",
       "51. viral_infection\n",
       "52. MISC\n",
       "53. MISC\n",
       "54. MISC\n",
       "55. MISC\n",
       "56. MISC\n",
       "57. MISC\n",
       "58. MISC\n",
       "59. MISC\n",
       "60. MISC\n",
       "61. MISC\n",
       "62. viral_infection\n",
       "63. viral_infection\n",
       "64. viral_infection\n",
       "65. MISC\n",
       "66. MISC\n",
       "\n",
       "\n",
       "\n",
       "**Levels**: 1. 'MISC'\n",
       "2. 'KD'\n",
       "3. 'viral_infection'\n",
       "4. 'bacterial_infection'\n",
       "5. 'Healthy'\n",
       "6. 'other'\n",
       "\n",
       "\n"
      ],
      "text/plain": [
       " [1] viral_infection viral_infection viral_infection viral_infection\n",
       " [5] MISC            MISC            MISC            MISC           \n",
       " [9] MISC            MISC            MISC            KD             \n",
       "[13] viral_infection MISC            MISC            viral_infection\n",
       "[17] viral_infection viral_infection viral_infection viral_infection\n",
       "[21] viral_infection viral_infection viral_infection viral_infection\n",
       "[25] viral_infection viral_infection viral_infection viral_infection\n",
       "[29] viral_infection viral_infection viral_infection viral_infection\n",
       "[33] MISC            MISC            MISC            MISC           \n",
       "[37] viral_infection MISC            viral_infection MISC           \n",
       "[41] viral_infection viral_infection viral_infection viral_infection\n",
       "[45] viral_infection viral_infection MISC            MISC           \n",
       "[49] MISC            MISC            viral_infection MISC           \n",
       "[53] MISC            MISC            MISC            MISC           \n",
       "[57] MISC            MISC            MISC            MISC           \n",
       "[61] MISC            viral_infection viral_infection viral_infection\n",
       "[65] MISC            MISC           \n",
       "Levels: MISC KD viral_infection bacterial_infection Healthy other"
      ]
     },
     "metadata": {},
     "output_type": "display_data"
    }
   ],
   "source": [
    "all_res_mdf %>% filter(model == \"MISC<>viral_infection\") %>% filter(cohort == \"test\") %>% pull(inflam_cat)"
   ]
  },
  {
   "cell_type": "code",
   "execution_count": 34,
   "metadata": {
    "vscode": {
     "languageId": "r"
    }
   },
   "outputs": [],
   "source": [
    "### Create train / test plots for all but bacterial\n",
    "\n",
    "ALL_MODS = all_res_mdf %>% pull(model) %>% unique()\n",
    "# ALL_MODS = ALL_MODS[!grepl(\"bacterial_infection\", ALL_MODS)]\n",
    "\n",
    "for (MOD in ALL_MODS){\n",
    "\n",
    "    set.seed(42)\n",
    "\n",
    "    boxplt = all_res_mdf %>% \n",
    "        mutate(inflam_cat = factor(inflam_cat, levels = names(INFLAMCAT_FILL_KEY))) %>% \n",
    "        filter(inflam_cat %in% unlist(strsplit(MOD,\"<>\"))) %>%\n",
    "        filter(model == MOD) %>%\n",
    "        ggplot(aes(x=inflam_cat, y = classifier_score, fill = inflam_cat)) +\n",
    "        geom_hline(yintercept = all_youden[[MOD]], linetype = \"dashed\", alpha = 0.75)+\n",
    "        # geom_violin(color = NA, alpha = 0.9, width = 10) +\n",
    "        geom_boxplot(outlier.shape = NA, width = 0.5, color = \"black\")+\n",
    "        geom_point(size = 0.5, alpha = 0.75, shape= 21, stroke = .2, position = position_jitter(width= 0.2, height = 0))+\n",
    "        theme_prevail() +\n",
    "        theme(\n",
    "            # strip.background = element_rect(color=\"black\", fill=\"white\", size=.75, linetype=\"solid\"),\n",
    "            strip.background = element_blank(),\n",
    "            # strip.text = element_text(size = 8),\n",
    "            strip.text = element_blank(),\n",
    "\n",
    "            panel.spacing = unit(1.5, \"lines\"),\n",
    "\n",
    "            axis.title.x = element_blank(),\n",
    "        #     axis.text.x = element_text(size = 6, angle = 45, hjust = 1, vjust = 1),\n",
    "            axis.text.x = element_blank(),\n",
    "            axis.title.y = element_blank(), \n",
    "            plot.title = element_text(hjust = 0.5, size = 8)) +\n",
    "        scale_fill_manual(values = INFLAMCAT_FILL_KEY)+\n",
    "        # facet_wrap(~cohort, ncol = 2)+\n",
    "        facet_wrap(~cohort, ncol = 1)+\n",
    "        scale_y_continuous(limits = c(0,1), breaks = seq(0,1,0.25), labels = c(\"0.00\",\"0.25\",\"0.50\",\"0.75\",\"1.00\"))\n",
    "\n",
    "\n",
    "    # WIDTH = 2.7\n",
    "    # HEIGHT = 1.3\n",
    "\n",
    "    WIDTH = 0.8\n",
    "    HEIGHT = 1.1\n",
    "\n",
    "    pdf(file = paste0(\"./plots/ONE-ONE_class_scores.\",MOD,\".pdf\"),\n",
    "            width=WIDTH,height=HEIGHT, paper=\"special\", bg=\"white\",\n",
    "            fonts=\"Helvetica\", colormodel = \"srgb\", pointsize=6, useDingbats = FALSE)\n",
    "\n",
    "    print(boxplt)\n",
    "    dev.off()\n",
    "}\n"
   ]
  },
  {
   "cell_type": "markdown",
   "metadata": {},
   "source": [
    "### AUC plots"
   ]
  },
  {
   "cell_type": "code",
   "execution_count": 8,
   "metadata": {
    "vscode": {
     "languageId": "r"
    }
   },
   "outputs": [
    {
     "name": "stdout",
     "output_type": "stream",
     "text": [
      "KD<>viral_infection\n",
      "---> Train AUC: 99.28\n",
      "---> Test AUC: 92.74\n",
      "------------\n"
     ]
    },
    {
     "name": "stdout",
     "output_type": "stream",
     "text": [
      "MISC<>viral_infection\n",
      "---> Train AUC: 99.96\n",
      "---> Test AUC: 96.78\n",
      "------------\n",
      "viral_infection<>bacterial_infection\n",
      "---> Train AUC: 96.92\n",
      "---> Test AUC: 86.13\n",
      "------------\n",
      "MISC<>KD\n",
      "---> Train AUC: 99.91\n",
      "---> Test AUC: 98.73\n",
      "------------\n",
      "KD<>bacterial_infection\n",
      "---> Train AUC: 99.29\n",
      "---> Test AUC: 86.83\n",
      "------------\n",
      "MISC<>bacterial_infection\n",
      "---> Train AUC: 99.89\n",
      "---> Test AUC: 93.53\n",
      "------------\n"
     ]
    }
   ],
   "source": [
    "### Create train / test AUC plots for all but bacterial\n",
    "\n",
    "ALL_MODS = all_res_mdf %>% pull(model) %>% unique()\n",
    "\n",
    "\n",
    "all_mod_metrics <- list()\n",
    "\n",
    "for (MOD in ALL_MODS){\n",
    "    mod_data = all_mod[[MOD]]\n",
    "    meta_data_train <- mod_data$meta_data_train\n",
    "    meta_data_test <- mod_data$meta_data_test\n",
    "\n",
    "    ## GET TPR + FPR\n",
    "\n",
    "    roc_train <- suppressMessages(roc(meta_data_train$group, meta_data_train$classifier_score,\n",
    "                                percent=TRUE,\n",
    "    #                             ci=TRUE, \n",
    "                                boot.n=10000, boot.stratified=TRUE,\n",
    "                                #\t           show.thres=FALSE,\n",
    "                                print.auc=TRUE,                  # compute AUC (of AUC by default)\n",
    "                                #                   print.auc.pattern=\"%.2f\",\n",
    "                                print.thres=\"best\",\n",
    "                                print.thres.best.method=\"youden\"))\n",
    "\n",
    "    roc_test<- suppressMessages(roc(meta_data_test$group, meta_data_test$classifier_score,\n",
    "                                percent=TRUE,\n",
    "    #                             ci=TRUE, \n",
    "                                boot.n=10000, boot.stratified=TRUE,\n",
    "                                #\t           show.thres=FALSE,\n",
    "                                print.auc=TRUE,                  # compute AUC (of AUC by default)\n",
    "                                #                   print.auc.pattern=\"%.2f\",\n",
    "                                print.thres=\"best\",\n",
    "                                print.thres.best.method=\"youden\"))\n",
    "\n",
    "\n",
    "    train_mdf <- data.frame(\"sensitivity\" = roc_train$sensitivities,\n",
    "                            \"specificity\" = roc_train$specificities,\n",
    "                        \"set\" = \"train\")\n",
    "\n",
    "    test_mdf <- data.frame(\"sensitivity\" = roc_test$sensitivities,\n",
    "                            \"specificity\" = roc_test$specificities,\n",
    "                        \"set\" = \"test\")\n",
    "\n",
    " \n",
    "\n",
    "    mdf_glm <- rbind(train_mdf, test_mdf) %>%\n",
    "        mutate(FPR = 1-(as.numeric(specificity)/100),\n",
    "            TPR = as.numeric(sensitivity)/100)\n",
    "    \n",
    "\n",
    "    # if(MOD == \"bacterial_infection\"){\n",
    "    #     mdf_glm <- test_mdf %>%\n",
    "    #         mutate(FPR = 1-(as.numeric(specificity)/100),\n",
    "    #             TPR = as.numeric(sensitivity)/100) %>%\n",
    "    #         mutate(model = \"GLMNET LASSO\") %>% mutate(set = \"LOO\")\n",
    "    # }\n",
    "\n",
    "    cat(MOD)\n",
    "    cat(paste0(\"\\n---> Train AUC: \",as.character(round(roc_train$auc,2))))\n",
    "    cat(paste0(\"\\n---> Test AUC: \",as.character(round(roc_test$auc,2))))\n",
    "    cat(\"\\n------------\\n\")\n",
    "\n",
    "    ## MAKE PLOT\n",
    "    auc_plt <- mdf_glm %>% \n",
    "        ggplot(aes(x= FPR, y= TPR, group = set, linetype = set, color = set))+\n",
    "        geom_path()+\n",
    "        theme_prevail()+\n",
    "        theme(aspect.ratio = 1,\n",
    "            axis.title.x = element_blank(),\n",
    "            axis.text.x = element_text(size = 6),\n",
    "            axis.title.y = element_blank(), \n",
    "            axis.text.y = element_text(size = 6)\n",
    "            ) +\n",
    "        scale_linetype_manual(values = c(\"train\"=\"dashed\",\"test\"=\"solid\",\"LOO\"=\"solid\"))+\n",
    "        # scale_x_continuous(position = \"top\") +\n",
    "        scale_color_manual(values = c(\"train\"=\"blue\",\"test\"=\"red\",\"LOO\"=\"#069547\"))\n",
    "\n",
    "    ## SAVE PLOT\n",
    "    WIDTH = 1.3\n",
    "    HEIGHT = 1.3\n",
    "\n",
    "    pdf(file = paste0(\"./plots/ONE-ONE_AUC_\",MOD,\".pdf\"),\n",
    "            width=WIDTH,height=HEIGHT, paper=\"special\", bg=\"white\",\n",
    "            fonts=\"Helvetica\", colormodel = \"srgb\", pointsize=6, useDingbats = FALSE)\n",
    "    print(auc_plt)\n",
    "    dev.off()\n",
    "}"
   ]
  },
  {
   "cell_type": "markdown",
   "metadata": {},
   "source": [
    "### Genes used"
   ]
  },
  {
   "cell_type": "code",
   "execution_count": 21,
   "metadata": {
    "vscode": {
     "languageId": "r"
    }
   },
   "outputs": [
    {
     "name": "stdout",
     "output_type": "stream",
     "text": [
      "KD<>bacterial_infection --> 17\n",
      "KD<>viral_infection --> 29\n",
      "MISC<>bacterial_infection --> 20\n",
      "MISC<>viral_infection --> 22\n",
      "MISC<>KD --> 21\n",
      "viral_infection<>bacterial_infection --> 17\n"
     ]
    },
    {
     "data": {
      "text/html": [
       "<table class=\"dataframe\">\n",
       "<caption>A data.frame: 6 × 4</caption>\n",
       "<thead>\n",
       "\t<tr><th></th><th scope=col>gene</th><th scope=col>comp</th><th scope=col>gene_name</th><th scope=col>gene_type</th></tr>\n",
       "\t<tr><th></th><th scope=col>&lt;chr&gt;</th><th scope=col>&lt;chr&gt;</th><th scope=col>&lt;chr&gt;</th><th scope=col>&lt;chr&gt;</th></tr>\n",
       "</thead>\n",
       "<tbody>\n",
       "\t<tr><th scope=row>1</th><td>ENSG00000029725.17</td><td>KD&lt;&gt;bacterial_infection</td><td>RABEP1</td><td>protein_coding</td></tr>\n",
       "\t<tr><th scope=row>2</th><td>ENSG00000064393.16</td><td>KD&lt;&gt;bacterial_infection</td><td>HIPK2 </td><td>protein_coding</td></tr>\n",
       "\t<tr><th scope=row>3</th><td>ENSG00000082641.16</td><td>KD&lt;&gt;bacterial_infection</td><td>NFE2L1</td><td>protein_coding</td></tr>\n",
       "\t<tr><th scope=row>4</th><td>ENSG00000083845.9 </td><td>KD&lt;&gt;bacterial_infection</td><td><span style=white-space:pre-wrap>RPS5  </span></td><td>protein_coding</td></tr>\n",
       "\t<tr><th scope=row>5</th><td>ENSG00000090621.15</td><td>KD&lt;&gt;bacterial_infection</td><td>PABPC4</td><td>protein_coding</td></tr>\n",
       "\t<tr><th scope=row>6</th><td>ENSG00000101752.12</td><td>KD&lt;&gt;bacterial_infection</td><td><span style=white-space:pre-wrap>MIB1  </span></td><td>protein_coding</td></tr>\n",
       "</tbody>\n",
       "</table>\n"
      ],
      "text/latex": [
       "A data.frame: 6 × 4\n",
       "\\begin{tabular}{r|llll}\n",
       "  & gene & comp & gene\\_name & gene\\_type\\\\\n",
       "  & <chr> & <chr> & <chr> & <chr>\\\\\n",
       "\\hline\n",
       "\t1 & ENSG00000029725.17 & KD<>bacterial\\_infection & RABEP1 & protein\\_coding\\\\\n",
       "\t2 & ENSG00000064393.16 & KD<>bacterial\\_infection & HIPK2  & protein\\_coding\\\\\n",
       "\t3 & ENSG00000082641.16 & KD<>bacterial\\_infection & NFE2L1 & protein\\_coding\\\\\n",
       "\t4 & ENSG00000083845.9  & KD<>bacterial\\_infection & RPS5   & protein\\_coding\\\\\n",
       "\t5 & ENSG00000090621.15 & KD<>bacterial\\_infection & PABPC4 & protein\\_coding\\\\\n",
       "\t6 & ENSG00000101752.12 & KD<>bacterial\\_infection & MIB1   & protein\\_coding\\\\\n",
       "\\end{tabular}\n"
      ],
      "text/markdown": [
       "\n",
       "A data.frame: 6 × 4\n",
       "\n",
       "| <!--/--> | gene &lt;chr&gt; | comp &lt;chr&gt; | gene_name &lt;chr&gt; | gene_type &lt;chr&gt; |\n",
       "|---|---|---|---|---|\n",
       "| 1 | ENSG00000029725.17 | KD&lt;&gt;bacterial_infection | RABEP1 | protein_coding |\n",
       "| 2 | ENSG00000064393.16 | KD&lt;&gt;bacterial_infection | HIPK2  | protein_coding |\n",
       "| 3 | ENSG00000082641.16 | KD&lt;&gt;bacterial_infection | NFE2L1 | protein_coding |\n",
       "| 4 | ENSG00000083845.9  | KD&lt;&gt;bacterial_infection | RPS5   | protein_coding |\n",
       "| 5 | ENSG00000090621.15 | KD&lt;&gt;bacterial_infection | PABPC4 | protein_coding |\n",
       "| 6 | ENSG00000101752.12 | KD&lt;&gt;bacterial_infection | MIB1   | protein_coding |\n",
       "\n"
      ],
      "text/plain": [
       "  gene               comp                    gene_name gene_type     \n",
       "1 ENSG00000029725.17 KD<>bacterial_infection RABEP1    protein_coding\n",
       "2 ENSG00000064393.16 KD<>bacterial_infection HIPK2     protein_coding\n",
       "3 ENSG00000082641.16 KD<>bacterial_infection NFE2L1    protein_coding\n",
       "4 ENSG00000083845.9  KD<>bacterial_infection RPS5      protein_coding\n",
       "5 ENSG00000090621.15 KD<>bacterial_infection PABPC4    protein_coding\n",
       "6 ENSG00000101752.12 KD<>bacterial_infection MIB1      protein_coding"
      ]
     },
     "metadata": {},
     "output_type": "display_data"
    },
    {
     "name": "stdout",
     "output_type": "stream",
     "text": [
      "TOTAL # GENES --> 109\n"
     ]
    }
   ],
   "source": [
    "comp_genes <- list()\n",
    "for (comp in names(all_mod)){\n",
    "\n",
    "    mod_comp <- all_mod[[comp]]$model\n",
    "    mod_coefs <- coef(mod_comp$finalModel, mod_comp$bestTune$lambda) %>% as.matrix() %>% as.data.frame()\n",
    "    mod_ngs <- mod_coefs %>% filter(s1 != 0) %>% rownames()\n",
    "    mod_genes <- mod_ngs[mod_ngs != \"(Intercept)\"]\n",
    "    mod_num_genes <- mod_genes %>% length()\n",
    "\n",
    "    cat(paste0(comp,\" --> \",as.character(mod_num_genes),\"\\n\"))\n",
    "\n",
    "    comp_genes[[comp]] <- data.frame(\"comp\"=comp,\n",
    "                                    \"gene\"=mod_genes)\n",
    "}\n",
    "\n",
    "comp_genes <- do.call(\"rbind\",comp_genes) %>% data.frame() %>% remove_rownames()\n",
    "\n",
    "comp_genes <- merge(comp_genes, gene_list, by.x=\"gene\",by.y=\"gene_id\") %>% arrange(comp)\n",
    "comp_genes %>% head()\n",
    "\n",
    "total_genes <- comp_genes %>% pull(gene) %>% unique() %>% length()\n",
    "\n",
    "cat(paste0(\"TOTAL # GENES --> \",as.character(total_genes),\"\\n\"))\n",
    "\n",
    "\n",
    "### save\n",
    "comp_genes %>% write.csv(\"./output/Supplementary-File5_pedInflam.Multi-panel.csv\",row.names = F,quote=FALSE)"
   ]
  },
  {
   "cell_type": "code",
   "execution_count": 10,
   "metadata": {
    "vscode": {
     "languageId": "r"
    }
   },
   "outputs": [
    {
     "name": "stdout",
     "output_type": "stream",
     "text": [
      "RABEP1, HIPK2, NFE2L1, RPS5, PABPC4, MIB1, BNIP3L, BIRC2, DARS1, AKAP12, LCP1, DST, CTSB, GABARAP, PEAK1, HBA2, MT-TL1, EIF4B, SBNO2, MAP4K4, RASSF2, TDP2, SNX3, HDLBP, WIPF1, ANXA11, HIP1, DNMT1, SH3BP5, KDM6B, PHC2, CD164, HEMGN, MCTP2, PKP4, PNRC1, S100A12, IFI27, GRB2, IFITM1, SVIL, HELZ, SHANK3, H2BC9, VIM, CD44, POU2F2, TCF7, FTL, FXYD5, FKBP5, AKNA, RAPGEF1, PFN1, PHACTR2, TRIR, ATP5F1E, EIF2S2, CGNL1, TRIM28, CA1, EEF2, BCL9L, ANXA6, UBA52, VCAN, LYZ, HSPA8, PTGES3, SUB1, CD48, RPL21, RDX, PRPF8, USF3, NRIP1, MT-TI, TXNIP, CCDC88C, CD74, YBX1, TRIOBP, CSK, GPI, AHNAK, GLUL, FLOT1, HECW2, ARRB2, S100A8, MX1, SLFN5, RBM33, PTMA, BAZ1A, SAMD9, MVP, NUCKS1, HIF1A, LTA4H, CSF3R, TBC1D14, BCL2A1, PGD, TNIP1, SLA, LY6E, DENND5A, S100A4"
     ]
    }
   ],
   "source": [
    "comp_genes %>% pull(gene_name) %>% unique() %>% paste0(collapse= \", \") %>% cat()"
   ]
  },
  {
   "cell_type": "code",
   "execution_count": 11,
   "metadata": {
    "vscode": {
     "languageId": "r"
    }
   },
   "outputs": [
    {
     "name": "stderr",
     "output_type": "stream",
     "text": [
      "Warning message:\n",
      "“\u001b[1m\u001b[22mReturning more (or less) than 1 row per `summarise()` group was deprecated in\n",
      "dplyr 1.1.0.\n",
      "\u001b[36mℹ\u001b[39m Please use `reframe()` instead.\n",
      "\u001b[36mℹ\u001b[39m When switching from `summarise()` to `reframe()`, remember that `reframe()`\n",
      "  always returns an ungrouped data frame and adjust accordingly.”\n"
     ]
    },
    {
     "name": "stderr",
     "output_type": "stream",
     "text": [
      "\u001b[1m\u001b[22m`summarise()` has grouped output by 'gene_id'. You can override using the\n",
      "`.groups` argument.\n"
     ]
    },
    {
     "data": {
      "text/html": [
       "<table class=\"dataframe\">\n",
       "<caption>A grouped_df: 6 × 4</caption>\n",
       "<thead>\n",
       "\t<tr><th scope=col>gene_id</th><th scope=col>sum_coef</th><th scope=col>count</th><th scope=col>rank</th></tr>\n",
       "\t<tr><th scope=col>&lt;chr&gt;</th><th scope=col>&lt;dbl&gt;</th><th scope=col>&lt;int&gt;</th><th scope=col>&lt;int&gt;</th></tr>\n",
       "</thead>\n",
       "<tbody>\n",
       "\t<tr><td>ENSG00000131016.17</td><td>0.6543236</td><td>4</td><td>1</td></tr>\n",
       "\t<tr><td>ENSG00000131016.17</td><td>0.2050490</td><td>4</td><td>2</td></tr>\n",
       "\t<tr><td>ENSG00000131016.17</td><td>0.1817550</td><td>4</td><td>3</td></tr>\n",
       "\t<tr><td>ENSG00000131016.17</td><td>0.1586897</td><td>4</td><td>4</td></tr>\n",
       "\t<tr><td>ENSG00000130816.17</td><td>0.6518683</td><td>3</td><td>1</td></tr>\n",
       "\t<tr><td>ENSG00000130816.17</td><td>0.2279840</td><td>3</td><td>2</td></tr>\n",
       "</tbody>\n",
       "</table>\n"
      ],
      "text/latex": [
       "A grouped\\_df: 6 × 4\n",
       "\\begin{tabular}{llll}\n",
       " gene\\_id & sum\\_coef & count & rank\\\\\n",
       " <chr> & <dbl> & <int> & <int>\\\\\n",
       "\\hline\n",
       "\t ENSG00000131016.17 & 0.6543236 & 4 & 1\\\\\n",
       "\t ENSG00000131016.17 & 0.2050490 & 4 & 2\\\\\n",
       "\t ENSG00000131016.17 & 0.1817550 & 4 & 3\\\\\n",
       "\t ENSG00000131016.17 & 0.1586897 & 4 & 4\\\\\n",
       "\t ENSG00000130816.17 & 0.6518683 & 3 & 1\\\\\n",
       "\t ENSG00000130816.17 & 0.2279840 & 3 & 2\\\\\n",
       "\\end{tabular}\n"
      ],
      "text/markdown": [
       "\n",
       "A grouped_df: 6 × 4\n",
       "\n",
       "| gene_id &lt;chr&gt; | sum_coef &lt;dbl&gt; | count &lt;int&gt; | rank &lt;int&gt; |\n",
       "|---|---|---|---|\n",
       "| ENSG00000131016.17 | 0.6543236 | 4 | 1 |\n",
       "| ENSG00000131016.17 | 0.2050490 | 4 | 2 |\n",
       "| ENSG00000131016.17 | 0.1817550 | 4 | 3 |\n",
       "| ENSG00000131016.17 | 0.1586897 | 4 | 4 |\n",
       "| ENSG00000130816.17 | 0.6518683 | 3 | 1 |\n",
       "| ENSG00000130816.17 | 0.2279840 | 3 | 2 |\n",
       "\n"
      ],
      "text/plain": [
       "  gene_id            sum_coef  count rank\n",
       "1 ENSG00000131016.17 0.6543236 4     1   \n",
       "2 ENSG00000131016.17 0.2050490 4     2   \n",
       "3 ENSG00000131016.17 0.1817550 4     3   \n",
       "4 ENSG00000131016.17 0.1586897 4     4   \n",
       "5 ENSG00000130816.17 0.6518683 3     1   \n",
       "6 ENSG00000130816.17 0.2279840 3     2   "
      ]
     },
     "metadata": {},
     "output_type": "display_data"
    }
   ],
   "source": [
    "## ranked list\n",
    "comp_coefs <- list()\n",
    "for (comp in names(all_mod)){\n",
    "\n",
    "    mod_comp <- all_mod[[comp]]$model\n",
    "    mod_coefs <- coef(mod_comp$finalModel, mod_comp$bestTune$lambda) %>% as.matrix() %>% as.data.frame() %>% rownames_to_column(.,\"gene_id\")\n",
    "    mod_coefs$comp <- comp\n",
    "    comp_coefs[[comp]] <- mod_coefs\n",
    "}\n",
    "\n",
    "all_coefs <- do.call(\"rbind\",comp_coefs) %>% \n",
    "    data.frame() %>% \n",
    "    filter(s1 != 0 ) %>%  filter(gene_id != \"(Intercept)\") %>%\n",
    "    mutate(abs_coef = abs(s1)) %>% \n",
    "    select(gene_id,abs_coef, comp )\n",
    "\n",
    "\n",
    "coef_sum <- all_coefs %>% \n",
    "    group_by(gene_id) %>% \n",
    "    summarise(sum_coef = (abs_coef), count = n()) %>%  \n",
    "    arrange(desc(count),desc(sum_coef)) %>% \n",
    "    mutate(rank = row_number()) #%>% \n",
    "    # select(gene_id,rank)\n",
    "\n",
    "coef_sum %>% head()\n",
    "\n",
    "coef_sum <- merge(coef_sum, gene_list, by.x=\"gene_id\",by.y=\"gene_id\") %>% arrange(desc(count)) %>% \n",
    "    select(gene_name, gene_type, count)\n",
    "### save\n",
    "coef_sum %>% write.csv(\"./output/Supplementary_MultiClass-GenePanel_ranked.csv\",row.names = F,quote=FALSE)\n",
    "# comp_genes %>% write.csv(\"./output/Supplementary_MultiClass-GenePanel.csv\",row.names = F,quote=FALSE)"
   ]
  },
  {
   "cell_type": "code",
   "execution_count": 12,
   "metadata": {
    "vscode": {
     "languageId": "r"
    }
   },
   "outputs": [],
   "source": [
    "res_all <- c()\n",
    "for (i in 1:nrow(comp_genes)){\n",
    "    row_tmp <- comp_genes[i,]\n",
    "    comp_tmp <- row_tmp$comp\n",
    "    g1 = strsplit(comp_tmp,\"<>\")[[1]][[1]]\n",
    "    g2 = strsplit(comp_tmp,\"<>\")[[1]][[2]]\n",
    "    gene_tmp <- row_tmp$gene_name\n",
    "\n",
    "    desq_res <- all_outputs[[g1]][['all_sig_df']] %>% \n",
    "        filter(grepl(g2,comp)) %>% \n",
    "        filter(gene_name == gene_tmp) %>% \n",
    "        pull(log2FoldChange)\n",
    "\n",
    "    if(desq_res > 0){res_all <- c(res_all, g1)}else{res_all <- c(res_all, g2)}\n",
    "}"
   ]
  },
  {
   "cell_type": "code",
   "execution_count": 13,
   "metadata": {
    "vscode": {
     "languageId": "r"
    }
   },
   "outputs": [],
   "source": [
    "comp_genes_new <- comp_genes\n",
    "comp_genes_new$elevated <- res_all"
   ]
  },
  {
   "cell_type": "code",
   "execution_count": 14,
   "metadata": {
    "vscode": {
     "languageId": "r"
    }
   },
   "outputs": [
    {
     "data": {
      "text/html": [
       "<table class=\"dataframe\">\n",
       "<caption>A grouped_df: 7 × 3</caption>\n",
       "<thead>\n",
       "\t<tr><th scope=col>gene_name</th><th scope=col>elevated</th><th scope=col>n</th></tr>\n",
       "\t<tr><th scope=col>&lt;chr&gt;</th><th scope=col>&lt;chr&gt;</th><th scope=col>&lt;int&gt;</th></tr>\n",
       "</thead>\n",
       "<tbody>\n",
       "\t<tr><td>AKAP12</td><td>KD                 </td><td>2</td></tr>\n",
       "\t<tr><td>AKAP12</td><td>MISC               </td><td>2</td></tr>\n",
       "\t<tr><td>BNIP3L</td><td>bacterial_infection</td><td>2</td></tr>\n",
       "\t<tr><td>DNMT1 </td><td>viral_infection    </td><td>2</td></tr>\n",
       "\t<tr><td>IFI27 </td><td>viral_infection    </td><td>2</td></tr>\n",
       "\t<tr><td>PABPC4</td><td>KD                 </td><td>2</td></tr>\n",
       "\t<tr><td>SLFN5 </td><td>viral_infection    </td><td>2</td></tr>\n",
       "</tbody>\n",
       "</table>\n"
      ],
      "text/latex": [
       "A grouped\\_df: 7 × 3\n",
       "\\begin{tabular}{lll}\n",
       " gene\\_name & elevated & n\\\\\n",
       " <chr> & <chr> & <int>\\\\\n",
       "\\hline\n",
       "\t AKAP12 & KD                  & 2\\\\\n",
       "\t AKAP12 & MISC                & 2\\\\\n",
       "\t BNIP3L & bacterial\\_infection & 2\\\\\n",
       "\t DNMT1  & viral\\_infection     & 2\\\\\n",
       "\t IFI27  & viral\\_infection     & 2\\\\\n",
       "\t PABPC4 & KD                  & 2\\\\\n",
       "\t SLFN5  & viral\\_infection     & 2\\\\\n",
       "\\end{tabular}\n"
      ],
      "text/markdown": [
       "\n",
       "A grouped_df: 7 × 3\n",
       "\n",
       "| gene_name &lt;chr&gt; | elevated &lt;chr&gt; | n &lt;int&gt; |\n",
       "|---|---|---|\n",
       "| AKAP12 | KD                  | 2 |\n",
       "| AKAP12 | MISC                | 2 |\n",
       "| BNIP3L | bacterial_infection | 2 |\n",
       "| DNMT1  | viral_infection     | 2 |\n",
       "| IFI27  | viral_infection     | 2 |\n",
       "| PABPC4 | KD                  | 2 |\n",
       "| SLFN5  | viral_infection     | 2 |\n",
       "\n"
      ],
      "text/plain": [
       "  gene_name elevated            n\n",
       "1 AKAP12    KD                  2\n",
       "2 AKAP12    MISC                2\n",
       "3 BNIP3L    bacterial_infection 2\n",
       "4 DNMT1     viral_infection     2\n",
       "5 IFI27     viral_infection     2\n",
       "6 PABPC4    KD                  2\n",
       "7 SLFN5     viral_infection     2"
      ]
     },
     "metadata": {},
     "output_type": "display_data"
    }
   ],
   "source": [
    "comp_genes_new %>% group_by(gene_name, elevated) %>% dplyr::count() %>% arrange(desc(n)) %>% filter(n>1)"
   ]
  },
  {
   "cell_type": "markdown",
   "metadata": {},
   "source": [
    "---\n",
    "# Composite Model"
   ]
  },
  {
   "cell_type": "markdown",
   "metadata": {},
   "source": [
    "### get scores for each sample - model pair"
   ]
  },
  {
   "cell_type": "code",
   "execution_count": 3,
   "metadata": {
    "vscode": {
     "languageId": "r"
    }
   },
   "outputs": [
    {
     "data": {
      "text/html": [
       "<table class=\"dataframe\">\n",
       "<caption>A data.frame: 6 × 19</caption>\n",
       "<thead>\n",
       "\t<tr><th></th><th scope=col>PTID</th><th scope=col>sample_id</th><th scope=col>diagnosis</th><th scope=col>origin</th><th scope=col>severity</th><th scope=col>date_dif</th><th scope=col>age</th><th scope=col>inflam_cat</th><th scope=col>Xsample_id</th><th scope=col>sample_group_granular</th><th scope=col>sample_group</th><th scope=col>cfrna_id</th><th scope=col>cohort</th><th scope=col>KD&lt;&gt;bacterial_infection</th><th scope=col>KD&lt;&gt;viral_infection</th><th scope=col>MISC&lt;&gt;bacterial_infection</th><th scope=col>MISC&lt;&gt;KD</th><th scope=col>MISC&lt;&gt;viral_infection</th><th scope=col>viral_infection&lt;&gt;bacterial_infection</th></tr>\n",
       "\t<tr><th></th><th scope=col>&lt;chr&gt;</th><th scope=col>&lt;chr&gt;</th><th scope=col>&lt;chr&gt;</th><th scope=col>&lt;chr&gt;</th><th scope=col>&lt;chr&gt;</th><th scope=col>&lt;int&gt;</th><th scope=col>&lt;dbl&gt;</th><th scope=col>&lt;chr&gt;</th><th scope=col>&lt;chr&gt;</th><th scope=col>&lt;chr&gt;</th><th scope=col>&lt;chr&gt;</th><th scope=col>&lt;chr&gt;</th><th scope=col>&lt;chr&gt;</th><th scope=col>&lt;dbl&gt;</th><th scope=col>&lt;dbl&gt;</th><th scope=col>&lt;dbl&gt;</th><th scope=col>&lt;dbl&gt;</th><th scope=col>&lt;dbl&gt;</th><th scope=col>&lt;dbl&gt;</th></tr>\n",
       "</thead>\n",
       "<tbody>\n",
       "\t<tr><th scope=row>1</th><td>193100</td><td>cfrna_kd_140</td><td>KD</td><td>UCSD</td><td>KD subtype 1</td><td>0</td><td>2.9</td><td>KD</td><td>cfrna_kd_140</td><td>KD_KD subtype 1_UCSD</td><td>KD</td><td>cfrna_kd_140</td><td>train</td><td>0.8905097</td><td>0.9807007</td><td>0.7201240</td><td>0.249445222</td><td>0.9560403</td><td>0.06587617</td></tr>\n",
       "\t<tr><th scope=row>2</th><td>163045</td><td>cfrna_kd_56 </td><td>KD</td><td>UCSD</td><td>KD subtype 1</td><td>0</td><td>1.5</td><td>KD</td><td>cfrna_kd_56 </td><td>KD_KD subtype 1_UCSD</td><td>KD</td><td>cfrna_kd_56 </td><td>train</td><td>0.9704287</td><td>0.9806380</td><td>0.5164583</td><td>0.028376352</td><td>0.8484037</td><td>0.25301704</td></tr>\n",
       "\t<tr><th scope=row>3</th><td>153002</td><td>cfrna_kd_128</td><td>KD</td><td>UCSD</td><td>KD subtype 1</td><td>0</td><td>8.8</td><td>KD</td><td>cfrna_kd_128</td><td>KD_KD subtype 1_UCSD</td><td>KD</td><td>cfrna_kd_128</td><td>train</td><td>0.8367533</td><td>0.7269454</td><td>0.6691203</td><td>0.009904471</td><td>0.4408327</td><td>0.62770134</td></tr>\n",
       "\t<tr><th scope=row>4</th><td>183003</td><td>cfrna_kd_133</td><td>KD</td><td>UCSD</td><td>KD subtype 1</td><td>0</td><td>8.3</td><td>KD</td><td>cfrna_kd_133</td><td>KD_KD subtype 1_UCSD</td><td>KD</td><td>cfrna_kd_133</td><td>train</td><td>0.9757072</td><td>0.9920440</td><td>0.3896723</td><td>0.019276333</td><td>0.7681265</td><td>0.37091315</td></tr>\n",
       "\t<tr><th scope=row>5</th><td>163014</td><td>cfrna_kd_130</td><td>KD</td><td>UCSD</td><td>KD subtype 1</td><td>0</td><td>6.5</td><td>KD</td><td>cfrna_kd_130</td><td>KD_KD subtype 1_UCSD</td><td>KD</td><td>cfrna_kd_130</td><td>train</td><td>0.9012122</td><td>0.9341808</td><td>0.8126242</td><td>0.060262298</td><td>0.9895937</td><td>0.11740045</td></tr>\n",
       "\t<tr><th scope=row>6</th><td>3511  </td><td>cfrna_kd_49 </td><td>KD</td><td>UCSD</td><td>KD subtype 1</td><td>0</td><td>4.5</td><td>KD</td><td>cfrna_kd_49 </td><td>KD_KD subtype 1_UCSD</td><td>KD</td><td>cfrna_kd_49 </td><td>train</td><td>0.9630737</td><td>0.9975998</td><td>0.6089985</td><td>0.099099055</td><td>0.9617453</td><td>0.04122567</td></tr>\n",
       "</tbody>\n",
       "</table>\n"
      ],
      "text/latex": [
       "A data.frame: 6 × 19\n",
       "\\begin{tabular}{r|lllllllllllllllllll}\n",
       "  & PTID & sample\\_id & diagnosis & origin & severity & date\\_dif & age & inflam\\_cat & Xsample\\_id & sample\\_group\\_granular & sample\\_group & cfrna\\_id & cohort & KD<>bacterial\\_infection & KD<>viral\\_infection & MISC<>bacterial\\_infection & MISC<>KD & MISC<>viral\\_infection & viral\\_infection<>bacterial\\_infection\\\\\n",
       "  & <chr> & <chr> & <chr> & <chr> & <chr> & <int> & <dbl> & <chr> & <chr> & <chr> & <chr> & <chr> & <chr> & <dbl> & <dbl> & <dbl> & <dbl> & <dbl> & <dbl>\\\\\n",
       "\\hline\n",
       "\t1 & 193100 & cfrna\\_kd\\_140 & KD & UCSD & KD subtype 1 & 0 & 2.9 & KD & cfrna\\_kd\\_140 & KD\\_KD subtype 1\\_UCSD & KD & cfrna\\_kd\\_140 & train & 0.8905097 & 0.9807007 & 0.7201240 & 0.249445222 & 0.9560403 & 0.06587617\\\\\n",
       "\t2 & 163045 & cfrna\\_kd\\_56  & KD & UCSD & KD subtype 1 & 0 & 1.5 & KD & cfrna\\_kd\\_56  & KD\\_KD subtype 1\\_UCSD & KD & cfrna\\_kd\\_56  & train & 0.9704287 & 0.9806380 & 0.5164583 & 0.028376352 & 0.8484037 & 0.25301704\\\\\n",
       "\t3 & 153002 & cfrna\\_kd\\_128 & KD & UCSD & KD subtype 1 & 0 & 8.8 & KD & cfrna\\_kd\\_128 & KD\\_KD subtype 1\\_UCSD & KD & cfrna\\_kd\\_128 & train & 0.8367533 & 0.7269454 & 0.6691203 & 0.009904471 & 0.4408327 & 0.62770134\\\\\n",
       "\t4 & 183003 & cfrna\\_kd\\_133 & KD & UCSD & KD subtype 1 & 0 & 8.3 & KD & cfrna\\_kd\\_133 & KD\\_KD subtype 1\\_UCSD & KD & cfrna\\_kd\\_133 & train & 0.9757072 & 0.9920440 & 0.3896723 & 0.019276333 & 0.7681265 & 0.37091315\\\\\n",
       "\t5 & 163014 & cfrna\\_kd\\_130 & KD & UCSD & KD subtype 1 & 0 & 6.5 & KD & cfrna\\_kd\\_130 & KD\\_KD subtype 1\\_UCSD & KD & cfrna\\_kd\\_130 & train & 0.9012122 & 0.9341808 & 0.8126242 & 0.060262298 & 0.9895937 & 0.11740045\\\\\n",
       "\t6 & 3511   & cfrna\\_kd\\_49  & KD & UCSD & KD subtype 1 & 0 & 4.5 & KD & cfrna\\_kd\\_49  & KD\\_KD subtype 1\\_UCSD & KD & cfrna\\_kd\\_49  & train & 0.9630737 & 0.9975998 & 0.6089985 & 0.099099055 & 0.9617453 & 0.04122567\\\\\n",
       "\\end{tabular}\n"
      ],
      "text/markdown": [
       "\n",
       "A data.frame: 6 × 19\n",
       "\n",
       "| <!--/--> | PTID &lt;chr&gt; | sample_id &lt;chr&gt; | diagnosis &lt;chr&gt; | origin &lt;chr&gt; | severity &lt;chr&gt; | date_dif &lt;int&gt; | age &lt;dbl&gt; | inflam_cat &lt;chr&gt; | Xsample_id &lt;chr&gt; | sample_group_granular &lt;chr&gt; | sample_group &lt;chr&gt; | cfrna_id &lt;chr&gt; | cohort &lt;chr&gt; | KD&lt;&gt;bacterial_infection &lt;dbl&gt; | KD&lt;&gt;viral_infection &lt;dbl&gt; | MISC&lt;&gt;bacterial_infection &lt;dbl&gt; | MISC&lt;&gt;KD &lt;dbl&gt; | MISC&lt;&gt;viral_infection &lt;dbl&gt; | viral_infection&lt;&gt;bacterial_infection &lt;dbl&gt; |\n",
       "|---|---|---|---|---|---|---|---|---|---|---|---|---|---|---|---|---|---|---|---|\n",
       "| 1 | 193100 | cfrna_kd_140 | KD | UCSD | KD subtype 1 | 0 | 2.9 | KD | cfrna_kd_140 | KD_KD subtype 1_UCSD | KD | cfrna_kd_140 | train | 0.8905097 | 0.9807007 | 0.7201240 | 0.249445222 | 0.9560403 | 0.06587617 |\n",
       "| 2 | 163045 | cfrna_kd_56  | KD | UCSD | KD subtype 1 | 0 | 1.5 | KD | cfrna_kd_56  | KD_KD subtype 1_UCSD | KD | cfrna_kd_56  | train | 0.9704287 | 0.9806380 | 0.5164583 | 0.028376352 | 0.8484037 | 0.25301704 |\n",
       "| 3 | 153002 | cfrna_kd_128 | KD | UCSD | KD subtype 1 | 0 | 8.8 | KD | cfrna_kd_128 | KD_KD subtype 1_UCSD | KD | cfrna_kd_128 | train | 0.8367533 | 0.7269454 | 0.6691203 | 0.009904471 | 0.4408327 | 0.62770134 |\n",
       "| 4 | 183003 | cfrna_kd_133 | KD | UCSD | KD subtype 1 | 0 | 8.3 | KD | cfrna_kd_133 | KD_KD subtype 1_UCSD | KD | cfrna_kd_133 | train | 0.9757072 | 0.9920440 | 0.3896723 | 0.019276333 | 0.7681265 | 0.37091315 |\n",
       "| 5 | 163014 | cfrna_kd_130 | KD | UCSD | KD subtype 1 | 0 | 6.5 | KD | cfrna_kd_130 | KD_KD subtype 1_UCSD | KD | cfrna_kd_130 | train | 0.9012122 | 0.9341808 | 0.8126242 | 0.060262298 | 0.9895937 | 0.11740045 |\n",
       "| 6 | 3511   | cfrna_kd_49  | KD | UCSD | KD subtype 1 | 0 | 4.5 | KD | cfrna_kd_49  | KD_KD subtype 1_UCSD | KD | cfrna_kd_49  | train | 0.9630737 | 0.9975998 | 0.6089985 | 0.099099055 | 0.9617453 | 0.04122567 |\n",
       "\n"
      ],
      "text/plain": [
       "  PTID   sample_id    diagnosis origin severity     date_dif age inflam_cat\n",
       "1 193100 cfrna_kd_140 KD        UCSD   KD subtype 1 0        2.9 KD        \n",
       "2 163045 cfrna_kd_56  KD        UCSD   KD subtype 1 0        1.5 KD        \n",
       "3 153002 cfrna_kd_128 KD        UCSD   KD subtype 1 0        8.8 KD        \n",
       "4 183003 cfrna_kd_133 KD        UCSD   KD subtype 1 0        8.3 KD        \n",
       "5 163014 cfrna_kd_130 KD        UCSD   KD subtype 1 0        6.5 KD        \n",
       "6 3511   cfrna_kd_49  KD        UCSD   KD subtype 1 0        4.5 KD        \n",
       "  Xsample_id   sample_group_granular sample_group cfrna_id     cohort\n",
       "1 cfrna_kd_140 KD_KD subtype 1_UCSD  KD           cfrna_kd_140 train \n",
       "2 cfrna_kd_56  KD_KD subtype 1_UCSD  KD           cfrna_kd_56  train \n",
       "3 cfrna_kd_128 KD_KD subtype 1_UCSD  KD           cfrna_kd_128 train \n",
       "4 cfrna_kd_133 KD_KD subtype 1_UCSD  KD           cfrna_kd_133 train \n",
       "5 cfrna_kd_130 KD_KD subtype 1_UCSD  KD           cfrna_kd_130 train \n",
       "6 cfrna_kd_49  KD_KD subtype 1_UCSD  KD           cfrna_kd_49  train \n",
       "  KD<>bacterial_infection KD<>viral_infection MISC<>bacterial_infection\n",
       "1 0.8905097               0.9807007           0.7201240                \n",
       "2 0.9704287               0.9806380           0.5164583                \n",
       "3 0.8367533               0.7269454           0.6691203                \n",
       "4 0.9757072               0.9920440           0.3896723                \n",
       "5 0.9012122               0.9341808           0.8126242                \n",
       "6 0.9630737               0.9975998           0.6089985                \n",
       "  MISC<>KD    MISC<>viral_infection viral_infection<>bacterial_infection\n",
       "1 0.249445222 0.9560403             0.06587617                          \n",
       "2 0.028376352 0.8484037             0.25301704                          \n",
       "3 0.009904471 0.4408327             0.62770134                          \n",
       "4 0.019276333 0.7681265             0.37091315                          \n",
       "5 0.060262298 0.9895937             0.11740045                          \n",
       "6 0.099099055 0.9617453             0.04122567                          "
      ]
     },
     "metadata": {},
     "output_type": "display_data"
    }
   ],
   "source": [
    "###--------------------------------------------------------------\n",
    "### Create metadata with all predictions\n",
    "###--------------------------------------------------------------\n",
    "\n",
    "res_path = \"./ML_split70-30/1_all/output/\"\n",
    "ALL_COMB = list.files(res_path)\n",
    "ALG = \"GLMNETLasso\"\n",
    "\n",
    "meta_all <- rbind(meta_train, meta_test)\n",
    "counts_all_vst <- cbind(counts_train_vst, counts_test_vst) %>% t() %>% data.frame()\n",
    "\n",
    "for (GRP in ALL_COMB){\n",
    "    grp_mod = readRDS(paste0(res_path,GRP,\"/\",ALG,\"/\",GRP,\".\",ALG,\".rds\"))$model\n",
    "    tpred = predict(grp_mod, newdata = counts_all_vst, type=\"prob\")\n",
    "    meta_all[[GRP]] <- as.numeric(tpred[,1])\n",
    "}\n",
    "\n",
    "meta_all %>% head"
   ]
  },
  {
   "cell_type": "markdown",
   "metadata": {},
   "source": [
    "### Clustering"
   ]
  },
  {
   "cell_type": "code",
   "execution_count": 16,
   "metadata": {
    "vscode": {
     "languageId": "r"
    }
   },
   "outputs": [
    {
     "name": "stderr",
     "output_type": "stream",
     "text": [
      "Warning message:\n",
      "“no DISPLAY variable so Tk is not available”\n"
     ]
    },
    {
     "data": {
      "text/html": [
       "<strong>png:</strong> 2"
      ],
      "text/latex": [
       "\\textbf{png:} 2"
      ],
      "text/markdown": [
       "**png:** 2"
      ],
      "text/plain": [
       "png \n",
       "  2 "
      ]
     },
     "metadata": {},
     "output_type": "display_data"
    }
   ],
   "source": [
    "## Create data frame for PCA\n",
    "mdf_cast = meta_all%>%\n",
    "    filter(inflam_cat %in% c(\"MISC\",\"KD\",\"viral_infection\",\"Healthy\",\"bacterial_infection\")) %>% \n",
    "    mutate(inflam_cat = factor(inflam_cat, levels = c(\"MISC\",\"KD\",\"viral_infection\",\"bacterial_infection\",\"Healthy\")))\n",
    "\n",
    "# select columns for PCA and perform PCA\n",
    "pca_cols <- ALL_COMB\n",
    "pca_res <- prcomp(mdf_cast[, pca_cols], scale. = TRUE)\n",
    "\n",
    "# create a dataframe with PC1 and PC2 scores\n",
    "pca_df <- mdf_cast\n",
    "pca_df$PC1 = pca_res$x[,1]\n",
    "pca_df$PC2 = pca_res$x[,2]\n",
    "pca_df$PC3 = pca_res$x[,3]\n",
    "pca_df$PC4 = pca_res$x[,4]\n",
    "\n",
    "library(\"plot3D\")\n",
    "options(repr.plot.height = 15, repr.plot.width = 15)\n",
    "\n",
    "color_mapping <- c(\n",
    "  MISC = '#b91933',\n",
    "  KD = '#00aedb',\n",
    "  viral_infection = '#00b159',\n",
    "  bacterial_infection = '#ffc425',\n",
    "  other = '#c97eb3',\n",
    "  Healthy = '#cccccc'\n",
    ")\n",
    "\n",
    "pca_impor <- summary(pca_res)$importance\n",
    "\n",
    "\n",
    "## figure with legend\n",
    "\n",
    "WIDTH = 3.4\n",
    "HEIGHT = 3.4\n",
    "pdf(file = paste0(\"./plots/ONE-ONE_PCA.3D.pdf\"),\n",
    "        width=WIDTH,height=HEIGHT, paper=\"special\", bg=\"white\",\n",
    "        fonts=\"Helvetica\", colormodel = \"srgb\", pointsize=6, useDingbats = FALSE)\n",
    "\n",
    "plot3D::scatter3D(x = pca_df$PC1, y = pca_df$PC2, z = pca_df$PC3,\n",
    "                  colvar = as.numeric(pca_df$inflam_cat), col = INFLAMCAT_FILL_KEY, colkey = FALSE,\n",
    "                  pch = 16, cex = 1,\n",
    "                  ticktype = \"detailed\",\n",
    "                  bty = \"b2\",\n",
    "                  theta = 90, phi = 35,\n",
    "                  legend = FALSE,\n",
    "                  # xlab= paste0(\"PC1\"), ylab=paste0(\"PC2\"), zlab=paste(\"PC3\")\n",
    "                  xlab= paste0(\"PC1 (\",round(pca_impor[2,\"PC1\"]*100,1),\"%)\"), \n",
    "                  ylab=paste0(\"PC2 (\",round(pca_impor[2,\"PC2\"]*100,1),\"%)\"), \n",
    "                  zlab=paste0(\"PC3 (\",round(pca_impor[2,\"PC3\"]*100,1),\"%)\")\n",
    "                 # colvar = pca_df$inflam_cat,\n",
    "                 )\n",
    "\n",
    "dev.off()"
   ]
  },
  {
   "cell_type": "markdown",
   "metadata": {},
   "source": [
    "### train multiclass RF"
   ]
  },
  {
   "cell_type": "code",
   "execution_count": 4,
   "metadata": {
    "vscode": {
     "languageId": "r"
    }
   },
   "outputs": [],
   "source": [
    "###--------------------------------------------------------------\n",
    "### Train multiclass RF\n",
    "###--------------------------------------------------------------\n",
    "meta_all_multi <- meta_all %>% \n",
    "    filter(inflam_cat %in% c(\"MISC\",\"KD\",\"viral_infection\",\"bacterial_infection\"))  %>% \n",
    "    mutate(inflam_cat = factor(inflam_cat, levels = c(\"MISC\",\"KD\",\"viral_infection\",\"bacterial_infection\")))\n",
    "\n",
    "### Run multiclass random forest\n",
    "\n",
    "clas_scores = meta_all_multi %>% filter(cohort == \"train\") %>% select(all_of(c(\"inflam_cat\",ALL_COMB)))\n",
    "\n",
    "set.seed(42)\n",
    "control <- trainControl(method=\"cv\",number=5)\n",
    "metric <- \"Accuracy\"\n",
    "tunegrid <- expand.grid(.mtry = (1:length(ALL_COMB)))\n",
    "\n",
    "rf_fit <- train(inflam_cat~., \n",
    "                        data=clas_scores, \n",
    "                        method='rf', \n",
    "                        metric=metric, \n",
    "                    # preProcess = c(\"center\",\"scale\"),\n",
    "                        tuneGrid = tunegrid, \n",
    "                        trControl=control)\n",
    "\n",
    "\n",
    "# Make predictions on the test set\n",
    "model_probs <- predict(rf_fit, newdata = meta_all_multi,type=\"prob\") \n",
    "meta_all_multi$predictions <- predict(rf_fit, newdata = meta_all_multi) \n",
    "\n",
    "meta_all_multi <- cbind(meta_all_multi, model_probs)"
   ]
  },
  {
   "cell_type": "code",
   "execution_count": 5,
   "metadata": {
    "vscode": {
     "languageId": "r"
    }
   },
   "outputs": [],
   "source": [
    "model_probs$cfrna_id <- meta_all_multi$cfrna_id\n",
    "model_probs%>% write.csv(\"output/all_multiclass_scores.csv\",quote=FALSE, row.names=FALSE)\n",
    "\n",
    "meta_all_multi %>% \n",
    "    select(sample_id,PTID, cohort, age, origin, inflam_cat, predictions) %>% \n",
    "    write.csv(\"./output/all_multiclass_predictions.csv\",quote=FALSE, row.names=FALSE)"
   ]
  },
  {
   "cell_type": "markdown",
   "metadata": {},
   "source": [
    "### get results"
   ]
  },
  {
   "cell_type": "code",
   "execution_count": 6,
   "metadata": {
    "vscode": {
     "languageId": "r"
    }
   },
   "outputs": [
    {
     "name": "stdout",
     "output_type": "stream",
     "text": [
      "Confusion Matrix and Statistics\n",
      "\n",
      "                     Reference\n",
      "Prediction            MISC KD viral_infection bacterial_infection\n",
      "  MISC                  66  0               0                   0\n",
      "  KD                     0 68               0                   0\n",
      "  viral_infection        0  0              71                   0\n",
      "  bacterial_infection    0  0               0                  27\n",
      "\n",
      "Overall Statistics\n",
      "                                     \n",
      "               Accuracy : 1          \n",
      "                 95% CI : (0.9842, 1)\n",
      "    No Information Rate : 0.306      \n",
      "    P-Value [Acc > NIR] : < 2.2e-16  \n",
      "                                     \n",
      "                  Kappa : 1          \n",
      "                                     \n",
      " Mcnemar's Test P-Value : NA         \n",
      "\n",
      "Statistics by Class:\n",
      "\n",
      "                     Class: MISC Class: KD Class: viral_infection\n",
      "Sensitivity               1.0000    1.0000                  1.000\n",
      "Specificity               1.0000    1.0000                  1.000\n",
      "Pos Pred Value            1.0000    1.0000                  1.000\n",
      "Neg Pred Value            1.0000    1.0000                  1.000\n",
      "Prevalence                0.2845    0.2931                  0.306\n",
      "Detection Rate            0.2845    0.2931                  0.306\n",
      "Detection Prevalence      0.2845    0.2931                  0.306\n",
      "Balanced Accuracy         1.0000    1.0000                  1.000\n",
      "                     Class: bacterial_infection\n",
      "Sensitivity                              1.0000\n",
      "Specificity                              1.0000\n",
      "Pos Pred Value                           1.0000\n",
      "Neg Pred Value                           1.0000\n",
      "Prevalence                               0.1164\n",
      "Detection Rate                           0.1164\n",
      "Detection Prevalence                     0.1164\n",
      "Balanced Accuracy                        1.0000\n"
     ]
    }
   ],
   "source": [
    "res_train <- meta_all_multi %>% filter(cohort == \"train\")\n",
    "conf_matrix <- confusionMatrix(res_train$predictions, res_train$inflam_cat)\n",
    "print(conf_matrix)"
   ]
  },
  {
   "cell_type": "code",
   "execution_count": 7,
   "metadata": {
    "vscode": {
     "languageId": "r"
    }
   },
   "outputs": [
    {
     "name": "stdout",
     "output_type": "stream",
     "text": [
      "Confusion Matrix and Statistics\n",
      "\n",
      "                     Reference\n",
      "Prediction            MISC KD viral_infection bacterial_infection\n",
      "  MISC                  29  2               0                   1\n",
      "  KD                     0 27               4                   4\n",
      "  viral_infection        1  2              28                   3\n",
      "  bacterial_infection    1  2               2                   6\n",
      "\n",
      "Overall Statistics\n",
      "                                          \n",
      "               Accuracy : 0.8036          \n",
      "                 95% CI : (0.7178, 0.8726)\n",
      "    No Information Rate : 0.3036          \n",
      "    P-Value [Acc > NIR] : <2e-16          \n",
      "                                          \n",
      "                  Kappa : 0.7288          \n",
      "                                          \n",
      " Mcnemar's Test P-Value : 0.6049          \n",
      "\n",
      "Statistics by Class:\n",
      "\n",
      "                     Class: MISC Class: KD Class: viral_infection\n",
      "Sensitivity               0.9355    0.8182                 0.8235\n",
      "Specificity               0.9630    0.8987                 0.9231\n",
      "Pos Pred Value            0.9062    0.7714                 0.8235\n",
      "Neg Pred Value            0.9750    0.9221                 0.9231\n",
      "Prevalence                0.2768    0.2946                 0.3036\n",
      "Detection Rate            0.2589    0.2411                 0.2500\n",
      "Detection Prevalence      0.2857    0.3125                 0.3036\n",
      "Balanced Accuracy         0.9492    0.8585                 0.8733\n",
      "                     Class: bacterial_infection\n",
      "Sensitivity                             0.42857\n",
      "Specificity                             0.94898\n",
      "Pos Pred Value                          0.54545\n",
      "Neg Pred Value                          0.92079\n",
      "Prevalence                              0.12500\n",
      "Detection Rate                          0.05357\n",
      "Detection Prevalence                    0.09821\n",
      "Balanced Accuracy                       0.68878\n"
     ]
    }
   ],
   "source": [
    "# res_train <- meta_all_multi %>% filter(cohort == \"train\")\n",
    "# conf_matrix <- confusionMatrix(res_train$predictions, res_train$inflam_cat)\n",
    "# print(conf_matrix)\n",
    "\n",
    "res_test <- meta_all_multi %>% filter(cohort == \"test\")\n",
    "conf_matrix <- confusionMatrix(res_test$predictions, res_test$inflam_cat)\n",
    "print(conf_matrix)"
   ]
  },
  {
   "cell_type": "code",
   "execution_count": 10,
   "metadata": {
    "vscode": {
     "languageId": "r"
    }
   },
   "outputs": [
    {
     "data": {
      "text/plain": [
       ".\n",
       "FN FP TN TP \n",
       " 8  6 71 27 "
      ]
     },
     "metadata": {},
     "output_type": "display_data"
    },
    {
     "data": {
      "text/html": [
       "0.875"
      ],
      "text/latex": [
       "0.875"
      ],
      "text/markdown": [
       "0.875"
      ],
      "text/plain": [
       "[1] 0.875"
      ]
     },
     "metadata": {},
     "output_type": "display_data"
    }
   ],
   "source": [
    "GROUP = \"KD\"\n",
    "meta_all_multi %>% \n",
    "    filter(cohort == \"test\") %>% \n",
    "    mutate(GRP = ifelse(inflam_cat == GROUP,GROUP,\"Other\")) %>% \n",
    "    mutate(RES = ifelse(GRP == GROUP & predictions == GROUP,\"TP\",\n",
    "                        ifelse(GRP == GROUP & predictions != GROUP,\"FP\",\n",
    "                            ifelse(GRP != GROUP & predictions == GROUP,\"FN\",\"TN\")))) %>% \n",
    "    pull(RES) %>% table()\n",
    "\n",
    "(71 + 27) / (71 + 27 + 8 + 6)"
   ]
  },
  {
   "cell_type": "code",
   "execution_count": 9,
   "metadata": {
    "vscode": {
     "languageId": "r"
    }
   },
   "outputs": [],
   "source": [
    "meta_all_multi %>% filter(predictions == inflam_cat) %>% \n",
    "    select(PTID, diagnosis, cohort, origin) %>% \n",
    "    arrange(origin) %>% \n",
    "    write.csv(\"./Patient-ids_vignettes_2024.01.18.csv\",row.names=FALSE,quote=FALSE)"
   ]
  },
  {
   "cell_type": "markdown",
   "metadata": {},
   "source": [
    "### Plot confusion matrix"
   ]
  },
  {
   "cell_type": "code",
   "execution_count": 10,
   "metadata": {
    "vscode": {
     "languageId": "r"
    }
   },
   "outputs": [
    {
     "data": {
      "text/html": [
       "<strong>Accuracy:</strong> 1"
      ],
      "text/latex": [
       "\\textbf{Accuracy:} 1"
      ],
      "text/markdown": [
       "**Accuracy:** 1"
      ],
      "text/plain": [
       "Accuracy \n",
       "       1 "
      ]
     },
     "metadata": {},
     "output_type": "display_data"
    },
    {
     "data": {
      "text/html": [
       "<strong>Accuracy:</strong> 0.803571428571429"
      ],
      "text/latex": [
       "\\textbf{Accuracy:} 0.803571428571429"
      ],
      "text/markdown": [
       "**Accuracy:** 0.803571428571429"
      ],
      "text/plain": [
       " Accuracy \n",
       "0.8035714 "
      ]
     },
     "metadata": {},
     "output_type": "display_data"
    },
    {
     "data": {
      "text/html": [
       "<table class=\"dataframe\">\n",
       "<caption>A data.frame: 6 × 3</caption>\n",
       "<thead>\n",
       "\t<tr><th></th><th scope=col>Prediction</th><th scope=col>Reference</th><th scope=col>Freq</th></tr>\n",
       "\t<tr><th></th><th scope=col>&lt;fct&gt;</th><th scope=col>&lt;fct&gt;</th><th scope=col>&lt;int&gt;</th></tr>\n",
       "</thead>\n",
       "<tbody>\n",
       "\t<tr><th scope=row>1</th><td>MISC               </td><td>MISC</td><td>66</td></tr>\n",
       "\t<tr><th scope=row>2</th><td>KD                 </td><td>MISC</td><td> 0</td></tr>\n",
       "\t<tr><th scope=row>3</th><td>viral_infection    </td><td>MISC</td><td> 0</td></tr>\n",
       "\t<tr><th scope=row>4</th><td>bacterial_infection</td><td>MISC</td><td> 0</td></tr>\n",
       "\t<tr><th scope=row>5</th><td>MISC               </td><td>KD  </td><td> 0</td></tr>\n",
       "\t<tr><th scope=row>6</th><td>KD                 </td><td>KD  </td><td>68</td></tr>\n",
       "</tbody>\n",
       "</table>\n"
      ],
      "text/latex": [
       "A data.frame: 6 × 3\n",
       "\\begin{tabular}{r|lll}\n",
       "  & Prediction & Reference & Freq\\\\\n",
       "  & <fct> & <fct> & <int>\\\\\n",
       "\\hline\n",
       "\t1 & MISC                & MISC & 66\\\\\n",
       "\t2 & KD                  & MISC &  0\\\\\n",
       "\t3 & viral\\_infection     & MISC &  0\\\\\n",
       "\t4 & bacterial\\_infection & MISC &  0\\\\\n",
       "\t5 & MISC                & KD   &  0\\\\\n",
       "\t6 & KD                  & KD   & 68\\\\\n",
       "\\end{tabular}\n"
      ],
      "text/markdown": [
       "\n",
       "A data.frame: 6 × 3\n",
       "\n",
       "| <!--/--> | Prediction &lt;fct&gt; | Reference &lt;fct&gt; | Freq &lt;int&gt; |\n",
       "|---|---|---|---|\n",
       "| 1 | MISC                | MISC | 66 |\n",
       "| 2 | KD                  | MISC |  0 |\n",
       "| 3 | viral_infection     | MISC |  0 |\n",
       "| 4 | bacterial_infection | MISC |  0 |\n",
       "| 5 | MISC                | KD   |  0 |\n",
       "| 6 | KD                  | KD   | 68 |\n",
       "\n"
      ],
      "text/plain": [
       "  Prediction          Reference Freq\n",
       "1 MISC                MISC      66  \n",
       "2 KD                  MISC       0  \n",
       "3 viral_infection     MISC       0  \n",
       "4 bacterial_infection MISC       0  \n",
       "5 MISC                KD         0  \n",
       "6 KD                  KD        68  "
      ]
     },
     "metadata": {},
     "output_type": "display_data"
    }
   ],
   "source": [
    "### extract train and test\n",
    "mdf_cast_train <- meta_all_multi %>% filter(cohort == \"train\")\n",
    "mdf_cast_test <- meta_all_multi %>% filter(cohort == \"test\")\n",
    "\n",
    "conf_trn <- confusionMatrix(mdf_cast_train$predictions, mdf_cast_train$inflam_cat)\n",
    "conf_tst <- confusionMatrix(mdf_cast_test$predictions, mdf_cast_test$inflam_cat)\n",
    "\n",
    "conf_trn$overall['Accuracy']\n",
    "conf_tst$overall['Accuracy']\n",
    "\n",
    "as.data.frame(as.table(conf_trn)) %>%  head()"
   ]
  },
  {
   "cell_type": "code",
   "execution_count": 14,
   "metadata": {
    "vscode": {
     "languageId": "r"
    }
   },
   "outputs": [
    {
     "data": {
      "text/html": [
       "<table class=\"dataframe\">\n",
       "<caption>A data.frame: 6 × 5</caption>\n",
       "<thead>\n",
       "\t<tr><th></th><th scope=col>Reference</th><th scope=col>Prediction</th><th scope=col>Freq</th><th scope=col>n</th><th scope=col>FRACTION</th></tr>\n",
       "\t<tr><th></th><th scope=col>&lt;fct&gt;</th><th scope=col>&lt;fct&gt;</th><th scope=col>&lt;int&gt;</th><th scope=col>&lt;int&gt;</th><th scope=col>&lt;dbl&gt;</th></tr>\n",
       "</thead>\n",
       "<tbody>\n",
       "\t<tr><th scope=row>1</th><td>bacterial_infection</td><td>MISC               </td><td> 0</td><td>27</td><td>0</td></tr>\n",
       "\t<tr><th scope=row>2</th><td>bacterial_infection</td><td>KD                 </td><td> 0</td><td>27</td><td>0</td></tr>\n",
       "\t<tr><th scope=row>3</th><td>bacterial_infection</td><td>viral_infection    </td><td> 0</td><td>27</td><td>0</td></tr>\n",
       "\t<tr><th scope=row>4</th><td>bacterial_infection</td><td>bacterial_infection</td><td>27</td><td>27</td><td>1</td></tr>\n",
       "\t<tr><th scope=row>5</th><td>KD                 </td><td>MISC               </td><td> 0</td><td>68</td><td>0</td></tr>\n",
       "\t<tr><th scope=row>6</th><td>KD                 </td><td>KD                 </td><td>68</td><td>68</td><td>1</td></tr>\n",
       "</tbody>\n",
       "</table>\n"
      ],
      "text/latex": [
       "A data.frame: 6 × 5\n",
       "\\begin{tabular}{r|lllll}\n",
       "  & Reference & Prediction & Freq & n & FRACTION\\\\\n",
       "  & <fct> & <fct> & <int> & <int> & <dbl>\\\\\n",
       "\\hline\n",
       "\t1 & bacterial\\_infection & MISC                &  0 & 27 & 0\\\\\n",
       "\t2 & bacterial\\_infection & KD                  &  0 & 27 & 0\\\\\n",
       "\t3 & bacterial\\_infection & viral\\_infection     &  0 & 27 & 0\\\\\n",
       "\t4 & bacterial\\_infection & bacterial\\_infection & 27 & 27 & 1\\\\\n",
       "\t5 & KD                  & MISC                &  0 & 68 & 0\\\\\n",
       "\t6 & KD                  & KD                  & 68 & 68 & 1\\\\\n",
       "\\end{tabular}\n"
      ],
      "text/markdown": [
       "\n",
       "A data.frame: 6 × 5\n",
       "\n",
       "| <!--/--> | Reference &lt;fct&gt; | Prediction &lt;fct&gt; | Freq &lt;int&gt; | n &lt;int&gt; | FRACTION &lt;dbl&gt; |\n",
       "|---|---|---|---|---|---|\n",
       "| 1 | bacterial_infection | MISC                |  0 | 27 | 0 |\n",
       "| 2 | bacterial_infection | KD                  |  0 | 27 | 0 |\n",
       "| 3 | bacterial_infection | viral_infection     |  0 | 27 | 0 |\n",
       "| 4 | bacterial_infection | bacterial_infection | 27 | 27 | 1 |\n",
       "| 5 | KD                  | MISC                |  0 | 68 | 0 |\n",
       "| 6 | KD                  | KD                  | 68 | 68 | 1 |\n",
       "\n"
      ],
      "text/plain": [
       "  Reference           Prediction          Freq n  FRACTION\n",
       "1 bacterial_infection MISC                 0   27 0       \n",
       "2 bacterial_infection KD                   0   27 0       \n",
       "3 bacterial_infection viral_infection      0   27 0       \n",
       "4 bacterial_infection bacterial_infection 27   27 1       \n",
       "5 KD                  MISC                 0   68 0       \n",
       "6 KD                  KD                  68   68 1       "
      ]
     },
     "metadata": {},
     "output_type": "display_data"
    }
   ],
   "source": [
    "mdf_cast_train <- meta_all_multi %>% filter(cohort == \"train\")\n",
    "mdf_cast_test <- meta_all_multi %>% filter(cohort == \"test\")\n",
    "\n",
    "conf_trn <- confusionMatrix(mdf_cast_train$predictions, mdf_cast_train$inflam_cat)\n",
    "conf_tst <- confusionMatrix(mdf_cast_test$predictions, mdf_cast_test$inflam_cat)\n",
    "\n",
    "trn_count <- mdf_cast_train %>% group_by(inflam_cat) %>% count() %>% rename(Reference = inflam_cat)\n",
    "conf_trn <- as.data.frame(as.table(conf_trn))\n",
    "conf_trn <- merge(conf_trn,trn_count, by=\"Reference\", all.x = TRUE) %>% mutate(FRACTION = Freq/n)\n",
    "\n",
    "conf_trn %>% head()"
   ]
  },
  {
   "cell_type": "code",
   "execution_count": 20,
   "metadata": {
    "vscode": {
     "languageId": "r"
    }
   },
   "outputs": [
    {
     "data": {
      "text/html": [
       "<strong>Accuracy:</strong> 1"
      ],
      "text/latex": [
       "\\textbf{Accuracy:} 1"
      ],
      "text/markdown": [
       "**Accuracy:** 1"
      ],
      "text/plain": [
       "Accuracy \n",
       "       1 "
      ]
     },
     "metadata": {},
     "output_type": "display_data"
    },
    {
     "data": {
      "text/html": [
       "<strong>Accuracy:</strong> 0.803571428571429"
      ],
      "text/latex": [
       "\\textbf{Accuracy:} 0.803571428571429"
      ],
      "text/markdown": [
       "**Accuracy:** 0.803571428571429"
      ],
      "text/plain": [
       " Accuracy \n",
       "0.8035714 "
      ]
     },
     "metadata": {},
     "output_type": "display_data"
    }
   ],
   "source": [
    "### extract train and test\n",
    "mdf_cast_train <- meta_all_multi %>% filter(cohort == \"train\")\n",
    "mdf_cast_test <- meta_all_multi %>% filter(cohort == \"test\")\n",
    "\n",
    "conf_trn <- confusionMatrix(mdf_cast_train$predictions, mdf_cast_train$inflam_cat)\n",
    "conf_tst <- confusionMatrix(mdf_cast_test$predictions, mdf_cast_test$inflam_cat)\n",
    "\n",
    "conf_trn$overall['Accuracy']\n",
    "conf_tst$overall['Accuracy']\n",
    "\n",
    "\n",
    "trn_count <- mdf_cast_train %>% group_by(inflam_cat) %>% count() %>% rename(Reference = inflam_cat)\n",
    "conf_trn <- as.data.frame(as.table(conf_trn))\n",
    "conf_trn <- merge(conf_trn,trn_count, by=\"Reference\", all.x = TRUE) %>% mutate(FRACTION = Freq/n)\n",
    "\n",
    "tst_count <- mdf_cast_test %>% group_by(inflam_cat) %>% count() %>% rename(Reference = inflam_cat)\n",
    "conf_tst <- as.data.frame(as.table(conf_tst))\n",
    "conf_tst <- merge(conf_tst,tst_count, by=\"Reference\", all.x = TRUE) %>% mutate(FRACTION = Freq/n)\n",
    "\n"
   ]
  },
  {
   "cell_type": "code",
   "execution_count": 23,
   "metadata": {
    "vscode": {
     "languageId": "r"
    }
   },
   "outputs": [
    {
     "data": {
      "text/html": [
       "<strong>Accuracy:</strong> 1"
      ],
      "text/latex": [
       "\\textbf{Accuracy:} 1"
      ],
      "text/markdown": [
       "**Accuracy:** 1"
      ],
      "text/plain": [
       "Accuracy \n",
       "       1 "
      ]
     },
     "metadata": {},
     "output_type": "display_data"
    },
    {
     "data": {
      "text/html": [
       "<strong>Accuracy:</strong> 0.803571428571429"
      ],
      "text/latex": [
       "\\textbf{Accuracy:} 0.803571428571429"
      ],
      "text/markdown": [
       "**Accuracy:** 0.803571428571429"
      ],
      "text/plain": [
       " Accuracy \n",
       "0.8035714 "
      ]
     },
     "metadata": {},
     "output_type": "display_data"
    },
    {
     "data": {
      "text/html": [
       "<strong>png:</strong> 2"
      ],
      "text/latex": [
       "\\textbf{png:} 2"
      ],
      "text/markdown": [
       "**png:** 2"
      ],
      "text/plain": [
       "png \n",
       "  2 "
      ]
     },
     "metadata": {},
     "output_type": "display_data"
    },
    {
     "data": {
      "text/html": [
       "<strong>png:</strong> 2"
      ],
      "text/latex": [
       "\\textbf{png:} 2"
      ],
      "text/markdown": [
       "**png:** 2"
      ],
      "text/plain": [
       "png \n",
       "  2 "
      ]
     },
     "metadata": {},
     "output_type": "display_data"
    }
   ],
   "source": [
    "### extract train and test\n",
    "mdf_cast_train <- meta_all_multi %>% filter(cohort == \"train\")\n",
    "mdf_cast_test <- meta_all_multi %>% filter(cohort == \"test\")\n",
    "\n",
    "conf_trn <- confusionMatrix(mdf_cast_train$predictions, mdf_cast_train$inflam_cat)\n",
    "conf_tst <- confusionMatrix(mdf_cast_test$predictions, mdf_cast_test$inflam_cat)\n",
    "\n",
    "conf_trn$overall['Accuracy']\n",
    "conf_tst$overall['Accuracy']\n",
    "\n",
    "\n",
    "\n",
    "trn_count <- mdf_cast_train %>% group_by(inflam_cat) %>% count() %>% rename(Reference = inflam_cat)\n",
    "conf_trn <- as.data.frame(as.table(conf_trn))\n",
    "conf_trn <- merge(conf_trn,trn_count, by=\"Reference\", all.x = TRUE) %>% mutate(FRACTION = Freq/n)\n",
    "\n",
    "tst_count <- mdf_cast_test %>% group_by(inflam_cat) %>% count() %>% rename(Reference = inflam_cat)\n",
    "conf_tst <- as.data.frame(as.table(conf_tst))\n",
    "conf_tst <- merge(conf_tst,tst_count, by=\"Reference\", all.x = TRUE) %>% mutate(FRACTION = Freq/n)\n",
    "\n",
    "\n",
    "\n",
    "# Plot the confusion matrix using ggplot2\n",
    "table_train_plt <- conf_trn %>% \n",
    "  ggplot(aes(x = Reference, y = Prediction, fill = FRACTION)) +\n",
    "    geom_tile(color = \"white\") +\n",
    "    scale_fill_gradientn(colors = c(\"#FAD02E\", \"#F28D35\", \"#D33F6A\", \"#2A295A\"), na.value = \"white\") +\n",
    "    geom_text(aes(label = sprintf(\"%d\", Freq)), vjust = 1, size = 2) +\n",
    "    theme_minimal() +\n",
    "    theme(\n",
    "      axis.text = element_text(size = 6),\n",
    "      axis.title = element_blank(),\n",
    "      plot.title = element_blank(),\n",
    "      legend.position = \"none\")\n",
    "\n",
    "table_test_plt <- conf_tst %>% \n",
    "  ggplot(aes(x = Reference, y = Prediction, fill = FRACTION)) +\n",
    "    geom_tile(color = \"white\") +\n",
    "    scale_fill_gradientn(colors = c(\"#FAD02E\", \"#F28D35\", \"#D33F6A\", \"#2A295A\"), na.value = \"white\") +\n",
    "    # scale_fill_gradientn(colors = c(\"#FCEE21\", \"#009245\"), na.value = \"white\") +\n",
    "    # scale_fill_gradientn(colors = c(\"#c4e0e5\", \"#4ca1af\"), na.value = \"white\") +\n",
    "    geom_text(aes(label = sprintf(\"%d\", Freq)), vjust = 1, size = 2, color = \"black\") +\n",
    "    theme_minimal() +\n",
    "    theme(\n",
    "      axis.text = element_text(size = 6),\n",
    "      axis.title = element_blank(),\n",
    "      plot.title = element_blank(),\n",
    "      legend.position = \"none\")\n",
    "\n",
    "\n",
    "### SAVE PLOTS\n",
    "WIDTH = 2.5\n",
    "HEIGHT = 1.8\n",
    "\n",
    "pdf(file = paste0(\"./plots/ONE-ONE_confusionMtrx-TRAIN.pdf\"),\n",
    "        width=WIDTH,height=HEIGHT, paper=\"special\", bg=\"white\",\n",
    "        fonts=\"Helvetica\", colormodel = \"srgb\", pointsize=6, useDingbats = FALSE)\n",
    "table_train_plt\n",
    "dev.off()\n",
    "\n",
    "pdf(file = paste0(\"./plots/ONE-ONE_confusionMtrx-TEST.pdf\"),\n",
    "        width=WIDTH,height=HEIGHT, paper=\"special\", bg=\"white\",\n",
    "        fonts=\"Helvetica\", colormodel = \"srgb\", pointsize=6, useDingbats = FALSE)\n",
    "table_test_plt\n",
    "dev.off()\n",
    "\n"
   ]
  },
  {
   "cell_type": "markdown",
   "metadata": {},
   "source": [
    "---\n",
    "### Metrics for each comparison"
   ]
  },
  {
   "cell_type": "code",
   "execution_count": 6,
   "metadata": {
    "vscode": {
     "languageId": "r"
    }
   },
   "outputs": [],
   "source": [
    "### 1 vs 1 models\n",
    "\n",
    "\n",
    "########################################\n",
    "### 1 vs 1 models\n",
    "########################################\n",
    "res_path = \"./ML_split70-30/1_all/output/\"\n",
    "\n",
    "all_comps = c(\n",
    "    \"KD<>bacterial_infection\",\n",
    "    \"KD<>viral_infection\",\n",
    "    \"MISC<>bacterial_infection\",\n",
    "    \"MISC<>viral_infection\",\n",
    "    \"MISC<>KD\",\n",
    "    \"viral_infection<>bacterial_infection\"\n",
    ")\n",
    "\n",
    "ALG = \"GLMNETLasso\"\n",
    "all_stats_1v1 <- list()\n",
    "\n",
    "for (GRP in all_comps){\n",
    "    train_stats <- read.delim(paste0(res_path,GRP,\"/\",ALG,\"/\",GRP,\".\",ALG,\".train.txt\")) %>% t() %>% data.frame() %>%  select(Sensitivity, Specificity,Accuracy, auc) %>%\n",
    "        mutate(cohort = \"train\", comp = GRP)\n",
    "    test_stats <- read.delim(paste0(res_path,GRP,\"/\",ALG,\"/\",GRP,\".\",ALG,\".test.txt\"))%>% t() %>% data.frame() %>%  select(Sensitivity, Specificity,Accuracy, auc) %>%\n",
    "        mutate(cohort = \"test\", comp = GRP)\n",
    "    all_stats_1v1[[GRP]] <- rbind(train_stats, test_stats)\n",
    "}\n",
    "all_stats_1v1 <- do.call(rbind,all_stats_1v1) %>% data.frame() %>% remove_rownames()"
   ]
  },
  {
   "cell_type": "code",
   "execution_count": 9,
   "metadata": {
    "vscode": {
     "languageId": "r"
    }
   },
   "outputs": [
    {
     "data": {
      "text/html": [
       "<table class=\"dataframe\">\n",
       "<caption>A data.frame: 6 × 6</caption>\n",
       "<thead>\n",
       "\t<tr><th></th><th scope=col>Sensitivity</th><th scope=col>Specificity</th><th scope=col>Accuracy</th><th scope=col>auc</th><th scope=col>cohort</th><th scope=col>comp</th></tr>\n",
       "\t<tr><th></th><th scope=col>&lt;chr&gt;</th><th scope=col>&lt;chr&gt;</th><th scope=col>&lt;chr&gt;</th><th scope=col>&lt;chr&gt;</th><th scope=col>&lt;chr&gt;</th><th scope=col>&lt;chr&gt;</th></tr>\n",
       "</thead>\n",
       "<tbody>\n",
       "\t<tr><th scope=row>1</th><td><span style=white-space:pre-wrap>0.90625          </span></td><td><span style=white-space:pre-wrap>0.9375           </span></td><td><span style=white-space:pre-wrap>0.921875         </span></td><td><span style=white-space:pre-wrap>0.9873046875     </span></td><td>test</td><td><span style=white-space:pre-wrap>MISC&lt;&gt;KD                            </span></td></tr>\n",
       "\t<tr><th scope=row>2</th><td><span style=white-space:pre-wrap>0.84375          </span></td><td>0.941176470588235</td><td>0.893939393939394</td><td>0.967830882352941</td><td>test</td><td><span style=white-space:pre-wrap>MISC&lt;&gt;viral_infection               </span></td></tr>\n",
       "\t<tr><th scope=row>3</th><td><span style=white-space:pre-wrap>0.96875          </span></td><td>0.714285714285714</td><td>0.891304347826087</td><td>0.868303571428571</td><td>test</td><td><span style=white-space:pre-wrap>KD&lt;&gt;bacterial_infection             </span></td></tr>\n",
       "\t<tr><th scope=row>4</th><td><span style=white-space:pre-wrap>0.90625          </span></td><td>0.785714285714286</td><td>0.869565217391304</td><td>0.935267857142857</td><td>test</td><td><span style=white-space:pre-wrap>MISC&lt;&gt;bacterial_infection           </span></td></tr>\n",
       "\t<tr><th scope=row>5</th><td><span style=white-space:pre-wrap>0.9375           </span></td><td>0.794117647058823</td><td>0.863636363636364</td><td>0.927389705882353</td><td>test</td><td><span style=white-space:pre-wrap>KD&lt;&gt;viral_infection                 </span></td></tr>\n",
       "\t<tr><th scope=row>6</th><td>0.882352941176471</td><td>0.714285714285714</td><td>0.833333333333333</td><td>0.861344537815126</td><td>test</td><td>viral_infection&lt;&gt;bacterial_infection</td></tr>\n",
       "</tbody>\n",
       "</table>\n"
      ],
      "text/latex": [
       "A data.frame: 6 × 6\n",
       "\\begin{tabular}{r|llllll}\n",
       "  & Sensitivity & Specificity & Accuracy & auc & cohort & comp\\\\\n",
       "  & <chr> & <chr> & <chr> & <chr> & <chr> & <chr>\\\\\n",
       "\\hline\n",
       "\t1 & 0.90625           & 0.9375            & 0.921875          & 0.9873046875      & test & MISC<>KD                            \\\\\n",
       "\t2 & 0.84375           & 0.941176470588235 & 0.893939393939394 & 0.967830882352941 & test & MISC<>viral\\_infection               \\\\\n",
       "\t3 & 0.96875           & 0.714285714285714 & 0.891304347826087 & 0.868303571428571 & test & KD<>bacterial\\_infection             \\\\\n",
       "\t4 & 0.90625           & 0.785714285714286 & 0.869565217391304 & 0.935267857142857 & test & MISC<>bacterial\\_infection           \\\\\n",
       "\t5 & 0.9375            & 0.794117647058823 & 0.863636363636364 & 0.927389705882353 & test & KD<>viral\\_infection                 \\\\\n",
       "\t6 & 0.882352941176471 & 0.714285714285714 & 0.833333333333333 & 0.861344537815126 & test & viral\\_infection<>bacterial\\_infection\\\\\n",
       "\\end{tabular}\n"
      ],
      "text/markdown": [
       "\n",
       "A data.frame: 6 × 6\n",
       "\n",
       "| <!--/--> | Sensitivity &lt;chr&gt; | Specificity &lt;chr&gt; | Accuracy &lt;chr&gt; | auc &lt;chr&gt; | cohort &lt;chr&gt; | comp &lt;chr&gt; |\n",
       "|---|---|---|---|---|---|---|\n",
       "| 1 | 0.90625           | 0.9375            | 0.921875          | 0.9873046875      | test | MISC&lt;&gt;KD                             |\n",
       "| 2 | 0.84375           | 0.941176470588235 | 0.893939393939394 | 0.967830882352941 | test | MISC&lt;&gt;viral_infection                |\n",
       "| 3 | 0.96875           | 0.714285714285714 | 0.891304347826087 | 0.868303571428571 | test | KD&lt;&gt;bacterial_infection              |\n",
       "| 4 | 0.90625           | 0.785714285714286 | 0.869565217391304 | 0.935267857142857 | test | MISC&lt;&gt;bacterial_infection            |\n",
       "| 5 | 0.9375            | 0.794117647058823 | 0.863636363636364 | 0.927389705882353 | test | KD&lt;&gt;viral_infection                  |\n",
       "| 6 | 0.882352941176471 | 0.714285714285714 | 0.833333333333333 | 0.861344537815126 | test | viral_infection&lt;&gt;bacterial_infection |\n",
       "\n"
      ],
      "text/plain": [
       "  Sensitivity       Specificity       Accuracy          auc              \n",
       "1 0.90625           0.9375            0.921875          0.9873046875     \n",
       "2 0.84375           0.941176470588235 0.893939393939394 0.967830882352941\n",
       "3 0.96875           0.714285714285714 0.891304347826087 0.868303571428571\n",
       "4 0.90625           0.785714285714286 0.869565217391304 0.935267857142857\n",
       "5 0.9375            0.794117647058823 0.863636363636364 0.927389705882353\n",
       "6 0.882352941176471 0.714285714285714 0.833333333333333 0.861344537815126\n",
       "  cohort comp                                \n",
       "1 test   MISC<>KD                            \n",
       "2 test   MISC<>viral_infection               \n",
       "3 test   KD<>bacterial_infection             \n",
       "4 test   MISC<>bacterial_infection           \n",
       "5 test   KD<>viral_infection                 \n",
       "6 test   viral_infection<>bacterial_infection"
      ]
     },
     "metadata": {},
     "output_type": "display_data"
    }
   ],
   "source": [
    "all_stats_1v1 %>% filter(cohort==\"test\") %>% arrange(desc(Accuracy)) %>% tail()"
   ]
  },
  {
   "cell_type": "code",
   "execution_count": 80,
   "metadata": {
    "vscode": {
     "languageId": "r"
    }
   },
   "outputs": [],
   "source": [
    "### 1 vs 1 models\n",
    "\n",
    "\n",
    "########################################\n",
    "### 1 vs 1 models\n",
    "########################################\n",
    "res_path = \"./ML_split70-30/1_all/output/\"\n",
    "\n",
    "all_comps = c(\n",
    "    \"KD<>bacterial_infection\",\n",
    "    \"KD<>viral_infection\",\n",
    "    \"MISC<>bacterial_infection\",\n",
    "    \"MISC<>viral_infection\",\n",
    "    \"MISC<>KD\",\n",
    "    \"viral_infection<>bacterial_infection\"\n",
    ")\n",
    "\n",
    "ALG = \"GLMNETLasso\"\n",
    "all_stats_1v1 <- list()\n",
    "\n",
    "for (GRP in all_comps){\n",
    "    train_stats <- read.delim(paste0(res_path,GRP,\"/\",ALG,\"/\",GRP,\".\",ALG,\".train.txt\")) %>% t() %>% data.frame() %>%  select(Sensitivity, Specificity, auc) %>%\n",
    "        mutate(cohort = \"train\", comp = GRP)\n",
    "    test_stats <- read.delim(paste0(res_path,GRP,\"/\",ALG,\"/\",GRP,\".\",ALG,\".test.txt\"))%>% t() %>% data.frame() %>%  select(Sensitivity, Specificity, auc) %>%\n",
    "        mutate(cohort = \"test\", comp = GRP)\n",
    "    all_stats_1v1[[GRP]] <- rbind(train_stats, test_stats)\n",
    "}\n",
    "all_stats_1v1 <- do.call(rbind,all_stats_1v1) %>% data.frame() %>% remove_rownames() %>% select(comp, cohort, auc, Sensitivity, Specificity) %>% \n",
    "        rename(Comparison = comp, Cohort = cohort, AUC = auc) %>% \n",
    "        mutate(Sensitivity = round(as.numeric(Sensitivity),2),\n",
    "                Specificity = round(as.numeric(Specificity),2),\n",
    "                AUC = round(as.numeric(AUC),2)) %>% \n",
    "        mutate(Comparison = gsub(\"<>\",\" vs \",Comparison)) %>% \n",
    "        mutate(Comparison = gsub(\"_\",\" \",Comparison))%>% \n",
    "        mutate(Comparison = gsub(\"MISC\",\"MIS-C\",Comparison))\n",
    "\n",
    "########################################\n",
    "### 1 vs all model\n",
    "########################################\n",
    "\n",
    "all_GRPS = c(\"MISC\",\"KD\",\"viral_infection\",\"bacterial_infection\")\n",
    "\n",
    "res_train <- meta_all_multi %>% filter(cohort == \"train\")\n",
    "res_test <- meta_all_multi %>% filter(cohort == \"test\")\n",
    "\n",
    "conf_matrix_train <- confusionMatrix(res_train$predictions, res_train$inflam_cat)$byClass %>% data.frame() %>% \n",
    "    select(Sensitivity, Specificity) %>% \n",
    "    rownames_to_column(\"Comparison\") %>% \n",
    "    mutate(Comparison = paste0(gsub(\"Class: \",\"\",Comparison),\" vs All\")) %>% \n",
    "    mutate(Cohort = \"train\", AUC = NA) %>% \n",
    "    select(Comparison, Cohort, AUC, Sensitivity, Specificity)\n",
    "conf_matrix_test <- confusionMatrix(res_test$predictions, res_test$inflam_cat)$byClass %>% data.frame() %>% \n",
    "    select(Sensitivity, Specificity)%>% \n",
    "    rownames_to_column(\"Comparison\") %>% \n",
    "    mutate(Comparison = paste0(gsub(\"Class: \",\"\",Comparison),\" vs All\")) %>% \n",
    "    mutate(Cohort = \"test\", AUC = NA) %>% \n",
    "    select(Comparison, Cohort, AUC, Sensitivity, Specificity)\n",
    "\n",
    "all_stats_1vall <- rbind(conf_matrix_train,conf_matrix_test) %>% data.frame() %>% \n",
    "        mutate(Sensitivity = round(as.numeric(Sensitivity),2),\n",
    "                Specificity = round(as.numeric(Specificity),2),\n",
    "                AUC = round(as.numeric(AUC),2)) %>% \n",
    "        mutate(Comparison = gsub(\"MISC\",\"MIS-C\",Comparison))%>% \n",
    "        arrange(Comparison, desc(Cohort))\n",
    "\n",
    "\n",
    "########################################\n",
    "### Combine\n",
    "########################################\n",
    "all_stats_all <- rbind(all_stats_1v1,all_stats_1vall)\n",
    "\n",
    "all_stats_all %>% write.csv(\"./output/Table2_AllStats.csv\",row.names=F, quote=FALSE)"
   ]
  },
  {
   "cell_type": "code",
   "execution_count": 79,
   "metadata": {
    "vscode": {
     "languageId": "r"
    }
   },
   "outputs": [
    {
     "data": {
      "text/html": [
       "<table class=\"dataframe\">\n",
       "<caption>A data.frame: 8 × 5</caption>\n",
       "<thead>\n",
       "\t<tr><th scope=col>Comparison</th><th scope=col>Cohort</th><th scope=col>AUC</th><th scope=col>Sensitivity</th><th scope=col>Specificity</th></tr>\n",
       "\t<tr><th scope=col>&lt;chr&gt;</th><th scope=col>&lt;chr&gt;</th><th scope=col>&lt;dbl&gt;</th><th scope=col>&lt;dbl&gt;</th><th scope=col>&lt;dbl&gt;</th></tr>\n",
       "</thead>\n",
       "<tbody>\n",
       "\t<tr><td>KD vs All                 </td><td>train</td><td>NA</td><td>1.00</td><td>1.00</td></tr>\n",
       "\t<tr><td>KD vs All                 </td><td>test </td><td>NA</td><td>0.84</td><td>0.90</td></tr>\n",
       "\t<tr><td>MIS-C vs All              </td><td>train</td><td>NA</td><td>1.00</td><td>1.00</td></tr>\n",
       "\t<tr><td>MIS-C vs All              </td><td>test </td><td>NA</td><td>0.91</td><td>0.96</td></tr>\n",
       "\t<tr><td>bacterial_infection vs All</td><td>train</td><td>NA</td><td>1.00</td><td>1.00</td></tr>\n",
       "\t<tr><td>bacterial_infection vs All</td><td>test </td><td>NA</td><td>0.43</td><td>0.95</td></tr>\n",
       "\t<tr><td>viral_infection vs All    </td><td>train</td><td>NA</td><td>1.00</td><td>1.00</td></tr>\n",
       "\t<tr><td>viral_infection vs All    </td><td>test </td><td>NA</td><td>0.82</td><td>0.92</td></tr>\n",
       "</tbody>\n",
       "</table>\n"
      ],
      "text/latex": [
       "A data.frame: 8 × 5\n",
       "\\begin{tabular}{lllll}\n",
       " Comparison & Cohort & AUC & Sensitivity & Specificity\\\\\n",
       " <chr> & <chr> & <dbl> & <dbl> & <dbl>\\\\\n",
       "\\hline\n",
       "\t KD vs All                  & train & NA & 1.00 & 1.00\\\\\n",
       "\t KD vs All                  & test  & NA & 0.84 & 0.90\\\\\n",
       "\t MIS-C vs All               & train & NA & 1.00 & 1.00\\\\\n",
       "\t MIS-C vs All               & test  & NA & 0.91 & 0.96\\\\\n",
       "\t bacterial\\_infection vs All & train & NA & 1.00 & 1.00\\\\\n",
       "\t bacterial\\_infection vs All & test  & NA & 0.43 & 0.95\\\\\n",
       "\t viral\\_infection vs All     & train & NA & 1.00 & 1.00\\\\\n",
       "\t viral\\_infection vs All     & test  & NA & 0.82 & 0.92\\\\\n",
       "\\end{tabular}\n"
      ],
      "text/markdown": [
       "\n",
       "A data.frame: 8 × 5\n",
       "\n",
       "| Comparison &lt;chr&gt; | Cohort &lt;chr&gt; | AUC &lt;dbl&gt; | Sensitivity &lt;dbl&gt; | Specificity &lt;dbl&gt; |\n",
       "|---|---|---|---|---|\n",
       "| KD vs All                  | train | NA | 1.00 | 1.00 |\n",
       "| KD vs All                  | test  | NA | 0.84 | 0.90 |\n",
       "| MIS-C vs All               | train | NA | 1.00 | 1.00 |\n",
       "| MIS-C vs All               | test  | NA | 0.91 | 0.96 |\n",
       "| bacterial_infection vs All | train | NA | 1.00 | 1.00 |\n",
       "| bacterial_infection vs All | test  | NA | 0.43 | 0.95 |\n",
       "| viral_infection vs All     | train | NA | 1.00 | 1.00 |\n",
       "| viral_infection vs All     | test  | NA | 0.82 | 0.92 |\n",
       "\n"
      ],
      "text/plain": [
       "  Comparison                 Cohort AUC Sensitivity Specificity\n",
       "1 KD vs All                  train  NA  1.00        1.00       \n",
       "2 KD vs All                  test   NA  0.84        0.90       \n",
       "3 MIS-C vs All               train  NA  1.00        1.00       \n",
       "4 MIS-C vs All               test   NA  0.91        0.96       \n",
       "5 bacterial_infection vs All train  NA  1.00        1.00       \n",
       "6 bacterial_infection vs All test   NA  0.43        0.95       \n",
       "7 viral_infection vs All     train  NA  1.00        1.00       \n",
       "8 viral_infection vs All     test   NA  0.82        0.92       "
      ]
     },
     "metadata": {},
     "output_type": "display_data"
    }
   ],
   "source": [
    "all_stats_1vall"
   ]
  },
  {
   "cell_type": "code",
   "execution_count": 74,
   "metadata": {
    "vscode": {
     "languageId": "r"
    }
   },
   "outputs": [
    {
     "data": {
      "text/html": [
       "<table class=\"dataframe\">\n",
       "<caption>A data.frame: 6 × 5</caption>\n",
       "<thead>\n",
       "\t<tr><th></th><th scope=col>Comparison</th><th scope=col>Cohort</th><th scope=col>AUC</th><th scope=col>Sensitivity</th><th scope=col>Specificity</th></tr>\n",
       "\t<tr><th></th><th scope=col>&lt;chr&gt;</th><th scope=col>&lt;chr&gt;</th><th scope=col>&lt;dbl&gt;</th><th scope=col>&lt;dbl&gt;</th><th scope=col>&lt;dbl&gt;</th></tr>\n",
       "</thead>\n",
       "<tbody>\n",
       "\t<tr><th scope=row>1</th><td>KD vs bacterial infection   </td><td>train</td><td>0.99</td><td>0.94</td><td>1.00</td></tr>\n",
       "\t<tr><th scope=row>2</th><td>KD vs bacterial infection   </td><td>test </td><td>0.87</td><td>0.97</td><td>0.71</td></tr>\n",
       "\t<tr><th scope=row>3</th><td>KD vs viral infection       </td><td>train</td><td>0.99</td><td>0.97</td><td>0.96</td></tr>\n",
       "\t<tr><th scope=row>4</th><td>KD vs viral infection       </td><td>test </td><td>0.93</td><td>0.94</td><td>0.79</td></tr>\n",
       "\t<tr><th scope=row>5</th><td>MIS-C vs bacterial infection</td><td>train</td><td>1.00</td><td>0.98</td><td>1.00</td></tr>\n",
       "\t<tr><th scope=row>6</th><td>MIS-C vs bacterial infection</td><td>test </td><td>0.94</td><td>0.91</td><td>0.79</td></tr>\n",
       "</tbody>\n",
       "</table>\n"
      ],
      "text/latex": [
       "A data.frame: 6 × 5\n",
       "\\begin{tabular}{r|lllll}\n",
       "  & Comparison & Cohort & AUC & Sensitivity & Specificity\\\\\n",
       "  & <chr> & <chr> & <dbl> & <dbl> & <dbl>\\\\\n",
       "\\hline\n",
       "\t1 & KD vs bacterial infection    & train & 0.99 & 0.94 & 1.00\\\\\n",
       "\t2 & KD vs bacterial infection    & test  & 0.87 & 0.97 & 0.71\\\\\n",
       "\t3 & KD vs viral infection        & train & 0.99 & 0.97 & 0.96\\\\\n",
       "\t4 & KD vs viral infection        & test  & 0.93 & 0.94 & 0.79\\\\\n",
       "\t5 & MIS-C vs bacterial infection & train & 1.00 & 0.98 & 1.00\\\\\n",
       "\t6 & MIS-C vs bacterial infection & test  & 0.94 & 0.91 & 0.79\\\\\n",
       "\\end{tabular}\n"
      ],
      "text/markdown": [
       "\n",
       "A data.frame: 6 × 5\n",
       "\n",
       "| <!--/--> | Comparison &lt;chr&gt; | Cohort &lt;chr&gt; | AUC &lt;dbl&gt; | Sensitivity &lt;dbl&gt; | Specificity &lt;dbl&gt; |\n",
       "|---|---|---|---|---|---|\n",
       "| 1 | KD vs bacterial infection    | train | 0.99 | 0.94 | 1.00 |\n",
       "| 2 | KD vs bacterial infection    | test  | 0.87 | 0.97 | 0.71 |\n",
       "| 3 | KD vs viral infection        | train | 0.99 | 0.97 | 0.96 |\n",
       "| 4 | KD vs viral infection        | test  | 0.93 | 0.94 | 0.79 |\n",
       "| 5 | MIS-C vs bacterial infection | train | 1.00 | 0.98 | 1.00 |\n",
       "| 6 | MIS-C vs bacterial infection | test  | 0.94 | 0.91 | 0.79 |\n",
       "\n"
      ],
      "text/plain": [
       "  Comparison                   Cohort AUC  Sensitivity Specificity\n",
       "1 KD vs bacterial infection    train  0.99 0.94        1.00       \n",
       "2 KD vs bacterial infection    test   0.87 0.97        0.71       \n",
       "3 KD vs viral infection        train  0.99 0.97        0.96       \n",
       "4 KD vs viral infection        test   0.93 0.94        0.79       \n",
       "5 MIS-C vs bacterial infection train  1.00 0.98        1.00       \n",
       "6 MIS-C vs bacterial infection test   0.94 0.91        0.79       "
      ]
     },
     "metadata": {},
     "output_type": "display_data"
    },
    {
     "data": {
      "text/html": [
       "<table class=\"dataframe\">\n",
       "<caption>A data.frame: 6 × 5</caption>\n",
       "<thead>\n",
       "\t<tr><th></th><th scope=col>Comparison</th><th scope=col>cohort</th><th scope=col>AUC</th><th scope=col>Sensitivity</th><th scope=col>Specificity</th></tr>\n",
       "\t<tr><th></th><th scope=col>&lt;chr&gt;</th><th scope=col>&lt;chr&gt;</th><th scope=col>&lt;lgl&gt;</th><th scope=col>&lt;dbl&gt;</th><th scope=col>&lt;dbl&gt;</th></tr>\n",
       "</thead>\n",
       "<tbody>\n",
       "\t<tr><th scope=row>1</th><td>KD vs All                 </td><td>train</td><td>NA</td><td>1.0000000</td><td>1.0000000</td></tr>\n",
       "\t<tr><th scope=row>2</th><td>KD vs All                 </td><td>test </td><td>NA</td><td>0.8437500</td><td>0.9000000</td></tr>\n",
       "\t<tr><th scope=row>3</th><td>MISC vs All               </td><td>train</td><td>NA</td><td>1.0000000</td><td>1.0000000</td></tr>\n",
       "\t<tr><th scope=row>4</th><td>MISC vs All               </td><td>test </td><td>NA</td><td>0.9062500</td><td>0.9625000</td></tr>\n",
       "\t<tr><th scope=row>5</th><td>bacterial_infection vs All</td><td>train</td><td>NA</td><td>1.0000000</td><td>1.0000000</td></tr>\n",
       "\t<tr><th scope=row>6</th><td>bacterial_infection vs All</td><td>test </td><td>NA</td><td>0.4285714</td><td>0.9489796</td></tr>\n",
       "</tbody>\n",
       "</table>\n"
      ],
      "text/latex": [
       "A data.frame: 6 × 5\n",
       "\\begin{tabular}{r|lllll}\n",
       "  & Comparison & cohort & AUC & Sensitivity & Specificity\\\\\n",
       "  & <chr> & <chr> & <lgl> & <dbl> & <dbl>\\\\\n",
       "\\hline\n",
       "\t1 & KD vs All                  & train & NA & 1.0000000 & 1.0000000\\\\\n",
       "\t2 & KD vs All                  & test  & NA & 0.8437500 & 0.9000000\\\\\n",
       "\t3 & MISC vs All                & train & NA & 1.0000000 & 1.0000000\\\\\n",
       "\t4 & MISC vs All                & test  & NA & 0.9062500 & 0.9625000\\\\\n",
       "\t5 & bacterial\\_infection vs All & train & NA & 1.0000000 & 1.0000000\\\\\n",
       "\t6 & bacterial\\_infection vs All & test  & NA & 0.4285714 & 0.9489796\\\\\n",
       "\\end{tabular}\n"
      ],
      "text/markdown": [
       "\n",
       "A data.frame: 6 × 5\n",
       "\n",
       "| <!--/--> | Comparison &lt;chr&gt; | cohort &lt;chr&gt; | AUC &lt;lgl&gt; | Sensitivity &lt;dbl&gt; | Specificity &lt;dbl&gt; |\n",
       "|---|---|---|---|---|---|\n",
       "| 1 | KD vs All                  | train | NA | 1.0000000 | 1.0000000 |\n",
       "| 2 | KD vs All                  | test  | NA | 0.8437500 | 0.9000000 |\n",
       "| 3 | MISC vs All                | train | NA | 1.0000000 | 1.0000000 |\n",
       "| 4 | MISC vs All                | test  | NA | 0.9062500 | 0.9625000 |\n",
       "| 5 | bacterial_infection vs All | train | NA | 1.0000000 | 1.0000000 |\n",
       "| 6 | bacterial_infection vs All | test  | NA | 0.4285714 | 0.9489796 |\n",
       "\n"
      ],
      "text/plain": [
       "  Comparison                 cohort AUC Sensitivity Specificity\n",
       "1 KD vs All                  train  NA  1.0000000   1.0000000  \n",
       "2 KD vs All                  test   NA  0.8437500   0.9000000  \n",
       "3 MISC vs All                train  NA  1.0000000   1.0000000  \n",
       "4 MISC vs All                test   NA  0.9062500   0.9625000  \n",
       "5 bacterial_infection vs All train  NA  1.0000000   1.0000000  \n",
       "6 bacterial_infection vs All test   NA  0.4285714   0.9489796  "
      ]
     },
     "metadata": {},
     "output_type": "display_data"
    }
   ],
   "source": [
    "all_stats_1v1 %>% head()\n",
    "all_stats_1vall %>% head()\n"
   ]
  }
 ],
 "metadata": {
  "kernelspec": {
   "display_name": "R",
   "language": "R",
   "name": "ir"
  },
  "language_info": {
   "codemirror_mode": "r",
   "file_extension": ".r",
   "mimetype": "text/x-r-source",
   "name": "R",
   "pygments_lexer": "r",
   "version": "4.1.1"
  }
 },
 "nbformat": 4,
 "nbformat_minor": 4
}
