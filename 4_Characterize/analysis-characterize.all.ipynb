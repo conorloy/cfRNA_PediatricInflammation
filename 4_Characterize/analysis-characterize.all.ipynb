{
 "cells": [
  {
   "cell_type": "code",
   "execution_count": 1,
   "metadata": {
    "vscode": {
     "languageId": "r"
    }
   },
   "outputs": [
    {
     "name": "stderr",
     "output_type": "stream",
     "text": [
      "── \u001b[1mAttaching packages\u001b[22m ─────────────────────────────────────── tidyverse 1.3.1 ──\n",
      "\n",
      "\u001b[32m✔\u001b[39m \u001b[34mggplot2\u001b[39m 3.5.1     \u001b[32m✔\u001b[39m \u001b[34mpurrr  \u001b[39m 1.0.2\n",
      "\u001b[32m✔\u001b[39m \u001b[34mtibble \u001b[39m 3.2.1     \u001b[32m✔\u001b[39m \u001b[34mdplyr  \u001b[39m 1.1.4\n",
      "\u001b[32m✔\u001b[39m \u001b[34mtidyr  \u001b[39m 1.3.1     \u001b[32m✔\u001b[39m \u001b[34mstringr\u001b[39m 1.5.1\n",
      "\u001b[32m✔\u001b[39m \u001b[34mreadr  \u001b[39m 2.1.2     \u001b[32m✔\u001b[39m \u001b[34mforcats\u001b[39m 0.5.1\n",
      "\n",
      "── \u001b[1mConflicts\u001b[22m ────────────────────────────────────────── tidyverse_conflicts() ──\n",
      "\u001b[31m✖\u001b[39m \u001b[34mdplyr\u001b[39m::\u001b[32mfilter()\u001b[39m masks \u001b[34mstats\u001b[39m::filter()\n",
      "\u001b[31m✖\u001b[39m \u001b[34mdplyr\u001b[39m::\u001b[32mlag()\u001b[39m    masks \u001b[34mstats\u001b[39m::lag()\n",
      "\n"
     ]
    }
   ],
   "source": [
    "library(tidyverse)\n",
    "\n",
    "library(readxl)\n",
    "suppressMessages(library(pheatmap))\n",
    "suppressMessages(library(gridExtra))\n",
    "suppressMessages(library(grid))\n",
    "\n",
    "\n",
    "source(\"../global_variables.R\")\n",
    "source(\"../theme_ggplot_prevail.R\")\n",
    "\n",
    "INFLAMCAT_FILL_KEY_labs = INFLAMCAT_FILL_KEY\n",
    "names(INFLAMCAT_FILL_KEY_labs) = gsub(\"_\",\"\\n\",names(INFLAMCAT_FILL_KEY_labs))\n",
    "\n",
    "gene_name_key = read.delim(\"../0_DATA/gencode.biotype.name.key.tsv\")"
   ]
  },
  {
   "cell_type": "markdown",
   "metadata": {},
   "source": [
    "---\n",
    "## load in data"
   ]
  },
  {
   "cell_type": "code",
   "execution_count": 11,
   "metadata": {
    "vscode": {
     "languageId": "r"
    }
   },
   "outputs": [],
   "source": [
    "metadata <- read.csv(\"../0_DATA/metadata_all.csv\")\n",
    "\n",
    "decon_raw <- read.delim(\"../0_DATA/PedInflam_2024.01.10_BP.protein_coding.tsv\",row.names=1)\n",
    "\n",
    "\n",
    "\n",
    "#### CONTAINS SENS INFORMATION\n",
    "# redcap <- read.csv(\"../../marker_genes/meta_data/cfrna/RedCap-df_merged.csv\")\n",
    "# ucsd_clin <- read.csv(\"/workdir/cjl332/archive/KD/0_DATA/data/KD_samples sent metadata_090823.csv\") %>% mutate(snum = gsub(\"\\\\.0\",\"\",snum))\n",
    "# ucsd_clin2 <- read_xlsx(\"/workdir/cjl332/archive/KD/0_DATA/data/metadata sent to Conor 080323.xlsx\")\n",
    "\n",
    "\n",
    "# ###------------------------------------------\n",
    "# ### Prep ALT\n",
    "# ###------------------------------------------\n",
    "# ucsd_ALT = rbind(ucsd_clin %>% select(snum, palt),\n",
    "#     ucsd_clin2 %>% select(snum, palt)) %>% unique()\n",
    "\n",
    "# meta_ALT <- merge(metadata, ucsd_ALT, by.x=\"PTID\", by.y=\"snum\")\n",
    "\n",
    "# meta_ALT %>% write.csv(\"meta_ALT.csv\", row.names = F)\n",
    "\n",
    "\n",
    "# ###------------------------------------------\n",
    "# ### Prep cardiac\n",
    "# ###------------------------------------------\n",
    "# redcap_sub = redcap %>% select(PTID, ekg_results,echo_results, echo_impression___1, echo_impression___2, echo_impression___3, echo_impression___4)\n",
    "\n",
    "# meta_redcap <- merge(metadata, redcap_sub, by=\"PTID\")\n",
    "\n",
    "# meta_redcap %>% write.csv(\"./meta_cardiac.csv\", row.names = F)\n",
    "\n"
   ]
  },
  {
   "cell_type": "code",
   "execution_count": 3,
   "metadata": {
    "vscode": {
     "languageId": "r"
    }
   },
   "outputs": [],
   "source": [
    "scale_values <- function(x){(x-min(x))/(max(x)-min(x))}\n",
    "\n",
    "decon <- apply(decon_raw, 2, function(x) scale_values(x))\n"
   ]
  },
  {
   "cell_type": "markdown",
   "metadata": {},
   "source": [
    "---\n",
    "## Create Dot Plot"
   ]
  },
  {
   "cell_type": "code",
   "execution_count": 4,
   "metadata": {
    "vscode": {
     "languageId": "r"
    }
   },
   "outputs": [],
   "source": [
    "get_sig_cts <- function(df, group_col, group1, group2){\n",
    "    output_list = list()\n",
    "    for (ct in unique(df$celltype)){\n",
    "        tmp_0 = df %>% filter(celltype == ct) %>% filter(.data[[group_col]] == group1) %>% pull(fraction) %>% as.numeric()\n",
    "        tmp_1 = df %>% filter(celltype == ct) %>% filter(.data[[group_col]] == group2) %>% pull(fraction) %>% as.numeric()\n",
    "\n",
    "        res = suppressWarnings(wilcox.test(tmp_0,tmp_1))\n",
    "\n",
    "        output_list[[ct]] = c(ct, res$p.value)\n",
    "    }\n",
    "\n",
    "    output_df <- do.call(\"rbind\",output_list) %>% \n",
    "                    data.frame() %>% \n",
    "                    rename(ct = X1, pval = X2) %>% \n",
    "                    mutate(pval = as.numeric(pval)) %>% \n",
    "                    arrange(pval)\n",
    "\n",
    "    output_df$padj = p.adjust(output_df$pval, method = \"BH\")\n",
    "\n",
    "    return(output_df)\n",
    "\n",
    "}"
   ]
  },
  {
   "cell_type": "code",
   "execution_count": 15,
   "metadata": {
    "vscode": {
     "languageId": "r"
    }
   },
   "outputs": [
    {
     "data": {
      "text/html": [
       "<table class=\"dataframe\">\n",
       "<caption>A data.frame: 6 × 75</caption>\n",
       "<thead>\n",
       "\t<tr><th></th><th scope=col>Xsample_id</th><th scope=col>PTID</th><th scope=col>sample_id</th><th scope=col>diagnosis</th><th scope=col>severity</th><th scope=col>inflam_cat</th><th scope=col>ekg_results</th><th scope=col>echo_results</th><th scope=col>echo_impression___1</th><th scope=col>echo_impression___2</th><th scope=col>⋯</th><th scope=col>bladder_urothelial_cell</th><th scope=col>plasmablast</th><th scope=col>kidney_epithelial_cell</th><th scope=col>goblet_cell</th><th scope=col>club_cell_type_i_pneumocyte</th><th scope=col>pulmonary_ionocyte</th><th scope=col>pancreatic_pp_cell</th><th scope=col>pancreatic_delta_cell</th><th scope=col>duodenum_glandular_cell</th><th scope=col>thymocyte</th></tr>\n",
       "\t<tr><th></th><th scope=col>&lt;chr&gt;</th><th scope=col>&lt;chr&gt;</th><th scope=col>&lt;chr&gt;</th><th scope=col>&lt;chr&gt;</th><th scope=col>&lt;int&gt;</th><th scope=col>&lt;chr&gt;</th><th scope=col>&lt;int&gt;</th><th scope=col>&lt;int&gt;</th><th scope=col>&lt;int&gt;</th><th scope=col>&lt;int&gt;</th><th scope=col>⋯</th><th scope=col>&lt;dbl&gt;</th><th scope=col>&lt;dbl&gt;</th><th scope=col>&lt;dbl&gt;</th><th scope=col>&lt;dbl&gt;</th><th scope=col>&lt;dbl&gt;</th><th scope=col>&lt;dbl&gt;</th><th scope=col>&lt;dbl&gt;</th><th scope=col>&lt;dbl&gt;</th><th scope=col>&lt;dbl&gt;</th><th scope=col>&lt;dbl&gt;</th></tr>\n",
       "</thead>\n",
       "<tbody>\n",
       "\t<tr><th scope=row>1</th><td>prevail_cu_cfrna_106</td><td>NCOV3390CHOA</td><td>prevail_cu_cfrna_106</td><td>Inflam </td><td>NA</td><td>other          </td><td> 2</td><td>1</td><td>0</td><td>0</td><td>⋯</td><td>0.19359603</td><td>0.001244201</td><td>0.02343591</td><td>0.19387379</td><td>0.07940882</td><td>0.04417002</td><td>0.2638908</td><td>0.27531448</td><td>0.09586923</td><td>0.0290365185</td></tr>\n",
       "\t<tr><th scope=row>2</th><td>prevail_cu_cfrna_108</td><td>NCOV3335CHOA</td><td>prevail_cu_cfrna_108</td><td>MISC   </td><td> 2</td><td>MISC           </td><td> 2</td><td>1</td><td>0</td><td>0</td><td>⋯</td><td>0.86880236</td><td>0.012958974</td><td>0.81087818</td><td>0.23120430</td><td>0.24616679</td><td>0.69862764</td><td>0.7611963</td><td>1.00000000</td><td>0.19214647</td><td>0.1278055969</td></tr>\n",
       "\t<tr><th scope=row>3</th><td>prevail_cu_cfrna_108</td><td>NCOV3335CHOA</td><td>prevail_cu_cfrna_108</td><td>MISC   </td><td> 2</td><td>MISC           </td><td> 2</td><td>1</td><td>0</td><td>0</td><td>⋯</td><td>0.86880236</td><td>0.012958974</td><td>0.81087818</td><td>0.23120430</td><td>0.24616679</td><td>0.69862764</td><td>0.7611963</td><td>1.00000000</td><td>0.19214647</td><td>0.1278055969</td></tr>\n",
       "\t<tr><th scope=row>4</th><td>prevail_cu_cfrna_109</td><td>NCOV3389CHOA</td><td>prevail_cu_cfrna_109</td><td>COVID19</td><td> 2</td><td>viral_infection</td><td>NA</td><td>2</td><td>0</td><td>0</td><td>⋯</td><td>0.07686507</td><td>0.000601005</td><td>0.03317496</td><td>0.09076181</td><td>0.12944561</td><td>0.04036987</td><td>0.3293937</td><td>0.08511572</td><td>0.31511095</td><td>0.0012040813</td></tr>\n",
       "\t<tr><th scope=row>5</th><td>prevail_cu_cfrna_110</td><td>NCOV3391CHOA</td><td>prevail_cu_cfrna_110</td><td>MISC   </td><td> 3</td><td>MISC           </td><td> 2</td><td>2</td><td>0</td><td>0</td><td>⋯</td><td>0.02684813</td><td>0.000965324</td><td>0.06170459</td><td>0.02703719</td><td>0.03395275</td><td>0.07367220</td><td>0.3084979</td><td>0.05566762</td><td>0.02902571</td><td>0.0002707694</td></tr>\n",
       "\t<tr><th scope=row>6</th><td>prevail_cu_cfrna_110</td><td>NCOV3391CHOA</td><td>prevail_cu_cfrna_110</td><td>MISC   </td><td> 3</td><td>MISC           </td><td> 2</td><td>2</td><td>0</td><td>0</td><td>⋯</td><td>0.02684813</td><td>0.000965324</td><td>0.06170459</td><td>0.02703719</td><td>0.03395275</td><td>0.07367220</td><td>0.3084979</td><td>0.05566762</td><td>0.02902571</td><td>0.0002707694</td></tr>\n",
       "</tbody>\n",
       "</table>\n"
      ],
      "text/latex": [
       "A data.frame: 6 × 75\n",
       "\\begin{tabular}{r|lllllllllllllllllllll}\n",
       "  & Xsample\\_id & PTID & sample\\_id & diagnosis & severity & inflam\\_cat & ekg\\_results & echo\\_results & echo\\_impression\\_\\_\\_1 & echo\\_impression\\_\\_\\_2 & ⋯ & bladder\\_urothelial\\_cell & plasmablast & kidney\\_epithelial\\_cell & goblet\\_cell & club\\_cell\\_type\\_i\\_pneumocyte & pulmonary\\_ionocyte & pancreatic\\_pp\\_cell & pancreatic\\_delta\\_cell & duodenum\\_glandular\\_cell & thymocyte\\\\\n",
       "  & <chr> & <chr> & <chr> & <chr> & <int> & <chr> & <int> & <int> & <int> & <int> & ⋯ & <dbl> & <dbl> & <dbl> & <dbl> & <dbl> & <dbl> & <dbl> & <dbl> & <dbl> & <dbl>\\\\\n",
       "\\hline\n",
       "\t1 & prevail\\_cu\\_cfrna\\_106 & NCOV3390CHOA & prevail\\_cu\\_cfrna\\_106 & Inflam  & NA & other           &  2 & 1 & 0 & 0 & ⋯ & 0.19359603 & 0.001244201 & 0.02343591 & 0.19387379 & 0.07940882 & 0.04417002 & 0.2638908 & 0.27531448 & 0.09586923 & 0.0290365185\\\\\n",
       "\t2 & prevail\\_cu\\_cfrna\\_108 & NCOV3335CHOA & prevail\\_cu\\_cfrna\\_108 & MISC    &  2 & MISC            &  2 & 1 & 0 & 0 & ⋯ & 0.86880236 & 0.012958974 & 0.81087818 & 0.23120430 & 0.24616679 & 0.69862764 & 0.7611963 & 1.00000000 & 0.19214647 & 0.1278055969\\\\\n",
       "\t3 & prevail\\_cu\\_cfrna\\_108 & NCOV3335CHOA & prevail\\_cu\\_cfrna\\_108 & MISC    &  2 & MISC            &  2 & 1 & 0 & 0 & ⋯ & 0.86880236 & 0.012958974 & 0.81087818 & 0.23120430 & 0.24616679 & 0.69862764 & 0.7611963 & 1.00000000 & 0.19214647 & 0.1278055969\\\\\n",
       "\t4 & prevail\\_cu\\_cfrna\\_109 & NCOV3389CHOA & prevail\\_cu\\_cfrna\\_109 & COVID19 &  2 & viral\\_infection & NA & 2 & 0 & 0 & ⋯ & 0.07686507 & 0.000601005 & 0.03317496 & 0.09076181 & 0.12944561 & 0.04036987 & 0.3293937 & 0.08511572 & 0.31511095 & 0.0012040813\\\\\n",
       "\t5 & prevail\\_cu\\_cfrna\\_110 & NCOV3391CHOA & prevail\\_cu\\_cfrna\\_110 & MISC    &  3 & MISC            &  2 & 2 & 0 & 0 & ⋯ & 0.02684813 & 0.000965324 & 0.06170459 & 0.02703719 & 0.03395275 & 0.07367220 & 0.3084979 & 0.05566762 & 0.02902571 & 0.0002707694\\\\\n",
       "\t6 & prevail\\_cu\\_cfrna\\_110 & NCOV3391CHOA & prevail\\_cu\\_cfrna\\_110 & MISC    &  3 & MISC            &  2 & 2 & 0 & 0 & ⋯ & 0.02684813 & 0.000965324 & 0.06170459 & 0.02703719 & 0.03395275 & 0.07367220 & 0.3084979 & 0.05566762 & 0.02902571 & 0.0002707694\\\\\n",
       "\\end{tabular}\n"
      ],
      "text/markdown": [
       "\n",
       "A data.frame: 6 × 75\n",
       "\n",
       "| <!--/--> | Xsample_id &lt;chr&gt; | PTID &lt;chr&gt; | sample_id &lt;chr&gt; | diagnosis &lt;chr&gt; | severity &lt;int&gt; | inflam_cat &lt;chr&gt; | ekg_results &lt;int&gt; | echo_results &lt;int&gt; | echo_impression___1 &lt;int&gt; | echo_impression___2 &lt;int&gt; | ⋯ ⋯ | bladder_urothelial_cell &lt;dbl&gt; | plasmablast &lt;dbl&gt; | kidney_epithelial_cell &lt;dbl&gt; | goblet_cell &lt;dbl&gt; | club_cell_type_i_pneumocyte &lt;dbl&gt; | pulmonary_ionocyte &lt;dbl&gt; | pancreatic_pp_cell &lt;dbl&gt; | pancreatic_delta_cell &lt;dbl&gt; | duodenum_glandular_cell &lt;dbl&gt; | thymocyte &lt;dbl&gt; |\n",
       "|---|---|---|---|---|---|---|---|---|---|---|---|---|---|---|---|---|---|---|---|---|---|\n",
       "| 1 | prevail_cu_cfrna_106 | NCOV3390CHOA | prevail_cu_cfrna_106 | Inflam  | NA | other           |  2 | 1 | 0 | 0 | ⋯ | 0.19359603 | 0.001244201 | 0.02343591 | 0.19387379 | 0.07940882 | 0.04417002 | 0.2638908 | 0.27531448 | 0.09586923 | 0.0290365185 |\n",
       "| 2 | prevail_cu_cfrna_108 | NCOV3335CHOA | prevail_cu_cfrna_108 | MISC    |  2 | MISC            |  2 | 1 | 0 | 0 | ⋯ | 0.86880236 | 0.012958974 | 0.81087818 | 0.23120430 | 0.24616679 | 0.69862764 | 0.7611963 | 1.00000000 | 0.19214647 | 0.1278055969 |\n",
       "| 3 | prevail_cu_cfrna_108 | NCOV3335CHOA | prevail_cu_cfrna_108 | MISC    |  2 | MISC            |  2 | 1 | 0 | 0 | ⋯ | 0.86880236 | 0.012958974 | 0.81087818 | 0.23120430 | 0.24616679 | 0.69862764 | 0.7611963 | 1.00000000 | 0.19214647 | 0.1278055969 |\n",
       "| 4 | prevail_cu_cfrna_109 | NCOV3389CHOA | prevail_cu_cfrna_109 | COVID19 |  2 | viral_infection | NA | 2 | 0 | 0 | ⋯ | 0.07686507 | 0.000601005 | 0.03317496 | 0.09076181 | 0.12944561 | 0.04036987 | 0.3293937 | 0.08511572 | 0.31511095 | 0.0012040813 |\n",
       "| 5 | prevail_cu_cfrna_110 | NCOV3391CHOA | prevail_cu_cfrna_110 | MISC    |  3 | MISC            |  2 | 2 | 0 | 0 | ⋯ | 0.02684813 | 0.000965324 | 0.06170459 | 0.02703719 | 0.03395275 | 0.07367220 | 0.3084979 | 0.05566762 | 0.02902571 | 0.0002707694 |\n",
       "| 6 | prevail_cu_cfrna_110 | NCOV3391CHOA | prevail_cu_cfrna_110 | MISC    |  3 | MISC            |  2 | 2 | 0 | 0 | ⋯ | 0.02684813 | 0.000965324 | 0.06170459 | 0.02703719 | 0.03395275 | 0.07367220 | 0.3084979 | 0.05566762 | 0.02902571 | 0.0002707694 |\n",
       "\n"
      ],
      "text/plain": [
       "  Xsample_id           PTID         sample_id            diagnosis severity\n",
       "1 prevail_cu_cfrna_106 NCOV3390CHOA prevail_cu_cfrna_106 Inflam    NA      \n",
       "2 prevail_cu_cfrna_108 NCOV3335CHOA prevail_cu_cfrna_108 MISC       2      \n",
       "3 prevail_cu_cfrna_108 NCOV3335CHOA prevail_cu_cfrna_108 MISC       2      \n",
       "4 prevail_cu_cfrna_109 NCOV3389CHOA prevail_cu_cfrna_109 COVID19    2      \n",
       "5 prevail_cu_cfrna_110 NCOV3391CHOA prevail_cu_cfrna_110 MISC       3      \n",
       "6 prevail_cu_cfrna_110 NCOV3391CHOA prevail_cu_cfrna_110 MISC       3      \n",
       "  inflam_cat      ekg_results echo_results echo_impression___1\n",
       "1 other            2          1            0                  \n",
       "2 MISC             2          1            0                  \n",
       "3 MISC             2          1            0                  \n",
       "4 viral_infection NA          2            0                  \n",
       "5 MISC             2          2            0                  \n",
       "6 MISC             2          2            0                  \n",
       "  echo_impression___2 ⋯ bladder_urothelial_cell plasmablast\n",
       "1 0                   ⋯ 0.19359603              0.001244201\n",
       "2 0                   ⋯ 0.86880236              0.012958974\n",
       "3 0                   ⋯ 0.86880236              0.012958974\n",
       "4 0                   ⋯ 0.07686507              0.000601005\n",
       "5 0                   ⋯ 0.02684813              0.000965324\n",
       "6 0                   ⋯ 0.02684813              0.000965324\n",
       "  kidney_epithelial_cell goblet_cell club_cell_type_i_pneumocyte\n",
       "1 0.02343591             0.19387379  0.07940882                 \n",
       "2 0.81087818             0.23120430  0.24616679                 \n",
       "3 0.81087818             0.23120430  0.24616679                 \n",
       "4 0.03317496             0.09076181  0.12944561                 \n",
       "5 0.06170459             0.02703719  0.03395275                 \n",
       "6 0.06170459             0.02703719  0.03395275                 \n",
       "  pulmonary_ionocyte pancreatic_pp_cell pancreatic_delta_cell\n",
       "1 0.04417002         0.2638908          0.27531448           \n",
       "2 0.69862764         0.7611963          1.00000000           \n",
       "3 0.69862764         0.7611963          1.00000000           \n",
       "4 0.04036987         0.3293937          0.08511572           \n",
       "5 0.07367220         0.3084979          0.05566762           \n",
       "6 0.07367220         0.3084979          0.05566762           \n",
       "  duodenum_glandular_cell thymocyte   \n",
       "1 0.09586923              0.0290365185\n",
       "2 0.19214647              0.1278055969\n",
       "3 0.19214647              0.1278055969\n",
       "4 0.31511095              0.0012040813\n",
       "5 0.02902571              0.0002707694\n",
       "6 0.02902571              0.0002707694"
      ]
     },
     "metadata": {},
     "output_type": "display_data"
    }
   ],
   "source": [
    "###------------------------------------------\n",
    "### Prep ALT\n",
    "###------------------------------------------\n",
    "meta_ALT <- read.csv(\"./meta_ALT.csv\")\n",
    "\n",
    "meta_ALT <- merge(meta_ALT, decon, by.x=\"Xsample_id\", by.y=0) %>%\n",
    "    reshape2::melt(., id.vars = c(colnames(metadata), \"palt\")) %>%\n",
    "    rename(celltype = variable, fraction = value) %>% \n",
    "    # mutate(GROUP = ifelse(palt > 72, \"ALT > 72\", \"ALT < 72\")) %>% \n",
    "    # mutate(GROUP = ifelse(palt >= 30, \"ALT > 30\", \"ALT < 30\")) %>% \n",
    "    mutate(GROUP = case_when (\n",
    "            palt > 100 ~ \"ALT > 100\", \n",
    "            palt < 40 ~ \"ALT < 40\",\n",
    "            .default = NA )) %>% filter(!is.na(GROUP)) %>%\n",
    "    mutate(COMP = \"Liver Damage\") %>% \n",
    "    select(sample_id, GROUP, COMP, celltype, fraction)\n",
    "\n",
    "\n",
    "###------------------------------------------\n",
    "### Prep cardiac\n",
    "###------------------------------------------\n",
    "meta_redcap <- read.csv(\"./meta_cardiac.csv\")\n",
    "\n",
    "t = merge(meta_redcap, decon, by.x=\"Xsample_id\", by.y=0)\n",
    "\n",
    "t %>% head\n",
    "\n",
    "meta_redcap <- merge(meta_redcap, decon, by.x=\"Xsample_id\", by.y=0) %>%\n",
    "    reshape2::melt(., id.vars = colnames(meta_redcap)) %>%\n",
    "    rename(celltype = variable, fraction = value)\n",
    "\n",
    "cardiac_mdf <- meta_redcap %>% \n",
    "    # mutate(cardiac_comp = ifelse( (is.na(echo_results) | echo_results == 1) & (is.na(ekg_results) | ekg_results == 1), \"normal\\ncardiac function\",\"abnormal\\ncardiac function\")) %>%\n",
    "    mutate(cardiac_comp = ifelse( (is.na(echo_results) | echo_results == 1) & (is.na(ekg_results) | ekg_results == 1), \"normal\",\"abnormal\")) %>%\n",
    "    filter(diagnosis != \"Healthy\") %>%\n",
    "    mutate(GROUP = cardiac_comp) %>% \n",
    "    mutate(COMP = \"Cardiac Function\") %>% \n",
    "    select(sample_id, GROUP, COMP, celltype, fraction)\n",
    "\n",
    "\n",
    "###------------------------------------------\n",
    "### Prep COVID severity\n",
    "###------------------------------------------\n",
    "covid_mdf <- merge(metadata, decon, by.x=\"Xsample_id\", by.y=0) %>%\n",
    "    reshape2::melt(., id.vars = colnames(metadata)) %>%\n",
    "    rename(celltype = variable, fraction = value)%>% \n",
    "    filter(severity %in% c(2,3) & diagnosis == \"COVID19\") %>% \n",
    "    # mutate(severity = ifelse(severity == \"2\",\"Moderate\\nCOVID-19\",ifelse(severity == \"3\",\"Severe\\nCOVID-19\",severity))) %>%\n",
    "    mutate(severity = ifelse(severity == \"2\",\"Moderate\",ifelse(severity == \"3\",\"Severe\",severity))) %>%\n",
    "    mutate(GROUP = severity) %>%\n",
    "    mutate(COMP = \"COVID-19 Severity\") %>% \n",
    "    select(sample_id, GROUP, COMP, celltype, fraction)\n",
    "\n",
    "\n",
    "###------------------------------------------\n",
    "### Prep Healthy\n",
    "###------------------------------------------\n",
    "healthy_mdf <- merge(metadata, decon, by.x=\"Xsample_id\", by.y=0) %>%\n",
    "    reshape2::melt(., id.vars = colnames(metadata)) %>%\n",
    "    rename(celltype = variable, fraction = value)%>% \n",
    "    filter(diagnosis == \"Healthy\") %>%\n",
    "    mutate(GROUP = diagnosis) %>%\n",
    "    mutate(COMP = \"Healthy\") %>% \n",
    "    select(sample_id, GROUP, COMP, celltype, fraction)\n",
    "\n",
    "\n",
    "###------------------------------------------\n",
    "### Prep Endothelium\n",
    "###------------------------------------------\n",
    "endothelium_mdf <- merge(metadata, decon, by.x=\"Xsample_id\", by.y=0) %>%\n",
    "    reshape2::melt(., id.vars = colnames(metadata)) %>%\n",
    "    rename(celltype = variable, fraction = value)%>% \n",
    "    filter(inflam_cat %in% c(\"KD\",\"MISC\",\"bacterial_infection\",\"viral_infection\")) %>%\n",
    "    mutate(diagnosis = ifelse(inflam_cat %in% c(\"KD\",\"MISC\"), \"KD/MIS-C\", \"Infection\")) %>%\n",
    "    mutate(GROUP = diagnosis) %>%\n",
    "    mutate(COMP = \"Endothelial Damage\") %>% \n",
    "    select(sample_id, GROUP, COMP, celltype, fraction)\n",
    "\n",
    "\n",
    "###------------------------------------------\n",
    "### MERGE\n",
    "###------------------------------------------\n",
    "\n",
    "ALL_MDF <- rbind(meta_ALT, cardiac_mdf, covid_mdf,healthy_mdf,endothelium_mdf)\n",
    "# ALL_MDF <- rbind(meta_ALT, cardiac_mdf, covid_mdf,healthy_mdf)\n"
   ]
  },
  {
   "cell_type": "code",
   "execution_count": 16,
   "metadata": {
    "vscode": {
     "languageId": "r"
    }
   },
   "outputs": [
    {
     "data": {
      "text/plain": [
       ".\n",
       "abnormal   normal \n",
       "      82       42 "
      ]
     },
     "metadata": {},
     "output_type": "display_data"
    },
    {
     "data": {
      "text/plain": [
       ".\n",
       "Moderate   Severe \n",
       "      19       10 "
      ]
     },
     "metadata": {},
     "output_type": "display_data"
    },
    {
     "data": {
      "text/plain": [
       ".\n",
       "Infection  KD/MIS-C \n",
       "      146       198 "
      ]
     },
     "metadata": {},
     "output_type": "display_data"
    },
    {
     "data": {
      "text/plain": [
       ".\n",
       " ALT < 40 ALT > 100 \n",
       "       83        58 "
      ]
     },
     "metadata": {},
     "output_type": "display_data"
    },
    {
     "data": {
      "text/plain": [
       ".\n",
       "Healthy \n",
       "     17 "
      ]
     },
     "metadata": {},
     "output_type": "display_data"
    }
   ],
   "source": [
    "ALL_MDF %>% filter(celltype == \"hepatocyte\") %>% filter(COMP == \"Cardiac Function\") %>% pull(GROUP) %>% table()\n",
    "ALL_MDF %>% filter(celltype == \"hepatocyte\") %>% filter(COMP == \"COVID-19 Severity\") %>% pull(GROUP) %>% table()\n",
    "ALL_MDF %>% filter(celltype == \"hepatocyte\") %>% filter(COMP == \"Endothelial Damage\") %>% pull(GROUP) %>% table()\n",
    "ALL_MDF %>% filter(celltype == \"hepatocyte\") %>% filter(COMP == \"Liver Damage\") %>% pull(GROUP) %>% table()\n",
    "ALL_MDF %>% filter(celltype == \"hepatocyte\") %>% filter(COMP == \"Healthy\") %>% pull(GROUP) %>% table()\n"
   ]
  },
  {
   "cell_type": "code",
   "execution_count": 17,
   "metadata": {
    "vscode": {
     "languageId": "r"
    }
   },
   "outputs": [
    {
     "name": "stderr",
     "output_type": "stream",
     "text": [
      "\u001b[1m\u001b[22m`summarise()` has grouped output by 'GROUP', 'COMP'. You can override using the\n",
      "`.groups` argument.\n"
     ]
    }
   ],
   "source": [
    "###------------------------------------------\n",
    "### SUMMARIZE DATA\n",
    "###------------------------------------------\n",
    "\n",
    "CTs = c(\"hepatocyte\",\"intrahepatic_cholangiocyte\",\n",
    "        \"cardiac_muscle_cell\",\"pericyte_cell\",\"kidney_epithelial_cell\",\n",
    "        \"club_cell_type_i_pneumocyte\", \"duct_epithelial_cell_serous_cell_of_epithelium_of_bronchus\",\n",
    "        \"endothelial_cell\"\n",
    "        )\n",
    "\n",
    "newCTs = c(\"hepatocyte\",\"intrahepatic cholangiocyte\",\n",
    "        \"cardiac muscle cell\",\"pericyte cell\",\"kidney epithelial cell\",\n",
    "        \"club cell / type i pneumocyte\", \"duct epithelial cell\\nepithelium of bronchus\",\n",
    "        \"endothelial cell\")\n",
    "\n",
    "### create summary table        \n",
    "ALL_SUM <- ALL_MDF %>% \n",
    "    group_by(GROUP, COMP, celltype) %>% \n",
    "    mutate(fraction = as.numeric(fraction)) %>% \n",
    "    summarize(mean = mean(fraction), sd = sd(fraction), n = n(), median = median(fraction))\n",
    "\n",
    "ALL_SUM <- merge(ALL_SUM, data.frame(celltype = CTs, celltype_label = newCTs), by=\"celltype\") %>% \n",
    "    mutate(celltype_label = factor(celltype_label, levels = rev(newCTs))) %>% \n",
    "#     mutate(GROUP = factor(GROUP, levels = c('ALT > 72','ALT < 72','abnormal','normal',\n",
    "#                                             'Severe','Moderate',\"KD/MIS-C\", \"Infection\",'Healthy')))%>% \n",
    "    # mutate(GROUP = factor(GROUP, levels = c('ALT > 30','ALT < 30','abnormal','normal',\n",
    "    #                                         'Severe','Moderate',\"KD/MIS-C\", \"Infection\",'Healthy')))%>% \n",
    "    mutate(GROUP = factor(GROUP, levels = c('ALT > 100','ALT < 40','abnormal','normal',\n",
    "                                            'Severe','Moderate',\"KD/MIS-C\", \"Infection\",'Healthy')))%>% \n",
    "    mutate(COMP = factor(COMP, levels = c('Liver Damage','Cardiac Function',\n",
    "                                            'COVID-19 Severity',\"Endothelial Damage\",'Healthy')))%>% \n",
    "\n",
    "    filter(celltype %in% CTs)\n",
    "\n"
   ]
  },
  {
   "cell_type": "code",
   "execution_count": 18,
   "metadata": {
    "vscode": {
     "languageId": "r"
    }
   },
   "outputs": [
    {
     "name": "stdout",
     "output_type": "stream",
     "text": [
      "LIVER DAMAGE"
     ]
    },
    {
     "data": {
      "text/html": [
       "<table class=\"dataframe\">\n",
       "<caption>A data.frame: 8 × 4</caption>\n",
       "<thead>\n",
       "\t<tr><th></th><th scope=col>ct</th><th scope=col>pval</th><th scope=col>padj</th><th scope=col>sig</th></tr>\n",
       "\t<tr><th></th><th scope=col>&lt;chr&gt;</th><th scope=col>&lt;dbl&gt;</th><th scope=col>&lt;dbl&gt;</th><th scope=col>&lt;chr&gt;</th></tr>\n",
       "</thead>\n",
       "<tbody>\n",
       "\t<tr><th scope=row>hepatocyte</th><td>hepatocyte                                                </td><td>1.282810e-15</td><td>8.081703e-14</td><td>***</td></tr>\n",
       "\t<tr><th scope=row>intrahepatic_cholangiocyte</th><td>intrahepatic_cholangiocyte                                </td><td>9.966583e-08</td><td>3.139474e-06</td><td>***</td></tr>\n",
       "\t<tr><th scope=row>kidney_epithelial_cell</th><td>kidney_epithelial_cell                                    </td><td>4.588603e-02</td><td>3.212022e-01</td><td>ns </td></tr>\n",
       "\t<tr><th scope=row>endothelial_cell</th><td>endothelial_cell                                          </td><td>7.193653e-02</td><td>3.683086e-01</td><td>ns </td></tr>\n",
       "\t<tr><th scope=row>cardiac_muscle_cell</th><td>cardiac_muscle_cell                                       </td><td>9.499145e-02</td><td>3.740288e-01</td><td>ns </td></tr>\n",
       "\t<tr><th scope=row>club_cell_type_i_pneumocyte</th><td>club_cell_type_i_pneumocyte                               </td><td>1.320072e-01</td><td>4.366549e-01</td><td>ns </td></tr>\n",
       "\t<tr><th scope=row>duct_epithelial_cell_serous_cell_of_epithelium_of_bronchus</th><td>duct_epithelial_cell_serous_cell_of_epithelium_of_bronchus</td><td>4.828091e-01</td><td>7.937357e-01</td><td>ns </td></tr>\n",
       "\t<tr><th scope=row>pericyte_cell</th><td>pericyte_cell                                             </td><td>9.016327e-01</td><td>9.414811e-01</td><td>ns </td></tr>\n",
       "</tbody>\n",
       "</table>\n"
      ],
      "text/latex": [
       "A data.frame: 8 × 4\n",
       "\\begin{tabular}{r|llll}\n",
       "  & ct & pval & padj & sig\\\\\n",
       "  & <chr> & <dbl> & <dbl> & <chr>\\\\\n",
       "\\hline\n",
       "\thepatocyte & hepatocyte                                                 & 1.282810e-15 & 8.081703e-14 & ***\\\\\n",
       "\tintrahepatic\\_cholangiocyte & intrahepatic\\_cholangiocyte                                 & 9.966583e-08 & 3.139474e-06 & ***\\\\\n",
       "\tkidney\\_epithelial\\_cell & kidney\\_epithelial\\_cell                                     & 4.588603e-02 & 3.212022e-01 & ns \\\\\n",
       "\tendothelial\\_cell & endothelial\\_cell                                           & 7.193653e-02 & 3.683086e-01 & ns \\\\\n",
       "\tcardiac\\_muscle\\_cell & cardiac\\_muscle\\_cell                                        & 9.499145e-02 & 3.740288e-01 & ns \\\\\n",
       "\tclub\\_cell\\_type\\_i\\_pneumocyte & club\\_cell\\_type\\_i\\_pneumocyte                                & 1.320072e-01 & 4.366549e-01 & ns \\\\\n",
       "\tduct\\_epithelial\\_cell\\_serous\\_cell\\_of\\_epithelium\\_of\\_bronchus & duct\\_epithelial\\_cell\\_serous\\_cell\\_of\\_epithelium\\_of\\_bronchus & 4.828091e-01 & 7.937357e-01 & ns \\\\\n",
       "\tpericyte\\_cell & pericyte\\_cell                                              & 9.016327e-01 & 9.414811e-01 & ns \\\\\n",
       "\\end{tabular}\n"
      ],
      "text/markdown": [
       "\n",
       "A data.frame: 8 × 4\n",
       "\n",
       "| <!--/--> | ct &lt;chr&gt; | pval &lt;dbl&gt; | padj &lt;dbl&gt; | sig &lt;chr&gt; |\n",
       "|---|---|---|---|---|\n",
       "| hepatocyte | hepatocyte                                                 | 1.282810e-15 | 8.081703e-14 | *** |\n",
       "| intrahepatic_cholangiocyte | intrahepatic_cholangiocyte                                 | 9.966583e-08 | 3.139474e-06 | *** |\n",
       "| kidney_epithelial_cell | kidney_epithelial_cell                                     | 4.588603e-02 | 3.212022e-01 | ns  |\n",
       "| endothelial_cell | endothelial_cell                                           | 7.193653e-02 | 3.683086e-01 | ns  |\n",
       "| cardiac_muscle_cell | cardiac_muscle_cell                                        | 9.499145e-02 | 3.740288e-01 | ns  |\n",
       "| club_cell_type_i_pneumocyte | club_cell_type_i_pneumocyte                                | 1.320072e-01 | 4.366549e-01 | ns  |\n",
       "| duct_epithelial_cell_serous_cell_of_epithelium_of_bronchus | duct_epithelial_cell_serous_cell_of_epithelium_of_bronchus | 4.828091e-01 | 7.937357e-01 | ns  |\n",
       "| pericyte_cell | pericyte_cell                                              | 9.016327e-01 | 9.414811e-01 | ns  |\n",
       "\n"
      ],
      "text/plain": [
       "                                                           ct                                                        \n",
       "hepatocyte                                                 hepatocyte                                                \n",
       "intrahepatic_cholangiocyte                                 intrahepatic_cholangiocyte                                \n",
       "kidney_epithelial_cell                                     kidney_epithelial_cell                                    \n",
       "endothelial_cell                                           endothelial_cell                                          \n",
       "cardiac_muscle_cell                                        cardiac_muscle_cell                                       \n",
       "club_cell_type_i_pneumocyte                                club_cell_type_i_pneumocyte                               \n",
       "duct_epithelial_cell_serous_cell_of_epithelium_of_bronchus duct_epithelial_cell_serous_cell_of_epithelium_of_bronchus\n",
       "pericyte_cell                                              pericyte_cell                                             \n",
       "                                                           pval        \n",
       "hepatocyte                                                 1.282810e-15\n",
       "intrahepatic_cholangiocyte                                 9.966583e-08\n",
       "kidney_epithelial_cell                                     4.588603e-02\n",
       "endothelial_cell                                           7.193653e-02\n",
       "cardiac_muscle_cell                                        9.499145e-02\n",
       "club_cell_type_i_pneumocyte                                1.320072e-01\n",
       "duct_epithelial_cell_serous_cell_of_epithelium_of_bronchus 4.828091e-01\n",
       "pericyte_cell                                              9.016327e-01\n",
       "                                                           padj         sig\n",
       "hepatocyte                                                 8.081703e-14 ***\n",
       "intrahepatic_cholangiocyte                                 3.139474e-06 ***\n",
       "kidney_epithelial_cell                                     3.212022e-01 ns \n",
       "endothelial_cell                                           3.683086e-01 ns \n",
       "cardiac_muscle_cell                                        3.740288e-01 ns \n",
       "club_cell_type_i_pneumocyte                                4.366549e-01 ns \n",
       "duct_epithelial_cell_serous_cell_of_epithelium_of_bronchus 7.937357e-01 ns \n",
       "pericyte_cell                                              9.414811e-01 ns "
      ]
     },
     "metadata": {},
     "output_type": "display_data"
    },
    {
     "name": "stdout",
     "output_type": "stream",
     "text": [
      "Cardiac Function"
     ]
    },
    {
     "data": {
      "text/html": [
       "<table class=\"dataframe\">\n",
       "<caption>A data.frame: 8 × 4</caption>\n",
       "<thead>\n",
       "\t<tr><th></th><th scope=col>ct</th><th scope=col>pval</th><th scope=col>padj</th><th scope=col>sig</th></tr>\n",
       "\t<tr><th></th><th scope=col>&lt;chr&gt;</th><th scope=col>&lt;dbl&gt;</th><th scope=col>&lt;dbl&gt;</th><th scope=col>&lt;chr&gt;</th></tr>\n",
       "</thead>\n",
       "<tbody>\n",
       "\t<tr><th scope=row>kidney_epithelial_cell</th><td>kidney_epithelial_cell                                    </td><td>2.580212e-06</td><td>0.0001625533</td><td>***</td></tr>\n",
       "\t<tr><th scope=row>cardiac_muscle_cell</th><td>cardiac_muscle_cell                                       </td><td>5.708742e-04</td><td>0.0040055954</td><td>** </td></tr>\n",
       "\t<tr><th scope=row>intrahepatic_cholangiocyte</th><td>intrahepatic_cholangiocyte                                </td><td>6.931119e-04</td><td>0.0040055954</td><td>** </td></tr>\n",
       "\t<tr><th scope=row>pericyte_cell</th><td>pericyte_cell                                             </td><td>2.139012e-03</td><td>0.0074865425</td><td>** </td></tr>\n",
       "\t<tr><th scope=row>duct_epithelial_cell_serous_cell_of_epithelium_of_bronchus</th><td>duct_epithelial_cell_serous_cell_of_epithelium_of_bronchus</td><td>5.527821e-03</td><td>0.0133943364</td><td>*  </td></tr>\n",
       "\t<tr><th scope=row>club_cell_type_i_pneumocyte</th><td>club_cell_type_i_pneumocyte                               </td><td>6.189104e-03</td><td>0.0144412431</td><td>*  </td></tr>\n",
       "\t<tr><th scope=row>endothelial_cell</th><td>endothelial_cell                                          </td><td>2.535131e-02</td><td>0.0409521098</td><td>*  </td></tr>\n",
       "\t<tr><th scope=row>hepatocyte</th><td>hepatocyte                                                </td><td>4.624666e-02</td><td>0.0647453300</td><td>ns </td></tr>\n",
       "</tbody>\n",
       "</table>\n"
      ],
      "text/latex": [
       "A data.frame: 8 × 4\n",
       "\\begin{tabular}{r|llll}\n",
       "  & ct & pval & padj & sig\\\\\n",
       "  & <chr> & <dbl> & <dbl> & <chr>\\\\\n",
       "\\hline\n",
       "\tkidney\\_epithelial\\_cell & kidney\\_epithelial\\_cell                                     & 2.580212e-06 & 0.0001625533 & ***\\\\\n",
       "\tcardiac\\_muscle\\_cell & cardiac\\_muscle\\_cell                                        & 5.708742e-04 & 0.0040055954 & ** \\\\\n",
       "\tintrahepatic\\_cholangiocyte & intrahepatic\\_cholangiocyte                                 & 6.931119e-04 & 0.0040055954 & ** \\\\\n",
       "\tpericyte\\_cell & pericyte\\_cell                                              & 2.139012e-03 & 0.0074865425 & ** \\\\\n",
       "\tduct\\_epithelial\\_cell\\_serous\\_cell\\_of\\_epithelium\\_of\\_bronchus & duct\\_epithelial\\_cell\\_serous\\_cell\\_of\\_epithelium\\_of\\_bronchus & 5.527821e-03 & 0.0133943364 & *  \\\\\n",
       "\tclub\\_cell\\_type\\_i\\_pneumocyte & club\\_cell\\_type\\_i\\_pneumocyte                                & 6.189104e-03 & 0.0144412431 & *  \\\\\n",
       "\tendothelial\\_cell & endothelial\\_cell                                           & 2.535131e-02 & 0.0409521098 & *  \\\\\n",
       "\thepatocyte & hepatocyte                                                 & 4.624666e-02 & 0.0647453300 & ns \\\\\n",
       "\\end{tabular}\n"
      ],
      "text/markdown": [
       "\n",
       "A data.frame: 8 × 4\n",
       "\n",
       "| <!--/--> | ct &lt;chr&gt; | pval &lt;dbl&gt; | padj &lt;dbl&gt; | sig &lt;chr&gt; |\n",
       "|---|---|---|---|---|\n",
       "| kidney_epithelial_cell | kidney_epithelial_cell                                     | 2.580212e-06 | 0.0001625533 | *** |\n",
       "| cardiac_muscle_cell | cardiac_muscle_cell                                        | 5.708742e-04 | 0.0040055954 | **  |\n",
       "| intrahepatic_cholangiocyte | intrahepatic_cholangiocyte                                 | 6.931119e-04 | 0.0040055954 | **  |\n",
       "| pericyte_cell | pericyte_cell                                              | 2.139012e-03 | 0.0074865425 | **  |\n",
       "| duct_epithelial_cell_serous_cell_of_epithelium_of_bronchus | duct_epithelial_cell_serous_cell_of_epithelium_of_bronchus | 5.527821e-03 | 0.0133943364 | *   |\n",
       "| club_cell_type_i_pneumocyte | club_cell_type_i_pneumocyte                                | 6.189104e-03 | 0.0144412431 | *   |\n",
       "| endothelial_cell | endothelial_cell                                           | 2.535131e-02 | 0.0409521098 | *   |\n",
       "| hepatocyte | hepatocyte                                                 | 4.624666e-02 | 0.0647453300 | ns  |\n",
       "\n"
      ],
      "text/plain": [
       "                                                           ct                                                        \n",
       "kidney_epithelial_cell                                     kidney_epithelial_cell                                    \n",
       "cardiac_muscle_cell                                        cardiac_muscle_cell                                       \n",
       "intrahepatic_cholangiocyte                                 intrahepatic_cholangiocyte                                \n",
       "pericyte_cell                                              pericyte_cell                                             \n",
       "duct_epithelial_cell_serous_cell_of_epithelium_of_bronchus duct_epithelial_cell_serous_cell_of_epithelium_of_bronchus\n",
       "club_cell_type_i_pneumocyte                                club_cell_type_i_pneumocyte                               \n",
       "endothelial_cell                                           endothelial_cell                                          \n",
       "hepatocyte                                                 hepatocyte                                                \n",
       "                                                           pval        \n",
       "kidney_epithelial_cell                                     2.580212e-06\n",
       "cardiac_muscle_cell                                        5.708742e-04\n",
       "intrahepatic_cholangiocyte                                 6.931119e-04\n",
       "pericyte_cell                                              2.139012e-03\n",
       "duct_epithelial_cell_serous_cell_of_epithelium_of_bronchus 5.527821e-03\n",
       "club_cell_type_i_pneumocyte                                6.189104e-03\n",
       "endothelial_cell                                           2.535131e-02\n",
       "hepatocyte                                                 4.624666e-02\n",
       "                                                           padj         sig\n",
       "kidney_epithelial_cell                                     0.0001625533 ***\n",
       "cardiac_muscle_cell                                        0.0040055954 ** \n",
       "intrahepatic_cholangiocyte                                 0.0040055954 ** \n",
       "pericyte_cell                                              0.0074865425 ** \n",
       "duct_epithelial_cell_serous_cell_of_epithelium_of_bronchus 0.0133943364 *  \n",
       "club_cell_type_i_pneumocyte                                0.0144412431 *  \n",
       "endothelial_cell                                           0.0409521098 *  \n",
       "hepatocyte                                                 0.0647453300 ns "
      ]
     },
     "metadata": {},
     "output_type": "display_data"
    },
    {
     "name": "stdout",
     "output_type": "stream",
     "text": [
      "COVID-19 Severity"
     ]
    },
    {
     "data": {
      "text/html": [
       "<table class=\"dataframe\">\n",
       "<caption>A data.frame: 8 × 4</caption>\n",
       "<thead>\n",
       "\t<tr><th></th><th scope=col>ct</th><th scope=col>pval</th><th scope=col>padj</th><th scope=col>sig</th></tr>\n",
       "\t<tr><th></th><th scope=col>&lt;chr&gt;</th><th scope=col>&lt;dbl&gt;</th><th scope=col>&lt;dbl&gt;</th><th scope=col>&lt;chr&gt;</th></tr>\n",
       "</thead>\n",
       "<tbody>\n",
       "\t<tr><th scope=row>club_cell_type_i_pneumocyte</th><td>club_cell_type_i_pneumocyte                               </td><td>0.0002425361</td><td>0.01527977</td><td>* </td></tr>\n",
       "\t<tr><th scope=row>duct_epithelial_cell_serous_cell_of_epithelium_of_bronchus</th><td>duct_epithelial_cell_serous_cell_of_epithelium_of_bronchus</td><td>0.0623533388</td><td>0.28059002</td><td>ns</td></tr>\n",
       "\t<tr><th scope=row>endothelial_cell</th><td>endothelial_cell                                          </td><td>0.1945694485</td><td>0.45399538</td><td>ns</td></tr>\n",
       "\t<tr><th scope=row>kidney_epithelial_cell</th><td>kidney_epithelial_cell                                    </td><td>0.1945694485</td><td>0.45399538</td><td>ns</td></tr>\n",
       "\t<tr><th scope=row>pericyte_cell</th><td>pericyte_cell                                             </td><td>0.3076672453</td><td>0.52386585</td><td>ns</td></tr>\n",
       "\t<tr><th scope=row>cardiac_muscle_cell</th><td>cardiac_muscle_cell                                       </td><td>0.3531711667</td><td>0.55624459</td><td>ns</td></tr>\n",
       "\t<tr><th scope=row>hepatocyte</th><td>hepatocyte                                                </td><td>0.5725512868</td><td>0.72141462</td><td>ns</td></tr>\n",
       "\t<tr><th scope=row>intrahepatic_cholangiocyte</th><td>intrahepatic_cholangiocyte                                </td><td>1.0000000000</td><td>1.00000000</td><td>ns</td></tr>\n",
       "</tbody>\n",
       "</table>\n"
      ],
      "text/latex": [
       "A data.frame: 8 × 4\n",
       "\\begin{tabular}{r|llll}\n",
       "  & ct & pval & padj & sig\\\\\n",
       "  & <chr> & <dbl> & <dbl> & <chr>\\\\\n",
       "\\hline\n",
       "\tclub\\_cell\\_type\\_i\\_pneumocyte & club\\_cell\\_type\\_i\\_pneumocyte                                & 0.0002425361 & 0.01527977 & * \\\\\n",
       "\tduct\\_epithelial\\_cell\\_serous\\_cell\\_of\\_epithelium\\_of\\_bronchus & duct\\_epithelial\\_cell\\_serous\\_cell\\_of\\_epithelium\\_of\\_bronchus & 0.0623533388 & 0.28059002 & ns\\\\\n",
       "\tendothelial\\_cell & endothelial\\_cell                                           & 0.1945694485 & 0.45399538 & ns\\\\\n",
       "\tkidney\\_epithelial\\_cell & kidney\\_epithelial\\_cell                                     & 0.1945694485 & 0.45399538 & ns\\\\\n",
       "\tpericyte\\_cell & pericyte\\_cell                                              & 0.3076672453 & 0.52386585 & ns\\\\\n",
       "\tcardiac\\_muscle\\_cell & cardiac\\_muscle\\_cell                                        & 0.3531711667 & 0.55624459 & ns\\\\\n",
       "\thepatocyte & hepatocyte                                                 & 0.5725512868 & 0.72141462 & ns\\\\\n",
       "\tintrahepatic\\_cholangiocyte & intrahepatic\\_cholangiocyte                                 & 1.0000000000 & 1.00000000 & ns\\\\\n",
       "\\end{tabular}\n"
      ],
      "text/markdown": [
       "\n",
       "A data.frame: 8 × 4\n",
       "\n",
       "| <!--/--> | ct &lt;chr&gt; | pval &lt;dbl&gt; | padj &lt;dbl&gt; | sig &lt;chr&gt; |\n",
       "|---|---|---|---|---|\n",
       "| club_cell_type_i_pneumocyte | club_cell_type_i_pneumocyte                                | 0.0002425361 | 0.01527977 | *  |\n",
       "| duct_epithelial_cell_serous_cell_of_epithelium_of_bronchus | duct_epithelial_cell_serous_cell_of_epithelium_of_bronchus | 0.0623533388 | 0.28059002 | ns |\n",
       "| endothelial_cell | endothelial_cell                                           | 0.1945694485 | 0.45399538 | ns |\n",
       "| kidney_epithelial_cell | kidney_epithelial_cell                                     | 0.1945694485 | 0.45399538 | ns |\n",
       "| pericyte_cell | pericyte_cell                                              | 0.3076672453 | 0.52386585 | ns |\n",
       "| cardiac_muscle_cell | cardiac_muscle_cell                                        | 0.3531711667 | 0.55624459 | ns |\n",
       "| hepatocyte | hepatocyte                                                 | 0.5725512868 | 0.72141462 | ns |\n",
       "| intrahepatic_cholangiocyte | intrahepatic_cholangiocyte                                 | 1.0000000000 | 1.00000000 | ns |\n",
       "\n"
      ],
      "text/plain": [
       "                                                           ct                                                        \n",
       "club_cell_type_i_pneumocyte                                club_cell_type_i_pneumocyte                               \n",
       "duct_epithelial_cell_serous_cell_of_epithelium_of_bronchus duct_epithelial_cell_serous_cell_of_epithelium_of_bronchus\n",
       "endothelial_cell                                           endothelial_cell                                          \n",
       "kidney_epithelial_cell                                     kidney_epithelial_cell                                    \n",
       "pericyte_cell                                              pericyte_cell                                             \n",
       "cardiac_muscle_cell                                        cardiac_muscle_cell                                       \n",
       "hepatocyte                                                 hepatocyte                                                \n",
       "intrahepatic_cholangiocyte                                 intrahepatic_cholangiocyte                                \n",
       "                                                           pval        \n",
       "club_cell_type_i_pneumocyte                                0.0002425361\n",
       "duct_epithelial_cell_serous_cell_of_epithelium_of_bronchus 0.0623533388\n",
       "endothelial_cell                                           0.1945694485\n",
       "kidney_epithelial_cell                                     0.1945694485\n",
       "pericyte_cell                                              0.3076672453\n",
       "cardiac_muscle_cell                                        0.3531711667\n",
       "hepatocyte                                                 0.5725512868\n",
       "intrahepatic_cholangiocyte                                 1.0000000000\n",
       "                                                           padj       sig\n",
       "club_cell_type_i_pneumocyte                                0.01527977 *  \n",
       "duct_epithelial_cell_serous_cell_of_epithelium_of_bronchus 0.28059002 ns \n",
       "endothelial_cell                                           0.45399538 ns \n",
       "kidney_epithelial_cell                                     0.45399538 ns \n",
       "pericyte_cell                                              0.52386585 ns \n",
       "cardiac_muscle_cell                                        0.55624459 ns \n",
       "hepatocyte                                                 0.72141462 ns \n",
       "intrahepatic_cholangiocyte                                 1.00000000 ns "
      ]
     },
     "metadata": {},
     "output_type": "display_data"
    },
    {
     "name": "stdout",
     "output_type": "stream",
     "text": [
      "ENDOTHELIAL Damage"
     ]
    },
    {
     "data": {
      "text/html": [
       "<table class=\"dataframe\">\n",
       "<caption>A data.frame: 8 × 4</caption>\n",
       "<thead>\n",
       "\t<tr><th></th><th scope=col>ct</th><th scope=col>pval</th><th scope=col>padj</th><th scope=col>sig</th></tr>\n",
       "\t<tr><th></th><th scope=col>&lt;chr&gt;</th><th scope=col>&lt;dbl&gt;</th><th scope=col>&lt;dbl&gt;</th><th scope=col>&lt;chr&gt;</th></tr>\n",
       "</thead>\n",
       "<tbody>\n",
       "\t<tr><th scope=row>endothelial_cell</th><td>endothelial_cell                                          </td><td>3.295961e-06</td><td>6.921519e-05</td><td>***</td></tr>\n",
       "\t<tr><th scope=row>kidney_epithelial_cell</th><td>kidney_epithelial_cell                                    </td><td>9.442106e-04</td><td>7.435659e-03</td><td>** </td></tr>\n",
       "\t<tr><th scope=row>intrahepatic_cholangiocyte</th><td>intrahepatic_cholangiocyte                                </td><td>1.255938e-02</td><td>6.010980e-02</td><td>ns </td></tr>\n",
       "\t<tr><th scope=row>hepatocyte</th><td>hepatocyte                                                </td><td>4.876923e-02</td><td>1.536134e-01</td><td>ns </td></tr>\n",
       "\t<tr><th scope=row>club_cell_type_i_pneumocyte</th><td>club_cell_type_i_pneumocyte                               </td><td>5.511712e-02</td><td>1.578354e-01</td><td>ns </td></tr>\n",
       "\t<tr><th scope=row>duct_epithelial_cell_serous_cell_of_epithelium_of_bronchus</th><td>duct_epithelial_cell_serous_cell_of_epithelium_of_bronchus</td><td>8.654231e-02</td><td>1.816846e-01</td><td>ns </td></tr>\n",
       "\t<tr><th scope=row>cardiac_muscle_cell</th><td>cardiac_muscle_cell                                       </td><td>1.258333e-01</td><td>2.331616e-01</td><td>ns </td></tr>\n",
       "\t<tr><th scope=row>pericyte_cell</th><td>pericyte_cell                                             </td><td>3.974032e-01</td><td>5.007280e-01</td><td>ns </td></tr>\n",
       "</tbody>\n",
       "</table>\n"
      ],
      "text/latex": [
       "A data.frame: 8 × 4\n",
       "\\begin{tabular}{r|llll}\n",
       "  & ct & pval & padj & sig\\\\\n",
       "  & <chr> & <dbl> & <dbl> & <chr>\\\\\n",
       "\\hline\n",
       "\tendothelial\\_cell & endothelial\\_cell                                           & 3.295961e-06 & 6.921519e-05 & ***\\\\\n",
       "\tkidney\\_epithelial\\_cell & kidney\\_epithelial\\_cell                                     & 9.442106e-04 & 7.435659e-03 & ** \\\\\n",
       "\tintrahepatic\\_cholangiocyte & intrahepatic\\_cholangiocyte                                 & 1.255938e-02 & 6.010980e-02 & ns \\\\\n",
       "\thepatocyte & hepatocyte                                                 & 4.876923e-02 & 1.536134e-01 & ns \\\\\n",
       "\tclub\\_cell\\_type\\_i\\_pneumocyte & club\\_cell\\_type\\_i\\_pneumocyte                                & 5.511712e-02 & 1.578354e-01 & ns \\\\\n",
       "\tduct\\_epithelial\\_cell\\_serous\\_cell\\_of\\_epithelium\\_of\\_bronchus & duct\\_epithelial\\_cell\\_serous\\_cell\\_of\\_epithelium\\_of\\_bronchus & 8.654231e-02 & 1.816846e-01 & ns \\\\\n",
       "\tcardiac\\_muscle\\_cell & cardiac\\_muscle\\_cell                                        & 1.258333e-01 & 2.331616e-01 & ns \\\\\n",
       "\tpericyte\\_cell & pericyte\\_cell                                              & 3.974032e-01 & 5.007280e-01 & ns \\\\\n",
       "\\end{tabular}\n"
      ],
      "text/markdown": [
       "\n",
       "A data.frame: 8 × 4\n",
       "\n",
       "| <!--/--> | ct &lt;chr&gt; | pval &lt;dbl&gt; | padj &lt;dbl&gt; | sig &lt;chr&gt; |\n",
       "|---|---|---|---|---|\n",
       "| endothelial_cell | endothelial_cell                                           | 3.295961e-06 | 6.921519e-05 | *** |\n",
       "| kidney_epithelial_cell | kidney_epithelial_cell                                     | 9.442106e-04 | 7.435659e-03 | **  |\n",
       "| intrahepatic_cholangiocyte | intrahepatic_cholangiocyte                                 | 1.255938e-02 | 6.010980e-02 | ns  |\n",
       "| hepatocyte | hepatocyte                                                 | 4.876923e-02 | 1.536134e-01 | ns  |\n",
       "| club_cell_type_i_pneumocyte | club_cell_type_i_pneumocyte                                | 5.511712e-02 | 1.578354e-01 | ns  |\n",
       "| duct_epithelial_cell_serous_cell_of_epithelium_of_bronchus | duct_epithelial_cell_serous_cell_of_epithelium_of_bronchus | 8.654231e-02 | 1.816846e-01 | ns  |\n",
       "| cardiac_muscle_cell | cardiac_muscle_cell                                        | 1.258333e-01 | 2.331616e-01 | ns  |\n",
       "| pericyte_cell | pericyte_cell                                              | 3.974032e-01 | 5.007280e-01 | ns  |\n",
       "\n"
      ],
      "text/plain": [
       "                                                           ct                                                        \n",
       "endothelial_cell                                           endothelial_cell                                          \n",
       "kidney_epithelial_cell                                     kidney_epithelial_cell                                    \n",
       "intrahepatic_cholangiocyte                                 intrahepatic_cholangiocyte                                \n",
       "hepatocyte                                                 hepatocyte                                                \n",
       "club_cell_type_i_pneumocyte                                club_cell_type_i_pneumocyte                               \n",
       "duct_epithelial_cell_serous_cell_of_epithelium_of_bronchus duct_epithelial_cell_serous_cell_of_epithelium_of_bronchus\n",
       "cardiac_muscle_cell                                        cardiac_muscle_cell                                       \n",
       "pericyte_cell                                              pericyte_cell                                             \n",
       "                                                           pval        \n",
       "endothelial_cell                                           3.295961e-06\n",
       "kidney_epithelial_cell                                     9.442106e-04\n",
       "intrahepatic_cholangiocyte                                 1.255938e-02\n",
       "hepatocyte                                                 4.876923e-02\n",
       "club_cell_type_i_pneumocyte                                5.511712e-02\n",
       "duct_epithelial_cell_serous_cell_of_epithelium_of_bronchus 8.654231e-02\n",
       "cardiac_muscle_cell                                        1.258333e-01\n",
       "pericyte_cell                                              3.974032e-01\n",
       "                                                           padj         sig\n",
       "endothelial_cell                                           6.921519e-05 ***\n",
       "kidney_epithelial_cell                                     7.435659e-03 ** \n",
       "intrahepatic_cholangiocyte                                 6.010980e-02 ns \n",
       "hepatocyte                                                 1.536134e-01 ns \n",
       "club_cell_type_i_pneumocyte                                1.578354e-01 ns \n",
       "duct_epithelial_cell_serous_cell_of_epithelium_of_bronchus 1.816846e-01 ns \n",
       "cardiac_muscle_cell                                        2.331616e-01 ns \n",
       "pericyte_cell                                              5.007280e-01 ns "
      ]
     },
     "metadata": {},
     "output_type": "display_data"
    }
   ],
   "source": [
    "cat(\"LIVER DAMAGE\")\n",
    "# get_sig_cts(ALL_MDF, \"GROUP\", \"ALT > 72\", \"ALT < 72\") %>% \n",
    "# get_sig_cts(ALL_MDF, \"GROUP\", \"ALT > 30\", \"ALT < 30\") %>% \n",
    "get_sig_cts(ALL_MDF, \"GROUP\", \"ALT > 100\", \"ALT < 40\") %>% \n",
    "    filter(ct %in% CTs) %>% \n",
    "    mutate(sig = case_when(\n",
    "            padj <= 0.05 & padj > 0.01 ~ \"*\",\n",
    "            padj <= 0.01 & padj > 0.001 ~ \"**\",\n",
    "            padj <= 0.001 ~ \"***\",\n",
    "            TRUE ~ \"ns\"\n",
    "            ))\n",
    "\n",
    "cat(\"Cardiac Function\")\n",
    "get_sig_cts(ALL_MDF, \"GROUP\", \"abnormal\", \"normal\") %>% \n",
    "    filter(ct %in% CTs) %>% \n",
    "    mutate(sig = case_when(\n",
    "            padj <= 0.05 & padj > 0.01 ~ \"*\",\n",
    "            padj <= 0.01 & padj > 0.001 ~ \"**\",\n",
    "            pval <= 0.001 ~ \"***\",\n",
    "            TRUE ~ \"ns\"\n",
    "            ))\n",
    "\n",
    "cat(\"COVID-19 Severity\")\n",
    "get_sig_cts(ALL_MDF, \"GROUP\", \"Severe\", \"Moderate\") %>% \n",
    "    filter(ct %in% CTs) %>% \n",
    "    mutate(sig = case_when(\n",
    "            padj <= 0.05 & padj > 0.01 ~ \"*\",\n",
    "            padj <= 0.01 & padj > 0.001 ~ \"**\",\n",
    "            padj <= 0.001 ~ \"***\",\n",
    "            TRUE ~ \"ns\"\n",
    "            ))\n",
    "\n",
    "cat(\"ENDOTHELIAL Damage\")\n",
    "get_sig_cts(ALL_MDF, \"GROUP\", \"KD/MIS-C\", \"Infection\") %>% \n",
    "    filter(ct %in% CTs) %>% \n",
    "    mutate(sig = case_when(\n",
    "            padj <= 0.05 & padj > 0.01 ~ \"*\",\n",
    "            padj <= 0.01 & padj > 0.001 ~ \"**\",\n",
    "            padj <= 0.001 ~ \"***\",\n",
    "            TRUE ~ \"ns\"\n",
    "            ))"
   ]
  },
  {
   "cell_type": "code",
   "execution_count": 19,
   "metadata": {
    "vscode": {
     "languageId": "r"
    }
   },
   "outputs": [
    {
     "name": "stderr",
     "output_type": "stream",
     "text": [
      "\u001b[1m\u001b[22mScale for \u001b[32mfill\u001b[39m is already present.\n",
      "Adding another scale for \u001b[32mfill\u001b[39m, which will replace the existing scale.\n"
     ]
    },
    {
     "data": {
      "text/html": [
       "<strong>png:</strong> 2"
      ],
      "text/latex": [
       "\\textbf{png:} 2"
      ],
      "text/markdown": [
       "**png:** 2"
      ],
      "text/plain": [
       "png \n",
       "  2 "
      ]
     },
     "metadata": {},
     "output_type": "display_data"
    },
    {
     "data": {
      "image/png": "[encoded data removed]",
      "text/plain": [
       "plot without title"
      ]
     },
     "metadata": {
      "image/png": {
       "height": 120,
       "width": 414
      }
     },
     "output_type": "display_data"
    }
   ],
   "source": [
    "options(repr.plot.height = 2, repr.plot.width = 6.9)\n",
    "\n",
    "### Plot results\n",
    "plt = ALL_SUM %>%\n",
    "    ggplot(aes(x=GROUP, y=celltype_label, size = as.numeric(median), fill = as.numeric(median)))+\n",
    "    geom_point(pch = 21, color = \"black\")+\n",
    "    theme_prevail()+\n",
    "    theme(legend.position = \"none\", axis.title = element_blank())+\n",
    "    labs(size = \"Median\\nScaled\\nFraction\", fill = \"Median\\nScaled\\nFraction\")+\n",
    "    scale_fill_viridis_c()+\n",
    "    scale_fill_viridis_c(guide = \"legend\")+\n",
    "    facet_grid(~COMP,  scales = \"free_x\", space = \"free\")+\n",
    "    theme(strip.text.x = element_text(size = 8),\n",
    "        strip.background = element_rect(fill=\"white\", color=\"black\"))\n",
    "\n",
    "print(plt)\n",
    "\n",
    "## Save\n",
    "HEIGHT = 2\n",
    "WIDTH = 6.4\n",
    "\n",
    "pdf(file = paste0(\"./plots/ALL_damage.comp.pdf\"),\n",
    "        width=WIDTH,height=HEIGHT, paper=\"special\", bg=\"white\",\n",
    "        fonts=\"Helvetica\", colormodel = \"srgb\", pointsize=6, useDingbats = FALSE)\n",
    "print(plt)\n",
    "dev.off()\n",
    "    "
   ]
  },
  {
   "cell_type": "code",
   "execution_count": 20,
   "metadata": {
    "vscode": {
     "languageId": "r"
    }
   },
   "outputs": [
    {
     "name": "stderr",
     "output_type": "stream",
     "text": [
      "Warning message in get_plot_component(plot, \"guide-box\"):\n",
      "“Multiple components found; returning the first one. To return all, use `return_all = TRUE`.”\n"
     ]
    },
    {
     "name": "stdout",
     "output_type": "stream",
     "text": [
      "TableGrob (1 x 1) \"arrange\": 1 grobs\n",
      "  z     cells    name              grob\n",
      "1 1 (1-1,1-1) arrange gtable[guide-box]\n"
     ]
    },
    {
     "data": {
      "text/html": [
       "<strong>png:</strong> 2"
      ],
      "text/latex": [
       "\\textbf{png:} 2"
      ],
      "text/markdown": [
       "**png:** 2"
      ],
      "text/plain": [
       "png \n",
       "  2 "
      ]
     },
     "metadata": {},
     "output_type": "display_data"
    }
   ],
   "source": [
    "options(repr.plot.height = 4, repr.plot.width = 4)\n",
    "\n",
    "suppressMessages(library(gridExtra))\n",
    "\n",
    "plt_legend <- plt+ \n",
    "    theme(legend.position = \"right\")+\n",
    "      theme(legend.text = element_text(size = 6),\n",
    "                             legend.key.size = unit(0.5, \"cm\"),\n",
    "                             legend.title = element_text(size = 8),\n",
    "                             legend.background = element_blank(),\n",
    "                             legend.position = \"right\"\n",
    "                             )\n",
    "\n",
    "legend <- cowplot::get_legend(plt_legend)\n",
    "\n",
    "HEIGHT = 1.7\n",
    "WIDTH = 1\n",
    "\n",
    "pdf(file = paste0(\"./plots/ALL_damage.comp.LEGEND.pdf\"),\n",
    "        width=WIDTH,height=HEIGHT, paper=\"special\", bg=\"white\",\n",
    "        fonts=\"Helvetica\", colormodel = \"srgb\", pointsize=6, useDingbats = FALSE)\n",
    "print(grid.arrange(legend))\n",
    "dev.off()\n",
    "    "
   ]
  },
  {
   "cell_type": "code",
   "execution_count": 21,
   "metadata": {
    "vscode": {
     "languageId": "r"
    }
   },
   "outputs": [
    {
     "data": {
      "text/html": [
       "<strong>png:</strong> 2"
      ],
      "text/latex": [
       "\\textbf{png:} 2"
      ],
      "text/markdown": [
       "**png:** 2"
      ],
      "text/plain": [
       "png \n",
       "  2 "
      ]
     },
     "metadata": {},
     "output_type": "display_data"
    }
   ],
   "source": [
    "set.seed(42)\n",
    "cardiac_plt = cardiac_mdf %>% \n",
    "    filter(celltype %in% c(\"smooth_muscle_cell\",\"cell_of_skeletal_muscle\")) %>% \n",
    "    mutate(celltype = gsub(\"_\",\" \",celltype)) %>% # c(\"smooth_muscle_cell\",\"cell_of_skeletal_muscle\")) %>% \n",
    "    ggplot(aes(x=GROUP, y=fraction, fill = GROUP))+\n",
    "    geom_boxplot(outlier.shape=NA)+\n",
    "    geom_jitter(height = 0, width = 0.2)+\n",
    "    theme_prevail()+\n",
    "    theme(strip.text.x = element_text(size = 8),\n",
    "        strip.background = element_rect(fill=\"white\", color=\"black\"))+\n",
    "    facet_wrap(~celltype, ncol = 2, scales = \"free_y\")\n",
    "\n",
    "HEIGHT = 1.7\n",
    "WIDTH = 4\n",
    "\n",
    "pdf(file = paste0(\"./plots/SUPP_Cardiac-muscles.pdf\"),\n",
    "        width=WIDTH,height=HEIGHT, paper=\"special\", bg=\"white\",\n",
    "        fonts=\"Helvetica\", colormodel = \"srgb\", pointsize=6, useDingbats = FALSE)\n",
    "print(cardiac_plt)\n",
    "dev.off()\n",
    "    "
   ]
  },
  {
   "cell_type": "code",
   "execution_count": 22,
   "metadata": {
    "vscode": {
     "languageId": "r"
    }
   },
   "outputs": [
    {
     "data": {
      "text/html": [
       "<table class=\"dataframe\">\n",
       "<caption>A data.frame: 2 × 3</caption>\n",
       "<thead>\n",
       "\t<tr><th></th><th scope=col>ct</th><th scope=col>pval</th><th scope=col>padj</th></tr>\n",
       "\t<tr><th></th><th scope=col>&lt;chr&gt;</th><th scope=col>&lt;dbl&gt;</th><th scope=col>&lt;dbl&gt;</th></tr>\n",
       "</thead>\n",
       "<tbody>\n",
       "\t<tr><th scope=row>smooth_muscle_cell</th><td>smooth_muscle_cell     </td><td>0.05495682</td><td>0.07526695</td></tr>\n",
       "\t<tr><th scope=row>cell_of_skeletal_muscle</th><td>cell_of_skeletal_muscle</td><td>0.67081762</td><td>0.72059529</td></tr>\n",
       "</tbody>\n",
       "</table>\n"
      ],
      "text/latex": [
       "A data.frame: 2 × 3\n",
       "\\begin{tabular}{r|lll}\n",
       "  & ct & pval & padj\\\\\n",
       "  & <chr> & <dbl> & <dbl>\\\\\n",
       "\\hline\n",
       "\tsmooth\\_muscle\\_cell & smooth\\_muscle\\_cell      & 0.05495682 & 0.07526695\\\\\n",
       "\tcell\\_of\\_skeletal\\_muscle & cell\\_of\\_skeletal\\_muscle & 0.67081762 & 0.72059529\\\\\n",
       "\\end{tabular}\n"
      ],
      "text/markdown": [
       "\n",
       "A data.frame: 2 × 3\n",
       "\n",
       "| <!--/--> | ct &lt;chr&gt; | pval &lt;dbl&gt; | padj &lt;dbl&gt; |\n",
       "|---|---|---|---|\n",
       "| smooth_muscle_cell | smooth_muscle_cell      | 0.05495682 | 0.07526695 |\n",
       "| cell_of_skeletal_muscle | cell_of_skeletal_muscle | 0.67081762 | 0.72059529 |\n",
       "\n"
      ],
      "text/plain": [
       "                        ct                      pval       padj      \n",
       "smooth_muscle_cell      smooth_muscle_cell      0.05495682 0.07526695\n",
       "cell_of_skeletal_muscle cell_of_skeletal_muscle 0.67081762 0.72059529"
      ]
     },
     "metadata": {},
     "output_type": "display_data"
    }
   ],
   "source": [
    "get_sig_cts(ALL_MDF, \"GROUP\", \"normal\", \"abnormal\") %>% \n",
    "    filter(ct %in% c(\"smooth_muscle_cell\",\"cell_of_skeletal_muscle\")) "
   ]
  },
  {
   "cell_type": "markdown",
   "metadata": {},
   "source": [
    "---\n",
    "## COVID-19 Plots"
   ]
  },
  {
   "cell_type": "markdown",
   "metadata": {},
   "source": [
    "#### Wrangle GLMNET outputs"
   ]
  },
  {
   "cell_type": "code",
   "execution_count": 23,
   "metadata": {
    "vscode": {
     "languageId": "r"
    }
   },
   "outputs": [
    {
     "data": {
      "text/html": [
       "<table class=\"dataframe\">\n",
       "<caption>A data.frame: 6 × 4</caption>\n",
       "<thead>\n",
       "\t<tr><th></th><th scope=col>cfrna_id</th><th scope=col>set</th><th scope=col>group</th><th scope=col>classifier_score</th></tr>\n",
       "\t<tr><th></th><th scope=col>&lt;chr&gt;</th><th scope=col>&lt;fct&gt;</th><th scope=col>&lt;fct&gt;</th><th scope=col>&lt;dbl&gt;</th></tr>\n",
       "</thead>\n",
       "<tbody>\n",
       "\t<tr><th scope=row>1</th><td>prevail_cu_cfrna_170        </td><td>Train</td><td>COVID19</td><td>0.2362630</td></tr>\n",
       "\t<tr><th scope=row>2</th><td>prevail_cu_cfrna_192        </td><td>Train</td><td>COVID19</td><td>0.2840959</td></tr>\n",
       "\t<tr><th scope=row>3</th><td>prevail_cu_cfrna_415.trimmed</td><td>Train</td><td>COVID19</td><td>0.5602957</td></tr>\n",
       "\t<tr><th scope=row>4</th><td>prevail_cu_cfrna_284        </td><td>Train</td><td>COVID19</td><td>0.1916145</td></tr>\n",
       "\t<tr><th scope=row>5</th><td>prevail_cu_cfrna_412.trimmed</td><td>Train</td><td>COVID19</td><td>0.4499011</td></tr>\n",
       "\t<tr><th scope=row>6</th><td>prevail_cu_cfrna_109        </td><td>Train</td><td>COVID19</td><td>0.2504804</td></tr>\n",
       "</tbody>\n",
       "</table>\n"
      ],
      "text/latex": [
       "A data.frame: 6 × 4\n",
       "\\begin{tabular}{r|llll}\n",
       "  & cfrna\\_id & set & group & classifier\\_score\\\\\n",
       "  & <chr> & <fct> & <fct> & <dbl>\\\\\n",
       "\\hline\n",
       "\t1 & prevail\\_cu\\_cfrna\\_170         & Train & COVID19 & 0.2362630\\\\\n",
       "\t2 & prevail\\_cu\\_cfrna\\_192         & Train & COVID19 & 0.2840959\\\\\n",
       "\t3 & prevail\\_cu\\_cfrna\\_415.trimmed & Train & COVID19 & 0.5602957\\\\\n",
       "\t4 & prevail\\_cu\\_cfrna\\_284         & Train & COVID19 & 0.1916145\\\\\n",
       "\t5 & prevail\\_cu\\_cfrna\\_412.trimmed & Train & COVID19 & 0.4499011\\\\\n",
       "\t6 & prevail\\_cu\\_cfrna\\_109         & Train & COVID19 & 0.2504804\\\\\n",
       "\\end{tabular}\n"
      ],
      "text/markdown": [
       "\n",
       "A data.frame: 6 × 4\n",
       "\n",
       "| <!--/--> | cfrna_id &lt;chr&gt; | set &lt;fct&gt; | group &lt;fct&gt; | classifier_score &lt;dbl&gt; |\n",
       "|---|---|---|---|---|\n",
       "| 1 | prevail_cu_cfrna_170         | Train | COVID19 | 0.2362630 |\n",
       "| 2 | prevail_cu_cfrna_192         | Train | COVID19 | 0.2840959 |\n",
       "| 3 | prevail_cu_cfrna_415.trimmed | Train | COVID19 | 0.5602957 |\n",
       "| 4 | prevail_cu_cfrna_284         | Train | COVID19 | 0.1916145 |\n",
       "| 5 | prevail_cu_cfrna_412.trimmed | Train | COVID19 | 0.4499011 |\n",
       "| 6 | prevail_cu_cfrna_109         | Train | COVID19 | 0.2504804 |\n",
       "\n"
      ],
      "text/plain": [
       "  cfrna_id                     set   group   classifier_score\n",
       "1 prevail_cu_cfrna_170         Train COVID19 0.2362630       \n",
       "2 prevail_cu_cfrna_192         Train COVID19 0.2840959       \n",
       "3 prevail_cu_cfrna_415.trimmed Train COVID19 0.5602957       \n",
       "4 prevail_cu_cfrna_284         Train COVID19 0.1916145       \n",
       "5 prevail_cu_cfrna_412.trimmed Train COVID19 0.4499011       \n",
       "6 prevail_cu_cfrna_109         Train COVID19 0.2504804       "
      ]
     },
     "metadata": {},
     "output_type": "display_data"
    }
   ],
   "source": [
    "path = \"./covid-vs-viral/output/\"\n",
    "comp = \"viral_infection<>COVID19\"\n",
    "alg = \"GLMNETLasso\"\n",
    "TYPE = \"prob\"\n",
    "\n",
    "group1_name = \"viral_infection\"\n",
    "group2_name = \"COVID19\"\n",
    "\n",
    "\n",
    "mod_data <- readRDS(paste0(path,comp,\"/\",alg,\"/\",comp,\".\",alg,\".rds\"))\n",
    "# rdsdata <- readRDS(paste0(path,comp,\"/\",comp,\"_feature-selection.rds\"))\n",
    "# list2env(rdsdata,globalenv())\n",
    "\n",
    "\n",
    "# youden_threshold <- read.delim(paste0(path,comp,\"/\",alg,\"/train/\",alg,\"_\",comp,\"_train-stats.tsv\"))\n",
    "youden_threshold <- read.delim(paste0(path,comp,\"/\",alg,\"/\",comp,\".\",alg,\".train.txt\"))[\"youden\",]\n",
    "MODEL_FIT <- mod_data[['model']]\n",
    "\n",
    "\n",
    "\n",
    "##------------------------------------\n",
    "## Load train and test data \n",
    "##------------------------------------\n",
    "\n",
    "metadata_train <- mod_data[['meta_data_train']] %>%                        ## get separate metadata files and coordinate\n",
    "    mutate(set = \"Train\") %>%\n",
    "    select(cfrna_id,set,group,classifier_score)\n",
    "\n",
    "metadata_test <- mod_data[['meta_data_test']] %>%\n",
    "    mutate(set = \"Test\") %>%\n",
    "    select(cfrna_id,set,group,classifier_score)\n",
    "\n",
    "\n",
    "##------------------------------------\n",
    "## PLOT\n",
    "##------------------------------------\n",
    "\n",
    "## Combine and save\n",
    "mdf <- rbind(metadata_train, metadata_test)%>%          ## combine metadata and plot\n",
    "        mutate(set = factor(set,levels = c(\"Train\",\"Test\"))) %>% \n",
    "        mutate(group = factor(group, \n",
    "                                    levels = c(\"viral_infection\",\"COVID19\")))    \n",
    "\n",
    "## Combine and save\n",
    "mdf %>% \n",
    "    head()"
   ]
  },
  {
   "cell_type": "markdown",
   "metadata": {},
   "source": [
    "#### AUC curves"
   ]
  },
  {
   "cell_type": "code",
   "execution_count": 24,
   "metadata": {
    "vscode": {
     "languageId": "r"
    }
   },
   "outputs": [
    {
     "data": {
      "text/html": [
       "<strong>png:</strong> 2"
      ],
      "text/latex": [
       "\\textbf{png:} 2"
      ],
      "text/markdown": [
       "**png:** 2"
      ],
      "text/plain": [
       "png \n",
       "  2 "
      ]
     },
     "metadata": {},
     "output_type": "display_data"
    },
    {
     "name": "stdout",
     "output_type": "stream",
     "text": [
      "Area under the curve: 99.35%\n",
      "Area under the curve: 92.93%\n"
     ]
    }
   ],
   "source": [
    "suppressMessages(library(pROC))\n",
    "\n",
    "mod_df <- mdf\n",
    "\n",
    "##------------------------------------\n",
    "## GET TPR + FPR\n",
    "##------------------------------------\n",
    "\n",
    "train_mdf = mod_df %>% filter(set == \"Train\")\n",
    "roc_train <- suppressMessages(roc(response = train_mdf$group, predictor = train_mdf$classifier_score,\n",
    "                percent=TRUE,\n",
    "                ci=TRUE, \n",
    "                boot.n=10000, boot.stratified=TRUE,\n",
    "                print.auc=TRUE,\n",
    "                print.thres=\"best\",\n",
    "                print.thres.best.method=\"youden\"))\n",
    "\n",
    "test_mdf = mod_df %>% filter(set == \"Test\")\n",
    "roc_test <- suppressMessages(roc(response = test_mdf$group, predictor = test_mdf$classifier_score,\n",
    "                percent=TRUE,\n",
    "                ci=TRUE, \n",
    "                boot.n=10000, boot.stratified=TRUE,\n",
    "                print.auc=TRUE,\n",
    "                print.thres=\"best\",\n",
    "                print.thres.best.method=\"youden\"))\n",
    "\n",
    "\n",
    "##------------------------------------\n",
    "## get roc values\n",
    "##------------------------------------\n",
    "\n",
    "train_roc <- data.frame(\"sensitivity\" = roc_train$sensitivities,\n",
    "                        \"specificity\" = roc_train$specificities,\n",
    "                       \"set\" = \"train\")\n",
    "\n",
    "test_roc <- data.frame(\"sensitivity\" = roc_test$sensitivities,\n",
    "                        \"specificity\" = roc_test$specificities,\n",
    "                       \"set\" = \"test\")\n",
    "\n",
    "\n",
    "all_roc <- do.call(\"rbind\",list(train_roc, test_roc)) %>%\n",
    "    mutate(FPR = 1-(as.numeric(specificity)/100),\n",
    "          TPR = as.numeric(sensitivity)/100)\n",
    "\n",
    "##------------------------------------\n",
    "## PLOT\n",
    "##------------------------------------\n",
    "\n",
    "WIDTH = 2\n",
    "HEIGHT = 2\n",
    "\n",
    "pdf(file = paste0(\"./plots/SUPP_COVID-VIRAL_MODEL_AUC.pdf\"),\n",
    "        width=WIDTH,height=HEIGHT, paper=\"special\", bg=\"white\",\n",
    "        fonts=\"Helvetica\", colormodel = \"srgb\", pointsize=6, useDingbats = FALSE)\n",
    "\n",
    "all_roc %>% \n",
    "    ggplot(aes(x= FPR, y= TPR, group = set, linetype = set, color = set))+\n",
    "    geom_path()+\n",
    "    theme_prevail()+\n",
    "    theme(aspect.ratio = 1,\n",
    "        axis.title.x = element_text(size = 6),\n",
    "        axis.text.x = element_text(size = 6),\n",
    "        axis.title.y = element_text(size = 6), \n",
    "        axis.text.y = element_text(size = 6)\n",
    "        ) +\n",
    "    scale_linetype_manual(values = c(\"train\"=\"dashed\",\"test\"=\"solid\",\"validate\"=\"solid\"))+\n",
    "    scale_color_manual(values = c(\"train\"=\"blue\",\"test\"=\"red\",\"validate\"=\"dark green\"))\n",
    "dev.off()\n",
    "\n",
    "\n",
    "print(roc_train$auc)\n",
    "print(roc_test$auc)"
   ]
  },
  {
   "cell_type": "markdown",
   "metadata": {},
   "source": [
    "#### Violin plot"
   ]
  },
  {
   "cell_type": "code",
   "execution_count": 25,
   "metadata": {
    "vscode": {
     "languageId": "r"
    }
   },
   "outputs": [
    {
     "name": "stderr",
     "output_type": "stream",
     "text": [
      "Warning message:\n",
      "“\u001b[1m\u001b[22mThe `size` argument of `element_rect()` is deprecated as of ggplot2 3.4.0.\n",
      "\u001b[36mℹ\u001b[39m Please use the `linewidth` argument instead.”\n"
     ]
    },
    {
     "data": {
      "text/html": [
       "<strong>png:</strong> 2"
      ],
      "text/latex": [
       "\\textbf{png:} 2"
      ],
      "text/markdown": [
       "**png:** 2"
      ],
      "text/plain": [
       "png \n",
       "  2 "
      ]
     },
     "metadata": {},
     "output_type": "display_data"
    }
   ],
   "source": [
    "## MAKE PLOT \n",
    "plt <- mdf %>% \n",
    "    ggplot(aes(x=group, y=classifier_score, color = group, fill = group))+\n",
    "    geom_hline(yintercept = youden_threshold, linetype = \"dashed\", alpha=0.75)+\n",
    "    geom_violin(color = NA, alpha = 0.3) +\n",
    "    geom_point(size = 0.5, position = position_jitter(width= 0.2, height = 0))+\n",
    "    facet_grid(.~set,scale = \"free_x\", space = \"free_x\")+\n",
    "    theme_prevail() +\n",
    "    theme(legend.position = \"none\",\n",
    "            legend.box = \"vertical\",\n",
    "            legend.text = element_text(size = 4),\n",
    "            legend.title = element_blank(),\n",
    "            strip.background = element_rect(color=\"black\", fill=\"white\", size=.75, linetype=\"solid\"),\n",
    "            axis.title.x = element_blank(),\n",
    "            axis.text.x = element_text(size = 6),\n",
    "            axis.title.y = element_text(size = 6), \n",
    "            axis.text.y = element_text(size = 6),\n",
    "            plot.title = element_blank(),\n",
    "            strip.text = element_text(size = 8)) +\n",
    "    labs(title = alg,y=\"Classifier Score\") +\n",
    "    guides(colour = guide_legend(nrow = 2)) + \n",
    "    # theme(axis.text.x=element_text(angle = 45, hjust = 1, vjust= 1),\n",
    "    #         plot.title = element_blank())+\n",
    "    scale_fill_manual(values = INFLAMCAT_FILL_KEY)+\n",
    "    scale_color_manual(values = INFLAMCAT_FILL_KEY)\n",
    "\n",
    "\n",
    "## Save\n",
    "HEIGHT = 1.9\n",
    "WIDTH = 3\n",
    "\n",
    "pdf(file = paste0(\"./plots/SUPP_COVID-VIRAL_MODEL_violin.comp.pdf\"),\n",
    "        width=WIDTH,height=HEIGHT, paper=\"special\", bg=\"white\",\n",
    "        fonts=\"Helvetica\", colormodel = \"srgb\", pointsize=6, useDingbats = FALSE)\n",
    "print(plt)\n",
    "dev.off()"
   ]
  },
  {
   "cell_type": "markdown",
   "metadata": {},
   "source": [
    "#### Gene selection"
   ]
  },
  {
   "cell_type": "code",
   "execution_count": 26,
   "metadata": {
    "vscode": {
     "languageId": "r"
    }
   },
   "outputs": [
    {
     "data": {
      "text/html": [
       "7"
      ],
      "text/latex": [
       "7"
      ],
      "text/markdown": [
       "7"
      ],
      "text/plain": [
       "[1] 7"
      ]
     },
     "metadata": {},
     "output_type": "display_data"
    },
    {
     "name": "stdout",
     "output_type": "stream",
     "text": [
      "SEC62, DOCK2, AIF1, DOCK8, PRKCB, PRPF8, RNF213"
     ]
    }
   ],
   "source": [
    "##########################################\n",
    "### get genes\n",
    "\n",
    "coefs <-  coef(mod_data$model$finalModel, mod_data$model$bestTune$lambda) %>% as.matrix() %>% as.data.frame()\n",
    "ngs <- coefs %>% filter(s1 != 0) %>% rownames()\n",
    "gene_sub <- ngs[ngs != \"(Intercept)\"]\n",
    "gene_sub %>% length()\n",
    "\n",
    "gene_name_key %>% filter(gene_id %in% gene_sub) %>% pull(gene_name) %>% paste(collapse=\", \") %>% cat()"
   ]
  },
  {
   "cell_type": "markdown",
   "metadata": {},
   "source": [
    "---\n",
    "## Create Decision support tool"
   ]
  },
  {
   "cell_type": "markdown",
   "metadata": {},
   "source": [
    "#### prepare data"
   ]
  },
  {
   "cell_type": "code",
   "execution_count": 27,
   "metadata": {
    "vscode": {
     "languageId": "r"
    }
   },
   "outputs": [],
   "source": [
    "##########################################\n",
    "### Load outputs \n",
    "##########################################\n",
    "\n",
    "### Multiclass\n",
    "\n",
    "multiclass_res <- read.csv(\"../3_Multiclass_1v1/output/all_multiclass_scores.csv\") %>% \n",
    "    reshape2::melt(., id.vars = c(\"cfrna_id\")) %>%\n",
    "    rename(model = variable, classifier_score =value)\n",
    "\n",
    "\n",
    "set.seed(42)\n",
    "\n",
    "\n",
    "### Z-scores\n",
    "\n",
    "meta_redcap <- merge(metadata, decon, by.x=\"Xsample_id\", by.y=0) %>%\n",
    "    reshape2::melt(., id.vars = c(colnames(metadata))) %>%\n",
    "    rename(celltype = variable, fraction = value)\n",
    "\n",
    "healthy_stats <- meta_redcap %>% \n",
    "    filter(inflam_cat == \"Healthy\") %>% \n",
    "    group_by(celltype) %>% \n",
    "    summarize(AVG = mean(fraction), SD = sd(fraction))\n",
    "\n",
    "meta_redcap <- merge(meta_redcap, healthy_stats, by=\"celltype\") %>% \n",
    "    mutate(zscore = abs(fraction - AVG)/SD)\n",
    "\n",
    "\n",
    "#### Add organ of interest\n",
    "CT_DICT = list(\"hepatocyte\" = \"liver\",\n",
    "        \"cardiac_muscle_cell\" = \"heart\",\n",
    "        \"club_cell_type_i_pneumocyte\" = \"lung\",\n",
    "        \"schwann_cell\" = \"neuronal\",\n",
    "        \"endothelial_cell\" = \"endothelium\"\n",
    "        )\n",
    "\n",
    "meta_redcap_plt <- meta_redcap  %>% filter(celltype %in% names(CT_DICT))\n",
    "\n",
    "# Match celltype values with CT_DICT names and extract corresponding values\n",
    "meta_redcap_plt$ORGAN <- CT_DICT[match(meta_redcap_plt$celltype, names(CT_DICT))]\n",
    "meta_redcap_plt$ORGAN <- as.character(meta_redcap_plt$ORGAN)\n",
    "\n",
    "\n",
    "\n",
    "\n"
   ]
  },
  {
   "cell_type": "markdown",
   "metadata": {},
   "source": [
    "#### Functions"
   ]
  },
  {
   "cell_type": "code",
   "execution_count": 28,
   "metadata": {
    "vscode": {
     "languageId": "r"
    }
   },
   "outputs": [],
   "source": [
    "make_CDST <- function(SAMP_row, mcls_df,zscore_df, BORDER_VAR = TRUE){\n",
    "\n",
    "        SAMP = SAMP_row[['sample_id']]\n",
    "        PTID = SAMP_row[['PTID']]\n",
    "        DIAG = SAMP_row[['inflam_cat']]\n",
    "        PRED = SAMP_row[['predictions']]\n",
    "\n",
    "        SAMPid = gsub(\".trimmed\",\"\",SAMP)\n",
    "\n",
    "        ##########################################\n",
    "        ### multiclass results\n",
    "        ##########################################\n",
    "        multiclass_plt <- mcls_df %>% \n",
    "                filter(cfrna_id == SAMP) %>% \n",
    "                mutate(model = gsub(\"_\",\"\\n\",model)) %>% \n",
    "                mutate(model = factor(model, levels = mcls_df %>% \n",
    "                                                        filter(cfrna_id == SAMP) %>% \n",
    "                                                        arrange(classifier_score) %>% mutate(model = gsub(\"_\",\"\\n\",model)) %>%\n",
    "                                                        pull(model))) %>% \n",
    "                ggplot(aes(x=model, y=classifier_score, fill=model))+\n",
    "                geom_bar(stat=\"identity\")+\n",
    "                theme_prevail()+\n",
    "                labs(y = \"classifier score\", title=\"classifier scores\")+\n",
    "                theme(legend.position = \"none\",\n",
    "                        \n",
    "                        axis.text = element_text(size = 6),                \n",
    "                        axis.title.y = element_blank(),\n",
    "\n",
    "                        # axis.title.x = element_blank(),\n",
    "                        # plot.title = element_text(size = 6),\n",
    "\n",
    "                        axis.title.x = element_text(size = 6),\n",
    "                        plot.title = element_blank(),\n",
    "\n",
    "                        plot.margin = margin(0.2, 0, 0.5, 0.15, \"cm\"),\n",
    "\n",
    "                        strip.text = element_text(size = 8),\n",
    "                        strip.background = element_rect(color=\"black\", fill=\"white\", size=.75, linetype=\"solid\"))+\n",
    "                scale_fill_manual(values = INFLAMCAT_FILL_KEY_labs)+\n",
    "                scale_y_continuous(limits = c(0,1), breaks = c(0,0.25,0.5,0.75,1), labels =c(\"0.00\",\"0.25\",\"0.50\",\"0.75\",\"1.00\"))+\n",
    "                # scale_y_continuous(limits = c(0,1), breaks = c(0,0.2,0.4,0.6,0.8,1), labels =c(\"0\",\".2\",\".4\",\".6\",\".8\",\"1\"))+\n",
    "                coord_flip()\n",
    "\n",
    "        ##########################################\n",
    "        ### z-score results\n",
    "        ##########################################\n",
    "        z_score_plt <- zscore_df %>% \n",
    "                filter(inflam_cat == \"Healthy\" | sample_id == SAMP) %>%\n",
    "                mutate(GRP = ifelse(sample_id == SAMP,\"sample\",\"healthy\")) %>%\n",
    "                mutate(GRP = factor(GRP, levels = c(\"healthy\",\"sample\"))) %>% \n",
    "                arrange(GRP)%>%\n",
    "                ggplot(aes(x=ORGAN, y=as.numeric(zscore), color=GRP))+\n",
    "                geom_jitter(width = 0.2)+\n",
    "                theme_prevail()+\n",
    "                theme_minimal() +                                                                # You can use another theme as well\n",
    "                labs(y = \"z-score\")+\n",
    "                theme(\n",
    "                        legend.position = \"none\",\n",
    "                        axis.title.x = element_blank(),\n",
    "                        panel.background = element_rect(fill = \"white\", color = \"white\"),\n",
    "                        panel.grid.major = element_blank(),\n",
    "                        panel.grid.minor = element_blank(),\n",
    "                        axis.line = element_line(color = \"black\"),\n",
    "                        axis.text.y = element_text(color = \"black\",size=6),\n",
    "                        axis.text.x = element_text(color = \"black\",size=6, angle = 45, hjust = 1, vjust = 1),\n",
    "                        axis.title.y = element_text(size=6, color = \"black\")#,\n",
    "                        ) + \n",
    "                scale_color_manual(values = c(\"sample\" = \"red\", \"healthy\" = \"grey\"))\n",
    "\n",
    "        ##########################################\n",
    "        ### combine\n",
    "        ##########################################\n",
    "\n",
    "        lay <- rbind(c(rep(1,55),\n",
    "                rep(2,45)))\n",
    "\n",
    "        # all_plt <- grid.arrange(multiclass_plt, z_score_plt, \n",
    "        #                 layout_matrix = lay,\n",
    "        #                 top = textGrob(paste0(\"PTID: \",PTID,\n",
    "        #                                         \"   Origin: \",ORIG,\n",
    "        #                                         \"   Age: \",AGE,\n",
    "        #                                         \"\\nDiagnosis: \",DIAG,\n",
    "        #                                         \"Prediction: \",PRED\n",
    "        #                                         ),\n",
    "        #                         gp=gpar(fontsize=6,font=3))\n",
    "\n",
    "        #                 )\n",
    "\n",
    "        ga <- arrangeGrob(grobs = list(multiclass_plt, z_score_plt),\n",
    "                                layout_matrix = lay,\n",
    "                                top = textGrob(paste0(\"ID: \",SAMPid,\n",
    "                                                        \"\\nDiagnosis: \",gsub(\"_\",\" \",DIAG),\n",
    "                                                        \"   Prediction: \",gsub(\"_\",\" \",PRED)\n",
    "                                                        ),\n",
    "                                        gp=gpar(fontsize=6,font=3))\n",
    "                                )\n",
    "\n",
    "\n",
    "        COLOR = \"black\"\n",
    "        if (DIAG != PRED){COLOR = \"red\"}\n",
    "\n",
    "        if (BORDER_VAR){\n",
    "                gb <- rectGrob(height = .98, width = .98, gp = gpar(lwd = 1, col = COLOR, fill = NA)) # border, no fill\n",
    "                all_plt <- gTree(children = gList(ga, gb))\n",
    "        } else( all_plt <- ga)\n",
    "\n",
    "        return(all_plt)\n",
    "}\n"
   ]
  },
  {
   "cell_type": "markdown",
   "metadata": {},
   "source": [
    "#### All test"
   ]
  },
  {
   "cell_type": "code",
   "execution_count": 29,
   "metadata": {
    "vscode": {
     "languageId": "r"
    }
   },
   "outputs": [],
   "source": [
    "## for plotting\n",
    "multiclass_outputs <- read.csv(\"../3_Multiclass_1v1/output/all_multiclass_predictions.csv\") %>% \n",
    "        filter(cohort == \"test\") %>% mutate(CORRECT = predictions == inflam_cat) %>%\n",
    "        arrange(CORRECT, inflam_cat, origin)"
   ]
  },
  {
   "cell_type": "code",
   "execution_count": 7,
   "metadata": {
    "vscode": {
     "languageId": "r"
    }
   },
   "outputs": [
    {
     "name": "stderr",
     "output_type": "stream",
     "text": [
      "Warning message:\n",
      "“\u001b[1m\u001b[22mThe `size` argument of `element_rect()` is deprecated as of ggplot2 3.4.0.\n",
      "\u001b[36mℹ\u001b[39m Please use the `linewidth` argument instead.”\n"
     ]
    }
   ],
   "source": [
    "## for plotting\n",
    "multiclass_outputs <- read.csv(\"../3_Multiclass_1v1/output/all_multiclass_predictions.csv\") %>% \n",
    "        filter(cohort == \"test\") %>% mutate(CORRECT = predictions == inflam_cat) %>%\n",
    "        arrange(CORRECT, inflam_cat, origin)\n",
    "\n",
    "\n",
    "TST_plts <- suppressMessages(apply(multiclass_outputs,1,make_CDST,multiclass_res,meta_redcap_plt))"
   ]
  },
  {
   "cell_type": "code",
   "execution_count": 8,
   "metadata": {
    "vscode": {
     "languageId": "r"
    }
   },
   "outputs": [],
   "source": [
    "ml <- marrangeGrob(TST_plts, nrow=6, ncol=3)\n",
    "\n",
    "\n",
    "HEIGHT = 1.5 * 6\n",
    "WIDTH = 2.3 * 3\n",
    "\n",
    "ggsave(\"./output/all_test-samples.pdf\", ml, width = WIDTH, height = HEIGHT, units = \"in\")"
   ]
  },
  {
   "cell_type": "markdown",
   "metadata": {},
   "source": [
    "---\n",
    "### Vignettes"
   ]
  },
  {
   "cell_type": "code",
   "execution_count": 9,
   "metadata": {
    "vscode": {
     "languageId": "r"
    }
   },
   "outputs": [
    {
     "data": {
      "text/html": [
       "<table class=\"dataframe\">\n",
       "<caption>A data.frame: 3 × 8</caption>\n",
       "<thead>\n",
       "\t<tr><th scope=col>sample_id</th><th scope=col>PTID</th><th scope=col>cohort</th><th scope=col>age</th><th scope=col>origin</th><th scope=col>inflam_cat</th><th scope=col>predictions</th><th scope=col>CORRECT</th></tr>\n",
       "\t<tr><th scope=col>&lt;chr&gt;</th><th scope=col>&lt;chr&gt;</th><th scope=col>&lt;chr&gt;</th><th scope=col>&lt;dbl&gt;</th><th scope=col>&lt;chr&gt;</th><th scope=col>&lt;chr&gt;</th><th scope=col>&lt;chr&gt;</th><th scope=col>&lt;lgl&gt;</th></tr>\n",
       "</thead>\n",
       "<tbody>\n",
       "\t<tr><td>cfrna_kd_256.trimmed</td><td>SEP0156</td><td>test</td><td>1</td><td>UCSF</td><td>bacterial_infection</td><td>MISC               </td><td>FALSE</td></tr>\n",
       "\t<tr><td>cfrna_kd_285.trimmed</td><td>SEP0581</td><td>test</td><td>4</td><td>UCSF</td><td>bacterial_infection</td><td>viral_infection    </td><td>FALSE</td></tr>\n",
       "\t<tr><td>cfrna_kd_292.trimmed</td><td>SEP0250</td><td>test</td><td>4</td><td>UCSF</td><td>bacterial_infection</td><td>bacterial_infection</td><td> TRUE</td></tr>\n",
       "</tbody>\n",
       "</table>\n"
      ],
      "text/latex": [
       "A data.frame: 3 × 8\n",
       "\\begin{tabular}{llllllll}\n",
       " sample\\_id & PTID & cohort & age & origin & inflam\\_cat & predictions & CORRECT\\\\\n",
       " <chr> & <chr> & <chr> & <dbl> & <chr> & <chr> & <chr> & <lgl>\\\\\n",
       "\\hline\n",
       "\t cfrna\\_kd\\_256.trimmed & SEP0156 & test & 1 & UCSF & bacterial\\_infection & MISC                & FALSE\\\\\n",
       "\t cfrna\\_kd\\_285.trimmed & SEP0581 & test & 4 & UCSF & bacterial\\_infection & viral\\_infection     & FALSE\\\\\n",
       "\t cfrna\\_kd\\_292.trimmed & SEP0250 & test & 4 & UCSF & bacterial\\_infection & bacterial\\_infection &  TRUE\\\\\n",
       "\\end{tabular}\n"
      ],
      "text/markdown": [
       "\n",
       "A data.frame: 3 × 8\n",
       "\n",
       "| sample_id &lt;chr&gt; | PTID &lt;chr&gt; | cohort &lt;chr&gt; | age &lt;dbl&gt; | origin &lt;chr&gt; | inflam_cat &lt;chr&gt; | predictions &lt;chr&gt; | CORRECT &lt;lgl&gt; |\n",
       "|---|---|---|---|---|---|---|---|\n",
       "| cfrna_kd_256.trimmed | SEP0156 | test | 1 | UCSF | bacterial_infection | MISC                | FALSE |\n",
       "| cfrna_kd_285.trimmed | SEP0581 | test | 4 | UCSF | bacterial_infection | viral_infection     | FALSE |\n",
       "| cfrna_kd_292.trimmed | SEP0250 | test | 4 | UCSF | bacterial_infection | bacterial_infection |  TRUE |\n",
       "\n"
      ],
      "text/plain": [
       "  sample_id            PTID    cohort age origin inflam_cat         \n",
       "1 cfrna_kd_256.trimmed SEP0156 test   1   UCSF   bacterial_infection\n",
       "2 cfrna_kd_285.trimmed SEP0581 test   4   UCSF   bacterial_infection\n",
       "3 cfrna_kd_292.trimmed SEP0250 test   4   UCSF   bacterial_infection\n",
       "  predictions         CORRECT\n",
       "1 MISC                FALSE  \n",
       "2 viral_infection     FALSE  \n",
       "3 bacterial_infection  TRUE  "
      ]
     },
     "metadata": {},
     "output_type": "display_data"
    }
   ],
   "source": [
    "multiclass_outputs %>% filter(origin == \"UCSF\")"
   ]
  },
  {
   "cell_type": "code",
   "execution_count": null,
   "metadata": {
    "vscode": {
     "languageId": "r"
    }
   },
   "outputs": [],
   "source": []
  },
  {
   "cell_type": "code",
   "execution_count": 11,
   "metadata": {
    "vscode": {
     "languageId": "r"
    }
   },
   "outputs": [
    {
     "data": {
      "image/png": "[encoded data removed]",
      "text/plain": [
       "plot without title"
      ]
     },
     "metadata": {
      "image/png": {
       "height": 420,
       "width": 420
      }
     },
     "output_type": "display_data"
    },
    {
     "data": {
      "image/png": "[encoded data removed]",
      "text/plain": [
       "plot without title"
      ]
     },
     "metadata": {
      "image/png": {
       "height": 420,
       "width": 420
      }
     },
     "output_type": "display_data"
    },
    {
     "data": {
      "image/png": "[encoded data removed]",
      "text/plain": [
       "plot without title"
      ]
     },
     "metadata": {
      "image/png": {
       "height": 420,
       "width": 420
      }
     },
     "output_type": "display_data"
    },
    {
     "data": {
      "image/png": "[encoded data removed]",
      "text/plain": [
       "plot without title"
      ]
     },
     "metadata": {
      "image/png": {
       "height": 420,
       "width": 420
      }
     },
     "output_type": "display_data"
    }
   ],
   "source": [
    "WIDTH = 3\n",
    "HEIGHT = 1.75\n",
    "# nCOV3027CHOA\n",
    "ROW_samp = multiclass_outputs %>% filter(PTID == \"NCOV3027CHOA\") \n",
    "plt <- make_CDST(ROW_samp,multiclass_res,meta_redcap_plt,FALSE)\n",
    "grid.arrange(plt)\n",
    "ggsave(\"./plots/ALL_vignette-CASE1.pdf\", plt, width = WIDTH, height = HEIGHT, units = \"in\")\n",
    "\n",
    "\n",
    "# nCoV3291CHOA\n",
    "ROW_samp = multiclass_outputs %>% filter(PTID == \"NCOV3291CHOA\")\n",
    "plt <- make_CDST(ROW_samp,multiclass_res,meta_redcap_plt,FALSE)\n",
    "grid.arrange(plt)\n",
    "ggsave(\"./plots/ALL_vignette-CASE2.pdf\", plt, width = WIDTH, height = HEIGHT, units = \"in\")\n",
    "\n",
    "\n",
    "# SEP1056\n",
    "ROW_samp = multiclass_outputs %>% filter(PTID == \"SEP0156\")\n",
    "plt <- make_CDST(ROW_samp,multiclass_res,meta_redcap_plt,FALSE)\n",
    "grid.arrange(plt)\n",
    "ggsave(\"./plots/ALL_vignette-CASE3.pdf\", plt, width = WIDTH, height = HEIGHT, units = \"in\")\n",
    "\n",
    "\n",
    "# SEP0581\n",
    "ROW_samp = multiclass_outputs %>% filter(PTID == \"213053\")\n",
    "plt <- make_CDST(ROW_samp,multiclass_res,meta_redcap_plt,FALSE)\n",
    "grid.arrange(plt)\n",
    "ggsave(\"./plots/ALL_vignette-CASE4.pdf\", plt, width = WIDTH, height = HEIGHT, units = \"in\")\n"
   ]
  }
 ],
 "metadata": {
  "kernelspec": {
   "display_name": "R",
   "language": "R",
   "name": "ir"
  },
  "language_info": {
   "codemirror_mode": "r",
   "file_extension": ".r",
   "mimetype": "text/x-r-source",
   "name": "R",
   "pygments_lexer": "r",
   "version": "4.1.1"
  },
  "orig_nbformat": 4
 },
 "nbformat": 4,
 "nbformat_minor": 2
}
